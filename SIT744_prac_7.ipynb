{
  "nbformat": 4,
  "nbformat_minor": 0,
  "metadata": {
    "colab": {
      "name": "SIT744_prac_7.ipynb",
      "provenance": [],
      "collapsed_sections": [],
      "toc_visible": true
    },
    "kernelspec": {
      "name": "python3",
      "display_name": "Python 3"
    },
    "accelerator": "GPU"
  },
  "cells": [
    {
      "cell_type": "markdown",
      "metadata": {
        "id": "J0PWKlbt6_dm",
        "colab_type": "text"
      },
      "source": [
        "# SIT744 Practical 7: Transfer learning \n",
        "\n",
        "*Dr Wei Luo*"
      ]
    },
    {
      "cell_type": "markdown",
      "metadata": {
        "id": "0JEtYNgr7JuP",
        "colab_type": "text"
      },
      "source": [
        "<div class=\"alert alert-info\">\n",
        "We suggest that you run this notebook using Google Colab.\n",
        "</div>\n",
        "\n",
        "\n",
        "## Pre-practical readings\n",
        "\n",
        "- [Using a pre-trained convnet](https://github.com/fchollet/deep-learning-with-python-notebooks/blob/master/5.3-using-a-pretrained-convnet.ipynb)\n"
      ]
    },
    {
      "cell_type": "markdown",
      "metadata": {
        "id": "INRcSjg97dCJ",
        "colab_type": "text"
      },
      "source": [
        "\n",
        "Last week, we train a ConvNet from scratch. In many computer vision applications, you can build a model from a pre-trained model, either as a feature extractor or as part of a new model. We will practice this approach using the cat-vs-dog example last week.\n",
        "\n",
        "\n",
        "\n",
        "\n",
        "\n",
        "\n"
      ]
    },
    {
      "cell_type": "code",
      "metadata": {
        "id": "YWT9uJEixdb1",
        "colab_type": "code",
        "outputId": "f7a3d7f0-8609-4fce-838f-fc2dba39a389",
        "colab": {
          "base_uri": "https://localhost:8080/",
          "height": 139
        }
      },
      "source": [
        "import tensorflow as tf\n",
        "import tensorflow_datasets as tfds\n",
        "\n",
        "tfds.disable_progress_bar()\n",
        "\n",
        "TRAIN_DS_SIZE = 2000\n",
        "VALID_DS_SIZE = 1000\n",
        "TEST_DS_SIZE = 1000\n",
        "\n",
        "(cat_dog_train, cat_dog_valid, cat_dog_test), info = tfds.load('cats_vs_dogs', \n",
        "                                                               split=[f'train[:{TRAIN_DS_SIZE}]', \n",
        "                                                                      f'train[{TRAIN_DS_SIZE}:{TRAIN_DS_SIZE + VALID_DS_SIZE}]', \n",
        "                                                                      f'train[{TRAIN_DS_SIZE + VALID_DS_SIZE}:{TRAIN_DS_SIZE + VALID_DS_SIZE + TEST_DS_SIZE}]'],\n",
        "                                                               with_info=True,\n",
        "                                                               as_supervised=True)"
      ],
      "execution_count": 0,
      "outputs": [
        {
          "output_type": "stream",
          "text": [
            "\u001b[1mDownloading and preparing dataset cats_vs_dogs/4.0.0 (download: 786.68 MiB, generated: Unknown size, total: 786.68 MiB) to /root/tensorflow_datasets/cats_vs_dogs/4.0.0...\u001b[0m\n"
          ],
          "name": "stdout"
        },
        {
          "output_type": "stream",
          "text": [
            "/usr/local/lib/python3.6/dist-packages/urllib3/connectionpool.py:847: InsecureRequestWarning: Unverified HTTPS request is being made. Adding certificate verification is strongly advised. See: https://urllib3.readthedocs.io/en/latest/advanced-usage.html#ssl-warnings\n",
            "  InsecureRequestWarning)\n",
            "WARNING:absl:1738 images were corrupted and were skipped\n"
          ],
          "name": "stderr"
        },
        {
          "output_type": "stream",
          "text": [
            "Shuffling and writing examples to /root/tensorflow_datasets/cats_vs_dogs/4.0.0.incompleteEMO6Z5/cats_vs_dogs-train.tfrecord\n",
            "\u001b[1mDataset cats_vs_dogs downloaded and prepared to /root/tensorflow_datasets/cats_vs_dogs/4.0.0. Subsequent calls will reuse this data.\u001b[0m\n"
          ],
          "name": "stdout"
        }
      ]
    },
    {
      "cell_type": "markdown",
      "metadata": {
        "id": "d47yNCI0O2k1",
        "colab_type": "text"
      },
      "source": [
        "## Task 1 Using models from keras.applications\n",
        "\n",
        "Many pre-trained models can be found in `keras.applications`. Here we will use a pre-trained [VGG16](https://arxiv.org/abs/1409.1556) model."
      ]
    },
    {
      "cell_type": "code",
      "metadata": {
        "id": "e7p3w9CAQwHq",
        "colab_type": "code",
        "outputId": "63672b58-7df2-42a0-83c6-762543231ef2",
        "colab": {
          "base_uri": "https://localhost:8080/",
          "height": 853
        }
      },
      "source": [
        "from tensorflow.keras.applications import VGG16\n",
        "\n",
        "conv_base = VGG16(weights='imagenet',\n",
        "                  include_top=False,\n",
        "                  input_shape=(150, 150, 3))\n",
        "\n",
        "conv_base.summary()"
      ],
      "execution_count": 0,
      "outputs": [
        {
          "output_type": "stream",
          "text": [
            "Downloading data from https://storage.googleapis.com/tensorflow/keras-applications/vgg16/vgg16_weights_tf_dim_ordering_tf_kernels_notop.h5\n",
            "58892288/58889256 [==============================] - 1s 0us/step\n",
            "Model: \"vgg16\"\n",
            "_________________________________________________________________\n",
            "Layer (type)                 Output Shape              Param #   \n",
            "=================================================================\n",
            "input_1 (InputLayer)         [(None, 150, 150, 3)]     0         \n",
            "_________________________________________________________________\n",
            "block1_conv1 (Conv2D)        (None, 150, 150, 64)      1792      \n",
            "_________________________________________________________________\n",
            "block1_conv2 (Conv2D)        (None, 150, 150, 64)      36928     \n",
            "_________________________________________________________________\n",
            "block1_pool (MaxPooling2D)   (None, 75, 75, 64)        0         \n",
            "_________________________________________________________________\n",
            "block2_conv1 (Conv2D)        (None, 75, 75, 128)       73856     \n",
            "_________________________________________________________________\n",
            "block2_conv2 (Conv2D)        (None, 75, 75, 128)       147584    \n",
            "_________________________________________________________________\n",
            "block2_pool (MaxPooling2D)   (None, 37, 37, 128)       0         \n",
            "_________________________________________________________________\n",
            "block3_conv1 (Conv2D)        (None, 37, 37, 256)       295168    \n",
            "_________________________________________________________________\n",
            "block3_conv2 (Conv2D)        (None, 37, 37, 256)       590080    \n",
            "_________________________________________________________________\n",
            "block3_conv3 (Conv2D)        (None, 37, 37, 256)       590080    \n",
            "_________________________________________________________________\n",
            "block3_pool (MaxPooling2D)   (None, 18, 18, 256)       0         \n",
            "_________________________________________________________________\n",
            "block4_conv1 (Conv2D)        (None, 18, 18, 512)       1180160   \n",
            "_________________________________________________________________\n",
            "block4_conv2 (Conv2D)        (None, 18, 18, 512)       2359808   \n",
            "_________________________________________________________________\n",
            "block4_conv3 (Conv2D)        (None, 18, 18, 512)       2359808   \n",
            "_________________________________________________________________\n",
            "block4_pool (MaxPooling2D)   (None, 9, 9, 512)         0         \n",
            "_________________________________________________________________\n",
            "block5_conv1 (Conv2D)        (None, 9, 9, 512)         2359808   \n",
            "_________________________________________________________________\n",
            "block5_conv2 (Conv2D)        (None, 9, 9, 512)         2359808   \n",
            "_________________________________________________________________\n",
            "block5_conv3 (Conv2D)        (None, 9, 9, 512)         2359808   \n",
            "_________________________________________________________________\n",
            "block5_pool (MaxPooling2D)   (None, 4, 4, 512)         0         \n",
            "=================================================================\n",
            "Total params: 14,714,688\n",
            "Trainable params: 14,714,688\n",
            "Non-trainable params: 0\n",
            "_________________________________________________________________\n"
          ],
          "name": "stdout"
        }
      ]
    },
    {
      "cell_type": "markdown",
      "metadata": {
        "id": "paVR97V9dtgS",
        "colab_type": "text"
      },
      "source": [
        "We can use a pretrained model either as a fixed layer or as part of the model that will be co-trained. Here we use the convolutional base only as a feature extractor. Therefore we keep the network weights frozen."
      ]
    },
    {
      "cell_type": "code",
      "metadata": {
        "id": "9MVLW_OAaBnS",
        "colab_type": "code",
        "colab": {}
      },
      "source": [
        "conv_base.trainable = False"
      ],
      "execution_count": 0,
      "outputs": []
    },
    {
      "cell_type": "markdown",
      "metadata": {
        "id": "PtfzZzc3txBs",
        "colab_type": "text"
      },
      "source": [
        "We see that the model expect the input size to be (150, 150, 3). Therefore we need to resize our image to fit the conv_base."
      ]
    },
    {
      "cell_type": "code",
      "metadata": {
        "id": "mgQSK9EDyRSx",
        "colab_type": "code",
        "colab": {}
      },
      "source": [
        "IMAGE_SIZE = 150\n",
        "def pre_process_image(image, label):\n",
        "  image = tf.image.convert_image_dtype(image, tf.float32) ## Instead of manually scale the image, call a `tf.image` tool\n",
        "  image = tf.image.resize(image, (IMAGE_SIZE, IMAGE_SIZE))\n",
        "  return image, label\n",
        "\n",
        "TRAIN_BATCH_SIZE = 32\n",
        "train_batches = cat_dog_train.map(pre_process_image).batch(TRAIN_BATCH_SIZE).cache().repeat()\n",
        "validation_batches = cat_dog_valid.map(pre_process_image).batch(TRAIN_BATCH_SIZE).cache().repeat()\n",
        "\n"
      ],
      "execution_count": 0,
      "outputs": []
    },
    {
      "cell_type": "markdown",
      "metadata": {
        "id": "HrX5_5cHZA0f",
        "colab_type": "text"
      },
      "source": [
        "The convolution base outputs a feature map of shape (4, 4, 512). It needs to be flattened before feeding to a dense top."
      ]
    },
    {
      "cell_type": "code",
      "metadata": {
        "id": "8Dw9R2W_yqEZ",
        "colab_type": "code",
        "outputId": "e1c2862b-a3ed-4e6c-8c0d-5fa8a93cd340",
        "colab": {
          "base_uri": "https://localhost:8080/",
          "height": 323
        }
      },
      "source": [
        "from tensorflow.keras import models\n",
        "from tensorflow.keras import layers\n",
        "from tensorflow.keras import optimizers\n",
        "\n",
        "def make_model():\n",
        "  model = models.Sequential()\n",
        "  model.add(conv_base)\n",
        "  model.add(layers.Flatten())\n",
        "  model.add(layers.Dense(256, activation='relu'))\n",
        "  model.add(layers.Dropout(0.7))\n",
        "  model.add(layers.Dense(1, activation='sigmoid'))\n",
        "\n",
        "  model.compile(optimizer=optimizers.RMSprop(lr=2e-5),\n",
        "                loss='binary_crossentropy',\n",
        "                metrics=['acc'])\n",
        "\n",
        "  return model\n",
        "\n",
        "model = make_model()\n",
        "model.summary()"
      ],
      "execution_count": 0,
      "outputs": [
        {
          "output_type": "stream",
          "text": [
            "Model: \"sequential\"\n",
            "_________________________________________________________________\n",
            "Layer (type)                 Output Shape              Param #   \n",
            "=================================================================\n",
            "vgg16 (Model)                (None, 4, 4, 512)         14714688  \n",
            "_________________________________________________________________\n",
            "flatten (Flatten)            (None, 8192)              0         \n",
            "_________________________________________________________________\n",
            "dense (Dense)                (None, 256)               2097408   \n",
            "_________________________________________________________________\n",
            "dropout (Dropout)            (None, 256)               0         \n",
            "_________________________________________________________________\n",
            "dense_1 (Dense)              (None, 1)                 257       \n",
            "=================================================================\n",
            "Total params: 16,812,353\n",
            "Trainable params: 16,812,353\n",
            "Non-trainable params: 0\n",
            "_________________________________________________________________\n"
          ],
          "name": "stdout"
        }
      ]
    },
    {
      "cell_type": "markdown",
      "metadata": {
        "id": "LJ03n6WKZZbD",
        "colab_type": "text"
      },
      "source": [
        "Now train the new model."
      ]
    },
    {
      "cell_type": "code",
      "metadata": {
        "id": "RPDKsPQqzh18",
        "colab_type": "code",
        "outputId": "28e8b20e-e229-4606-e35f-122a2756c2a3",
        "colab": {
          "base_uri": "https://localhost:8080/",
          "height": 377
        }
      },
      "source": [
        "history = model.fit(\n",
        "      train_batches,\n",
        "      steps_per_epoch=100,\n",
        "      epochs=30,\n",
        "      validation_data=validation_batches,\n",
        "      validation_steps=100\n",
        "      )"
      ],
      "execution_count": 0,
      "outputs": [
        {
          "output_type": "stream",
          "text": [
            "Epoch 1/10\n",
            "100/100 [==============================] - 17s 173ms/step - loss: 0.4743 - acc: 0.7610 - val_loss: 0.4021 - val_acc: 0.8031\n",
            "Epoch 2/10\n",
            "100/100 [==============================] - 15s 150ms/step - loss: 0.2012 - acc: 0.9192 - val_loss: 0.1597 - val_acc: 0.9277\n",
            "Epoch 3/10\n",
            "100/100 [==============================] - 15s 150ms/step - loss: 0.1027 - acc: 0.9611 - val_loss: 0.1599 - val_acc: 0.9316\n",
            "Epoch 4/10\n",
            "100/100 [==============================] - 15s 150ms/step - loss: 0.0483 - acc: 0.9820 - val_loss: 0.2253 - val_acc: 0.9233\n",
            "Epoch 5/10\n",
            "100/100 [==============================] - 15s 150ms/step - loss: 0.0320 - acc: 0.9899 - val_loss: 0.4725 - val_acc: 0.8712\n",
            "Epoch 6/10\n",
            "100/100 [==============================] - 15s 150ms/step - loss: 0.0183 - acc: 0.9946 - val_loss: 0.2251 - val_acc: 0.9476\n",
            "Epoch 7/10\n",
            "100/100 [==============================] - 15s 150ms/step - loss: 0.0175 - acc: 0.9949 - val_loss: 0.3704 - val_acc: 0.9150\n",
            "Epoch 8/10\n",
            "100/100 [==============================] - 15s 150ms/step - loss: 0.0135 - acc: 0.9956 - val_loss: 0.2261 - val_acc: 0.9373\n",
            "Epoch 9/10\n",
            "100/100 [==============================] - 15s 150ms/step - loss: 0.0164 - acc: 0.9956 - val_loss: 0.2291 - val_acc: 0.9473\n",
            "Epoch 10/10\n",
            "100/100 [==============================] - 15s 150ms/step - loss: 0.0062 - acc: 0.9984 - val_loss: 0.2699 - val_acc: 0.9364\n"
          ],
          "name": "stdout"
        }
      ]
    },
    {
      "cell_type": "code",
      "metadata": {
        "id": "0m7rfqzm1jX3",
        "colab_type": "code",
        "outputId": "19cca37a-ec2f-4889-8674-2b64fd4a609a",
        "colab": {
          "base_uri": "https://localhost:8080/",
          "height": 309
        }
      },
      "source": [
        "%pip install git+https://github.com/tensorflow/docs"
      ],
      "execution_count": 0,
      "outputs": [
        {
          "output_type": "stream",
          "text": [
            "Collecting git+https://github.com/tensorflow/docs\n",
            "  Cloning https://github.com/tensorflow/docs to /tmp/pip-req-build-wbu9rbb5\n",
            "  Running command git clone -q https://github.com/tensorflow/docs /tmp/pip-req-build-wbu9rbb5\n",
            "Requirement already satisfied: astor in /usr/local/lib/python3.6/dist-packages (from tensorflow-docs==0.0.0) (0.8.1)\n",
            "Requirement already satisfied: absl-py in /usr/local/lib/python3.6/dist-packages (from tensorflow-docs==0.0.0) (0.9.0)\n",
            "Requirement already satisfied: six in /usr/local/lib/python3.6/dist-packages (from tensorflow-docs==0.0.0) (1.12.0)\n",
            "Collecting pathlib2\n",
            "  Downloading https://files.pythonhosted.org/packages/e9/45/9c82d3666af4ef9f221cbb954e1d77ddbb513faf552aea6df5f37f1a4859/pathlib2-2.3.5-py2.py3-none-any.whl\n",
            "Requirement already satisfied: pyyaml in /usr/local/lib/python3.6/dist-packages (from tensorflow-docs==0.0.0) (3.13)\n",
            "Building wheels for collected packages: tensorflow-docs\n",
            "  Building wheel for tensorflow-docs (setup.py) ... \u001b[?25l\u001b[?25hdone\n",
            "  Created wheel for tensorflow-docs: filename=tensorflow_docs-0.0.0-cp36-none-any.whl size=82437 sha256=6bd6c1b082f854432e18e946ff9dd964ec599ba37dbdf9b4088393bf9ed12add\n",
            "  Stored in directory: /tmp/pip-ephem-wheel-cache-s7fzieie/wheels/eb/1b/35/fce87697be00d2fc63e0b4b395b0d9c7e391a10e98d9a0d97f\n",
            "Successfully built tensorflow-docs\n",
            "Installing collected packages: pathlib2, tensorflow-docs\n",
            "Successfully installed pathlib2-2.3.5 tensorflow-docs-0.0.0\n"
          ],
          "name": "stdout"
        }
      ]
    },
    {
      "cell_type": "code",
      "metadata": {
        "id": "9iwonW151jBf",
        "colab_type": "code",
        "outputId": "36c7563f-d3ad-4f9a-bc79-52d9fcb0cea3",
        "colab": {
          "base_uri": "https://localhost:8080/",
          "height": 312
        }
      },
      "source": [
        "import tensorflow_docs as tfdocs\n",
        "import tensorflow_docs.plots\n",
        "import matplotlib.pyplot as plt\n",
        "\n",
        "plotter = tfdocs.plots.HistoryPlotter()\n",
        "plotter.plot({\"\": history}, metric = \"acc\")\n",
        "plt.title(\"Accuracy\")\n",
        "plt.ylim([0,1])"
      ],
      "execution_count": 0,
      "outputs": [
        {
          "output_type": "execute_result",
          "data": {
            "text/plain": [
              "(0.0, 1.0)"
            ]
          },
          "metadata": {
            "tags": []
          },
          "execution_count": 7
        },
        {
          "output_type": "display_data",
          "data": {
            "image/png": "[encoded data removed]",
            "text/plain": [
              "<Figure size 432x288 with 1 Axes>"
            ]
          },
          "metadata": {
            "tags": [],
            "needs_background": "light"
          }
        }
      ]
    },
    {
      "cell_type": "markdown",
      "metadata": {
        "id": "Sp3CY8pLgNNH",
        "colab_type": "text"
      },
      "source": [
        "**question** Review the training accuracy from the practical. Compare the accuracy of the above model with the accuracy you obtained when you train a model from scratch. Which one is better?"
      ]
    },
    {
      "cell_type": "markdown",
      "metadata": {
        "id": "glQCKgIHvvor",
        "colab_type": "text"
      },
      "source": [
        "## Task 2 Fine-tuning a pre-trained model\n",
        "\n",
        "If you have sufficient training examples and computing resources, you may fine-tune the convolutional base. That is, let some layers in the convolutional base to be jointly trained with the dense top.\n",
        "\n",
        "We will fine-tune the top 3 layers in Block 5 of VGG."
      ]
    },
    {
      "cell_type": "code",
      "metadata": {
        "id": "A4qTG2vSxAHd",
        "colab_type": "code",
        "colab": {}
      },
      "source": [
        "conv_base.trainable = True\n",
        "\n",
        "set_trainable = False\n",
        "for layer in conv_base.layers:\n",
        "    if layer.name == 'block5_conv1':\n",
        "        set_trainable = True\n",
        "    if set_trainable:\n",
        "        layer.trainable = True\n",
        "    else:\n",
        "        layer.trainable = False"
      ],
      "execution_count": 0,
      "outputs": []
    },
    {
      "cell_type": "code",
      "metadata": {
        "id": "NQnmcoc0xF-e",
        "colab_type": "code",
        "outputId": "b3be2ac2-0f8d-42a1-dd10-4c58f0c589cf",
        "colab": {
          "base_uri": "https://localhost:8080/",
          "height": 377
        }
      },
      "source": [
        "model = make_model()\n",
        "model.compile(loss='binary_crossentropy',\n",
        "              optimizer=optimizers.RMSprop(lr=1e-5),\n",
        "              metrics=['acc'])\n",
        "\n",
        "fine_tuned_history = model.fit(\n",
        "       train_batches,\n",
        "      steps_per_epoch=100,\n",
        "      epochs=30,\n",
        "      validation_data=validation_batches,\n",
        "      validation_steps=100)"
      ],
      "execution_count": 0,
      "outputs": [
        {
          "output_type": "stream",
          "text": [
            "Epoch 1/10\n",
            "100/100 [==============================] - 9s 86ms/step - loss: 0.1442 - acc: 0.9435 - val_loss: 0.1476 - val_acc: 0.9441\n",
            "Epoch 2/10\n",
            "100/100 [==============================] - 8s 85ms/step - loss: 0.0102 - acc: 0.9981 - val_loss: 0.2034 - val_acc: 0.9447\n",
            "Epoch 3/10\n",
            "100/100 [==============================] - 8s 84ms/step - loss: 0.0056 - acc: 0.9981 - val_loss: 0.2168 - val_acc: 0.9447\n",
            "Epoch 4/10\n",
            "100/100 [==============================] - 8s 84ms/step - loss: 0.0021 - acc: 0.9994 - val_loss: 0.2380 - val_acc: 0.9450\n",
            "Epoch 5/10\n",
            "100/100 [==============================] - 8s 84ms/step - loss: 0.0011 - acc: 0.9997 - val_loss: 0.2676 - val_acc: 0.9434\n",
            "Epoch 6/10\n",
            "100/100 [==============================] - 8s 84ms/step - loss: 4.0223e-04 - acc: 1.0000 - val_loss: 0.3007 - val_acc: 0.9457\n",
            "Epoch 7/10\n",
            "100/100 [==============================] - 8s 84ms/step - loss: 4.3238e-04 - acc: 1.0000 - val_loss: 0.3223 - val_acc: 0.9450\n",
            "Epoch 8/10\n",
            "100/100 [==============================] - 8s 84ms/step - loss: 1.7991e-04 - acc: 1.0000 - val_loss: 0.4021 - val_acc: 0.9418\n",
            "Epoch 9/10\n",
            "100/100 [==============================] - 8s 84ms/step - loss: 1.4488e-04 - acc: 1.0000 - val_loss: 0.3864 - val_acc: 0.9447\n",
            "Epoch 10/10\n",
            "100/100 [==============================] - 8s 84ms/step - loss: 7.4426e-04 - acc: 0.9997 - val_loss: 0.4097 - val_acc: 0.9444\n"
          ],
          "name": "stdout"
        }
      ]
    },
    {
      "cell_type": "code",
      "metadata": {
        "id": "fZ4S_SzpxO3l",
        "colab_type": "code",
        "outputId": "3005edbe-5554-4008-a6de-d1f804739d75",
        "colab": {
          "base_uri": "https://localhost:8080/",
          "height": 312
        }
      },
      "source": [
        "plotter = tfdocs.plots.HistoryPlotter()\n",
        "plotter.plot({\"frozen\": history, \"fine-tune\": fine_tuned_history}, metric = \"acc\")\n",
        "plt.title(\"Accuracy\")\n",
        "plt.ylim([0,1])"
      ],
      "execution_count": 0,
      "outputs": [
        {
          "output_type": "execute_result",
          "data": {
            "text/plain": [
              "(0.0, 1.0)"
            ]
          },
          "metadata": {
            "tags": []
          },
          "execution_count": 10
        },
        {
          "output_type": "display_data",
          "data": {
            "image/png": "[encoded data removed]",
            "text/plain": [
              "<Figure size 432x288 with 1 Axes>"
            ]
          },
          "metadata": {
            "tags": [],
            "needs_background": "light"
          }
        }
      ]
    },
    {
      "cell_type": "markdown",
      "metadata": {
        "id": "wUWmemBMI9pw",
        "colab_type": "text"
      },
      "source": [
        "**exercise** In the above example, we did not use data augmentation in the training data pipeline. Do you think that data augmentation would help with fine-tuning? Try it out yourself."
      ]
    },
    {
      "cell_type": "markdown",
      "metadata": {
        "id": "JEEXk2WTO-PN",
        "colab_type": "text"
      },
      "source": [
        "## Task 3 Using models from TensorFlow Hub\n",
        "\n",
        "You can find many more pretrained models in [TensorFlow Hub](https://tfhub.dev/). Here we will use Mobilenet, which is much smaller compared to VGG16.\n",
        "\n",
        "When you select the models, you need to consider what is the expected image size. Here we use a model of input size (224, 224, 3). Also we only use the model to generate feature vectors. (That is, we use it as a convolutional base.)\n",
        "\n",
        "There are two ways to load a tfhub model:\n",
        "\n",
        "- The lower level function `hub.load()`\n",
        "- The Keras-compatible function `hub.KerasLayer()`\n",
        "\n",
        "We will use the latter.\n"
      ]
    },
    {
      "cell_type": "code",
      "metadata": {
        "id": "n8OQNIpNI7Tt",
        "colab_type": "code",
        "outputId": "1ae8a5a1-dcd0-4f1b-ebfb-a37347295448",
        "colab": {
          "base_uri": "https://localhost:8080/",
          "height": 255
        }
      },
      "source": [
        "import tensorflow_hub as hub\n",
        "\n",
        "IMAGE_SIZE = 224\n",
        "\n",
        "MODULE_HANDLE =\"https://tfhub.dev/google/tf2-preview/mobilenet_v2/feature_vector/4\"\n",
        "\n",
        "\n",
        "do_fine_tuning = False \n",
        "\n",
        "model = tf.keras.Sequential([\n",
        "    tf.keras.layers.InputLayer(input_shape=(IMAGE_SIZE, \n",
        "                                            IMAGE_SIZE, \n",
        "                                            3)),\n",
        "    hub.KerasLayer(MODULE_HANDLE, trainable=do_fine_tuning),\n",
        "    tf.keras.layers.Dropout(rate=0.2),\n",
        "    tf.keras.layers.Dense(1,\n",
        "                          activation='sigmoid')\n",
        "])\n",
        "\n",
        "\n",
        "model.summary()\n",
        "\n",
        "                      \n"
      ],
      "execution_count": 0,
      "outputs": [
        {
          "output_type": "stream",
          "text": [
            "Model: \"sequential_2\"\n",
            "_________________________________________________________________\n",
            "Layer (type)                 Output Shape              Param #   \n",
            "=================================================================\n",
            "keras_layer (KerasLayer)     (None, 1280)              2257984   \n",
            "_________________________________________________________________\n",
            "dropout_2 (Dropout)          (None, 1280)              0         \n",
            "_________________________________________________________________\n",
            "dense_4 (Dense)              (None, 1)                 1281      \n",
            "=================================================================\n",
            "Total params: 2,259,265\n",
            "Trainable params: 1,281\n",
            "Non-trainable params: 2,257,984\n",
            "_________________________________________________________________\n"
          ],
          "name": "stdout"
        }
      ]
    },
    {
      "cell_type": "markdown",
      "metadata": {
        "id": "F7YVBsyBjr0V",
        "colab_type": "text"
      },
      "source": [
        "In the above example, we use the `hub.KerasLayer` function to include the pre-trained model. Also note that we supplied an `InputLayer`, which has no weights, to specify the input size. Alternatively, you may use the `model.build()` function to specify the input shape.\n",
        "\n",
        "Let's redefine the input pipelines using the new IMAGE_SIZE."
      ]
    },
    {
      "cell_type": "code",
      "metadata": {
        "id": "yT9FXZGns5TQ",
        "colab_type": "code",
        "colab": {}
      },
      "source": [
        "def pre_process_image(image, label):\n",
        "  image = tf.image.convert_image_dtype(image, tf.float32) ## Instead of manually scale the image, call a `tf.image` tool\n",
        "  image = tf.image.resize(image, (IMAGE_SIZE, IMAGE_SIZE))\n",
        "  return image, label\n",
        "\n",
        "TRAIN_BATCH_SIZE = 32\n",
        "train_batches = cat_dog_train.map(pre_process_image).batch(TRAIN_BATCH_SIZE).cache().repeat()\n",
        "validation_batches = cat_dog_valid.map(pre_process_image).batch(TRAIN_BATCH_SIZE).cache().repeat()"
      ],
      "execution_count": 0,
      "outputs": []
    },
    {
      "cell_type": "markdown",
      "metadata": {
        "id": "rrbazI7Is7YX",
        "colab_type": "text"
      },
      "source": [
        "\n",
        "Now we can compile the model and train it as before."
      ]
    },
    {
      "cell_type": "code",
      "metadata": {
        "id": "hCUPsp-GjvB6",
        "colab_type": "code",
        "outputId": "7152cbe6-3526-4b64-e376-0b97628f545d",
        "colab": {
          "base_uri": "https://localhost:8080/",
          "height": 1000
        }
      },
      "source": [
        "model.compile(optimizer=optimizers.RMSprop(lr=2e-5),\n",
        "              loss='binary_crossentropy',\n",
        "              metrics=['acc'])\n",
        "\n",
        "mobile_net_history = model.fit(\n",
        "      train_batches,\n",
        "      steps_per_epoch=100,\n",
        "      epochs=30,\n",
        "      validation_data=validation_batches,\n",
        "      validation_steps=100\n",
        "      )"
      ],
      "execution_count": 0,
      "outputs": [
        {
          "output_type": "stream",
          "text": [
            "Epoch 1/30\n",
            "100/100 [==============================] - 9s 88ms/step - loss: 0.6656 - acc: 0.6027 - val_loss: 0.5907 - val_acc: 0.7091\n",
            "Epoch 2/30\n",
            "100/100 [==============================] - 4s 44ms/step - loss: 0.5705 - acc: 0.7030 - val_loss: 0.5119 - val_acc: 0.7896\n",
            "Epoch 3/30\n",
            "100/100 [==============================] - 4s 44ms/step - loss: 0.5061 - acc: 0.7688 - val_loss: 0.4430 - val_acc: 0.8501\n",
            "Epoch 4/30\n",
            "100/100 [==============================] - 4s 44ms/step - loss: 0.4369 - acc: 0.8428 - val_loss: 0.3849 - val_acc: 0.8929\n",
            "Epoch 5/30\n",
            "100/100 [==============================] - 4s 44ms/step - loss: 0.3791 - acc: 0.8916 - val_loss: 0.3352 - val_acc: 0.9284\n",
            "Epoch 6/30\n",
            "100/100 [==============================] - 4s 44ms/step - loss: 0.3383 - acc: 0.9040 - val_loss: 0.2938 - val_acc: 0.9520\n",
            "Epoch 7/30\n",
            "100/100 [==============================] - 4s 44ms/step - loss: 0.2921 - acc: 0.9293 - val_loss: 0.2590 - val_acc: 0.9610\n",
            "Epoch 8/30\n",
            "100/100 [==============================] - 4s 44ms/step - loss: 0.2669 - acc: 0.9413 - val_loss: 0.2300 - val_acc: 0.9664\n",
            "Epoch 9/30\n",
            "100/100 [==============================] - 4s 44ms/step - loss: 0.2344 - acc: 0.9495 - val_loss: 0.2061 - val_acc: 0.9712\n",
            "Epoch 10/30\n",
            "100/100 [==============================] - 4s 44ms/step - loss: 0.2148 - acc: 0.9567 - val_loss: 0.1858 - val_acc: 0.9731\n",
            "Epoch 11/30\n",
            "100/100 [==============================] - 4s 44ms/step - loss: 0.1939 - acc: 0.9590 - val_loss: 0.1690 - val_acc: 0.9760\n",
            "Epoch 12/30\n",
            "100/100 [==============================] - 4s 44ms/step - loss: 0.1743 - acc: 0.9665 - val_loss: 0.1548 - val_acc: 0.9770\n",
            "Epoch 13/30\n",
            "100/100 [==============================] - 4s 44ms/step - loss: 0.1640 - acc: 0.9686 - val_loss: 0.1427 - val_acc: 0.9779\n",
            "Epoch 14/30\n",
            "100/100 [==============================] - 4s 44ms/step - loss: 0.1520 - acc: 0.9688 - val_loss: 0.1325 - val_acc: 0.9779\n",
            "Epoch 15/30\n",
            "100/100 [==============================] - 4s 44ms/step - loss: 0.1369 - acc: 0.9727 - val_loss: 0.1241 - val_acc: 0.9789\n",
            "Epoch 16/30\n",
            "100/100 [==============================] - 4s 44ms/step - loss: 0.1308 - acc: 0.9710 - val_loss: 0.1166 - val_acc: 0.9799\n",
            "Epoch 17/30\n",
            "100/100 [==============================] - 4s 44ms/step - loss: 0.1239 - acc: 0.9739 - val_loss: 0.1104 - val_acc: 0.9818\n",
            "Epoch 18/30\n",
            "100/100 [==============================] - 4s 44ms/step - loss: 0.1188 - acc: 0.9722 - val_loss: 0.1048 - val_acc: 0.9827\n",
            "Epoch 19/30\n",
            "100/100 [==============================] - 4s 44ms/step - loss: 0.1092 - acc: 0.9779 - val_loss: 0.1000 - val_acc: 0.9827\n",
            "Epoch 20/30\n",
            "100/100 [==============================] - 4s 44ms/step - loss: 0.1055 - acc: 0.9764 - val_loss: 0.0957 - val_acc: 0.9818\n",
            "Epoch 21/30\n",
            "100/100 [==============================] - 4s 44ms/step - loss: 0.1013 - acc: 0.9757 - val_loss: 0.0920 - val_acc: 0.9818\n",
            "Epoch 22/30\n",
            "100/100 [==============================] - 4s 44ms/step - loss: 0.0985 - acc: 0.9771 - val_loss: 0.0887 - val_acc: 0.9818\n",
            "Epoch 23/30\n",
            "100/100 [==============================] - 4s 44ms/step - loss: 0.0905 - acc: 0.9795 - val_loss: 0.0856 - val_acc: 0.9818\n",
            "Epoch 24/30\n",
            "100/100 [==============================] - 4s 44ms/step - loss: 0.0903 - acc: 0.9763 - val_loss: 0.0831 - val_acc: 0.9818\n",
            "Epoch 25/30\n",
            "100/100 [==============================] - 4s 44ms/step - loss: 0.0888 - acc: 0.9793 - val_loss: 0.0804 - val_acc: 0.9818\n",
            "Epoch 26/30\n",
            "100/100 [==============================] - 4s 44ms/step - loss: 0.0852 - acc: 0.9792 - val_loss: 0.0784 - val_acc: 0.9827\n",
            "Epoch 27/30\n",
            "100/100 [==============================] - 4s 44ms/step - loss: 0.0828 - acc: 0.9808 - val_loss: 0.0763 - val_acc: 0.9827\n",
            "Epoch 28/30\n",
            "100/100 [==============================] - 4s 44ms/step - loss: 0.0802 - acc: 0.9795 - val_loss: 0.0745 - val_acc: 0.9837\n",
            "Epoch 29/30\n",
            "100/100 [==============================] - 4s 44ms/step - loss: 0.0777 - acc: 0.9801 - val_loss: 0.0728 - val_acc: 0.9837\n",
            "Epoch 30/30\n",
            "100/100 [==============================] - 4s 44ms/step - loss: 0.0792 - acc: 0.9796 - val_loss: 0.0709 - val_acc: 0.9837\n"
          ],
          "name": "stdout"
        }
      ]
    },
    {
      "cell_type": "code",
      "metadata": {
        "id": "zAIPfDy5bVcb",
        "colab_type": "code",
        "outputId": "e5c80c76-e2a2-486e-f37b-1e19b1f09e00",
        "colab": {
          "base_uri": "https://localhost:8080/",
          "height": 312
        }
      },
      "source": [
        "plotter = tfdocs.plots.HistoryPlotter()\n",
        "plotter.plot({\"vgg\": history, \"mobile net\": mobile_net_history}, metric = \"acc\")\n",
        "plt.title(\"Accuracy\")\n",
        "plt.ylim([0,1])"
      ],
      "execution_count": 0,
      "outputs": [
        {
          "output_type": "execute_result",
          "data": {
            "text/plain": [
              "(0.0, 1.0)"
            ]
          },
          "metadata": {
            "tags": []
          },
          "execution_count": 15
        },
        {
          "output_type": "display_data",
          "data": {
            "image/png": "[encoded data removed]",
            "text/plain": [
              "<Figure size 432x288 with 1 Axes>"
            ]
          },
          "metadata": {
            "tags": [],
            "needs_background": "light"
          }
        }
      ]
    },
    {
      "cell_type": "code",
      "metadata": {
        "id": "LnPopdcQDtRk",
        "colab_type": "code",
        "outputId": "2d50a931-57e3-4c2a-ecb0-3c8488ec6922",
        "colab": {
          "base_uri": "https://localhost:8080/",
          "height": 312
        }
      },
      "source": [
        "plotter = tfdocs.plots.HistoryPlotter()\n",
        "plotter.plot({\"vgg\": history, \"mobile net\": mobile_net_history}, metric = \"loss\")\n",
        "plt.title(\"Accuracy\")\n",
        "plt.ylim([0,1])"
      ],
      "execution_count": 0,
      "outputs": [
        {
          "output_type": "execute_result",
          "data": {
            "text/plain": [
              "(0.0, 1.0)"
            ]
          },
          "metadata": {
            "tags": []
          },
          "execution_count": 16
        },
        {
          "output_type": "display_data",
          "data": {
            "image/png": "[encoded data removed]",
            "text/plain": [
              "<Figure size 432x288 with 1 Axes>"
            ]
          },
          "metadata": {
            "tags": [],
            "needs_background": "light"
          }
        }
      ]
    },
    {
      "cell_type": "markdown",
      "metadata": {
        "id": "VouJnuqIzxk6",
        "colab_type": "text"
      },
      "source": [
        "As you can see, MobileNet achieved a much higher accuracy."
      ]
    },
    {
      "cell_type": "markdown",
      "metadata": {
        "id": "sWGTx4myhEOF",
        "colab_type": "text"
      },
      "source": [
        "**exercise** Visit the [TensorFlow Hub](https://tfhub.dev/) to see what other pretrained models are available. For each model, see what is the expected input shape. Follow the example above to try out some other models. "
      ]
    },
    {
      "cell_type": "markdown",
      "metadata": {
        "id": "9h87WbXqbsCj",
        "colab_type": "text"
      },
      "source": [
        "## Additional resources\n",
        "\n",
        "- [Transfer learning with TensorFlow Hub](https://www.tensorflow.org/tutorials/images/transfer_learning_with_hub)\n",
        "- [TensorFlow 2 SavedModels](https://www.tensorflow.org/hub/tf2_saved_model)"
      ]
    }
  ]
}