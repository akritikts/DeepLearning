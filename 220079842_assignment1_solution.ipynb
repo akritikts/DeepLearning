{
  "nbformat": 4,
  "nbformat_minor": 0,
  "metadata": {
    "accelerator": "GPU",
    "colab": {
      "name": "220079842_assignment1_solution.ipynb",
      "provenance": [],
      "collapsed_sections": []
    },
    "file_extension": ".py",
    "kernelspec": {
      "display_name": "Python 3",
      "name": "python3"
    },
    "language_info": {
      "codemirror_mode": {
        "name": "ipython",
        "version": 3
      },
      "file_extension": ".py",
      "mimetype": "text/x-python",
      "name": "python",
      "nbconvert_exporter": "python",
      "pygments_lexer": "ipython3",
      "version": "3.7.6"
    },
    "mimetype": "text/x-python",
    "name": "python",
    "npconvert_exporter": "python",
    "pygments_lexer": "ipython3",
    "version": 3
  },
  "cells": [
    {
      "cell_type": "markdown",
      "metadata": {
        "id": "v81NrNYlAzIm"
      },
      "source": [
        "# SIT744 Assignment 1: Image Classification with Deep Feedforward Neural Network\n",
        "\n",
        "<div class=\"alert-info\">\n",
        "    <p>Due: <strong>8:00 pm (AEST) 19 April 2021</strong>  (Monday)</p>\n",
        "\n",
        "\n",
        "This is an <strong>individual</strong> assignment. It contributes <strong>30%</strong> to your final mark. Read the assignment instruction carefully.\n",
        "\n",
        "<h2> What to submit </h2>\n",
        "\n",
        "<p>\n",
        "This assignment is to be completed individually and submitted to CloudDeakin. <strong>By the due date, you are required to submit the following files to the corresponding Assignment (Dropbox) in CloudDeakin</strong>:\n",
        "\n",
        "<ol>\n",
        "<li>\t<strong>[YourID]_assignment1_solution.ipynp</strong>:  This is your Python notebook solution source file. </li>\n",
        "<li>\t<strong>[YourID]_assingment1_output.html</strong>: This is the output of your Python notebook solution <emph>exported</emph> in HTML format.</li>\n",
        "<li>\tExtra files needed to complete your assignment, if any (e.g., images used in your answers).</li>\n",
        "</ol>\n",
        "</p>\n",
        "\n",
        "<p>\n",
        "For example, if your student ID is: 123456, you will then need to submit the following files:\n",
        "<ul>\n",
        "<li> 123456_assignment1_solution.ipynp </li>\n",
        "<li> 123456_assignment1_output.html</li>\n",
        "</ul>\n",
        "</p>\n",
        "\n",
        "<h2> Marking criteria </h2>\n",
        "\n",
        "<p>\n",
        "Your submission will be marked using the following criteria.\n",
        "\n",
        "<ul>\n",
        "<li> Showing good effort through completed tasks.</li>\n",
        "<li> Applying deep learning theory to design suitable deep learning solutions for the tasks.</li>\n",
        "<li> Critically evaluating and reflecting on the pros and cons of various design decisions.</li>\n",
        "<li> Demonstrating creativity and resourcefulness in providing unique individual solutions. (<em>Warning: Highly similar solutions will be investigated for collusion.</em>)</li>\n",
        "<li> Showing attention to details through a good quality assignment report.</li>\n",
        "</ul>\n",
        "</p>\n",
        "\n",
        "<p>\n",
        "Indicative weights of various tasks are provided below, but the assignment will be marked by the overall quality per the above criteria. \n",
        "</p>\n",
        "</div>"
      ]
    },
    {
      "cell_type": "markdown",
      "metadata": {
        "id": "JOr2bP8kAzKE"
      },
      "source": [
        "## Assignment objective\n",
        "\n",
        "\n",
        "\n",
        "This assignment is for you to demonstrate the knowledge in deep learning that you have acquired from the lectures and practical lab materials. Most tasks in this assignment are straightforward applications of the practical materials in weeks 1-5. Going through these materials before attempting this assignment is highly recommended.\n",
        "\n",
        "In this assignment, you are going to work with the Fashion-MNIST dataset for image recognition. The dataset contains 10 classes of 28x28 grayscale images. You will see some examples in the visualization task below. \n",
        "\n",
        "This assignment consists of five tasks.\n"
      ]
    },
    {
      "cell_type": "markdown",
      "metadata": {
        "id": "cDqvFgbRAzKG"
      },
      "source": [
        "## Task 1 Load the data\n",
        "\n",
        "*(weight ~5%)*\n",
        "\n",
        "Load the Fashion MNIST dataset (https://github.com/zalandoresearch/fashion-mnist). You may get the data via Keras (keras.datasets) or Tensorflow Datasets (tfds). "
      ]
    },
    {
      "cell_type": "code",
      "metadata": {
        "id": "Krg_ro9M-t_k",
        "colab": {
          "base_uri": "https://localhost:8080/"
        },
        "outputId": "116c54e7-fe41-4f83-d9ed-fda8ffe92797"
      },
      "source": [
        "import tensorflow as tf\n",
        "import tensorflow_datasets\n",
        "import math\n",
        "import numpy as np\n",
        "\n",
        "# Loading the data using tensorflow\n",
        "fashion_mnist = tf.keras.datasets.fashion_mnist\n",
        "\n",
        "(train_images, train_labels), (test_images, test_labels) = fashion_mnist.load_data()\n",
        "\n",
        "# class names\n",
        "class_names = ['T-shirt/top', 'Trouser', 'Pullover', 'Dress', 'Coat',\n",
        "               'Sandal', 'Shirt', 'Sneaker', 'Bag', 'Ankle boot']"
      ],
      "execution_count": 1,
      "outputs": [
        {
          "output_type": "stream",
          "text": [
            "Downloading data from https://storage.googleapis.com/tensorflow/tf-keras-datasets/train-labels-idx1-ubyte.gz\n",
            "32768/29515 [=================================] - 0s 0us/step\n",
            "Downloading data from https://storage.googleapis.com/tensorflow/tf-keras-datasets/train-images-idx3-ubyte.gz\n",
            "26427392/26421880 [==============================] - 0s 0us/step\n",
            "Downloading data from https://storage.googleapis.com/tensorflow/tf-keras-datasets/t10k-labels-idx1-ubyte.gz\n",
            "8192/5148 [===============================================] - 0s 0us/step\n",
            "Downloading data from https://storage.googleapis.com/tensorflow/tf-keras-datasets/t10k-images-idx3-ubyte.gz\n",
            "4423680/4422102 [==============================] - 0s 0us/step\n"
          ],
          "name": "stdout"
        }
      ]
    },
    {
      "cell_type": "markdown",
      "metadata": {
        "id": "nFbty6i5AzKm"
      },
      "source": [
        "## Task 2 Understand the data\n",
        "\n",
        "*(weight ~15%)*\n",
        "\n"
      ]
    },
    {
      "cell_type": "code",
      "metadata": {
        "id": "Vg6WnS54Cl_G",
        "colab": {
          "base_uri": "https://localhost:8080/",
          "height": 826
        },
        "outputId": "f684fe60-fb8c-4614-883a-a85c64ce7c74"
      },
      "source": [
        "import matplotlib.pyplot as plt\n",
        "\n",
        "# 25 images from the train set in the form of 5x5 matrix\n",
        "print(\"25 images from the train set in the form of 5x5 matrix\")\n",
        "plt.figure(figsize=(5,5))\n",
        "for i in range(25):\n",
        "    plt.subplot(5,5,i+1)\n",
        "    plt.xticks([])\n",
        "    plt.yticks([])\n",
        "    plt.grid(False)\n",
        "    plt.imshow(train_images[i])\n",
        "plt.show()\n",
        "\n",
        "# training data\n",
        "print(\"Data type of training data: \", train_images.dtype)\n",
        "print(\"Shape of training data: \", train_images.shape)\n",
        "print(\"Data type of training labels: \", train_labels.dtype)\n",
        "print(\"Shape of training labels: \", train_labels.shape)\n",
        "print(\"Length of training data: \", len(train_labels))\n",
        "\n",
        "# test data\n",
        "print(\"Data type of test data: \", test_images.dtype)\n",
        "print(\"Shape of test data: \", test_images.shape)\n",
        "print(\"Data type of test labels: \", test_labels.dtype)\n",
        "print(\"Shape of test labels: \", test_labels.shape)\n",
        "print(\"Length of test data: \", len(test_images))\n",
        "\n",
        "# unique labels in the data\n",
        "print(\"Labels  in the data: \", np.unique(test_labels))\n",
        "\n",
        "# size of each image\n",
        "print(\"Size of each image\", train_images[0].shape)\n",
        "\n",
        "# memory required for training data\n",
        "print(\"Memory required for training data: \", train_images.size * train_images.itemsize, \"bytes\")\n",
        "\n",
        "\n",
        "# plotting the numeric range of input\n",
        "print(\"\\nPlotting the numeric range of input: [0-255]\")\n",
        "plt.figure()\n",
        "plt.imshow(train_images[100])\n",
        "plt.colorbar()\n",
        "plt.grid(False)\n",
        "plt.show()\n",
        "\n",
        "\n",
        "# The numeric range of input data is in the range [0,255], these values need to be normalized to the range [0,1]. \n",
        "# Normalisation ensures that each input parameter (pixel, in this case) has a similar data distribution. \n",
        "# This makes convergence faster while training the network.\n",
        "\n",
        "# normalisation\n",
        "train_images = train_images / 255.0\n",
        "test_images = test_images / 255.0"
      ],
      "execution_count": 2,
      "outputs": [
        {
          "output_type": "stream",
          "text": [
            "25 images from the train set in the form of 5x5 matrix\n"
          ],
          "name": "stdout"
        },
        {
          "output_type": "display_data",
          "data": {
            "image/png": "[encoded data removed]",
            "text/plain": [
              "<Figure size 360x360 with 25 Axes>"
            ]
          },
          "metadata": {
            "tags": []
          }
        },
        {
          "output_type": "stream",
          "text": [
            "Data type of training data:  uint8\n",
            "Shape of training data:  (60000, 28, 28)\n",
            "Data type of training labels:  uint8\n",
            "Shape of training labels:  (60000,)\n",
            "Length of training data:  60000\n",
            "Data type of test data:  uint8\n",
            "Shape of test data:  (10000, 28, 28)\n",
            "Data type of test labels:  uint8\n",
            "Shape of test labels:  (10000,)\n",
            "Length of test data:  10000\n",
            "Labels  in the data:  [0 1 2 3 4 5 6 7 8 9]\n",
            "Size of each image (28, 28)\n",
            "Memory required for training data:  47040000 bytes\n",
            "\n",
            "Plotting the numeric range of input: [0-255]\n"
          ],
          "name": "stdout"
        },
        {
          "output_type": "display_data",
          "data": {
            "image/png": "[encoded data removed]",
            "text/plain": [
              "<Figure size 432x288 with 2 Axes>"
            ]
          },
          "metadata": {
            "tags": [],
            "needs_background": "light"
          }
        }
      ]
    },
    {
      "cell_type": "markdown",
      "metadata": {
        "id": "PLYAtx-ZAzKo"
      },
      "source": [
        "Display 25 images from the train set in the form of 5x5 matrix.\n",
        "\n",
        "Answer the following questions:\n",
        "\n",
        "1. What are the data types and shapes of the features and the label? \n",
        "2. What are the unique labels in this dataset?\n",
        "3. How many training images and how many test images?\n",
        "4. What is the size of each image? How much memory is required for holding the whole training data.\n",
        "5. Find out the numeric range of the input. Do we need to rescale the input? Why?\n",
        " "
      ]
    },
    {
      "cell_type": "markdown",
      "metadata": {
        "id": "-tkl-PwsrXip"
      },
      "source": [
        "## Task 3 Construct an input pipeline\n",
        "\n",
        "*(weight ~15%)*\n",
        "\n",
        "Creat train/validate/test data splits and construct tf.data pipelines. Make sure that the training data is batched. \n",
        "\n",
        "- How do you determine the batch size?\n",
        "- Do we need to shuffle the training data? If yes, how do you determine the buffer size?\n"
      ]
    },
    {
      "cell_type": "code",
      "metadata": {
        "id": "hVmNO1PzOU6E"
      },
      "source": [
        "# train, test and validation splits\n",
        "\n",
        "# defining batch size\n",
        "BATCH_SIZE = 512\n",
        "# training dataset\n",
        "fmnist_train_ds = tf.data.Dataset.from_tensor_slices((train_images, train_labels))\n",
        "fmnist_train_ds = fmnist_train_ds.shuffle(5000).batch(BATCH_SIZE)\n",
        "\n",
        "\n",
        "# test dataset\n",
        "fmnist_test_ds = tf.data.Dataset.from_tensor_slices((test_images, test_labels))\n",
        "fmnist_test_ds = fmnist_test_ds.shuffle(5000).batch(BATCH_SIZE)\n",
        "\n",
        "# picking out the validation set from the training dataset\n",
        "fmnist_train = fmnist_train_ds.take(round(len(train_labels)*0.7))\n",
        "fmnist_val = fmnist_train_ds.skip(round(len(train_labels)*0.7))\n",
        "\n",
        "\n",
        "# batch size should be in powers of 2 and the larger the better, provided that the batch fits into the (GPU) memory;\n",
        "# small batches can offer a regularizing effect, perhaps due to the noise they add to the learning process.\n",
        "# larger batches provide a more accurate estimate of the gradient.\n",
        "# the batch size here is 512.\n",
        "# train-data shuffling ensures that the model gets to see all permutauions of input in every batch.\n",
        "\n"
      ],
      "execution_count": 3,
      "outputs": []
    },
    {
      "cell_type": "markdown",
      "metadata": {
        "id": "lnE7ZFS_AzLg"
      },
      "source": [
        "## Task 4 Construct a deep forward neural network\n",
        "\n",
        "*(weight ~35%)*"
      ]
    },
    {
      "cell_type": "markdown",
      "metadata": {
        "id": "ChlhkwhkAzLi"
      },
      "source": [
        "### Task 4.1 Setting up a model for training"
      ]
    },
    {
      "cell_type": "markdown",
      "metadata": {
        "id": "yuxhQM6jAzLl"
      },
      "source": [
        "Construct a deep feedforward neural network. You need to decide and report the following configurations:\n",
        "\n",
        "- Output layer: \n",
        "    - How many output nodes?\n",
        "    - Which activation function?\n",
        "- Hidden layers:\n",
        "    - How many hidden layers?\n",
        "    - How many nodes in each layer?\n",
        "    - Which activation function for each layer?\n",
        "- Input layer\n",
        "    - What is the input size?\n",
        "- The loss function\n",
        "- The metrics for model evaluation (which may be different from the loss function)\n",
        "- The optimiser\n",
        "\n",
        "Justify your model design decisions.\n",
        "\n",
        "Plot the model structure `using keras.utils.plot_model` or similar tools.\n",
        "\n",
        "What is the number of trainable parameters in the model. Explain how the total number can be estimated from the model configurations."
      ]
    },
    {
      "cell_type": "code",
      "metadata": {
        "id": "dpH3urepb_6v"
      },
      "source": [
        "# Different layers are appropriate for different tensor formats and different types of data processing. \n",
        "# Simple vector data, stored in 2D tensors of shape (samples, features), is often processed by densely connected layers.\n",
        "\n",
        "# single-label, multiclass classification problem\n",
        "\n",
        "# Layer-1: Flattening: Input Image: 28*28 = 784 pixels, gets converted into a 1D array;\n",
        "# Layer-2: Dense layer: 128 units, relu allows the model to solve nonlinear problems; number of hidden layers = 128\n",
        "# Layer-3: Output layer: 10 units, softmax provides probabilities for each possible output class, as this is a case of single-label, multiclass classification problem;\n",
        "\n",
        "\n",
        "model = tf.keras.Sequential([\n",
        "    tf.keras.layers.Flatten(input_shape=(28, 28, 1)),\n",
        "    tf.keras.layers.Dense(128, activation=tf.nn.relu),\n",
        "    tf.keras.layers.Dense(256, activation=tf.nn.relu),\n",
        "    tf.keras.layers.Dense(10, activation=tf.nn.softmax)\n",
        "])"
      ],
      "execution_count": 14,
      "outputs": []
    },
    {
      "cell_type": "code",
      "metadata": {
        "id": "jVZawM4BcKJr"
      },
      "source": [
        "# Categorical crossentropy loss function is almost always suited for multiclass classification.\n",
        "# It minimizes the distance between the probability distributions output by the network and the true distribution of the targets.\n",
        "# Since, the labels here are encoded as integers, SparseCategoricalCrossentropy() is used.\n",
        "\n",
        "# Accuracy works well to evaluate a classification model as the outputs are discrete labels.\n",
        "\n",
        "model.compile(optimizer='adam',\n",
        "              loss=tf.keras.losses.SparseCategoricalCrossentropy(),\n",
        "              metrics=['accuracy'])"
      ],
      "execution_count": 15,
      "outputs": []
    },
    {
      "cell_type": "code",
      "metadata": {
        "id": "2yELI3vhBLTq",
        "colab": {
          "base_uri": "https://localhost:8080/",
          "height": 533
        },
        "outputId": "4c45310e-1220-49cd-8a18-19404758e4ed"
      },
      "source": [
        "from tensorflow.keras.utils import plot_model\n",
        "plot_model(model, show_shapes=True)"
      ],
      "execution_count": 16,
      "outputs": [
        {
          "output_type": "execute_result",
          "data": {
            "image/png": "[encoded data removed]",
            "text/plain": [
              "<IPython.core.display.Image object>"
            ]
          },
          "metadata": {
            "tags": []
          },
          "execution_count": 16
        }
      ]
    },
    {
      "cell_type": "code",
      "metadata": {
        "id": "MEaLJ9bZE446",
        "colab": {
          "base_uri": "https://localhost:8080/"
        },
        "outputId": "1ac7a967-6198-4309-c634-b755a57dab19"
      },
      "source": [
        "# saving the initial weights for later experiments\n",
        "init_weights = model.get_weights()\n",
        "\n",
        "names = [weight.name for layer in model.layers for weight in layer.weights]\n",
        "\n",
        "for name, weight in zip(names, init_weights):\n",
        "    print(name, weight.shape)"
      ],
      "execution_count": 17,
      "outputs": [
        {
          "output_type": "stream",
          "text": [
            "dense_3/kernel:0 (784, 128)\n",
            "dense_3/bias:0 (128,)\n",
            "dense_4/kernel:0 (128, 256)\n",
            "dense_4/bias:0 (256,)\n",
            "dense_5/kernel:0 (256, 10)\n",
            "dense_5/bias:0 (10,)\n"
          ],
          "name": "stdout"
        }
      ]
    },
    {
      "cell_type": "markdown",
      "metadata": {
        "id": "MZ2BVK5tAzMM"
      },
      "source": [
        "### Task 4.2 Fitting the model\n",
        "\n",
        "Before you fit the model. Think about what initialisation method have you chosen? If you did not specify the initialisation method, find out what is the default one. Choose a layer and visualise its initial weights. (Hint: You may use UMAP to visualise a collection of high-dimension vectors.)\n",
        "\n",
        "Decide and report the following training setting:\n",
        "\n",
        "1. The training batch size\n",
        "2. The number of training epochs (at least 1,000 epochs recommended)\n",
        "3. The learning rate. If you used momentum or a learning rate schedule, please report the configuration as well.\n",
        "\n",
        "Now fit the model. Show how the training loss changes. How did you decide when to stop training?\n",
        "\n",
        "After fitting the model, visualise the model weights again. How did the weights change? Why?\n",
        "\n",
        "\n"
      ]
    },
    {
      "cell_type": "code",
      "metadata": {
        "id": "-F2RvaPdcRdz"
      },
      "source": [
        "tf.config.run_functions_eagerly(True)"
      ],
      "execution_count": 18,
      "outputs": []
    },
    {
      "cell_type": "code",
      "metadata": {
        "id": "EsBPCoXMin7k",
        "colab": {
          "base_uri": "https://localhost:8080/"
        },
        "outputId": "06f17610-75a2-4ab4-bee0-b5fff0598d36"
      },
      "source": [
        "history = model.fit(\n",
        "    fmnist_train,\n",
        "    validation_data=fmnist_val,\n",
        "    epochs=80, batch_size=128) "
      ],
      "execution_count": 19,
      "outputs": [
        {
          "output_type": "stream",
          "text": [
            "Epoch 1/80\n",
            "118/118 [==============================] - 3s 25ms/step - loss: 0.9619 - accuracy: 0.6975\n",
            "Epoch 2/80\n",
            "118/118 [==============================] - 3s 24ms/step - loss: 0.4370 - accuracy: 0.8451\n",
            "Epoch 3/80\n",
            "118/118 [==============================] - 3s 24ms/step - loss: 0.3820 - accuracy: 0.8632\n",
            "Epoch 4/80\n",
            "118/118 [==============================] - 3s 24ms/step - loss: 0.3495 - accuracy: 0.8740\n",
            "Epoch 5/80\n",
            "118/118 [==============================] - 3s 24ms/step - loss: 0.3270 - accuracy: 0.8826\n",
            "Epoch 6/80\n",
            "118/118 [==============================] - 3s 24ms/step - loss: 0.3183 - accuracy: 0.8833\n",
            "Epoch 7/80\n",
            "118/118 [==============================] - 3s 24ms/step - loss: 0.2997 - accuracy: 0.8898\n",
            "Epoch 8/80\n",
            "118/118 [==============================] - 3s 25ms/step - loss: 0.2882 - accuracy: 0.8934\n",
            "Epoch 9/80\n",
            "118/118 [==============================] - 3s 24ms/step - loss: 0.2785 - accuracy: 0.8988\n",
            "Epoch 10/80\n",
            "118/118 [==============================] - 3s 25ms/step - loss: 0.2666 - accuracy: 0.9016\n",
            "Epoch 11/80\n",
            "118/118 [==============================] - 3s 24ms/step - loss: 0.2593 - accuracy: 0.9040\n",
            "Epoch 12/80\n",
            "118/118 [==============================] - 3s 24ms/step - loss: 0.2489 - accuracy: 0.9057\n",
            "Epoch 13/80\n",
            "118/118 [==============================] - 3s 25ms/step - loss: 0.2419 - accuracy: 0.9109\n",
            "Epoch 14/80\n",
            "118/118 [==============================] - 3s 24ms/step - loss: 0.2403 - accuracy: 0.9108\n",
            "Epoch 15/80\n",
            "118/118 [==============================] - 3s 24ms/step - loss: 0.2342 - accuracy: 0.9140\n",
            "Epoch 16/80\n",
            "118/118 [==============================] - 3s 25ms/step - loss: 0.2216 - accuracy: 0.9182\n",
            "Epoch 17/80\n",
            "118/118 [==============================] - 3s 24ms/step - loss: 0.2218 - accuracy: 0.9175\n",
            "Epoch 18/80\n",
            "118/118 [==============================] - 3s 24ms/step - loss: 0.2153 - accuracy: 0.9196\n",
            "Epoch 19/80\n",
            "118/118 [==============================] - 3s 24ms/step - loss: 0.2041 - accuracy: 0.9258\n",
            "Epoch 20/80\n",
            "118/118 [==============================] - 3s 24ms/step - loss: 0.1955 - accuracy: 0.9275\n",
            "Epoch 21/80\n",
            "118/118 [==============================] - 3s 25ms/step - loss: 0.2005 - accuracy: 0.9247\n",
            "Epoch 22/80\n",
            "118/118 [==============================] - 3s 25ms/step - loss: 0.1926 - accuracy: 0.9285\n",
            "Epoch 23/80\n",
            "118/118 [==============================] - 3s 25ms/step - loss: 0.1935 - accuracy: 0.9281\n",
            "Epoch 24/80\n",
            "118/118 [==============================] - 3s 24ms/step - loss: 0.1834 - accuracy: 0.9306\n",
            "Epoch 25/80\n",
            "118/118 [==============================] - 3s 24ms/step - loss: 0.1782 - accuracy: 0.9338\n",
            "Epoch 26/80\n",
            "118/118 [==============================] - 3s 24ms/step - loss: 0.1743 - accuracy: 0.9350\n",
            "Epoch 27/80\n",
            "118/118 [==============================] - 3s 25ms/step - loss: 0.1733 - accuracy: 0.9339\n",
            "Epoch 28/80\n",
            "118/118 [==============================] - 3s 24ms/step - loss: 0.1663 - accuracy: 0.9382\n",
            "Epoch 29/80\n",
            "118/118 [==============================] - 3s 25ms/step - loss: 0.1589 - accuracy: 0.9406\n",
            "Epoch 30/80\n",
            "118/118 [==============================] - 3s 25ms/step - loss: 0.1560 - accuracy: 0.9414\n",
            "Epoch 31/80\n",
            "118/118 [==============================] - 3s 25ms/step - loss: 0.1593 - accuracy: 0.9414\n",
            "Epoch 32/80\n",
            "118/118 [==============================] - 3s 24ms/step - loss: 0.1499 - accuracy: 0.9442\n",
            "Epoch 33/80\n",
            "118/118 [==============================] - 3s 25ms/step - loss: 0.1510 - accuracy: 0.9442\n",
            "Epoch 34/80\n",
            "118/118 [==============================] - 3s 24ms/step - loss: 0.1371 - accuracy: 0.9498\n",
            "Epoch 35/80\n",
            "118/118 [==============================] - 3s 24ms/step - loss: 0.1359 - accuracy: 0.9491\n",
            "Epoch 36/80\n",
            "118/118 [==============================] - 3s 24ms/step - loss: 0.1326 - accuracy: 0.9503\n",
            "Epoch 37/80\n",
            "118/118 [==============================] - 3s 24ms/step - loss: 0.1292 - accuracy: 0.9512\n",
            "Epoch 38/80\n",
            "118/118 [==============================] - 3s 24ms/step - loss: 0.1287 - accuracy: 0.9523\n",
            "Epoch 39/80\n",
            "118/118 [==============================] - 3s 24ms/step - loss: 0.1259 - accuracy: 0.9529\n",
            "Epoch 40/80\n",
            "118/118 [==============================] - 3s 24ms/step - loss: 0.1204 - accuracy: 0.9560\n",
            "Epoch 41/80\n",
            "118/118 [==============================] - 3s 24ms/step - loss: 0.1133 - accuracy: 0.9584\n",
            "Epoch 42/80\n",
            "118/118 [==============================] - 3s 24ms/step - loss: 0.1186 - accuracy: 0.9568\n",
            "Epoch 43/80\n",
            "118/118 [==============================] - 3s 24ms/step - loss: 0.1125 - accuracy: 0.9586\n",
            "Epoch 44/80\n",
            "118/118 [==============================] - 3s 24ms/step - loss: 0.1144 - accuracy: 0.9569\n",
            "Epoch 45/80\n",
            "118/118 [==============================] - 3s 24ms/step - loss: 0.1071 - accuracy: 0.9598\n",
            "Epoch 46/80\n",
            "118/118 [==============================] - 3s 24ms/step - loss: 0.1049 - accuracy: 0.9613\n",
            "Epoch 47/80\n",
            "118/118 [==============================] - 3s 24ms/step - loss: 0.1004 - accuracy: 0.9635\n",
            "Epoch 48/80\n",
            "118/118 [==============================] - 3s 24ms/step - loss: 0.0983 - accuracy: 0.9639\n",
            "Epoch 49/80\n",
            "118/118 [==============================] - 3s 24ms/step - loss: 0.0956 - accuracy: 0.9650\n",
            "Epoch 50/80\n",
            "118/118 [==============================] - 3s 25ms/step - loss: 0.0952 - accuracy: 0.9654\n",
            "Epoch 51/80\n",
            "118/118 [==============================] - 3s 24ms/step - loss: 0.0922 - accuracy: 0.9662\n",
            "Epoch 52/80\n",
            "118/118 [==============================] - 3s 24ms/step - loss: 0.0943 - accuracy: 0.9655\n",
            "Epoch 53/80\n",
            "118/118 [==============================] - 3s 25ms/step - loss: 0.0900 - accuracy: 0.9671\n",
            "Epoch 54/80\n",
            "118/118 [==============================] - 3s 24ms/step - loss: 0.0887 - accuracy: 0.9671\n",
            "Epoch 55/80\n",
            "118/118 [==============================] - 3s 25ms/step - loss: 0.0830 - accuracy: 0.9697\n",
            "Epoch 56/80\n",
            "118/118 [==============================] - 3s 24ms/step - loss: 0.0832 - accuracy: 0.9690\n",
            "Epoch 57/80\n",
            "118/118 [==============================] - 3s 24ms/step - loss: 0.0850 - accuracy: 0.9689\n",
            "Epoch 58/80\n",
            "118/118 [==============================] - 3s 25ms/step - loss: 0.0802 - accuracy: 0.9701\n",
            "Epoch 59/80\n",
            "118/118 [==============================] - 3s 25ms/step - loss: 0.0758 - accuracy: 0.9722\n",
            "Epoch 60/80\n",
            "118/118 [==============================] - 3s 25ms/step - loss: 0.0749 - accuracy: 0.9729\n",
            "Epoch 61/80\n",
            "118/118 [==============================] - 3s 25ms/step - loss: 0.0704 - accuracy: 0.9759\n",
            "Epoch 62/80\n",
            "118/118 [==============================] - 3s 25ms/step - loss: 0.0775 - accuracy: 0.9712\n",
            "Epoch 63/80\n",
            "118/118 [==============================] - 3s 25ms/step - loss: 0.0636 - accuracy: 0.9775\n",
            "Epoch 64/80\n",
            "118/118 [==============================] - 3s 25ms/step - loss: 0.0704 - accuracy: 0.9750\n",
            "Epoch 65/80\n",
            "118/118 [==============================] - 3s 25ms/step - loss: 0.0622 - accuracy: 0.9776\n",
            "Epoch 66/80\n",
            "118/118 [==============================] - 3s 25ms/step - loss: 0.0812 - accuracy: 0.9692\n",
            "Epoch 67/80\n",
            "118/118 [==============================] - 3s 25ms/step - loss: 0.0696 - accuracy: 0.9749\n",
            "Epoch 68/80\n",
            "118/118 [==============================] - 3s 24ms/step - loss: 0.0642 - accuracy: 0.9759\n",
            "Epoch 69/80\n",
            "118/118 [==============================] - 3s 24ms/step - loss: 0.0605 - accuracy: 0.9781\n",
            "Epoch 70/80\n",
            "118/118 [==============================] - 3s 25ms/step - loss: 0.0618 - accuracy: 0.9777\n",
            "Epoch 71/80\n",
            "118/118 [==============================] - 3s 25ms/step - loss: 0.0592 - accuracy: 0.9796\n",
            "Epoch 72/80\n",
            "118/118 [==============================] - 3s 24ms/step - loss: 0.0516 - accuracy: 0.9815\n",
            "Epoch 73/80\n",
            "118/118 [==============================] - 3s 25ms/step - loss: 0.0518 - accuracy: 0.9814\n",
            "Epoch 74/80\n",
            "118/118 [==============================] - 3s 25ms/step - loss: 0.0510 - accuracy: 0.9816\n",
            "Epoch 75/80\n",
            "118/118 [==============================] - 3s 25ms/step - loss: 0.0545 - accuracy: 0.9801\n",
            "Epoch 76/80\n",
            "118/118 [==============================] - 3s 24ms/step - loss: 0.0559 - accuracy: 0.9796\n",
            "Epoch 77/80\n",
            "118/118 [==============================] - 3s 25ms/step - loss: 0.0488 - accuracy: 0.9831\n",
            "Epoch 78/80\n",
            "118/118 [==============================] - 3s 25ms/step - loss: 0.0527 - accuracy: 0.9815\n",
            "Epoch 79/80\n",
            "118/118 [==============================] - 3s 24ms/step - loss: 0.0555 - accuracy: 0.9791\n",
            "Epoch 80/80\n",
            "118/118 [==============================] - 3s 24ms/step - loss: 0.0511 - accuracy: 0.9825\n"
          ],
          "name": "stdout"
        }
      ]
    },
    {
      "cell_type": "code",
      "metadata": {
        "id": "ZydRZpuI9zp9",
        "colab": {
          "base_uri": "https://localhost:8080/",
          "height": 573
        },
        "outputId": "f46e0164-a317-408c-a96c-f511ec5a5e81"
      },
      "source": [
        "import matplotlib.pyplot as plt\n",
        "\n",
        "# Plot training accuracy values\n",
        "plt.plot(history.history['accuracy'])\n",
        "plt.title('Model accuracy')\n",
        "plt.ylabel('Accuracy')\n",
        "plt.xlabel('Epoch')\n",
        "plt.show()\n",
        "\n",
        "# Plot training loss values\n",
        "plt.plot(history.history['loss'])\n",
        "plt.title('Model loss')\n",
        "plt.ylabel('Loss')\n",
        "plt.xlabel('Epoch')\n",
        "plt.show()\n"
      ],
      "execution_count": 20,
      "outputs": [
        {
          "output_type": "display_data",
          "data": {
            "image/png": "[encoded data removed]",
            "text/plain": [
              "<Figure size 432x288 with 1 Axes>"
            ]
          },
          "metadata": {
            "tags": [],
            "needs_background": "light"
          }
        },
        {
          "output_type": "display_data",
          "data": {
            "image/png": "[encoded data removed]",
            "text/plain": [
              "<Figure size 432x288 with 1 Axes>"
            ]
          },
          "metadata": {
            "tags": [],
            "needs_background": "light"
          }
        }
      ]
    },
    {
      "cell_type": "code",
      "metadata": {
        "id": "edSDDugWr5Bj",
        "colab": {
          "base_uri": "https://localhost:8080/",
          "height": 432
        },
        "outputId": "f927c61b-4222-4772-eb4e-be3cada23fc5"
      },
      "source": [
        "import pandas as pd\n",
        "import matplotlib.pyplot as plt\n",
        "pd.DataFrame(history.history).plot(figsize=(12, 7))\n",
        "plt.grid(True)\n",
        "plt.gca().set_ylim(0, 1) \n",
        "plt.show()\n"
      ],
      "execution_count": 21,
      "outputs": [
        {
          "output_type": "display_data",
          "data": {
            "image/png": "[encoded data removed]",
            "text/plain": [
              "<Figure size 864x504 with 1 Axes>"
            ]
          },
          "metadata": {
            "tags": [],
            "needs_background": "light"
          }
        }
      ]
    },
    {
      "cell_type": "code",
      "metadata": {
        "id": "gzOFN785WjWO",
        "colab": {
          "base_uri": "https://localhost:8080/"
        },
        "outputId": "71d3c8c2-7bb5-41bd-d57f-1a31b06375f4"
      },
      "source": [
        "# weights after training\n",
        "\n",
        "f_weights = model.get_weights()\n",
        "\n",
        "names = [weight.name for layer in model.layers for weight in layer.weights]\n",
        "\n",
        "for name, weight in zip(names, f_weights):\n",
        "    print(name, weight.shape)"
      ],
      "execution_count": 13,
      "outputs": [
        {
          "output_type": "stream",
          "text": [
            "dense/kernel:0 (784, 128)\n",
            "dense/bias:0 (128,)\n",
            "dense_1/kernel:0 (128, 256)\n",
            "dense_1/bias:0 (256,)\n",
            "dense_2/kernel:0 (256, 10)\n",
            "dense_2/bias:0 (10,)\n"
          ],
          "name": "stdout"
        }
      ]
    },
    {
      "cell_type": "code",
      "metadata": {
        "colab": {
          "base_uri": "https://localhost:8080/"
        },
        "id": "E45zJVjSdNpI",
        "outputId": "02655bc0-e261-4c89-82b2-685630cf4931"
      },
      "source": [
        "test_loss, test_accuracy = model.evaluate(fmnist_test_ds, steps=math.ceil(len(test_labels)/32))\n",
        "print('Accuracy on test dataset after initial training: ', test_accuracy)"
      ],
      "execution_count": 14,
      "outputs": [
        {
          "output_type": "stream",
          "text": [
            " 17/313 [>.............................] - ETA: 3s - loss: 0.7542 - accuracy: 0.8956WARNING:tensorflow:Your input ran out of data; interrupting training. Make sure that your dataset or generator can generate at least `steps_per_epoch * epochs` batches (in this case, 313 batches). You may need to use the repeat() function when building your dataset.\n",
            "313/313 [==============================] - 0s 650us/step - loss: 0.7764 - accuracy: 0.8930\n",
            "Accuracy on test dataset after initial training:  0.8930000066757202\n"
          ],
          "name": "stdout"
        }
      ]
    },
    {
      "cell_type": "markdown",
      "metadata": {
        "id": "9C2VXCM-4Nw9"
      },
      "source": [
        "### Task 4.3 Check the training using TensorBoard\n",
        "\n",
        "Use TensorBoard to visualise the training process. Show screenshots of your TensorBoard output.\n",
        "\n",
        "**Optional task:** Record the gradients during training and use TensorBoard to visualise the gradients."
      ]
    },
    {
      "cell_type": "code",
      "metadata": {
        "id": "gHQVKiwwFYSi",
        "colab": {
          "base_uri": "https://localhost:8080/"
        },
        "outputId": "60cc9ebe-cb5c-4c7a-f20b-2dc86242471c"
      },
      "source": [
        "!rm -rf ./logs/\n",
        "#tf.compat.v1.disable_v2_behavior()\n",
        "\n",
        "from datetime import datetime\n",
        "import os\n",
        "\n",
        "root_logdir = \"logs\"\n",
        "run_id = datetime.now().strftime(\"%Y%m%d-%H%M%S\")\n",
        "logdir = os.path.join(root_logdir, run_id)\n",
        "\n",
        "callbacks = [\n",
        "    tf.keras.callbacks.TensorBoard(\n",
        "        log_dir=logdir,\n",
        "        histogram_freq=1,\n",
        "         write_graph=True, \n",
        "         write_images=True,\n",
        "         write_grads=True\n",
        "    )\n",
        "]\n",
        "\n",
        "# tensorboard_callback = tf.compat.v1.keras.callbacks.TensorBoard(log_dir=logdir, histogram_freq=1, write_grads =True)\n",
        "# tbCallBack = tf.keras.callbacks.TensorBoard(log_dir='./Graph', histogram_freq=0, write_graph=True, write_images=True)\n",
        "\n",
        "# def create_model():\n",
        "#   model = tf.keras.Sequential([\n",
        "#     tf.keras.layers.Flatten(input_shape=(28, 28, 1)),\n",
        "#     tf.keras.layers.Dense(128, activation=tf.nn.relu),\n",
        "#     tf.keras.layers.Dense(10, activation=tf.nn.softmax)\n",
        "# ])\n",
        "#   return model\n",
        "# model = create_model()\n",
        "\n",
        "# model.compile(optimizer='adam',\n",
        "#               loss=tf.keras.losses.SparseCategoricalCrossentropy(),\n",
        "#               metrics=['accuracy'])\n",
        "\n",
        "# reset the training\n",
        "model.set_weights(init_weights)\n",
        "\n",
        "history = model.fit(train_images, \n",
        "                      train_labels, \n",
        "                      epochs=80, \n",
        "                      batch_size=128,\n",
        "                      callbacks=callbacks)\n"
      ],
      "execution_count": 15,
      "outputs": [
        {
          "output_type": "stream",
          "text": [
            "WARNING:tensorflow:`write_grads` will be ignored in TensorFlow 2.0 for the `TensorBoard` Callback.\n",
            "Epoch 1/120\n",
            "  1/469 [..............................] - ETA: 8s - loss: 2.3452 - accuracy: 0.0391"
          ],
          "name": "stdout"
        },
        {
          "output_type": "stream",
          "text": [
            "/usr/local/lib/python3.7/dist-packages/tensorflow/python/data/ops/dataset_ops.py:3504: UserWarning: Even though the tf.config.experimental_run_functions_eagerly option is set, this option does not apply to tf.data functions. tf.data functions are still traced and executed as graphs.\n",
            "  \"Even though the tf.config.experimental_run_functions_eagerly \"\n"
          ],
          "name": "stderr"
        },
        {
          "output_type": "stream",
          "text": [
            "469/469 [==============================] - 6s 13ms/step - loss: 0.5022 - accuracy: 0.8204\n",
            "Epoch 2/120\n",
            "469/469 [==============================] - 6s 12ms/step - loss: 0.3529 - accuracy: 0.8712\n",
            "Epoch 3/120\n",
            "469/469 [==============================] - 6s 12ms/step - loss: 0.3217 - accuracy: 0.8806\n",
            "Epoch 4/120\n",
            "469/469 [==============================] - 6s 12ms/step - loss: 0.2998 - accuracy: 0.8897\n",
            "Epoch 5/120\n",
            "469/469 [==============================] - 6s 12ms/step - loss: 0.2804 - accuracy: 0.8950\n",
            "Epoch 6/120\n",
            "469/469 [==============================] - 6s 12ms/step - loss: 0.2684 - accuracy: 0.8987\n",
            "Epoch 7/120\n",
            "469/469 [==============================] - 6s 12ms/step - loss: 0.2530 - accuracy: 0.9050\n",
            "Epoch 8/120\n",
            "469/469 [==============================] - 6s 12ms/step - loss: 0.2431 - accuracy: 0.9096\n",
            "Epoch 9/120\n",
            "469/469 [==============================] - 6s 12ms/step - loss: 0.2340 - accuracy: 0.9125\n",
            "Epoch 10/120\n",
            "469/469 [==============================] - 6s 12ms/step - loss: 0.2228 - accuracy: 0.9157\n",
            "Epoch 11/120\n",
            "469/469 [==============================] - 6s 12ms/step - loss: 0.2167 - accuracy: 0.9183\n",
            "Epoch 12/120\n",
            "469/469 [==============================] - 6s 12ms/step - loss: 0.2093 - accuracy: 0.9201\n",
            "Epoch 13/120\n",
            "469/469 [==============================] - 6s 12ms/step - loss: 0.1999 - accuracy: 0.9242\n",
            "Epoch 14/120\n",
            "469/469 [==============================] - 6s 12ms/step - loss: 0.1937 - accuracy: 0.9256\n",
            "Epoch 15/120\n",
            "469/469 [==============================] - 6s 12ms/step - loss: 0.1869 - accuracy: 0.9297\n",
            "Epoch 16/120\n",
            "469/469 [==============================] - 6s 12ms/step - loss: 0.1802 - accuracy: 0.9313\n",
            "Epoch 17/120\n",
            "469/469 [==============================] - 6s 12ms/step - loss: 0.1731 - accuracy: 0.9334\n",
            "Epoch 18/120\n",
            "469/469 [==============================] - 6s 12ms/step - loss: 0.1681 - accuracy: 0.9363\n",
            "Epoch 19/120\n",
            "469/469 [==============================] - 6s 12ms/step - loss: 0.1648 - accuracy: 0.9369\n",
            "Epoch 20/120\n",
            "469/469 [==============================] - 6s 12ms/step - loss: 0.1569 - accuracy: 0.9403\n",
            "Epoch 21/120\n",
            "469/469 [==============================] - 6s 12ms/step - loss: 0.1494 - accuracy: 0.9438\n",
            "Epoch 22/120\n",
            "469/469 [==============================] - 6s 12ms/step - loss: 0.1451 - accuracy: 0.9452\n",
            "Epoch 23/120\n",
            "469/469 [==============================] - 6s 12ms/step - loss: 0.1436 - accuracy: 0.9454\n",
            "Epoch 24/120\n",
            "469/469 [==============================] - 6s 12ms/step - loss: 0.1368 - accuracy: 0.9477\n",
            "Epoch 25/120\n",
            "469/469 [==============================] - 6s 12ms/step - loss: 0.1355 - accuracy: 0.9477\n",
            "Epoch 26/120\n",
            "469/469 [==============================] - 6s 12ms/step - loss: 0.1263 - accuracy: 0.9519\n",
            "Epoch 27/120\n",
            "469/469 [==============================] - 6s 12ms/step - loss: 0.1231 - accuracy: 0.9526\n",
            "Epoch 28/120\n",
            "469/469 [==============================] - 6s 12ms/step - loss: 0.1209 - accuracy: 0.9536\n",
            "Epoch 29/120\n",
            "469/469 [==============================] - 6s 12ms/step - loss: 0.1148 - accuracy: 0.9566\n",
            "Epoch 30/120\n",
            "469/469 [==============================] - 6s 12ms/step - loss: 0.1167 - accuracy: 0.9548\n",
            "Epoch 31/120\n",
            "469/469 [==============================] - 6s 12ms/step - loss: 0.1070 - accuracy: 0.9598\n",
            "Epoch 32/120\n",
            "469/469 [==============================] - 6s 12ms/step - loss: 0.1067 - accuracy: 0.9607\n",
            "Epoch 33/120\n",
            "469/469 [==============================] - 6s 12ms/step - loss: 0.1034 - accuracy: 0.9602\n",
            "Epoch 34/120\n",
            "469/469 [==============================] - 6s 12ms/step - loss: 0.1010 - accuracy: 0.9625\n",
            "Epoch 35/120\n",
            "469/469 [==============================] - 6s 12ms/step - loss: 0.0942 - accuracy: 0.9643\n",
            "Epoch 36/120\n",
            "469/469 [==============================] - 6s 12ms/step - loss: 0.0889 - accuracy: 0.9662\n",
            "Epoch 37/120\n",
            "469/469 [==============================] - 6s 12ms/step - loss: 0.0899 - accuracy: 0.9660\n",
            "Epoch 38/120\n",
            "469/469 [==============================] - 6s 12ms/step - loss: 0.0888 - accuracy: 0.9666\n",
            "Epoch 39/120\n",
            "469/469 [==============================] - 6s 12ms/step - loss: 0.0883 - accuracy: 0.9672\n",
            "Epoch 40/120\n",
            "469/469 [==============================] - 6s 12ms/step - loss: 0.0801 - accuracy: 0.9700\n",
            "Epoch 41/120\n",
            "469/469 [==============================] - 6s 12ms/step - loss: 0.0773 - accuracy: 0.9706\n",
            "Epoch 42/120\n",
            "469/469 [==============================] - 6s 12ms/step - loss: 0.0804 - accuracy: 0.9698\n",
            "Epoch 43/120\n",
            "469/469 [==============================] - 6s 12ms/step - loss: 0.0743 - accuracy: 0.9717\n",
            "Epoch 44/120\n",
            "469/469 [==============================] - 6s 12ms/step - loss: 0.0727 - accuracy: 0.9720\n",
            "Epoch 45/120\n",
            "469/469 [==============================] - 6s 12ms/step - loss: 0.0747 - accuracy: 0.9718\n",
            "Epoch 46/120\n",
            "469/469 [==============================] - 6s 12ms/step - loss: 0.0691 - accuracy: 0.9739\n",
            "Epoch 47/120\n",
            "469/469 [==============================] - 6s 12ms/step - loss: 0.0669 - accuracy: 0.9743\n",
            "Epoch 48/120\n",
            "469/469 [==============================] - 6s 12ms/step - loss: 0.0656 - accuracy: 0.9750\n",
            "Epoch 49/120\n",
            "469/469 [==============================] - 6s 12ms/step - loss: 0.0619 - accuracy: 0.9764\n",
            "Epoch 50/120\n",
            "469/469 [==============================] - 6s 13ms/step - loss: 0.0652 - accuracy: 0.9750\n",
            "Epoch 51/120\n",
            "469/469 [==============================] - 6s 12ms/step - loss: 0.0612 - accuracy: 0.9771\n",
            "Epoch 52/120\n",
            "469/469 [==============================] - 6s 12ms/step - loss: 0.0640 - accuracy: 0.9759\n",
            "Epoch 53/120\n",
            "469/469 [==============================] - 6s 12ms/step - loss: 0.0598 - accuracy: 0.9775\n",
            "Epoch 54/120\n",
            "469/469 [==============================] - 6s 12ms/step - loss: 0.0539 - accuracy: 0.9797\n",
            "Epoch 55/120\n",
            "469/469 [==============================] - 6s 12ms/step - loss: 0.0593 - accuracy: 0.9774\n",
            "Epoch 56/120\n",
            "469/469 [==============================] - 6s 12ms/step - loss: 0.0570 - accuracy: 0.9782\n",
            "Epoch 57/120\n",
            "469/469 [==============================] - 6s 12ms/step - loss: 0.0501 - accuracy: 0.9813\n",
            "Epoch 58/120\n",
            "469/469 [==============================] - 6s 12ms/step - loss: 0.0563 - accuracy: 0.9790\n",
            "Epoch 59/120\n",
            "469/469 [==============================] - 6s 12ms/step - loss: 0.0521 - accuracy: 0.9808\n",
            "Epoch 60/120\n",
            "469/469 [==============================] - 6s 12ms/step - loss: 0.0501 - accuracy: 0.9815\n",
            "Epoch 61/120\n",
            "469/469 [==============================] - 6s 12ms/step - loss: 0.0484 - accuracy: 0.9818\n",
            "Epoch 62/120\n",
            "469/469 [==============================] - 6s 12ms/step - loss: 0.0456 - accuracy: 0.9833\n",
            "Epoch 63/120\n",
            "469/469 [==============================] - 6s 12ms/step - loss: 0.0467 - accuracy: 0.9822\n",
            "Epoch 64/120\n",
            "469/469 [==============================] - 6s 12ms/step - loss: 0.0507 - accuracy: 0.9813\n",
            "Epoch 65/120\n",
            "469/469 [==============================] - 6s 12ms/step - loss: 0.0475 - accuracy: 0.9822\n",
            "Epoch 66/120\n",
            "469/469 [==============================] - 6s 12ms/step - loss: 0.0454 - accuracy: 0.9835\n",
            "Epoch 67/120\n",
            "469/469 [==============================] - 6s 12ms/step - loss: 0.0374 - accuracy: 0.9859\n",
            "Epoch 68/120\n",
            "469/469 [==============================] - 6s 12ms/step - loss: 0.0438 - accuracy: 0.9837\n",
            "Epoch 69/120\n",
            "469/469 [==============================] - 6s 12ms/step - loss: 0.0413 - accuracy: 0.9844\n",
            "Epoch 70/120\n",
            "469/469 [==============================] - 6s 12ms/step - loss: 0.0432 - accuracy: 0.9838\n",
            "Epoch 71/120\n",
            "469/469 [==============================] - 6s 12ms/step - loss: 0.0462 - accuracy: 0.9831\n",
            "Epoch 72/120\n",
            "469/469 [==============================] - 6s 12ms/step - loss: 0.0350 - accuracy: 0.9871\n",
            "Epoch 73/120\n",
            "469/469 [==============================] - 6s 12ms/step - loss: 0.0378 - accuracy: 0.9861\n",
            "Epoch 74/120\n",
            "469/469 [==============================] - 6s 12ms/step - loss: 0.0446 - accuracy: 0.9837\n",
            "Epoch 75/120\n",
            "469/469 [==============================] - 6s 12ms/step - loss: 0.0375 - accuracy: 0.9863\n",
            "Epoch 76/120\n",
            "469/469 [==============================] - 6s 12ms/step - loss: 0.0413 - accuracy: 0.9843\n",
            "Epoch 77/120\n",
            "469/469 [==============================] - 6s 12ms/step - loss: 0.0331 - accuracy: 0.9877\n",
            "Epoch 78/120\n",
            "469/469 [==============================] - 6s 12ms/step - loss: 0.0300 - accuracy: 0.9890\n",
            "Epoch 79/120\n",
            "469/469 [==============================] - 6s 12ms/step - loss: 0.0456 - accuracy: 0.9838\n",
            "Epoch 80/120\n",
            "469/469 [==============================] - 6s 12ms/step - loss: 0.0308 - accuracy: 0.9892\n",
            "Epoch 81/120\n",
            "469/469 [==============================] - 6s 12ms/step - loss: 0.0357 - accuracy: 0.9871\n",
            "Epoch 82/120\n",
            "469/469 [==============================] - 6s 12ms/step - loss: 0.0368 - accuracy: 0.9869\n",
            "Epoch 83/120\n",
            "469/469 [==============================] - 6s 12ms/step - loss: 0.0285 - accuracy: 0.9892\n",
            "Epoch 84/120\n",
            "469/469 [==============================] - 6s 12ms/step - loss: 0.0336 - accuracy: 0.9879\n",
            "Epoch 85/120\n",
            "469/469 [==============================] - 6s 12ms/step - loss: 0.0405 - accuracy: 0.9854\n",
            "Epoch 86/120\n",
            "469/469 [==============================] - 6s 12ms/step - loss: 0.0260 - accuracy: 0.9905\n",
            "Epoch 87/120\n",
            "469/469 [==============================] - 6s 12ms/step - loss: 0.0373 - accuracy: 0.9865\n",
            "Epoch 88/120\n",
            "469/469 [==============================] - 6s 12ms/step - loss: 0.0306 - accuracy: 0.9888\n",
            "Epoch 89/120\n",
            "469/469 [==============================] - 6s 12ms/step - loss: 0.0300 - accuracy: 0.9890\n",
            "Epoch 90/120\n",
            "469/469 [==============================] - 6s 12ms/step - loss: 0.0331 - accuracy: 0.9883\n",
            "Epoch 91/120\n",
            "469/469 [==============================] - 6s 12ms/step - loss: 0.0357 - accuracy: 0.9871\n",
            "Epoch 92/120\n",
            "469/469 [==============================] - 6s 12ms/step - loss: 0.0324 - accuracy: 0.9878\n",
            "Epoch 93/120\n",
            "469/469 [==============================] - 6s 12ms/step - loss: 0.0246 - accuracy: 0.9908\n",
            "Epoch 94/120\n",
            "469/469 [==============================] - 6s 12ms/step - loss: 0.0223 - accuracy: 0.9924\n",
            "Epoch 95/120\n",
            "469/469 [==============================] - 6s 12ms/step - loss: 0.0410 - accuracy: 0.9851\n",
            "Epoch 96/120\n",
            "469/469 [==============================] - 6s 12ms/step - loss: 0.0305 - accuracy: 0.9889\n",
            "Epoch 97/120\n",
            "469/469 [==============================] - 6s 12ms/step - loss: 0.0205 - accuracy: 0.9927\n",
            "Epoch 98/120\n",
            "469/469 [==============================] - 6s 12ms/step - loss: 0.0316 - accuracy: 0.9889\n",
            "Epoch 99/120\n",
            "469/469 [==============================] - 6s 12ms/step - loss: 0.0300 - accuracy: 0.9891\n",
            "Epoch 100/120\n",
            "469/469 [==============================] - 6s 12ms/step - loss: 0.0316 - accuracy: 0.9883\n",
            "Epoch 101/120\n",
            "469/469 [==============================] - 6s 12ms/step - loss: 0.0384 - accuracy: 0.9870\n",
            "Epoch 102/120\n",
            "469/469 [==============================] - 6s 12ms/step - loss: 0.0188 - accuracy: 0.9935\n",
            "Epoch 103/120\n",
            "469/469 [==============================] - 6s 12ms/step - loss: 0.0228 - accuracy: 0.9921\n",
            "Epoch 104/120\n",
            "469/469 [==============================] - 6s 13ms/step - loss: 0.0222 - accuracy: 0.9919\n",
            "Epoch 105/120\n",
            "469/469 [==============================] - 6s 12ms/step - loss: 0.0254 - accuracy: 0.9912\n",
            "Epoch 106/120\n",
            "469/469 [==============================] - 6s 12ms/step - loss: 0.0418 - accuracy: 0.9852\n",
            "Epoch 107/120\n",
            "469/469 [==============================] - 6s 12ms/step - loss: 0.0165 - accuracy: 0.9939\n",
            "Epoch 108/120\n",
            "469/469 [==============================] - 6s 12ms/step - loss: 0.0376 - accuracy: 0.9874\n",
            "Epoch 109/120\n",
            "469/469 [==============================] - 6s 12ms/step - loss: 0.0237 - accuracy: 0.9914\n",
            "Epoch 110/120\n",
            "469/469 [==============================] - 6s 12ms/step - loss: 0.0139 - accuracy: 0.9953\n",
            "Epoch 111/120\n",
            "469/469 [==============================] - 6s 12ms/step - loss: 0.0258 - accuracy: 0.9910\n",
            "Epoch 112/120\n",
            "469/469 [==============================] - 6s 12ms/step - loss: 0.0331 - accuracy: 0.9887\n",
            "Epoch 113/120\n",
            "469/469 [==============================] - 6s 12ms/step - loss: 0.0308 - accuracy: 0.9890\n",
            "Epoch 114/120\n",
            "469/469 [==============================] - 6s 12ms/step - loss: 0.0190 - accuracy: 0.9933\n",
            "Epoch 115/120\n",
            "469/469 [==============================] - 6s 12ms/step - loss: 0.0247 - accuracy: 0.9912\n",
            "Epoch 116/120\n",
            "469/469 [==============================] - 6s 12ms/step - loss: 0.0202 - accuracy: 0.9927\n",
            "Epoch 117/120\n",
            "469/469 [==============================] - 6s 12ms/step - loss: 0.0316 - accuracy: 0.9887\n",
            "Epoch 118/120\n",
            "469/469 [==============================] - 6s 12ms/step - loss: 0.0226 - accuracy: 0.9922\n",
            "Epoch 119/120\n",
            "469/469 [==============================] - 6s 12ms/step - loss: 0.0252 - accuracy: 0.9911\n",
            "Epoch 120/120\n",
            "469/469 [==============================] - 6s 12ms/step - loss: 0.0199 - accuracy: 0.9933\n"
          ],
          "name": "stdout"
        }
      ]
    },
    {
      "cell_type": "code",
      "metadata": {
        "id": "X5L0t5dKFfMT"
      },
      "source": [
        "%reload_ext tensorboard\n",
        "%tensorboard --logdir=logs"
      ],
      "execution_count": null,
      "outputs": []
    },
    {
      "cell_type": "code",
      "metadata": {
        "id": "oxltxSp5jt5T",
        "colab": {
          "base_uri": "https://localhost:8080/"
        },
        "outputId": "c07876ba-6290-4710-e11f-e754d92ccf2c"
      },
      "source": [
        "test_loss, test_accuracy = model.evaluate(fmnist_test_ds, steps=math.ceil(len(test_labels)/32))\n",
        "print('Accuracy on test dataset:', test_accuracy)"
      ],
      "execution_count": 17,
      "outputs": [
        {
          "output_type": "stream",
          "text": [
            " 18/313 [>.............................] - ETA: 2s - loss: 0.8303 - accuracy: 0.8928WARNING:tensorflow:Your input ran out of data; interrupting training. Make sure that your dataset or generator can generate at least `steps_per_epoch * epochs` batches (in this case, 313 batches). You may need to use the repeat() function when building your dataset.\n",
            "313/313 [==============================] - 0s 598us/step - loss: 0.8351 - accuracy: 0.8923\n",
            "Accuracy on test dataset: 0.892300009727478\n"
          ],
          "name": "stdout"
        }
      ]
    },
    {
      "cell_type": "markdown",
      "metadata": {
        "id": "4EgXZCBNAzMs"
      },
      "source": [
        "## Task 5 Overfitting and regularisation\n",
        "\n",
        "*(weight ~30%)*\n",
        "\n",
        "Go back to the previous task. Plot the training and validation loss and accuracy. Answer the following questions:\n",
        "\n",
        "1. Do you see overfitting or underfitting? Why?\n",
        "2. If you see overfitting, at which epoch did it happen?\n",
        "\n",
        "Now retrain the model with only 200 training examples. (Make sure that you  reinitialise the weights before retraining.) Do you see overfitting? How did the validation loss and accuracy change?\n",
        "\n",
        "Neural networks are overparametrised models, meaning there can be more parameters than the training examples. Some form of regularisation is almost always necessary to obtain a useful model. Below are some options:\n",
        "\n",
        "1. Add dropout\n",
        "2. Add Batch Normalisation\n",
        "3. Add layer-specific weight regularizations\n",
        "4. Change the learning rate\n",
        "\n",
        "In addition, you may also try changing the weight initialisation method.\n",
        "\n",
        "Apply different regularisation techniques to the model training. You may also try other techniques for improving training such as learning rate scheduling (see https://www.tensorflow.org/guide/keras/train_and_evaluate#using_learning_rate_schedules).\n",
        "\n",
        "Run **five or more** experiments of different training configurations and record the validation accuracy achieved in the Markdown table below. You may modify the table heading to match your experiment design.\n"
      ]
    },
    {
      "cell_type": "code",
      "metadata": {
        "colab": {
          "base_uri": "https://localhost:8080/"
        },
        "id": "zPPqsZsQpY7o",
        "outputId": "7a6309e2-3f4d-446f-973f-af7c7d899b36"
      },
      "source": [
        "# training the model only on 200 images\n",
        "\n",
        "train_images_200 = train_images[:200]\n",
        "train_labels_200 = train_labels[:200]\n",
        "model.set_weights(init_weights)\n",
        "\n",
        "history = model.fit(train_images_200, \n",
        "                      train_labels_200, \n",
        "                      epochs=80, \n",
        "                      batch_size=32,\n",
        "                      callbacks=callbacks)\n",
        "\n",
        "test_loss, test_accuracy = model.evaluate(fmnist_test_ds, steps=math.ceil(len(test_labels)/32))\n",
        "print('Accuracy on test dataset after training on only 200 images: ', test_accuracy)"
      ],
      "execution_count": 18,
      "outputs": [
        {
          "output_type": "stream",
          "text": [
            "Epoch 1/100\n",
            "1/7 [===>..........................] - ETA: 0s - loss: 2.4094 - accuracy: 0.0000e+00"
          ],
          "name": "stdout"
        },
        {
          "output_type": "stream",
          "text": [
            "/usr/local/lib/python3.7/dist-packages/tensorflow/python/data/ops/dataset_ops.py:3504: UserWarning: Even though the tf.config.experimental_run_functions_eagerly option is set, this option does not apply to tf.data functions. tf.data functions are still traced and executed as graphs.\n",
            "  \"Even though the tf.config.experimental_run_functions_eagerly \"\n"
          ],
          "name": "stderr"
        },
        {
          "output_type": "stream",
          "text": [
            "7/7 [==============================] - 0s 75ms/step - loss: 2.1104 - accuracy: 0.2500\n",
            "Epoch 2/100\n",
            "7/7 [==============================] - 0s 12ms/step - loss: 1.2754 - accuracy: 0.5400\n",
            "Epoch 3/100\n",
            "7/7 [==============================] - 0s 13ms/step - loss: 0.9243 - accuracy: 0.6200\n",
            "Epoch 4/100\n",
            "7/7 [==============================] - 0s 12ms/step - loss: 0.6680 - accuracy: 0.7400\n",
            "Epoch 5/100\n",
            "7/7 [==============================] - 0s 12ms/step - loss: 0.6949 - accuracy: 0.7200\n",
            "Epoch 6/100\n",
            "7/7 [==============================] - 0s 13ms/step - loss: 0.5659 - accuracy: 0.8350\n",
            "Epoch 7/100\n",
            "7/7 [==============================] - 0s 12ms/step - loss: 0.4812 - accuracy: 0.8250\n",
            "Epoch 8/100\n",
            "7/7 [==============================] - 0s 12ms/step - loss: 0.3704 - accuracy: 0.8900\n",
            "Epoch 9/100\n",
            "7/7 [==============================] - 0s 12ms/step - loss: 0.4010 - accuracy: 0.8450\n",
            "Epoch 10/100\n",
            "7/7 [==============================] - 0s 13ms/step - loss: 0.3126 - accuracy: 0.9150\n",
            "Epoch 11/100\n",
            "7/7 [==============================] - 0s 12ms/step - loss: 0.1881 - accuracy: 0.9550\n",
            "Epoch 12/100\n",
            "7/7 [==============================] - 0s 13ms/step - loss: 0.1725 - accuracy: 0.9400\n",
            "Epoch 13/100\n",
            "7/7 [==============================] - 0s 12ms/step - loss: 0.1314 - accuracy: 0.9650\n",
            "Epoch 14/100\n",
            "7/7 [==============================] - 0s 14ms/step - loss: 0.0953 - accuracy: 0.9750\n",
            "Epoch 15/100\n",
            "7/7 [==============================] - 0s 12ms/step - loss: 0.0796 - accuracy: 0.9800\n",
            "Epoch 16/100\n",
            "7/7 [==============================] - 0s 12ms/step - loss: 0.1154 - accuracy: 0.9550\n",
            "Epoch 17/100\n",
            "7/7 [==============================] - 0s 12ms/step - loss: 0.1329 - accuracy: 0.9450\n",
            "Epoch 18/100\n",
            "7/7 [==============================] - 0s 14ms/step - loss: 0.1108 - accuracy: 0.9700\n",
            "Epoch 19/100\n",
            "7/7 [==============================] - 0s 12ms/step - loss: 0.0669 - accuracy: 0.9800\n",
            "Epoch 20/100\n",
            "7/7 [==============================] - 0s 13ms/step - loss: 0.0511 - accuracy: 0.9850\n",
            "Epoch 21/100\n",
            "7/7 [==============================] - 0s 13ms/step - loss: 0.0367 - accuracy: 0.9900\n",
            "Epoch 22/100\n",
            "7/7 [==============================] - 0s 12ms/step - loss: 0.0380 - accuracy: 1.0000\n",
            "Epoch 23/100\n",
            "7/7 [==============================] - 0s 12ms/step - loss: 0.0253 - accuracy: 0.9950\n",
            "Epoch 24/100\n",
            "7/7 [==============================] - 0s 12ms/step - loss: 0.0238 - accuracy: 0.9900\n",
            "Epoch 25/100\n",
            "7/7 [==============================] - 0s 12ms/step - loss: 0.0165 - accuracy: 1.0000\n",
            "Epoch 26/100\n",
            "7/7 [==============================] - 0s 13ms/step - loss: 0.0135 - accuracy: 1.0000\n",
            "Epoch 27/100\n",
            "7/7 [==============================] - 0s 14ms/step - loss: 0.0137 - accuracy: 1.0000\n",
            "Epoch 28/100\n",
            "7/7 [==============================] - 0s 12ms/step - loss: 0.0110 - accuracy: 1.0000\n",
            "Epoch 29/100\n",
            "7/7 [==============================] - 0s 13ms/step - loss: 0.0095 - accuracy: 1.0000\n",
            "Epoch 30/100\n",
            "7/7 [==============================] - 0s 18ms/step - loss: 0.0087 - accuracy: 1.0000\n",
            "Epoch 31/100\n",
            "7/7 [==============================] - 0s 13ms/step - loss: 0.0080 - accuracy: 1.0000\n",
            "Epoch 32/100\n",
            "7/7 [==============================] - 0s 12ms/step - loss: 0.0074 - accuracy: 1.0000\n",
            "Epoch 33/100\n",
            "7/7 [==============================] - 0s 12ms/step - loss: 0.0070 - accuracy: 1.0000\n",
            "Epoch 34/100\n",
            "7/7 [==============================] - 0s 12ms/step - loss: 0.0064 - accuracy: 1.0000\n",
            "Epoch 35/100\n",
            "7/7 [==============================] - 0s 12ms/step - loss: 0.0062 - accuracy: 1.0000\n",
            "Epoch 36/100\n",
            "7/7 [==============================] - 0s 12ms/step - loss: 0.0058 - accuracy: 1.0000\n",
            "Epoch 37/100\n",
            "7/7 [==============================] - 0s 13ms/step - loss: 0.0053 - accuracy: 1.0000\n",
            "Epoch 38/100\n",
            "7/7 [==============================] - 0s 12ms/step - loss: 0.0050 - accuracy: 1.0000\n",
            "Epoch 39/100\n",
            "7/7 [==============================] - 0s 11ms/step - loss: 0.0047 - accuracy: 1.0000\n",
            "Epoch 40/100\n",
            "7/7 [==============================] - 0s 12ms/step - loss: 0.0045 - accuracy: 1.0000\n",
            "Epoch 41/100\n",
            "7/7 [==============================] - 0s 12ms/step - loss: 0.0044 - accuracy: 1.0000\n",
            "Epoch 42/100\n",
            "7/7 [==============================] - 0s 12ms/step - loss: 0.0043 - accuracy: 1.0000\n",
            "Epoch 43/100\n",
            "7/7 [==============================] - 0s 12ms/step - loss: 0.0041 - accuracy: 1.0000\n",
            "Epoch 44/100\n",
            "7/7 [==============================] - 0s 12ms/step - loss: 0.0038 - accuracy: 1.0000\n",
            "Epoch 45/100\n",
            "7/7 [==============================] - 0s 12ms/step - loss: 0.0035 - accuracy: 1.0000\n",
            "Epoch 46/100\n",
            "7/7 [==============================] - 0s 12ms/step - loss: 0.0034 - accuracy: 1.0000\n",
            "Epoch 47/100\n",
            "7/7 [==============================] - 0s 12ms/step - loss: 0.0032 - accuracy: 1.0000\n",
            "Epoch 48/100\n",
            "7/7 [==============================] - 0s 12ms/step - loss: 0.0031 - accuracy: 1.0000\n",
            "Epoch 49/100\n",
            "7/7 [==============================] - 0s 12ms/step - loss: 0.0029 - accuracy: 1.0000\n",
            "Epoch 50/100\n",
            "7/7 [==============================] - 0s 12ms/step - loss: 0.0028 - accuracy: 1.0000\n",
            "Epoch 51/100\n",
            "7/7 [==============================] - 0s 14ms/step - loss: 0.0027 - accuracy: 1.0000\n",
            "Epoch 52/100\n",
            "7/7 [==============================] - 0s 13ms/step - loss: 0.0026 - accuracy: 1.0000\n",
            "Epoch 53/100\n",
            "7/7 [==============================] - 0s 12ms/step - loss: 0.0025 - accuracy: 1.0000\n",
            "Epoch 54/100\n",
            "7/7 [==============================] - 0s 12ms/step - loss: 0.0024 - accuracy: 1.0000\n",
            "Epoch 55/100\n",
            "7/7 [==============================] - 0s 12ms/step - loss: 0.0024 - accuracy: 1.0000\n",
            "Epoch 56/100\n",
            "7/7 [==============================] - 0s 13ms/step - loss: 0.0023 - accuracy: 1.0000\n",
            "Epoch 57/100\n",
            "7/7 [==============================] - 0s 12ms/step - loss: 0.0022 - accuracy: 1.0000\n",
            "Epoch 58/100\n",
            "7/7 [==============================] - 0s 12ms/step - loss: 0.0021 - accuracy: 1.0000\n",
            "Epoch 59/100\n",
            "7/7 [==============================] - 0s 12ms/step - loss: 0.0021 - accuracy: 1.0000\n",
            "Epoch 60/100\n",
            "7/7 [==============================] - 0s 12ms/step - loss: 0.0020 - accuracy: 1.0000\n",
            "Epoch 61/100\n",
            "7/7 [==============================] - 0s 12ms/step - loss: 0.0020 - accuracy: 1.0000\n",
            "Epoch 62/100\n",
            "7/7 [==============================] - 0s 12ms/step - loss: 0.0019 - accuracy: 1.0000\n",
            "Epoch 63/100\n",
            "7/7 [==============================] - 0s 14ms/step - loss: 0.0019 - accuracy: 1.0000\n",
            "Epoch 64/100\n",
            "7/7 [==============================] - 0s 12ms/step - loss: 0.0018 - accuracy: 1.0000\n",
            "Epoch 65/100\n",
            "7/7 [==============================] - 0s 12ms/step - loss: 0.0017 - accuracy: 1.0000\n",
            "Epoch 66/100\n",
            "7/7 [==============================] - 0s 12ms/step - loss: 0.0017 - accuracy: 1.0000\n",
            "Epoch 67/100\n",
            "7/7 [==============================] - 0s 12ms/step - loss: 0.0017 - accuracy: 1.0000\n",
            "Epoch 68/100\n",
            "7/7 [==============================] - 0s 12ms/step - loss: 0.0016 - accuracy: 1.0000\n",
            "Epoch 69/100\n",
            "7/7 [==============================] - 0s 11ms/step - loss: 0.0016 - accuracy: 1.0000\n",
            "Epoch 70/100\n",
            "7/7 [==============================] - 0s 12ms/step - loss: 0.0015 - accuracy: 1.0000\n",
            "Epoch 71/100\n",
            "7/7 [==============================] - 0s 12ms/step - loss: 0.0015 - accuracy: 1.0000\n",
            "Epoch 72/100\n",
            "7/7 [==============================] - 0s 12ms/step - loss: 0.0015 - accuracy: 1.0000\n",
            "Epoch 73/100\n",
            "7/7 [==============================] - 0s 12ms/step - loss: 0.0014 - accuracy: 1.0000\n",
            "Epoch 74/100\n",
            "7/7 [==============================] - 0s 21ms/step - loss: 0.0014 - accuracy: 1.0000\n",
            "Epoch 75/100\n",
            "7/7 [==============================] - 0s 12ms/step - loss: 0.0014 - accuracy: 1.0000\n",
            "Epoch 76/100\n",
            "7/7 [==============================] - 0s 12ms/step - loss: 0.0013 - accuracy: 1.0000\n",
            "Epoch 77/100\n",
            "7/7 [==============================] - 0s 12ms/step - loss: 0.0013 - accuracy: 1.0000\n",
            "Epoch 78/100\n",
            "7/7 [==============================] - 0s 12ms/step - loss: 0.0013 - accuracy: 1.0000\n",
            "Epoch 79/100\n",
            "7/7 [==============================] - 0s 12ms/step - loss: 0.0012 - accuracy: 1.0000\n",
            "Epoch 80/100\n",
            "7/7 [==============================] - 0s 14ms/step - loss: 0.0012 - accuracy: 1.0000\n",
            "Epoch 81/100\n",
            "7/7 [==============================] - 0s 12ms/step - loss: 0.0012 - accuracy: 1.0000\n",
            "Epoch 82/100\n",
            "7/7 [==============================] - 0s 12ms/step - loss: 0.0012 - accuracy: 1.0000\n",
            "Epoch 83/100\n",
            "7/7 [==============================] - 0s 12ms/step - loss: 0.0012 - accuracy: 1.0000\n",
            "Epoch 84/100\n",
            "7/7 [==============================] - 0s 12ms/step - loss: 0.0011 - accuracy: 1.0000\n",
            "Epoch 85/100\n",
            "7/7 [==============================] - 0s 12ms/step - loss: 0.0011 - accuracy: 1.0000\n",
            "Epoch 86/100\n",
            "7/7 [==============================] - 0s 12ms/step - loss: 0.0011 - accuracy: 1.0000\n",
            "Epoch 87/100\n",
            "7/7 [==============================] - 0s 12ms/step - loss: 0.0011 - accuracy: 1.0000\n",
            "Epoch 88/100\n",
            "7/7 [==============================] - 0s 12ms/step - loss: 0.0010 - accuracy: 1.0000\n",
            "Epoch 89/100\n",
            "7/7 [==============================] - 0s 14ms/step - loss: 0.0010 - accuracy: 1.0000\n",
            "Epoch 90/100\n",
            "7/7 [==============================] - 0s 14ms/step - loss: 0.0010 - accuracy: 1.0000\n",
            "Epoch 91/100\n",
            "7/7 [==============================] - 0s 14ms/step - loss: 9.8931e-04 - accuracy: 1.0000\n",
            "Epoch 92/100\n",
            "7/7 [==============================] - 0s 13ms/step - loss: 9.7320e-04 - accuracy: 1.0000\n",
            "Epoch 93/100\n",
            "7/7 [==============================] - 0s 13ms/step - loss: 9.5943e-04 - accuracy: 1.0000\n",
            "Epoch 94/100\n",
            "7/7 [==============================] - 0s 13ms/step - loss: 9.5050e-04 - accuracy: 1.0000\n",
            "Epoch 95/100\n",
            "7/7 [==============================] - 0s 13ms/step - loss: 9.3085e-04 - accuracy: 1.0000\n",
            "Epoch 96/100\n",
            "7/7 [==============================] - 0s 12ms/step - loss: 9.1645e-04 - accuracy: 1.0000\n",
            "Epoch 97/100\n",
            "7/7 [==============================] - 0s 13ms/step - loss: 8.9449e-04 - accuracy: 1.0000\n",
            "Epoch 98/100\n",
            "7/7 [==============================] - 0s 13ms/step - loss: 8.7491e-04 - accuracy: 1.0000\n",
            "Epoch 99/100\n",
            "7/7 [==============================] - 0s 12ms/step - loss: 8.5754e-04 - accuracy: 1.0000\n",
            "Epoch 100/100\n",
            "7/7 [==============================] - 0s 13ms/step - loss: 8.5217e-04 - accuracy: 1.0000\n",
            " 16/313 [>.............................] - ETA: 3s - loss: 1.2533 - accuracy: 0.7542WARNING:tensorflow:Your input ran out of data; interrupting training. Make sure that your dataset or generator can generate at least `steps_per_epoch * epochs` batches (in this case, 313 batches). You may need to use the repeat() function when building your dataset.\n",
            "313/313 [==============================] - 0s 652us/step - loss: 1.2652 - accuracy: 0.7540\n",
            "Accuracy on test dataset after training on only 200 images:  0.7540000081062317\n"
          ],
          "name": "stdout"
        }
      ]
    },
    {
      "cell_type": "code",
      "metadata": {
        "id": "ojtjPPs7Imk1"
      },
      "source": [
        "# adding dropout, batch normalisation, changing the learning rate\n",
        "\n",
        "from keras.layers import Dropout\n",
        "from keras.layers import Activation\n",
        "from keras.regularizers import l2\n",
        "from keras.optimizers import SGD\n",
        "from keras.optimizers import RMSprop\n",
        "import pandas as pd\n",
        "import matplotlib.pyplot as plt\n",
        "\n",
        "\n",
        "\n",
        "def optimiser_sgd(learning_rate):\n",
        "  learning_rate = learning_rate\n",
        "  decay_rate = learning_rate / 50\n",
        "  momentum = 0.8\n",
        "\n",
        "  sgd = SGD(lr=learning_rate, momentum=momentum, decay=decay_rate, nesterov=False)\n",
        "  return sgd"
      ],
      "execution_count": 22,
      "outputs": []
    },
    {
      "cell_type": "code",
      "metadata": {
        "id": "j2yr3voBJv2Y"
      },
      "source": [
        "model_s = tf.keras.Sequential([\n",
        "    tf.keras.layers.Flatten(input_shape=(28, 28, 1)),\n",
        "    tf.keras.layers.Dense(128, activation=tf.nn.relu),\n",
        "    tf.keras.layers.Dropout(0.1),\n",
        "    tf.keras.layers.Dense(256, activation=tf.nn.relu),\n",
        "    tf.keras.layers.Dense(10, activation=tf.nn.softmax)\n",
        "])"
      ],
      "execution_count": 23,
      "outputs": []
    },
    {
      "cell_type": "code",
      "metadata": {
        "id": "TuRPVveRJv5e",
        "colab": {
          "base_uri": "https://localhost:8080/"
        },
        "outputId": "6b8dd1c7-6b1c-4139-f76b-f4bd024ad4ee"
      },
      "source": [
        "learning_rates = [0.1, 0.01, 0.001, 0.002, 0.02]\n",
        "dropouts = [0.1, 0.2, 0.25, 0.3, 0.15]\n",
        "\n",
        "for i in range(0, 5):\n",
        "  for j in range(0, 5):\n",
        "    \n",
        "    model_s = tf.keras.Sequential([\n",
        "      tf.keras.layers.Flatten(input_shape=(28, 28, 1)),\n",
        "      tf.keras.layers.Dense(128, activation=tf.nn.relu),\n",
        "      tf.keras.layers.Dropout(dropouts[i]),\n",
        "      tf.keras.layers.Dense(256, activation=tf.nn.relu),\n",
        "      tf.keras.layers.Dense(10, activation=tf.nn.softmax)\n",
        "    ])\n",
        "    model_s.compile(optimizer=optimiser_sgd(learning_rates[j]),\n",
        "                loss=tf.keras.losses.SparseCategoricalCrossentropy(),\n",
        "                metrics=['accuracy'])\n",
        "    history = model_s.fit(fmnist_train,\n",
        "      validation_data=fmnist_val, \n",
        "                        epochs=250, \n",
        "                        batch_size=128)\n",
        "    pd.DataFrame(history.history).plot(figsize=(12, 7))\n",
        "    plt.grid(True)\n",
        "    plt.gca().set_ylim(0, 1)\n",
        "    plt.title(\"Learning rate: \"+str(learning_rates[j])+\" Dropout: \"+str(dropouts[i]))\n",
        "    plt.show()\n",
        "    test_loss, test_accuracy = model_s.evaluate(fmnist_test_ds)\n",
        "    print('Accuracy on test dataset for:', test_accuracy, \"Learning rate: \"+str(learning_rates[j])+\" Dropout: \"+str(dropouts[i]))\n",
        "\n"
      ],
      "execution_count": null,
      "outputs": [
        {
          "output_type": "stream",
          "text": [
            "Epoch 1/250\n",
            "118/118 [==============================] - 3s 24ms/step - loss: 1.0333 - accuracy: 0.6439\n",
            "Epoch 2/250\n",
            "118/118 [==============================] - 3s 24ms/step - loss: 0.4793 - accuracy: 0.8289\n",
            "Epoch 3/250\n",
            "118/118 [==============================] - 3s 24ms/step - loss: 0.4047 - accuracy: 0.8551\n",
            "Epoch 4/250\n",
            "118/118 [==============================] - 3s 24ms/step - loss: 0.3815 - accuracy: 0.8629\n",
            "Epoch 5/250\n",
            "118/118 [==============================] - 3s 24ms/step - loss: 0.3637 - accuracy: 0.8672\n",
            "Epoch 6/250\n",
            "118/118 [==============================] - 3s 24ms/step - loss: 0.3481 - accuracy: 0.8750\n",
            "Epoch 7/250\n",
            "118/118 [==============================] - 3s 24ms/step - loss: 0.3345 - accuracy: 0.8789\n",
            "Epoch 8/250\n",
            "118/118 [==============================] - 3s 23ms/step - loss: 0.3334 - accuracy: 0.8766\n",
            "Epoch 9/250\n",
            "118/118 [==============================] - 3s 24ms/step - loss: 0.3215 - accuracy: 0.8848\n",
            "Epoch 10/250\n",
            "118/118 [==============================] - 3s 24ms/step - loss: 0.3122 - accuracy: 0.8858\n",
            "Epoch 11/250\n",
            "118/118 [==============================] - 3s 24ms/step - loss: 0.3101 - accuracy: 0.8865\n",
            "Epoch 12/250\n",
            "118/118 [==============================] - 3s 24ms/step - loss: 0.3042 - accuracy: 0.8888\n",
            "Epoch 13/250\n",
            "118/118 [==============================] - 3s 24ms/step - loss: 0.2998 - accuracy: 0.8918\n",
            "Epoch 14/250\n",
            "118/118 [==============================] - 3s 24ms/step - loss: 0.2952 - accuracy: 0.8922\n",
            "Epoch 15/250\n",
            "118/118 [==============================] - 3s 24ms/step - loss: 0.2902 - accuracy: 0.8947\n",
            "Epoch 16/250\n",
            "118/118 [==============================] - 3s 24ms/step - loss: 0.2877 - accuracy: 0.8953\n",
            "Epoch 17/250\n",
            "118/118 [==============================] - 3s 24ms/step - loss: 0.2844 - accuracy: 0.8954\n",
            "Epoch 18/250\n",
            "118/118 [==============================] - 3s 24ms/step - loss: 0.2833 - accuracy: 0.8969\n",
            "Epoch 19/250\n",
            "118/118 [==============================] - 3s 24ms/step - loss: 0.2798 - accuracy: 0.8970\n",
            "Epoch 20/250\n",
            "118/118 [==============================] - 3s 23ms/step - loss: 0.2769 - accuracy: 0.8989\n",
            "Epoch 21/250\n",
            "118/118 [==============================] - 3s 23ms/step - loss: 0.2760 - accuracy: 0.9000\n",
            "Epoch 22/250\n",
            "118/118 [==============================] - 3s 23ms/step - loss: 0.2718 - accuracy: 0.9013\n",
            "Epoch 23/250\n",
            "118/118 [==============================] - 3s 24ms/step - loss: 0.2698 - accuracy: 0.9007\n",
            "Epoch 24/250\n",
            "118/118 [==============================] - 3s 23ms/step - loss: 0.2685 - accuracy: 0.9017\n",
            "Epoch 25/250\n",
            "118/118 [==============================] - 3s 23ms/step - loss: 0.2670 - accuracy: 0.9026\n",
            "Epoch 26/250\n",
            "118/118 [==============================] - 3s 24ms/step - loss: 0.2666 - accuracy: 0.9032\n",
            "Epoch 27/250\n",
            "118/118 [==============================] - 3s 24ms/step - loss: 0.2627 - accuracy: 0.9031\n",
            "Epoch 28/250\n",
            "118/118 [==============================] - 3s 24ms/step - loss: 0.2618 - accuracy: 0.9041\n",
            "Epoch 29/250\n",
            "118/118 [==============================] - 3s 24ms/step - loss: 0.2576 - accuracy: 0.9053\n",
            "Epoch 30/250\n",
            "118/118 [==============================] - 3s 24ms/step - loss: 0.2568 - accuracy: 0.9065\n",
            "Epoch 31/250\n",
            "118/118 [==============================] - 3s 23ms/step - loss: 0.2571 - accuracy: 0.9055\n",
            "Epoch 32/250\n",
            "118/118 [==============================] - 3s 24ms/step - loss: 0.2568 - accuracy: 0.9068\n",
            "Epoch 33/250\n",
            "118/118 [==============================] - 3s 24ms/step - loss: 0.2525 - accuracy: 0.9070\n",
            "Epoch 34/250\n",
            "118/118 [==============================] - 3s 23ms/step - loss: 0.2522 - accuracy: 0.9080\n",
            "Epoch 35/250\n",
            "118/118 [==============================] - 3s 24ms/step - loss: 0.2487 - accuracy: 0.9084\n",
            "Epoch 36/250\n",
            "118/118 [==============================] - 3s 23ms/step - loss: 0.2477 - accuracy: 0.9087\n",
            "Epoch 37/250\n",
            "118/118 [==============================] - 3s 24ms/step - loss: 0.2465 - accuracy: 0.9115\n",
            "Epoch 38/250\n",
            "118/118 [==============================] - 3s 24ms/step - loss: 0.2480 - accuracy: 0.9097\n",
            "Epoch 39/250\n",
            "118/118 [==============================] - 3s 24ms/step - loss: 0.2444 - accuracy: 0.9100\n",
            "Epoch 40/250\n",
            "118/118 [==============================] - 3s 24ms/step - loss: 0.2434 - accuracy: 0.9107\n",
            "Epoch 41/250\n",
            "118/118 [==============================] - 3s 24ms/step - loss: 0.2439 - accuracy: 0.9126\n",
            "Epoch 42/250\n",
            "118/118 [==============================] - 3s 23ms/step - loss: 0.2424 - accuracy: 0.9111\n",
            "Epoch 43/250\n",
            "118/118 [==============================] - 3s 24ms/step - loss: 0.2408 - accuracy: 0.9129\n",
            "Epoch 44/250\n",
            "118/118 [==============================] - 3s 24ms/step - loss: 0.2382 - accuracy: 0.9124\n",
            "Epoch 45/250\n",
            "118/118 [==============================] - 3s 24ms/step - loss: 0.2371 - accuracy: 0.9129\n",
            "Epoch 46/250\n",
            "118/118 [==============================] - 3s 24ms/step - loss: 0.2355 - accuracy: 0.9134\n",
            "Epoch 47/250\n",
            "118/118 [==============================] - 3s 24ms/step - loss: 0.2368 - accuracy: 0.9144\n",
            "Epoch 48/250\n",
            "118/118 [==============================] - 3s 24ms/step - loss: 0.2383 - accuracy: 0.9139\n",
            "Epoch 49/250\n",
            "118/118 [==============================] - 3s 24ms/step - loss: 0.2342 - accuracy: 0.9154\n",
            "Epoch 50/250\n",
            "118/118 [==============================] - 3s 24ms/step - loss: 0.2366 - accuracy: 0.9140\n",
            "Epoch 51/250\n",
            "118/118 [==============================] - 3s 24ms/step - loss: 0.2329 - accuracy: 0.9163\n",
            "Epoch 52/250\n",
            "118/118 [==============================] - 3s 24ms/step - loss: 0.2319 - accuracy: 0.9163\n",
            "Epoch 53/250\n",
            "118/118 [==============================] - 3s 24ms/step - loss: 0.2314 - accuracy: 0.9142\n",
            "Epoch 54/250\n",
            "118/118 [==============================] - 3s 24ms/step - loss: 0.2330 - accuracy: 0.9155\n",
            "Epoch 55/250\n",
            "118/118 [==============================] - 3s 24ms/step - loss: 0.2312 - accuracy: 0.9150\n",
            "Epoch 56/250\n",
            "118/118 [==============================] - 3s 24ms/step - loss: 0.2294 - accuracy: 0.9164\n",
            "Epoch 57/250\n",
            "118/118 [==============================] - 3s 24ms/step - loss: 0.2309 - accuracy: 0.9157\n",
            "Epoch 58/250\n",
            "118/118 [==============================] - 3s 25ms/step - loss: 0.2299 - accuracy: 0.9166\n",
            "Epoch 59/250\n",
            "118/118 [==============================] - 3s 24ms/step - loss: 0.2293 - accuracy: 0.9163\n",
            "Epoch 60/250\n",
            "118/118 [==============================] - 3s 24ms/step - loss: 0.2271 - accuracy: 0.9171\n",
            "Epoch 61/250\n",
            "118/118 [==============================] - 3s 24ms/step - loss: 0.2260 - accuracy: 0.9170\n",
            "Epoch 62/250\n",
            "118/118 [==============================] - 3s 24ms/step - loss: 0.2268 - accuracy: 0.9179\n",
            "Epoch 63/250\n",
            "118/118 [==============================] - 3s 24ms/step - loss: 0.2268 - accuracy: 0.9185\n",
            "Epoch 64/250\n",
            "118/118 [==============================] - 3s 24ms/step - loss: 0.2237 - accuracy: 0.9186\n",
            "Epoch 65/250\n",
            "118/118 [==============================] - 3s 24ms/step - loss: 0.2234 - accuracy: 0.9187\n",
            "Epoch 66/250\n",
            "118/118 [==============================] - 3s 24ms/step - loss: 0.2240 - accuracy: 0.9203\n",
            "Epoch 67/250\n",
            "118/118 [==============================] - 3s 24ms/step - loss: 0.2245 - accuracy: 0.9194\n",
            "Epoch 68/250\n",
            "118/118 [==============================] - 3s 24ms/step - loss: 0.2217 - accuracy: 0.9199\n",
            "Epoch 69/250\n",
            "118/118 [==============================] - 3s 24ms/step - loss: 0.2242 - accuracy: 0.9180\n",
            "Epoch 70/250\n",
            "118/118 [==============================] - 3s 24ms/step - loss: 0.2199 - accuracy: 0.9201\n",
            "Epoch 71/250\n",
            "118/118 [==============================] - 3s 24ms/step - loss: 0.2231 - accuracy: 0.9191\n",
            "Epoch 72/250\n",
            "118/118 [==============================] - 3s 24ms/step - loss: 0.2223 - accuracy: 0.9192\n",
            "Epoch 73/250\n",
            "118/118 [==============================] - 3s 23ms/step - loss: 0.2212 - accuracy: 0.9189\n",
            "Epoch 74/250\n",
            "118/118 [==============================] - 3s 24ms/step - loss: 0.2208 - accuracy: 0.9191\n",
            "Epoch 75/250\n",
            "118/118 [==============================] - 3s 25ms/step - loss: 0.2183 - accuracy: 0.9207\n",
            "Epoch 76/250\n",
            "118/118 [==============================] - 3s 24ms/step - loss: 0.2187 - accuracy: 0.9203\n",
            "Epoch 77/250\n",
            "118/118 [==============================] - 3s 24ms/step - loss: 0.2204 - accuracy: 0.9200\n",
            "Epoch 78/250\n",
            "118/118 [==============================] - 3s 24ms/step - loss: 0.2164 - accuracy: 0.9200\n",
            "Epoch 79/250\n",
            "118/118 [==============================] - 3s 24ms/step - loss: 0.2174 - accuracy: 0.9225\n",
            "Epoch 80/250\n",
            "118/118 [==============================] - 3s 25ms/step - loss: 0.2142 - accuracy: 0.9219\n",
            "Epoch 81/250\n",
            "118/118 [==============================] - 3s 24ms/step - loss: 0.2178 - accuracy: 0.9215\n",
            "Epoch 82/250\n",
            "118/118 [==============================] - 3s 24ms/step - loss: 0.2139 - accuracy: 0.9221\n",
            "Epoch 83/250\n",
            "118/118 [==============================] - 3s 24ms/step - loss: 0.2161 - accuracy: 0.9224\n",
            "Epoch 84/250\n",
            "118/118 [==============================] - 3s 23ms/step - loss: 0.2142 - accuracy: 0.9217\n",
            "Epoch 85/250\n",
            "118/118 [==============================] - 3s 24ms/step - loss: 0.2148 - accuracy: 0.9223\n",
            "Epoch 86/250\n",
            "118/118 [==============================] - 3s 24ms/step - loss: 0.2130 - accuracy: 0.9228\n",
            "Epoch 87/250\n",
            "118/118 [==============================] - 3s 24ms/step - loss: 0.2132 - accuracy: 0.9227\n",
            "Epoch 88/250\n",
            "118/118 [==============================] - 3s 24ms/step - loss: 0.2126 - accuracy: 0.9215\n",
            "Epoch 89/250\n",
            "118/118 [==============================] - 3s 24ms/step - loss: 0.2125 - accuracy: 0.9228\n",
            "Epoch 90/250\n",
            "118/118 [==============================] - 3s 24ms/step - loss: 0.2095 - accuracy: 0.9250\n",
            "Epoch 91/250\n",
            "118/118 [==============================] - 3s 24ms/step - loss: 0.2097 - accuracy: 0.9238\n",
            "Epoch 92/250\n",
            "118/118 [==============================] - 3s 24ms/step - loss: 0.2099 - accuracy: 0.9245\n",
            "Epoch 93/250\n",
            "118/118 [==============================] - 3s 24ms/step - loss: 0.2122 - accuracy: 0.9220\n",
            "Epoch 94/250\n",
            "118/118 [==============================] - 3s 24ms/step - loss: 0.2100 - accuracy: 0.9230\n",
            "Epoch 95/250\n",
            "118/118 [==============================] - 3s 23ms/step - loss: 0.2066 - accuracy: 0.9259\n",
            "Epoch 96/250\n",
            "118/118 [==============================] - 3s 24ms/step - loss: 0.2081 - accuracy: 0.9251\n",
            "Epoch 97/250\n",
            "118/118 [==============================] - 3s 24ms/step - loss: 0.2073 - accuracy: 0.9239\n",
            "Epoch 98/250\n",
            "100/118 [========================>.....] - ETA: 0s - loss: 0.2101 - accuracy: 0.9239"
          ],
          "name": "stdout"
        }
      ]
    },
    {
      "cell_type": "code",
      "metadata": {
        "id": "HnkmXXbglGqU"
      },
      "source": [
        "from keras.callbacks import LearningRateScheduler\n",
        "from keras.callbacks import History\n",
        "decay_rate = 0.001\n",
        "def exp_decay(epoch):\n",
        "    lrate = learning_rate * np.exp(-decay_rate*epoch)\n",
        "    return lrate\n",
        "    \n",
        "# learning schedule callback\n",
        "loss_history = History()\n",
        "lr_rate = LearningRateScheduler(exp_decay)\n",
        "callbacks_list = [loss_history, lr_rate]"
      ],
      "execution_count": null,
      "outputs": []
    },
    {
      "cell_type": "code",
      "metadata": {
        "id": "nujfQsaIllMj"
      },
      "source": [
        "from keras.layers.normalization import BatchNormalization\n",
        "from keras.regularizers import l2\n",
        "\n",
        "model_d = tf.keras.Sequential([\n",
        "    tf.keras.layers.Flatten(input_shape=(28, 28, 1)),\n",
        "    tf.keras.layers.Dense(128, kernel_regularizer=l2(0.01), bias_regularizer=l2(0.01), activation=tf.nn.relu),\n",
        "    tf.keras.layers.BatchNormalization(),\n",
        "    tf.keras.layers.Dropout(0.1),\n",
        "    tf.keras.layers.Dense(256, kernel_regularizer=l2(0.001), bias_regularizer=l2(0.0002), activation=tf.nn.relu),\n",
        "    tf.keras.layers.Dense(10, activation=tf.nn.softmax)\n",
        "])"
      ],
      "execution_count": null,
      "outputs": []
    },
    {
      "cell_type": "code",
      "metadata": {
        "id": "TPGHTdQ3lq19"
      },
      "source": [
        "model_d.compile(optimizer=optimiser_sgd(0.001),\n",
        "              loss=tf.keras.losses.SparseCategoricalCrossentropy(),\n",
        "              metrics=['accuracy'])"
      ],
      "execution_count": null,
      "outputs": []
    },
    {
      "cell_type": "code",
      "metadata": {
        "id": "qtFIaSl0lMY7"
      },
      "source": [
        "regularised_layers_model_history = model_d.fit(fmnist_train,\n",
        "                                    validation_data=fmnist_val,\n",
        "                                    batch_size=128,\n",
        "                                    epochs=100)\n",
        "\n",
        "pd.DataFrame(regularised_layers_model_history.history).plot(figsize=(12, 7))\n",
        "    plt.grid(True)\n",
        "    plt.gca().set_ylim(0, 1)\n",
        "    plt.title(\"Layer specific weight regularisations\")\n",
        "    plt.show()"
      ],
      "execution_count": null,
      "outputs": []
    },
    {
      "cell_type": "code",
      "metadata": {
        "id": "c_HztzAhmxcl"
      },
      "source": [
        "test_loss, test_accuracy = model_d.evaluate(fmnist_test_ds, steps=math.ceil(len(test_labels)/32))\n",
        "print('Accuracy on test dataset after layer specific weight regularisation:', test_accuracy)"
      ],
      "execution_count": null,
      "outputs": []
    },
    {
      "cell_type": "markdown",
      "metadata": {
        "id": "d1LRIBrEgu92"
      },
      "source": [
        "\n",
        "|Dropout (rate)   | Batch Normalisation (Y/N)  | Optimiser  | Learning Rate  | Number of Epochs   |  Validation Accuracy |\n",
        "|---|---|---|---|---|---|\n",
        "| 0.1  |  Y |  SGD | 0.1  | 200  |  0.9327 |\n",
        "| 0.15  |  Y |  SGD |  0.01 |  200 | 0.9138  |\n",
        "|  0.3 | Y  |  SGD |  0.002 |  200 | 0.8722  |\n",
        "| 0.25  |  Y |  SGD | 0.001  | 200  |  0.8598 |\n",
        "| 0.2  |  Y |  SGD | 0.15 | 200  |  0.9185 |\n",
        "\n"
      ]
    },
    {
      "cell_type": "markdown",
      "metadata": {
        "id": "dLjJA98Qgxg5"
      },
      "source": [
        "\n",
        "Answer the following questions:\n",
        "\n",
        "1. Which configuration achieved the best validation accuracy? Report the test accuracy of your final model.\n",
        "2. Which setting had the most impact and which one had the least impact?"
      ]
    },
    {
      "cell_type": "markdown",
      "metadata": {
        "id": "UgzZh0jN5ULb"
      },
      "source": [
        "## Task 6 Generate HTML output\n",
        "\n",
        "Use *nbconvert* to convert your completed notebook into an HTML file and name it **[YourID]_assingment1_output.html**."
      ]
    },
    {
      "cell_type": "code",
      "metadata": {
        "id": "Qn6n1hIcyMVG"
      },
      "source": [
        "!apt-get update\n",
        "!apt-get install texlive texlive-xetex texlive-latex-extra pandoc --fix-missing\n",
        "!pip install pypandoc"
      ],
      "execution_count": null,
      "outputs": []
    },
    {
      "cell_type": "code",
      "metadata": {
        "id": "XYnrANKFyMYm"
      },
      "source": [
        "!cp drive/MyDrive/Colab_Notebooks/Maze.ipynb ./"
      ],
      "execution_count": null,
      "outputs": []
    },
    {
      "cell_type": "code",
      "metadata": {
        "id": "D2tAsyR2yMcQ"
      },
      "source": [
        "!jupyter nbconvert --to PDF \"Maze.ipynb\""
      ],
      "execution_count": null,
      "outputs": []
    },
    {
      "cell_type": "markdown",
      "metadata": {
        "id": "cWbr7jjEAzNb"
      },
      "source": [
        "---\n",
        "**END OF ASSIGNMENT ONE**\n",
        "\n"
      ]
    }
  ]
}