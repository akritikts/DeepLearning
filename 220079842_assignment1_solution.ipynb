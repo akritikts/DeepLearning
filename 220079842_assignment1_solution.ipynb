{
  "nbformat": 4,
  "nbformat_minor": 0,
  "metadata": {
    "file_extension": ".py",
    "kernelspec": {
      "name": "python3",
      "display_name": "Python 3"
    },
    "language_info": {
      "codemirror_mode": {
        "name": "ipython",
        "version": 3
      },
      "file_extension": ".py",
      "mimetype": "text/x-python",
      "name": "python",
      "nbconvert_exporter": "python",
      "pygments_lexer": "ipython3",
      "version": "3.7.6"
    },
    "mimetype": "text/x-python",
    "name": "python",
    "npconvert_exporter": "python",
    "pygments_lexer": "ipython3",
    "version": 3,
    "colab": {
      "name": "220079842_assignment1_solution.ipynb",
      "provenance": [],
      "collapsed_sections": []
    },
    "accelerator": "GPU"
  },
  "cells": [
    {
      "cell_type": "markdown",
      "metadata": {
        "id": "v81NrNYlAzIm"
      },
      "source": [
        "# SIT744 Assignment 1: Image Classification with Deep Feedforward Neural Network\n",
        "\n",
        "<div class=\"alert-info\">\n",
        "    <p>Due: <strong>8:00 pm (AEST) 19 April 2021</strong>  (Monday)</p>\n",
        "\n",
        "\n",
        "This is an <strong>individual</strong> assignment. It contributes <strong>30%</strong> to your final mark. Read the assignment instruction carefully.\n",
        "\n",
        "<h2> What to submit </h2>\n",
        "\n",
        "<p>\n",
        "This assignment is to be completed individually and submitted to CloudDeakin. <strong>By the due date, you are required to submit the following files to the corresponding Assignment (Dropbox) in CloudDeakin</strong>:\n",
        "\n",
        "<ol>\n",
        "<li>\t<strong>[YourID]_assignment1_solution.ipynp</strong>:  This is your Python notebook solution source file. </li>\n",
        "<li>\t<strong>[YourID]_assingment1_output.html</strong>: This is the output of your Python notebook solution <emph>exported</emph> in HTML format.</li>\n",
        "<li>\tExtra files needed to complete your assignment, if any (e.g., images used in your answers).</li>\n",
        "</ol>\n",
        "</p>\n",
        "\n",
        "<p>\n",
        "For example, if your student ID is: 123456, you will then need to submit the following files:\n",
        "<ul>\n",
        "<li> 123456_assignment1_solution.ipynp </li>\n",
        "<li> 123456_assignment1_output.html</li>\n",
        "</ul>\n",
        "</p>\n",
        "\n",
        "<h2> Marking criteria </h2>\n",
        "\n",
        "<p>\n",
        "Your submission will be marked using the following criteria.\n",
        "\n",
        "<ul>\n",
        "<li> Showing good effort through completed tasks.</li>\n",
        "<li> Applying deep learning theory to design suitable deep learning solutions for the tasks.</li>\n",
        "<li> Critically evaluating and reflecting on the pros and cons of various design decisions.</li>\n",
        "<li> Demonstrating creativity and resourcefulness in providing unique individual solutions. (<em>Warning: Highly similar solutions will be investigated for collusion.</em>)</li>\n",
        "<li> Showing attention to details through a good quality assignment report.</li>\n",
        "</ul>\n",
        "</p>\n",
        "\n",
        "<p>\n",
        "Indicative weights of various tasks are provided below, but the assignment will be marked by the overall quality per the above criteria. \n",
        "</p>\n",
        "</div>"
      ]
    },
    {
      "cell_type": "code",
      "metadata": {
        "id": "5QKV13ZpxFel"
      },
      "source": [
        ""
      ],
      "execution_count": null,
      "outputs": []
    },
    {
      "cell_type": "code",
      "metadata": {
        "id": "9T3o8w5jvP_Y"
      },
      "source": [
        "\n",
        "\n",
        "\n",
        "\n"
      ],
      "execution_count": null,
      "outputs": []
    },
    {
      "cell_type": "markdown",
      "metadata": {
        "id": "JOr2bP8kAzKE"
      },
      "source": [
        "## Assignment objective\n",
        "\n",
        "\n",
        "\n",
        "This assignment is for you to demonstrate the knowledge in deep learning that you have acquired from the lectures and practical lab materials. Most tasks in this assignment are straightforward applications of the practical materials in weeks 1-5. Going through these materials before attempting this assignment is highly recommended.\n",
        "\n",
        "In this assignment, you are going to work with the Fashion-MNIST dataset for image recognition. The dataset contains 10 classes of 28x28 grayscale images. You will see some examples in the visualization task below. \n",
        "\n",
        "This assignment consists of five tasks.\n"
      ]
    },
    {
      "cell_type": "markdown",
      "metadata": {
        "id": "cDqvFgbRAzKG"
      },
      "source": [
        "## Task 1 Load the data\n",
        "\n",
        "*(weight ~5%)*\n",
        "\n",
        "Load the Fashion MNIST dataset (https://github.com/zalandoresearch/fashion-mnist). You may get the data via Keras (keras.datasets) or Tensorflow Datasets (tfds). "
      ]
    },
    {
      "cell_type": "code",
      "metadata": {
        "id": "Krg_ro9M-t_k"
      },
      "source": [
        "import tensorflow as tf\n",
        "import tensorflow_datasets\n",
        "import math\n",
        "import numpy as np\n",
        "\n",
        "# Loading the data using tensorflow\n",
        "fashion_mnist = tf.keras.datasets.fashion_mnist\n",
        "\n",
        "(train_images, train_labels), (test_images, test_labels) = fashion_mnist.load_data()\n",
        "\n",
        "# class names\n",
        "class_names = ['T-shirt/top', 'Trouser', 'Pullover', 'Dress', 'Coat',\n",
        "               'Sandal', 'Shirt', 'Sneaker', 'Bag', 'Ankle boot']"
      ],
      "execution_count": 1,
      "outputs": []
    },
    {
      "cell_type": "markdown",
      "metadata": {
        "id": "nFbty6i5AzKm"
      },
      "source": [
        "## Task 2 Understand the data\n",
        "\n",
        "*(weight ~15%)*\n",
        "\n"
      ]
    },
    {
      "cell_type": "code",
      "metadata": {
        "colab": {
          "base_uri": "https://localhost:8080/",
          "height": 826
        },
        "id": "Vg6WnS54Cl_G",
        "outputId": "6b9c4b5b-7b38-4def-cfc8-e539e48e46a3"
      },
      "source": [
        "import matplotlib.pyplot as plt\n",
        "\n",
        "# 25 images from the train set in the form of 5x5 matrix\n",
        "print(\"25 images from the train set in the form of 5x5 matrix\")\n",
        "plt.figure(figsize=(5,5))\n",
        "for i in range(25):\n",
        "    plt.subplot(5,5,i+1)\n",
        "    plt.xticks([])\n",
        "    plt.yticks([])\n",
        "    plt.grid(False)\n",
        "    plt.imshow(train_images[i])\n",
        "plt.show()\n",
        "\n",
        "# training data\n",
        "print(\"Data type of training data: \", train_images.dtype)\n",
        "print(\"Shape of training data: \", train_images.shape)\n",
        "print(\"Data type of training labels: \", train_labels.dtype)\n",
        "print(\"Shape of training labels: \", train_labels.shape)\n",
        "print(\"Length of training data: \", len(train_labels))\n",
        "\n",
        "# test data\n",
        "print(\"Data type of test data: \", test_images.dtype)\n",
        "print(\"Shape of test data: \", test_images.shape)\n",
        "print(\"Data type of test labels: \", test_labels.dtype)\n",
        "print(\"Shape of test labels: \", test_labels.shape)\n",
        "print(\"Length of test data: \", len(test_images))\n",
        "\n",
        "# unique labels in the data\n",
        "print(\"Labels  in the data: \", np.unique(test_labels))\n",
        "\n",
        "# size of each image\n",
        "print(\"Size of each image\", train_images[0].shape)\n",
        "\n",
        "# memory required for training data\n",
        "print(\"Memory required for training data: \", train_images.size * train_images.itemsize, \"bytes\")\n",
        "\n",
        "\n",
        "# plotting the numeric range of input\n",
        "print(\"\\nPlotting the numeric range of input: [0-255]\")\n",
        "plt.figure()\n",
        "plt.imshow(train_images[100])\n",
        "plt.colorbar()\n",
        "plt.grid(False)\n",
        "plt.show()\n",
        "\n",
        "\n",
        "# The numeric range of input data is in the range [0,255], these values need to be normalized to the range [0,1]. \n",
        "# Normalisation ensures that each input parameter (pixel, in this case) has a similar data distribution. \n",
        "# This makes convergence faster while training the network.\n",
        "\n",
        "# normalisation\n",
        "train_images = train_images / 255.0\n",
        "test_images = test_images / 255.0"
      ],
      "execution_count": 2,
      "outputs": [
        {
          "output_type": "stream",
          "text": [
            "25 images from the train set in the form of 5x5 matrix\n"
          ],
          "name": "stdout"
        },
        {
          "output_type": "display_data",
          "data": {
            "image/png": "[encoded data removed]",
            "text/plain": [
              "<Figure size 360x360 with 25 Axes>"
            ]
          },
          "metadata": {
            "tags": []
          }
        },
        {
          "output_type": "stream",
          "text": [
            "Data type of training data:  uint8\n",
            "Shape of training data:  (60000, 28, 28)\n",
            "Data type of training labels:  uint8\n",
            "Shape of training labels:  (60000,)\n",
            "Length of training data:  60000\n",
            "Data type of test data:  uint8\n",
            "Shape of test data:  (10000, 28, 28)\n",
            "Data type of test labels:  uint8\n",
            "Shape of test labels:  (10000,)\n",
            "Length of test data:  10000\n",
            "Labels  in the data:  [0 1 2 3 4 5 6 7 8 9]\n",
            "Size of each image (28, 28)\n",
            "Memory required for training data:  47040000 bytes\n",
            "\n",
            "Plotting the numeric range of input: [0-255]\n"
          ],
          "name": "stdout"
        },
        {
          "output_type": "display_data",
          "data": {
            "image/png": "[encoded data removed]",
            "text/plain": [
              "<Figure size 432x288 with 2 Axes>"
            ]
          },
          "metadata": {
            "tags": [],
            "needs_background": "light"
          }
        }
      ]
    },
    {
      "cell_type": "markdown",
      "metadata": {
        "id": "PLYAtx-ZAzKo"
      },
      "source": [
        "Display 25 images from the train set in the form of 5x5 matrix.\n",
        "\n",
        "Answer the following questions:\n",
        "\n",
        "1. What are the data types and shapes of the features and the label? \n",
        "2. What are the unique labels in this dataset?\n",
        "3. How many training images and how many test images?\n",
        "4. What is the size of each image? How much memory is required for holding the whole training data.\n",
        "5. Find out the numeric range of the input. Do we need to rescale the input? Why?\n",
        " "
      ]
    },
    {
      "cell_type": "markdown",
      "metadata": {
        "id": "-tkl-PwsrXip"
      },
      "source": [
        "## Task 3 Construct an input pipeline\n",
        "\n",
        "*(weight ~15%)*\n",
        "\n",
        "Creat train/validate/test data splits and construct tf.data pipelines. Make sure that the training data is batched. \n",
        "\n",
        "- How do you determine the batch size?\n",
        "- Do we need to shuffle the training data? If yes, how do you determine the buffer size?\n"
      ]
    },
    {
      "cell_type": "code",
      "metadata": {
        "id": "nk2Ydcs_foaK"
      },
      "source": [
        "fmnist_train_ds = tf.data.Dataset.from_tensor_slices((train_images, train_labels))\n",
        "fmnist_train_ds = fmnist_train_ds.shuffle(5000).batch(32)\n",
        "\n",
        "fmnist_test_ds = tf.data.Dataset.from_tensor_slices((test_images, test_labels))\n",
        "fmnist_test_ds = fmnist_test_ds.shuffle(5000).batch(32)"
      ],
      "execution_count": 12,
      "outputs": []
    },
    {
      "cell_type": "code",
      "metadata": {
        "id": "hVmNO1PzOU6E",
        "colab": {
          "base_uri": "https://localhost:8080/"
        },
        "outputId": "92d1bee2-c4e1-4de0-e8f4-34764f76eff6"
      },
      "source": [
        "# train-data shuffling ensures that the model gets to see all permutauions of input in every batch.\n",
        "\n",
        "# shuffle train data\n",
        "from sklearn.utils import shuffle\n",
        "train_images, train_labels = shuffle(train_images, train_labels)\n",
        "\n",
        "# combine training features and labels\n",
        "train_dataset = []\n",
        "for i in range(len(train_images)):\n",
        "   train_dataset.append([train_images[i], train_labels[i]])\n",
        "\n",
        "# combine test features and labels\n",
        "test_dataset = []\n",
        "for i in range(len(test_images)):\n",
        "   test_dataset.append([test_images[i], test_labels[i]])\n",
        "\n",
        "# batch size should be in powers of 2 and the larger the better, provided that the batch fits into the (GPU) memory;\n",
        "# small batches can offer a regularizing effect, perhaps due to the noise they add to the learning process.\n",
        "# larger batches provide a more accurate estimate of the gradient.\n",
        "\n",
        "# defining the batch size\n",
        "BATCH_SIZE = 32\n",
        "train_dataset = np.asarray(train_dataset)\n",
        "train_dataset.shape\n",
        "\n",
        "#tf.convert_to_tensor(train_dataset)"
      ],
      "execution_count": 4,
      "outputs": [
        {
          "output_type": "stream",
          "text": [
            "/usr/local/lib/python3.7/dist-packages/numpy/core/_asarray.py:83: VisibleDeprecationWarning: Creating an ndarray from ragged nested sequences (which is a list-or-tuple of lists-or-tuples-or ndarrays with different lengths or shapes) is deprecated. If you meant to do this, you must specify 'dtype=object' when creating the ndarray\n",
            "  return array(a, dtype, copy=False, order=order)\n"
          ],
          "name": "stderr"
        },
        {
          "output_type": "execute_result",
          "data": {
            "text/plain": [
              "(60000, 2)"
            ]
          },
          "metadata": {
            "tags": []
          },
          "execution_count": 4
        }
      ]
    },
    {
      "cell_type": "markdown",
      "metadata": {
        "id": "lnE7ZFS_AzLg"
      },
      "source": [
        "## Task 4 Construct a deep forward neural network\n",
        "\n",
        "*(weight ~35%)*"
      ]
    },
    {
      "cell_type": "markdown",
      "metadata": {
        "id": "X6gil-HshhHI"
      },
      "source": [
        ""
      ]
    },
    {
      "cell_type": "code",
      "metadata": {
        "id": "dpH3urepb_6v"
      },
      "source": [
        "model = tf.keras.Sequential([\n",
        "    tf.keras.layers.Flatten(input_shape=(28, 28, 1)),\n",
        "    tf.keras.layers.Dense(128, activation=tf.nn.relu),\n",
        "    tf.keras.layers.Dense(10, activation=tf.nn.softmax)\n",
        "])"
      ],
      "execution_count": 5,
      "outputs": []
    },
    {
      "cell_type": "code",
      "metadata": {
        "id": "jVZawM4BcKJr"
      },
      "source": [
        "model.compile(optimizer='adam',\n",
        "              loss=tf.keras.losses.SparseCategoricalCrossentropy(),\n",
        "              metrics=['accuracy'])"
      ],
      "execution_count": 6,
      "outputs": []
    },
    {
      "cell_type": "code",
      "metadata": {
        "colab": {
          "base_uri": "https://localhost:8080/"
        },
        "id": "-F2RvaPdcRdz",
        "outputId": "3f4c87b5-6018-4bd2-be48-0c4cf9cf22cb"
      },
      "source": [
        "#train_dataset = train_dataset.repeat().shuffle(len(train_labels)).batch(BATCH_SIZE)\n",
        "tf.config.run_functions_eagerly(True)\n",
        "\n",
        "model.fit(fmnist_train_ds, epochs=5, steps_per_epoch=math.ceil(len(train_labels)/BATCH_SIZE))"
      ],
      "execution_count": 7,
      "outputs": [
        {
          "output_type": "stream",
          "text": [
            "Epoch 1/5\n",
            "1875/1875 [==============================] - 23s 11ms/step - loss: 0.6252 - accuracy: 0.7805\n",
            "Epoch 2/5\n",
            "1875/1875 [==============================] - 20s 11ms/step - loss: 0.3804 - accuracy: 0.8619\n",
            "Epoch 3/5\n",
            "1875/1875 [==============================] - 20s 11ms/step - loss: 0.3398 - accuracy: 0.8761\n",
            "Epoch 4/5\n",
            "1875/1875 [==============================] - 20s 11ms/step - loss: 0.3138 - accuracy: 0.8850\n",
            "Epoch 5/5\n",
            "1875/1875 [==============================] - 21s 11ms/step - loss: 0.2968 - accuracy: 0.8910\n"
          ],
          "name": "stdout"
        },
        {
          "output_type": "execute_result",
          "data": {
            "text/plain": [
              "<tensorflow.python.keras.callbacks.History at 0x7f81e26bfed0>"
            ]
          },
          "metadata": {
            "tags": []
          },
          "execution_count": 7
        }
      ]
    },
    {
      "cell_type": "code",
      "metadata": {
        "id": "CawIS4uLiDE5"
      },
      "source": [
        "fmnist_train = fmnist_train_ds.take(round(len(train_labels)*0.7))\n",
        "fmnist_val = fmnist_train_ds.skip(round(len(train_labels)*0.7))"
      ],
      "execution_count": 15,
      "outputs": []
    },
    {
      "cell_type": "code",
      "metadata": {
        "colab": {
          "base_uri": "https://localhost:8080/"
        },
        "id": "EsBPCoXMin7k",
        "outputId": "8e32629f-ed4b-4a71-e77b-a7878b6763cb"
      },
      "source": [
        "history = model.fit(\n",
        "    fmnist_train,\n",
        "    validation_data=fmnist_val,\n",
        "    epochs=10)"
      ],
      "execution_count": 16,
      "outputs": [
        {
          "output_type": "stream",
          "text": [
            "Epoch 1/10\n",
            "1875/1875 [==============================] - 21s 11ms/step - loss: 0.2808 - accuracy: 0.8963\n",
            "Epoch 2/10\n",
            "1875/1875 [==============================] - 21s 11ms/step - loss: 0.2679 - accuracy: 0.9011\n",
            "Epoch 3/10\n",
            "1875/1875 [==============================] - 21s 11ms/step - loss: 0.2579 - accuracy: 0.9043\n",
            "Epoch 4/10\n",
            "1875/1875 [==============================] - 20s 11ms/step - loss: 0.2479 - accuracy: 0.9077\n",
            "Epoch 5/10\n",
            "1875/1875 [==============================] - 20s 11ms/step - loss: 0.2405 - accuracy: 0.9093\n",
            "Epoch 6/10\n",
            "1875/1875 [==============================] - 21s 11ms/step - loss: 0.2331 - accuracy: 0.9128\n",
            "Epoch 7/10\n",
            "1875/1875 [==============================] - 21s 11ms/step - loss: 0.2237 - accuracy: 0.9163\n",
            "Epoch 8/10\n",
            "1875/1875 [==============================] - 21s 11ms/step - loss: 0.2191 - accuracy: 0.9185\n",
            "Epoch 9/10\n",
            "1875/1875 [==============================] - 21s 11ms/step - loss: 0.2114 - accuracy: 0.9196\n",
            "Epoch 10/10\n",
            "1875/1875 [==============================] - 20s 11ms/step - loss: 0.2053 - accuracy: 0.9218\n"
          ],
          "name": "stdout"
        }
      ]
    },
    {
      "cell_type": "code",
      "metadata": {
        "colab": {
          "base_uri": "https://localhost:8080/"
        },
        "id": "oxltxSp5jt5T",
        "outputId": "adbf5a9e-5a3d-4942-9a8f-a32d7f065d1d"
      },
      "source": [
        "test_loss, test_accuracy = model.evaluate(fmnist_test_ds, steps=math.ceil(len(test_labels)/32))\n",
        "print('Accuracy on test dataset:', test_accuracy)"
      ],
      "execution_count": 13,
      "outputs": [
        {
          "output_type": "stream",
          "text": [
            "313/313 [==============================] - 2s 7ms/step - loss: 0.3573 - accuracy: 0.8732\n",
            "Accuracy on test dataset: 0.873199999332428\n"
          ],
          "name": "stdout"
        }
      ]
    },
    {
      "cell_type": "markdown",
      "metadata": {
        "id": "h2qU873qfGVY"
      },
      "source": [
        ""
      ]
    },
    {
      "cell_type": "markdown",
      "metadata": {
        "id": "ChlhkwhkAzLi"
      },
      "source": [
        "### Task 4.1 Setting up a model for training"
      ]
    },
    {
      "cell_type": "markdown",
      "metadata": {
        "id": "yuxhQM6jAzLl"
      },
      "source": [
        "Construct a deep feedforward neural network. You need to decide and report the following configurations:\n",
        "\n",
        "- Output layer: \n",
        "    - How many output nodes?\n",
        "    - Which activation function?\n",
        "- Hidden layers:\n",
        "    - How many hidden layers?\n",
        "    - How many nodes in each layer?\n",
        "    - Which activation function for each layer?\n",
        "- Input layer\n",
        "    - What is the input size?\n",
        "- The loss function\n",
        "- The metrics for model evaluation (which may be different from the loss function)\n",
        "- The optimiser\n",
        "\n",
        "Justify your model design decisions.\n",
        "\n",
        "Plot the model structure `using keras.utils.plot_model` or similar tools.\n",
        "\n",
        "What is the number of trainable parameters in the model. Explain how the total number can be estimated from the model configurations."
      ]
    },
    {
      "cell_type": "markdown",
      "metadata": {
        "id": "MZ2BVK5tAzMM"
      },
      "source": [
        "### Task 4.2 Fitting the model\n",
        "\n",
        "Before you fit the model. Think about what initialisation method have you chosen? If you did not specify the initialisation method, find out what is the default one. Choose a layer and visualise its initial weights. (Hint: You may use UMAP to visualise a collection of high-dimension vectors.)\n",
        "\n",
        "Decide and report the following training setting:\n",
        "\n",
        "1. The training batch size\n",
        "2. The number of training epochs (at least 1,000 epochs recommended)\n",
        "3. The learning rate. If you used momentum or a learning rate schedule, please report the configuration as well.\n",
        "\n",
        "Now fit the model. Show how the training loss changes. How did you decide when to stop training?\n",
        "\n",
        "After fitting the model, visualise the model weights again. How did the weights change? Why?\n",
        "\n",
        "\n"
      ]
    },
    {
      "cell_type": "markdown",
      "metadata": {
        "id": "9C2VXCM-4Nw9"
      },
      "source": [
        "### Task 4.3 Check the training using TensorBoard\n",
        "\n",
        "Use TensorBoard to visualise the training process. Show screenshots of your TensorBoard output.\n",
        "\n",
        "**Optional task:** Record the gradients during training and use TensorBoard to visualise the gradients."
      ]
    },
    {
      "cell_type": "markdown",
      "metadata": {
        "id": "4EgXZCBNAzMs"
      },
      "source": [
        "## Task 5 Overfitting and regularisation\n",
        "\n",
        "*(weight ~30%)*\n",
        "\n",
        "Go back to the previous task. Plot the training and validation loss and accuracy. Answer the following questions:\n",
        "\n",
        "1. Do you see overfitting or underfitting? Why?\n",
        "2. If you see overfitting, at which epoch did it happen?\n",
        "\n",
        "Now retrain the model with only 200 training examples. (Make sure that you  reinitialise the weights before retraining.) Do you see overfitting? How did the validation loss and accuracy change?\n",
        "\n",
        "Neural networks are overparametrised models, meaning there can be more parameters than the training examples. Some form of regularisation is almost always necessary to obtain a useful model. Below are some options:\n",
        "\n",
        "1. Add dropout\n",
        "2. Add Batch Normalisation\n",
        "3. Add layer-specific weight regularizations\n",
        "4. Change the learning rate\n",
        "\n",
        "In addition, you may also try changing the weight initialisation method.\n",
        "\n",
        "Apply different regularisation techniques to the model training. You may also try other techniques for improving training such as learning rate scheduling (see https://www.tensorflow.org/guide/keras/train_and_evaluate#using_learning_rate_schedules).\n",
        "\n",
        "Run **five or more** experiments of different training configurations and record the validation accuracy achieved in the Markdown table below. You may modify the table heading to match your experiment design.\n"
      ]
    },
    {
      "cell_type": "markdown",
      "metadata": {
        "id": "d1LRIBrEgu92"
      },
      "source": [
        "\n",
        "|Dropout (rate)   | Batch Normalisation (Y/N)  | Optimiser  | Learning Rate  | Number of Epochs   |  Validation Accuracy |\n",
        "|---|---|---|---|---|---|\n",
        "|   |   |   |   |   |   |\n",
        "|   |   |   |   |   |   |\n",
        "|   |   |   |   |   |   |\n"
      ]
    },
    {
      "cell_type": "markdown",
      "metadata": {
        "id": "dLjJA98Qgxg5"
      },
      "source": [
        "\n",
        "Answer the following questions:\n",
        "\n",
        "1. Which configuration achieved the best validation accuracy? Report the test accuracy of your final model.\n",
        "2. Which setting had the most impact and which one had the least impact?"
      ]
    },
    {
      "cell_type": "markdown",
      "metadata": {
        "id": "UgzZh0jN5ULb"
      },
      "source": [
        "## Task 6 Generate HTML output\n",
        "\n",
        "Use *nbconvert* to convert your completed notebook into an HTML file and name it **[YourID]_assingment1_output.html**."
      ]
    },
    {
      "cell_type": "markdown",
      "metadata": {
        "id": "cWbr7jjEAzNb"
      },
      "source": [
        "---\n",
        "**END OF ASSIGNMENT ONE**\n",
        "\n"
      ]
    }
  ]
}