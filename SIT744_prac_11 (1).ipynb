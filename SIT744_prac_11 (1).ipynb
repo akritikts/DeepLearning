{
  "nbformat": 4,
  "nbformat_minor": 0,
  "metadata": {
    "colab": {
      "name": "SIT744_prac_11.ipynb",
      "provenance": [],
      "collapsed_sections": [],
      "toc_visible": true,
      "machine_shape": "hm"
    },
    "kernelspec": {
      "name": "python3",
      "display_name": "Python 3"
    },
    "accelerator": "GPU"
  },
  "cells": [
    {
      "cell_type": "markdown",
      "metadata": {
        "id": "J0PWKlbt6_dm"
      },
      "source": [
        "# SIT744 Practical 11: LSTM\n",
        " \n",
        "\n",
        "*Dr Wei Luo*"
      ]
    },
    {
      "cell_type": "markdown",
      "metadata": {
        "id": "0JEtYNgr7JuP"
      },
      "source": [
        "<div class=\"alert alert-info\">\n",
        "We suggest that you run this notebook using Google Colab.\n",
        "</div>\n",
        "\n",
        "\n",
        "## Pre-practical readings\n",
        "\n",
        "- [Understanding recurrent neural networks](https://github.com/fchollet/deep-learning-with-python-notebooks/blob/master/6.2-understanding-recurrent-neural-networks.ipynb)\n",
        "\n",
        "This is a short practical showing how to use LSTM layer to process text data.\n"
      ]
    },
    {
      "cell_type": "markdown",
      "metadata": {
        "id": "81mcaRVZuQI-"
      },
      "source": [
        "## Task 1 Use an LSTM layer\n",
        "\n",
        "Let's continue with last week's imdb dataset. Again, we download both the integer coded sequences and the dictionary."
      ]
    },
    {
      "cell_type": "code",
      "metadata": {
        "id": "vVL-fE2suIY5",
        "colab": {
          "base_uri": "https://localhost:8080/",
          "height": 85
        },
        "outputId": "bd4905af-2ac9-486a-f973-2f8f356b31e1"
      },
      "source": [
        "from tensorflow.keras.datasets import imdb\n",
        "\n",
        "# Number of words to consider as features\n",
        "max_features = 10000\n",
        "\n",
        "word_index = imdb.get_word_index()\n",
        "id_to_word = {id_ + 3: word for word, id_ in word_index.items() if id_ <= max_features} # Offset by 3\n",
        "\n",
        "## Special padding tokens; \"<pad>\" does not actually exist in the data we retrieved \n",
        "for id_, token in enumerate((\"<sos>\", \"<unk>\", \"<pad>\")):\n",
        "  id_to_word[id_+1] = token \n",
        "\n",
        "# Load the data as lists of integers.\n",
        "(x_train, y_train), (x_test, y_test) = imdb.load_data(num_words=max_features)\n"
      ],
      "execution_count": null,
      "outputs": [
        {
          "output_type": "stream",
          "text": [
            "Downloading data from https://storage.googleapis.com/tensorflow/tf-keras-datasets/imdb_word_index.json\n",
            "1646592/1641221 [==============================] - 0s 0us/step\n",
            "Downloading data from https://storage.googleapis.com/tensorflow/tf-keras-datasets/imdb.npz\n",
            "17465344/17464789 [==============================] - 0s 0us/step\n"
          ],
          "name": "stdout"
        }
      ]
    },
    {
      "cell_type": "markdown",
      "metadata": {
        "id": "e6Im43AP0yJG"
      },
      "source": [
        "Let's look at the distribution of the sequence length."
      ]
    },
    {
      "cell_type": "code",
      "metadata": {
        "id": "8sCSUaWGzRrJ",
        "colab": {
          "base_uri": "https://localhost:8080/",
          "height": 265
        },
        "outputId": "24cfa31c-7214-47d5-ef40-95e75bcc6349"
      },
      "source": [
        "import matplotlib.pyplot as plt\n",
        "\n",
        "seq_length = [len(s) for s in x_train]\n",
        "n, bins, patches = plt.hist(x=seq_length, bins='auto')"
      ],
      "execution_count": null,
      "outputs": [
        {
          "output_type": "display_data",
          "data": {
            "image/png": "[encoded data removed]",
            "text/plain": [
              "<Figure size 432x288 with 1 Axes>"
            ]
          },
          "metadata": {
            "tags": [],
            "needs_background": "light"
          }
        }
      ]
    },
    {
      "cell_type": "markdown",
      "metadata": {
        "id": "EFBIctMqyy-K"
      },
      "source": [
        "Although LSTM is good at looking for global patterns in long sequences, the training will become too slow when the input sequences are long. From the histogram above, it seems that we can truncate or pad all sequences to 500. We will need sequences to have the same length in a batch anyway. "
      ]
    },
    {
      "cell_type": "code",
      "metadata": {
        "id": "PMgj89tnsL5b"
      },
      "source": [
        "from tensorflow.keras import preprocessing\n",
        "\n",
        "maxlen = 500 \n",
        "\n",
        "x_train = preprocessing.sequence.pad_sequences(x_train, maxlen=maxlen)\n",
        "x_test = preprocessing.sequence.pad_sequences(x_test, maxlen=maxlen)"
      ],
      "execution_count": null,
      "outputs": []
    },
    {
      "cell_type": "markdown",
      "metadata": {
        "id": "HWmvFu8S1WBc"
      },
      "source": [
        "As we saw last week, we need to first embed each integer code into a dense vector. "
      ]
    },
    {
      "cell_type": "code",
      "metadata": {
        "id": "UCVY1rI82csx"
      },
      "source": [
        "import tensorflow as tf\n",
        "from  tensorflow import keras\n",
        "import numpy as np\n",
        "\n",
        "\n",
        "embedding_dim = 100\n",
        "\n",
        "embedding_layer = keras.layers.Embedding(max_features, embedding_dim)\n"
      ],
      "execution_count": null,
      "outputs": []
    },
    {
      "cell_type": "markdown",
      "metadata": {
        "id": "FpahAj9T2fOJ"
      },
      "source": [
        "From the embedding layer, we get a 2D vector (a bit like an image) that can be fed into an LSTM layer."
      ]
    },
    {
      "cell_type": "code",
      "metadata": {
        "id": "H-3omgKg25Wt",
        "colab": {
          "base_uri": "https://localhost:8080/",
          "height": 289
        },
        "outputId": "6064588f-7ae7-476e-bd33-ef9b49ec2fd3"
      },
      "source": [
        "def  make_model():\n",
        "  model = keras.models.Sequential()\n",
        "  model.add(embedding_layer)\n",
        "  model.add(keras.layers.LSTM(32, return_sequences=True))\n",
        "  model.add(keras.layers.LSTM(32))\n",
        "  model.add(keras.layers.Dense(1, activation=\"sigmoid\"))\n",
        "  return model\n",
        "\n",
        "model = make_model()\n",
        "model.summary()"
      ],
      "execution_count": null,
      "outputs": [
        {
          "output_type": "stream",
          "text": [
            "Model: \"sequential\"\n",
            "_________________________________________________________________\n",
            "Layer (type)                 Output Shape              Param #   \n",
            "=================================================================\n",
            "embedding (Embedding)        (None, None, 100)         1000000   \n",
            "_________________________________________________________________\n",
            "lstm (LSTM)                  (None, None, 32)          17024     \n",
            "_________________________________________________________________\n",
            "lstm_1 (LSTM)                (None, 32)                8320      \n",
            "_________________________________________________________________\n",
            "dense (Dense)                (None, 1)                 33        \n",
            "=================================================================\n",
            "Total params: 1,025,377\n",
            "Trainable params: 1,025,377\n",
            "Non-trainable params: 0\n",
            "_________________________________________________________________\n"
          ],
          "name": "stdout"
        }
      ]
    },
    {
      "cell_type": "markdown",
      "metadata": {
        "id": "kFC241AJ28ql"
      },
      "source": [
        "**question** What activation functions were used in the LSTM layer?\n",
        "\n",
        "\n",
        "The training of the model is no different from training  other Keras models."
      ]
    },
    {
      "cell_type": "code",
      "metadata": {
        "id": "Cppu-CHNhGAu",
        "colab": {
          "base_uri": "https://localhost:8080/",
          "height": 357
        },
        "outputId": "7778d46d-b996-4039-d4dc-c745b899bd2d"
      },
      "source": [
        "model.compile(optimizer='rmsprop',\n",
        "              loss='binary_crossentropy',\n",
        "              metrics=['acc'])\n",
        "\n",
        "history = model.fit(x_train, y_train,\n",
        "                    epochs=10,\n",
        "                    batch_size=128,\n",
        "                    validation_split=0.2)"
      ],
      "execution_count": null,
      "outputs": [
        {
          "output_type": "stream",
          "text": [
            "Epoch 1/10\n",
            "157/157 [==============================] - 12s 74ms/step - loss: 0.4384 - acc: 0.7994 - val_loss: 0.6088 - val_acc: 0.7434\n",
            "Epoch 2/10\n",
            "157/157 [==============================] - 11s 68ms/step - loss: 0.2735 - acc: 0.8939 - val_loss: 0.2889 - val_acc: 0.8854\n",
            "Epoch 3/10\n",
            "157/157 [==============================] - 11s 69ms/step - loss: 0.2219 - acc: 0.9180 - val_loss: 0.3139 - val_acc: 0.8714\n",
            "Epoch 4/10\n",
            "157/157 [==============================] - 11s 69ms/step - loss: 0.1823 - acc: 0.9348 - val_loss: 0.3160 - val_acc: 0.8822\n",
            "Epoch 5/10\n",
            "157/157 [==============================] - 11s 69ms/step - loss: 0.1581 - acc: 0.9421 - val_loss: 0.3011 - val_acc: 0.8786\n",
            "Epoch 6/10\n",
            "157/157 [==============================] - 11s 69ms/step - loss: 0.1317 - acc: 0.9532 - val_loss: 0.3524 - val_acc: 0.8766\n",
            "Epoch 7/10\n",
            "157/157 [==============================] - 11s 69ms/step - loss: 0.1092 - acc: 0.9616 - val_loss: 0.4241 - val_acc: 0.8474\n",
            "Epoch 8/10\n",
            "157/157 [==============================] - 11s 68ms/step - loss: 0.0930 - acc: 0.9679 - val_loss: 0.4945 - val_acc: 0.8322\n",
            "Epoch 9/10\n",
            "157/157 [==============================] - 11s 69ms/step - loss: 0.0745 - acc: 0.9755 - val_loss: 0.4580 - val_acc: 0.8700\n",
            "Epoch 10/10\n",
            "157/157 [==============================] - 11s 70ms/step - loss: 0.0610 - acc: 0.9806 - val_loss: 0.8936 - val_acc: 0.7962\n"
          ],
          "name": "stdout"
        }
      ]
    },
    {
      "cell_type": "code",
      "metadata": {
        "id": "Ek372y_ct1Xu",
        "colab": {
          "base_uri": "https://localhost:8080/",
          "height": 545
        },
        "outputId": "f2bc58b0-3ad3-4a1f-95ae-cd659d227975"
      },
      "source": [
        "import matplotlib.pyplot as plt\n",
        "\n",
        "acc = history.history['acc']\n",
        "val_acc = history.history['val_acc']\n",
        "loss = history.history['loss']\n",
        "val_loss = history.history['val_loss']\n",
        "\n",
        "epochs = range(len(acc))\n",
        "\n",
        "plt.plot(epochs, acc, 'bo', label='Training acc')\n",
        "plt.plot(epochs, val_acc, 'b', label='Validation acc')\n",
        "plt.title('Training and validation accuracy')\n",
        "plt.legend()\n",
        "\n",
        "plt.figure()\n",
        "\n",
        "plt.plot(epochs, loss, 'bo', label='Training loss')\n",
        "plt.plot(epochs, val_loss, 'b', label='Validation loss')\n",
        "plt.title('Training and validation loss')\n",
        "plt.legend()\n",
        "\n",
        "plt.show()"
      ],
      "execution_count": null,
      "outputs": [
        {
          "output_type": "display_data",
          "data": {
            "image/png": "[encoded data removed]",
            "text/plain": [
              "<Figure size 432x288 with 1 Axes>"
            ]
          },
          "metadata": {
            "tags": [],
            "needs_background": "light"
          }
        },
        {
          "output_type": "display_data",
          "data": {
            "image/png": "[encoded data removed]",
            "text/plain": [
              "<Figure size 432x288 with 1 Axes>"
            ]
          },
          "metadata": {
            "tags": [],
            "needs_background": "light"
          }
        }
      ]
    },
    {
      "cell_type": "markdown",
      "metadata": {
        "id": "PZpd8Fjh3fag"
      },
      "source": [
        "As we can see, overfitting happens."
      ]
    },
    {
      "cell_type": "markdown",
      "metadata": {
        "id": "4wqb8r86pD1W"
      },
      "source": [
        "\n",
        "## Task 2 Use pretrained word embedding\n",
        "\n",
        "We will use the Glove words embedding. Most pretrained word embeddings are quite big; It will take a while to download the file.\n"
      ]
    },
    {
      "cell_type": "code",
      "metadata": {
        "id": "7FXupORbRg5C",
        "colab": {
          "base_uri": "https://localhost:8080/",
          "height": 357
        },
        "outputId": "7631c71e-fe86-4747-f1d4-a7eade2933ba"
      },
      "source": [
        "!wget --no-check-certificate \\\n",
        "    http://nlp.stanford.edu/data/wordvecs/glove.6B.zip \\\n",
        "    -O /tmp/glove.6B.zip\n",
        "\n",
        "import os\n",
        "import zipfile\n",
        "import tensorflow as tf\n",
        "from tensorflow import keras\n",
        "from tensorflow.keras.preprocessing.image import ImageDataGenerator\n",
        "\n",
        "\n",
        "local_zip = '/tmp/glove.6B.zip'\n",
        "zip_ref = zipfile.ZipFile(local_zip, 'r')\n",
        "zip_ref.extractall('/tmp')\n",
        "zip_ref.close()\n"
      ],
      "execution_count": null,
      "outputs": [
        {
          "output_type": "stream",
          "text": [
            "--2020-05-24 00:23:45--  http://nlp.stanford.edu/data/wordvecs/glove.6B.zip\n",
            "Resolving nlp.stanford.edu (nlp.stanford.edu)... 171.64.67.140\n",
            "Connecting to nlp.stanford.edu (nlp.stanford.edu)|171.64.67.140|:80... connected.\n",
            "HTTP request sent, awaiting response... 302 Found\n",
            "Location: https://nlp.stanford.edu/data/wordvecs/glove.6B.zip [following]\n",
            "--2020-05-24 00:23:46--  https://nlp.stanford.edu/data/wordvecs/glove.6B.zip\n",
            "Connecting to nlp.stanford.edu (nlp.stanford.edu)|171.64.67.140|:443... connected.\n",
            "HTTP request sent, awaiting response... 301 Moved Permanently\n",
            "Location: http://downloads.cs.stanford.edu/nlp/data/wordvecs/glove.6B.zip [following]\n",
            "--2020-05-24 00:23:46--  http://downloads.cs.stanford.edu/nlp/data/wordvecs/glove.6B.zip\n",
            "Resolving downloads.cs.stanford.edu (downloads.cs.stanford.edu)... 171.64.64.22\n",
            "Connecting to downloads.cs.stanford.edu (downloads.cs.stanford.edu)|171.64.64.22|:80... connected.\n",
            "HTTP request sent, awaiting response... 200 OK\n",
            "Length: 862182753 (822M) [application/zip]\n",
            "Saving to: ‘/tmp/glove.6B.zip’\n",
            "\n",
            "/tmp/glove.6B.zip   100%[===================>] 822.24M  1.92MB/s    in 6m 32s  \n",
            "\n",
            "2020-05-24 00:30:18 (2.10 MB/s) - ‘/tmp/glove.6B.zip’ saved [862182753/862182753]\n",
            "\n"
          ],
          "name": "stdout"
        }
      ]
    },
    {
      "cell_type": "markdown",
      "metadata": {
        "id": "Nqe1D4e_TEwK"
      },
      "source": [
        "The zip file contains multiple embeddings of different dimensionalities. We will use the one with 100 dimensions."
      ]
    },
    {
      "cell_type": "code",
      "metadata": {
        "id": "aqo0Ernguc_S",
        "colab": {
          "base_uri": "https://localhost:8080/",
          "height": 34
        },
        "outputId": "329cbd6c-80ec-4fe5-d5de-2a2dcdc669fd"
      },
      "source": [
        "glove_dir = '/tmp/'\n",
        "\n",
        "embeddings_index = {}\n",
        "f = open(os.path.join(glove_dir, 'glove.6B.100d.txt'))\n",
        "for line in f:\n",
        "    values = line.split()\n",
        "    word = values[0]\n",
        "    coefs = np.asarray(values[1:], dtype='float32')\n",
        "    embeddings_index[word] = coefs\n",
        "f.close()\n",
        "\n",
        "print('Found %s word vectors.' % len(embeddings_index))"
      ],
      "execution_count": null,
      "outputs": [
        {
          "output_type": "stream",
          "text": [
            "Found 400001 word vectors.\n"
          ],
          "name": "stdout"
        }
      ]
    },
    {
      "cell_type": "markdown",
      "metadata": {
        "id": "rpsMa6jRTgSw"
      },
      "source": [
        "We do not need all these embeddings as we have only 10000 words."
      ]
    },
    {
      "cell_type": "code",
      "metadata": {
        "id": "Tcft0U9tkTFF"
      },
      "source": [
        "embedding_matrix = np.zeros((max_features, embedding_dim))\n",
        "for id_ in range(1, 10000):\n",
        "  word = id_to_word[id_]\n",
        "  embedding_vector = embeddings_index.get(word)\n",
        "  if embedding_vector is not None:\n",
        "      # Words not found in embedding index will be all-zeros.\n",
        "      embedding_matrix[id_] = embedding_vector"
      ],
      "execution_count": null,
      "outputs": []
    },
    {
      "cell_type": "markdown",
      "metadata": {
        "id": "kLSiAHLyEnqt"
      },
      "source": [
        "Now you can swap the random embedding with this pretrained embedding."
      ]
    },
    {
      "cell_type": "code",
      "metadata": {
        "id": "mxr0qonCEjWv"
      },
      "source": [
        "embedding_layer.set_weights([embedding_matrix])"
      ],
      "execution_count": null,
      "outputs": []
    },
    {
      "cell_type": "markdown",
      "metadata": {
        "id": "spRqFlQd4hjH"
      },
      "source": [
        "We can continue the training, although it may be better to reinitialise the weights as the embedding has completely changed.\n",
        "\n"
      ]
    },
    {
      "cell_type": "code",
      "metadata": {
        "id": "Us7-8l7txGcC",
        "colab": {
          "base_uri": "https://localhost:8080/",
          "height": 357
        },
        "outputId": "4f2325ef-24bf-41c4-ced6-bd4a84090c7a"
      },
      "source": [
        "model = make_model()\n",
        "\n",
        "model.compile(optimizer='rmsprop',\n",
        "              loss='binary_crossentropy',\n",
        "              metrics=['acc'])\n",
        "\n",
        "history = model.fit(x_train, y_train,\n",
        "                    epochs=10,\n",
        "                    batch_size=128,\n",
        "                    validation_split=0.2)"
      ],
      "execution_count": null,
      "outputs": [
        {
          "output_type": "stream",
          "text": [
            "Epoch 1/10\n",
            "157/157 [==============================] - 11s 73ms/step - loss: 0.5862 - acc: 0.6771 - val_loss: 0.5985 - val_acc: 0.6900\n",
            "Epoch 2/10\n",
            "157/157 [==============================] - 11s 68ms/step - loss: 0.4361 - acc: 0.8049 - val_loss: 0.4167 - val_acc: 0.8226\n",
            "Epoch 3/10\n",
            "157/157 [==============================] - 11s 68ms/step - loss: 0.3589 - acc: 0.8484 - val_loss: 0.3478 - val_acc: 0.8508\n",
            "Epoch 4/10\n",
            "157/157 [==============================] - 11s 68ms/step - loss: 0.3020 - acc: 0.8768 - val_loss: 0.3170 - val_acc: 0.8696\n",
            "Epoch 5/10\n",
            "157/157 [==============================] - 11s 69ms/step - loss: 0.2486 - acc: 0.9012 - val_loss: 0.4305 - val_acc: 0.8136\n",
            "Epoch 6/10\n",
            "157/157 [==============================] - 11s 68ms/step - loss: 0.2194 - acc: 0.9165 - val_loss: 0.2832 - val_acc: 0.8920\n",
            "Epoch 7/10\n",
            "157/157 [==============================] - 11s 68ms/step - loss: 0.1933 - acc: 0.9270 - val_loss: 0.3021 - val_acc: 0.8870\n",
            "Epoch 8/10\n",
            "157/157 [==============================] - 11s 68ms/step - loss: 0.1695 - acc: 0.9374 - val_loss: 0.2938 - val_acc: 0.8892\n",
            "Epoch 9/10\n",
            "157/157 [==============================] - 11s 68ms/step - loss: 0.1423 - acc: 0.9471 - val_loss: 0.3243 - val_acc: 0.8700\n",
            "Epoch 10/10\n",
            "157/157 [==============================] - 11s 69ms/step - loss: 0.1265 - acc: 0.9563 - val_loss: 0.3546 - val_acc: 0.8756\n"
          ],
          "name": "stdout"
        }
      ]
    },
    {
      "cell_type": "code",
      "metadata": {
        "id": "5-TKY8oXxZZb",
        "colab": {
          "base_uri": "https://localhost:8080/",
          "height": 545
        },
        "outputId": "4147b40c-77d8-4aee-8bca-561da7ef56b5"
      },
      "source": [
        "import matplotlib.pyplot as plt\n",
        "\n",
        "acc = history.history['acc']\n",
        "val_acc = history.history['val_acc']\n",
        "loss = history.history['loss']\n",
        "val_loss = history.history['val_loss']\n",
        "\n",
        "epochs = range(len(acc))\n",
        "\n",
        "plt.plot(epochs, acc, 'bo', label='Training acc')\n",
        "plt.plot(epochs, val_acc, 'b', label='Validation acc')\n",
        "plt.title('Training and validation accuracy')\n",
        "plt.legend()\n",
        "\n",
        "plt.figure()\n",
        "\n",
        "plt.plot(epochs, loss, 'bo', label='Training loss')\n",
        "plt.plot(epochs, val_loss, 'b', label='Validation loss')\n",
        "plt.title('Training and validation loss')\n",
        "plt.legend()\n",
        "\n",
        "plt.show()"
      ],
      "execution_count": null,
      "outputs": [
        {
          "output_type": "display_data",
          "data": {
            "image/png": "[encoded data removed]",
            "text/plain": [
              "<Figure size 432x288 with 1 Axes>"
            ]
          },
          "metadata": {
            "tags": [],
            "needs_background": "light"
          }
        },
        {
          "output_type": "display_data",
          "data": {
            "image/png": "[encoded data removed]",
            "text/plain": [
              "<Figure size 432x288 with 1 Axes>"
            ]
          },
          "metadata": {
            "tags": [],
            "needs_background": "light"
          }
        }
      ]
    },
    {
      "cell_type": "markdown",
      "metadata": {
        "id": "T25yJdB3XDyJ"
      },
      "source": [
        "The validation accuracy improved. But we can still add some regularisation to control overfitting."
      ]
    },
    {
      "cell_type": "code",
      "metadata": {
        "id": "s6F6a8LjxgWG",
        "colab": {
          "base_uri": "https://localhost:8080/",
          "height": 666
        },
        "outputId": "3e5e0ed3-96d6-4260-f4d7-e5fc0ce00191"
      },
      "source": [
        "def  make_model():\n",
        "  model = keras.models.Sequential()\n",
        "  model.add(embedding_layer)\n",
        "  model.add(keras.layers.LSTM(32, recurrent_dropout=0.2))\n",
        "  model.add(keras.layers.Dropout(0.2))\n",
        "  model.add(keras.layers.Dense(1, activation=\"sigmoid\"))\n",
        "  return model\n",
        "\n",
        "model = make_model()\n",
        "model.summary()\n",
        "\n",
        "model.compile(optimizer='rmsprop',\n",
        "              loss='binary_crossentropy',\n",
        "              metrics=['acc'])\n",
        "\n",
        "history = model.fit(x_train, y_train,\n",
        "                    epochs=10,\n",
        "                    batch_size=128,\n",
        "                    validation_split=0.2)"
      ],
      "execution_count": null,
      "outputs": [
        {
          "output_type": "stream",
          "text": [
            "WARNING:tensorflow:Layer lstm_4 will not use cuDNN kernel since it doesn't meet the cuDNN kernel criteria. It will use generic GPU kernel as fallback when running on GPU\n",
            "Model: \"sequential_2\"\n",
            "_________________________________________________________________\n",
            "Layer (type)                 Output Shape              Param #   \n",
            "=================================================================\n",
            "embedding (Embedding)        (None, None, 100)         1000000   \n",
            "_________________________________________________________________\n",
            "lstm_4 (LSTM)                (None, 32)                17024     \n",
            "_________________________________________________________________\n",
            "dropout (Dropout)            (None, 32)                0         \n",
            "_________________________________________________________________\n",
            "dense_2 (Dense)              (None, 1)                 33        \n",
            "=================================================================\n",
            "Total params: 1,017,057\n",
            "Trainable params: 1,017,057\n",
            "Non-trainable params: 0\n",
            "_________________________________________________________________\n",
            "Epoch 1/10\n",
            "157/157 [==============================] - 300s 2s/step - loss: 0.4664 - acc: 0.7835 - val_loss: 0.3973 - val_acc: 0.8320\n",
            "Epoch 2/10\n",
            "157/157 [==============================] - 301s 2s/step - loss: 0.3317 - acc: 0.8669 - val_loss: 0.3392 - val_acc: 0.8574\n",
            "Epoch 3/10\n",
            "157/157 [==============================] - 301s 2s/step - loss: 0.2602 - acc: 0.9000 - val_loss: 0.4860 - val_acc: 0.8380\n",
            "Epoch 4/10\n",
            "157/157 [==============================] - 301s 2s/step - loss: 0.2109 - acc: 0.9222 - val_loss: 0.3306 - val_acc: 0.8788\n",
            "Epoch 5/10\n",
            "157/157 [==============================] - 302s 2s/step - loss: 0.1778 - acc: 0.9357 - val_loss: 0.2988 - val_acc: 0.8884\n",
            "Epoch 6/10\n",
            "157/157 [==============================] - 301s 2s/step - loss: 0.1479 - acc: 0.9480 - val_loss: 0.2983 - val_acc: 0.8902\n",
            "Epoch 7/10\n",
            "157/157 [==============================] - 301s 2s/step - loss: 0.1292 - acc: 0.9538 - val_loss: 0.3276 - val_acc: 0.8846\n",
            "Epoch 8/10\n",
            "157/157 [==============================] - 300s 2s/step - loss: 0.1131 - acc: 0.9603 - val_loss: 0.3847 - val_acc: 0.8878\n",
            "Epoch 9/10\n",
            "157/157 [==============================] - 301s 2s/step - loss: 0.0989 - acc: 0.9667 - val_loss: 0.5073 - val_acc: 0.8350\n",
            "Epoch 10/10\n",
            "157/157 [==============================] - 301s 2s/step - loss: 0.0878 - acc: 0.9711 - val_loss: 0.4445 - val_acc: 0.8802\n"
          ],
          "name": "stdout"
        }
      ]
    },
    {
      "cell_type": "markdown",
      "metadata": {
        "id": "3ueciGIU_lh7"
      },
      "source": [
        "As you can see, the training is much slower with the added recurrence dropout."
      ]
    },
    {
      "cell_type": "code",
      "metadata": {
        "id": "dTBLdr90x890",
        "colab": {
          "base_uri": "https://localhost:8080/",
          "height": 545
        },
        "outputId": "2250d20c-afe9-4f8d-edbb-30f569aa8ccc"
      },
      "source": [
        "import matplotlib.pyplot as plt\n",
        "\n",
        "acc = history.history['acc']\n",
        "val_acc = history.history['val_acc']\n",
        "loss = history.history['loss']\n",
        "val_loss = history.history['val_loss']\n",
        "\n",
        "epochs = range(len(acc))\n",
        "\n",
        "plt.plot(epochs, acc, 'bo', label='Training acc')\n",
        "plt.plot(epochs, val_acc, 'b', label='Validation acc')\n",
        "plt.title('Training and validation accuracy')\n",
        "plt.legend()\n",
        "\n",
        "plt.figure()\n",
        "\n",
        "plt.plot(epochs, loss, 'bo', label='Training loss')\n",
        "plt.plot(epochs, val_loss, 'b', label='Validation loss')\n",
        "plt.title('Training and validation loss')\n",
        "plt.legend()\n",
        "\n",
        "plt.show()"
      ],
      "execution_count": null,
      "outputs": [
        {
          "output_type": "display_data",
          "data": {
            "image/png": "[encoded data removed]",
            "text/plain": [
              "<Figure size 432x288 with 1 Axes>"
            ]
          },
          "metadata": {
            "tags": [],
            "needs_background": "light"
          }
        },
        {
          "output_type": "display_data",
          "data": {
            "image/png": "[encoded data removed]",
            "text/plain": [
              "<Figure size 432x288 with 1 Axes>"
            ]
          },
          "metadata": {
            "tags": [],
            "needs_background": "light"
          }
        }
      ]
    },
    {
      "cell_type": "markdown",
      "metadata": {
        "id": "gDM4TF-Y0KTB"
      },
      "source": [
        "**question** How did the addition of recurrent dropout affect the training speed? Measure the difference in training time.\n",
        "\n",
        "**exercise** Try to use a bidirectional LSTM and see if the validation accuracy improves. Then try two layers of bidirectional LSTM."
      ]
    },
    {
      "cell_type": "markdown",
      "metadata": {
        "id": "mjrOdskfuGYx"
      },
      "source": [
        "## Additional resources\n",
        "\n",
        "- [Recurrent Neural Networks (RNN) with Keras](https://www.tensorflow.org/guide/keras/rnn)"
      ]
    }
  ]
}