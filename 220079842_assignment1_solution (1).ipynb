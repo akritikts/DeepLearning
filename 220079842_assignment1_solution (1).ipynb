{
  "nbformat": 4,
  "nbformat_minor": 0,
  "metadata": {
    "file_extension": ".py",
    "kernelspec": {
      "name": "python3",
      "display_name": "Python 3"
    },
    "language_info": {
      "codemirror_mode": {
        "name": "ipython",
        "version": 3
      },
      "file_extension": ".py",
      "mimetype": "text/x-python",
      "name": "python",
      "nbconvert_exporter": "python",
      "pygments_lexer": "ipython3",
      "version": "3.7.6"
    },
    "mimetype": "text/x-python",
    "name": "python",
    "npconvert_exporter": "python",
    "pygments_lexer": "ipython3",
    "version": 3,
    "colab": {
      "name": "220079842_assignment1_solution.ipynb",
      "provenance": [],
      "collapsed_sections": []
    },
    "accelerator": "GPU"
  },
  "cells": [
    {
      "cell_type": "markdown",
      "metadata": {
        "id": "v81NrNYlAzIm"
      },
      "source": [
        "# SIT744 Assignment 1: Image Classification with Deep Feedforward Neural Network\n",
        "\n",
        "<div class=\"alert-info\">\n",
        "    <p>Due: <strong>8:00 pm (AEST) 19 April 2021</strong>  (Monday)</p>\n",
        "\n",
        "\n",
        "This is an <strong>individual</strong> assignment. It contributes <strong>30%</strong> to your final mark. Read the assignment instruction carefully.\n",
        "\n",
        "<h2> What to submit </h2>\n",
        "\n",
        "<p>\n",
        "This assignment is to be completed individually and submitted to CloudDeakin. <strong>By the due date, you are required to submit the following files to the corresponding Assignment (Dropbox) in CloudDeakin</strong>:\n",
        "\n",
        "<ol>\n",
        "<li>\t<strong>[YourID]_assignment1_solution.ipynp</strong>:  This is your Python notebook solution source file. </li>\n",
        "<li>\t<strong>[YourID]_assingment1_output.html</strong>: This is the output of your Python notebook solution <emph>exported</emph> in HTML format.</li>\n",
        "<li>\tExtra files needed to complete your assignment, if any (e.g., images used in your answers).</li>\n",
        "</ol>\n",
        "</p>\n",
        "\n",
        "<p>\n",
        "For example, if your student ID is: 123456, you will then need to submit the following files:\n",
        "<ul>\n",
        "<li> 123456_assignment1_solution.ipynp </li>\n",
        "<li> 123456_assignment1_output.html</li>\n",
        "</ul>\n",
        "</p>\n",
        "\n",
        "<h2> Marking criteria </h2>\n",
        "\n",
        "<p>\n",
        "Your submission will be marked using the following criteria.\n",
        "\n",
        "<ul>\n",
        "<li> Showing good effort through completed tasks.</li>\n",
        "<li> Applying deep learning theory to design suitable deep learning solutions for the tasks.</li>\n",
        "<li> Critically evaluating and reflecting on the pros and cons of various design decisions.</li>\n",
        "<li> Demonstrating creativity and resourcefulness in providing unique individual solutions. (<em>Warning: Highly similar solutions will be investigated for collusion.</em>)</li>\n",
        "<li> Showing attention to details through a good quality assignment report.</li>\n",
        "</ul>\n",
        "</p>\n",
        "\n",
        "<p>\n",
        "Indicative weights of various tasks are provided below, but the assignment will be marked by the overall quality per the above criteria. \n",
        "</p>\n",
        "</div>"
      ]
    },
    {
      "cell_type": "code",
      "metadata": {
        "id": "5QKV13ZpxFel"
      },
      "source": [
        ""
      ],
      "execution_count": null,
      "outputs": []
    },
    {
      "cell_type": "code",
      "metadata": {
        "id": "9T3o8w5jvP_Y"
      },
      "source": [
        "\n",
        "\n",
        "\n",
        "\n"
      ],
      "execution_count": null,
      "outputs": []
    },
    {
      "cell_type": "markdown",
      "metadata": {
        "id": "JOr2bP8kAzKE"
      },
      "source": [
        "## Assignment objective\n",
        "\n",
        "\n",
        "\n",
        "This assignment is for you to demonstrate the knowledge in deep learning that you have acquired from the lectures and practical lab materials. Most tasks in this assignment are straightforward applications of the practical materials in weeks 1-5. Going through these materials before attempting this assignment is highly recommended.\n",
        "\n",
        "In this assignment, you are going to work with the Fashion-MNIST dataset for image recognition. The dataset contains 10 classes of 28x28 grayscale images. You will see some examples in the visualization task below. \n",
        "\n",
        "This assignment consists of five tasks.\n"
      ]
    },
    {
      "cell_type": "markdown",
      "metadata": {
        "id": "cDqvFgbRAzKG"
      },
      "source": [
        "## Task 1 Load the data\n",
        "\n",
        "*(weight ~5%)*\n",
        "\n",
        "Load the Fashion MNIST dataset (https://github.com/zalandoresearch/fashion-mnist). You may get the data via Keras (keras.datasets) or Tensorflow Datasets (tfds). "
      ]
    },
    {
      "cell_type": "code",
      "metadata": {
        "id": "Krg_ro9M-t_k"
      },
      "source": [
        "import tensorflow as tf\n",
        "import tensorflow_datasets\n",
        "import math\n",
        "import numpy as np\n",
        "\n",
        "# Loading the data using tensorflow\n",
        "fashion_mnist = tf.keras.datasets.fashion_mnist\n",
        "\n",
        "(train_images, train_labels), (test_images, test_labels) = fashion_mnist.load_data()\n",
        "\n",
        "# class names\n",
        "class_names = ['T-shirt/top', 'Trouser', 'Pullover', 'Dress', 'Coat',\n",
        "               'Sandal', 'Shirt', 'Sneaker', 'Bag', 'Ankle boot']"
      ],
      "execution_count": 1,
      "outputs": []
    },
    {
      "cell_type": "markdown",
      "metadata": {
        "id": "nFbty6i5AzKm"
      },
      "source": [
        "## Task 2 Understand the data\n",
        "\n",
        "*(weight ~15%)*\n",
        "\n"
      ]
    },
    {
      "cell_type": "code",
      "metadata": {
        "colab": {
          "base_uri": "https://localhost:8080/",
          "height": 826
        },
        "id": "Vg6WnS54Cl_G",
        "outputId": "540eebc7-27e3-4fe5-c5ef-3d216e89c5d2"
      },
      "source": [
        "import matplotlib.pyplot as plt\n",
        "\n",
        "# 25 images from the train set in the form of 5x5 matrix\n",
        "print(\"25 images from the train set in the form of 5x5 matrix\")\n",
        "plt.figure(figsize=(5,5))\n",
        "for i in range(25):\n",
        "    plt.subplot(5,5,i+1)\n",
        "    plt.xticks([])\n",
        "    plt.yticks([])\n",
        "    plt.grid(False)\n",
        "    plt.imshow(train_images[i])\n",
        "plt.show()\n",
        "\n",
        "# training data\n",
        "print(\"Data type of training data: \", train_images.dtype)\n",
        "print(\"Shape of training data: \", train_images.shape)\n",
        "print(\"Data type of training labels: \", train_labels.dtype)\n",
        "print(\"Shape of training labels: \", train_labels.shape)\n",
        "print(\"Length of training data: \", len(train_labels))\n",
        "\n",
        "# test data\n",
        "print(\"Data type of test data: \", test_images.dtype)\n",
        "print(\"Shape of test data: \", test_images.shape)\n",
        "print(\"Data type of test labels: \", test_labels.dtype)\n",
        "print(\"Shape of test labels: \", test_labels.shape)\n",
        "print(\"Length of test data: \", len(test_images))\n",
        "\n",
        "# unique labels in the data\n",
        "print(\"Labels  in the data: \", np.unique(test_labels))\n",
        "\n",
        "# size of each image\n",
        "print(\"Size of each image\", train_images[0].shape)\n",
        "\n",
        "# memory required for training data\n",
        "print(\"Memory required for training data: \", train_images.size * train_images.itemsize, \"bytes\")\n",
        "\n",
        "\n",
        "# plotting the numeric range of input\n",
        "print(\"\\nPlotting the numeric range of input: [0-255]\")\n",
        "plt.figure()\n",
        "plt.imshow(train_images[100])\n",
        "plt.colorbar()\n",
        "plt.grid(False)\n",
        "plt.show()\n",
        "\n",
        "\n",
        "# The numeric range of input data is in the range [0,255], these values need to be normalized to the range [0,1]. \n",
        "# Normalisation ensures that each input parameter (pixel, in this case) has a similar data distribution. \n",
        "# This makes convergence faster while training the network.\n",
        "\n",
        "# normalisation\n",
        "train_images = train_images / 255.0\n",
        "test_images = test_images / 255.0"
      ],
      "execution_count": 2,
      "outputs": [
        {
          "output_type": "stream",
          "text": [
            "25 images from the train set in the form of 5x5 matrix\n"
          ],
          "name": "stdout"
        },
        {
          "output_type": "display_data",
          "data": {
            "image/png": "[encoded data removed]",
            "text/plain": [
              "<Figure size 360x360 with 25 Axes>"
            ]
          },
          "metadata": {
            "tags": []
          }
        },
        {
          "output_type": "stream",
          "text": [
            "Data type of training data:  uint8\n",
            "Shape of training data:  (60000, 28, 28)\n",
            "Data type of training labels:  uint8\n",
            "Shape of training labels:  (60000,)\n",
            "Length of training data:  60000\n",
            "Data type of test data:  uint8\n",
            "Shape of test data:  (10000, 28, 28)\n",
            "Data type of test labels:  uint8\n",
            "Shape of test labels:  (10000,)\n",
            "Length of test data:  10000\n",
            "Labels  in the data:  [0 1 2 3 4 5 6 7 8 9]\n",
            "Size of each image (28, 28)\n",
            "Memory required for training data:  47040000 bytes\n",
            "\n",
            "Plotting the numeric range of input: [0-255]\n"
          ],
          "name": "stdout"
        },
        {
          "output_type": "display_data",
          "data": {
            "image/png": "[encoded data removed]",
            "text/plain": [
              "<Figure size 432x288 with 2 Axes>"
            ]
          },
          "metadata": {
            "tags": [],
            "needs_background": "light"
          }
        }
      ]
    },
    {
      "cell_type": "markdown",
      "metadata": {
        "id": "PLYAtx-ZAzKo"
      },
      "source": [
        "Display 25 images from the train set in the form of 5x5 matrix.\n",
        "\n",
        "Answer the following questions:\n",
        "\n",
        "1. What are the data types and shapes of the features and the label? \n",
        "2. What are the unique labels in this dataset?\n",
        "3. How many training images and how many test images?\n",
        "4. What is the size of each image? How much memory is required for holding the whole training data.\n",
        "5. Find out the numeric range of the input. Do we need to rescale the input? Why?\n",
        " "
      ]
    },
    {
      "cell_type": "markdown",
      "metadata": {
        "id": "-tkl-PwsrXip"
      },
      "source": [
        "## Task 3 Construct an input pipeline\n",
        "\n",
        "*(weight ~15%)*\n",
        "\n",
        "Creat train/validate/test data splits and construct tf.data pipelines. Make sure that the training data is batched. \n",
        "\n",
        "- How do you determine the batch size?\n",
        "- Do we need to shuffle the training data? If yes, how do you determine the buffer size?\n"
      ]
    },
    {
      "cell_type": "code",
      "metadata": {
        "id": "hVmNO1PzOU6E"
      },
      "source": [
        "# train, test and validation splits\n",
        "\n",
        "# defining batch size\n",
        "BATCH_SIZE = 512\n",
        "# training dataset\n",
        "fmnist_train_ds = tf.data.Dataset.from_tensor_slices((train_images, train_labels))\n",
        "fmnist_train_ds = fmnist_train_ds.shuffle(5000).batch(BATCH_SIZE)\n",
        "\n",
        "\n",
        "# test dataset\n",
        "fmnist_test_ds = tf.data.Dataset.from_tensor_slices((test_images, test_labels))\n",
        "fmnist_test_ds = fmnist_test_ds.shuffle(5000).batch(BATCH_SIZE)\n",
        "\n",
        "# picking out the validation set from the training dataset\n",
        "fmnist_train = fmnist_train_ds.take(round(len(train_labels)*0.7))\n",
        "fmnist_val = fmnist_train_ds.skip(round(len(train_labels)*0.7))\n",
        "\n",
        "\n",
        "# batch size should be in powers of 2 and the larger the better, provided that the batch fits into the (GPU) memory;\n",
        "# small batches can offer a regularizing effect, perhaps due to the noise they add to the learning process.\n",
        "# larger batches provide a more accurate estimate of the gradient.\n",
        "# the batch size here is 32.\n",
        "# train-data shuffling ensures that the model gets to see all permutauions of input in every batch.\n",
        "\n"
      ],
      "execution_count": 3,
      "outputs": []
    },
    {
      "cell_type": "code",
      "metadata": {
        "id": "CawIS4uLiDE5"
      },
      "source": [
        ""
      ],
      "execution_count": 3,
      "outputs": []
    },
    {
      "cell_type": "markdown",
      "metadata": {
        "id": "lnE7ZFS_AzLg"
      },
      "source": [
        "## Task 4 Construct a deep forward neural network\n",
        "\n",
        "*(weight ~35%)*"
      ]
    },
    {
      "cell_type": "markdown",
      "metadata": {
        "id": "ChlhkwhkAzLi"
      },
      "source": [
        "### Task 4.1 Setting up a model for training"
      ]
    },
    {
      "cell_type": "markdown",
      "metadata": {
        "id": "yuxhQM6jAzLl"
      },
      "source": [
        "Construct a deep feedforward neural network. You need to decide and report the following configurations:\n",
        "\n",
        "- Output layer: \n",
        "    - How many output nodes?\n",
        "    - Which activation function?\n",
        "- Hidden layers:\n",
        "    - How many hidden layers?\n",
        "    - How many nodes in each layer?\n",
        "    - Which activation function for each layer?\n",
        "- Input layer\n",
        "    - What is the input size?\n",
        "- The loss function\n",
        "- The metrics for model evaluation (which may be different from the loss function)\n",
        "- The optimiser\n",
        "\n",
        "Justify your model design decisions.\n",
        "\n",
        "Plot the model structure `using keras.utils.plot_model` or similar tools.\n",
        "\n",
        "What is the number of trainable parameters in the model. Explain how the total number can be estimated from the model configurations."
      ]
    },
    {
      "cell_type": "code",
      "metadata": {
        "id": "dpH3urepb_6v"
      },
      "source": [
        "# Different layers are appropriate for different tensor formats and different types of data processing. \n",
        "# Simple vector data, stored in 2D tensors of shape (samples, features), is often processed by densely connected layers.\n",
        "\n",
        "# single-label, multiclass classification problem\n",
        "\n",
        "# Layer-1: Flattening: Input Image: 28*28 = 784 pixels, gets converted into a 1D array;\n",
        "# Layer-2: Dense layer: 128 units, relu allows the model to solve nonlinear problems;\n",
        "# Layer-3: Output layer: 10 units, softmax provides probabilities for each possible output class, as this is a case of single-label, multiclass classification problem;\n",
        "\n",
        "\n",
        "model = tf.keras.Sequential([\n",
        "    tf.keras.layers.Flatten(input_shape=(28, 28, 1)),\n",
        "    tf.keras.layers.Dense(128, activation=tf.nn.relu),\n",
        "    tf.keras.layers.Dense(10, activation=tf.nn.softmax)\n",
        "])"
      ],
      "execution_count": 4,
      "outputs": []
    },
    {
      "cell_type": "code",
      "metadata": {
        "id": "jVZawM4BcKJr"
      },
      "source": [
        "# Categorical crossentropy loss function is almost always suited for multiclass classification.\n",
        "# It minimizes the distance between the probability distributions output by the network and the true distribution of the targets.\n",
        "# Since, the labels here are encoded as integers, SparseCategoricalCrossentropy() is used.\n",
        "\n",
        "# Accuracy works well to evaluate a classification model as the outputs are discreate labels.\n",
        "\n",
        "model.compile(optimizer='adam',\n",
        "              loss=tf.keras.losses.SparseCategoricalCrossentropy(),\n",
        "              metrics=['accuracy'])"
      ],
      "execution_count": 5,
      "outputs": []
    },
    {
      "cell_type": "code",
      "metadata": {
        "colab": {
          "base_uri": "https://localhost:8080/",
          "height": 422
        },
        "id": "2yELI3vhBLTq",
        "outputId": "8f47a514-17d2-4220-f406-c3b2b444191a"
      },
      "source": [
        "from tensorflow.keras.utils import plot_model\n",
        "plot_model(model, show_shapes=True)"
      ],
      "execution_count": 6,
      "outputs": [
        {
          "output_type": "execute_result",
          "data": {
            "image/png": "[encoded data removed]",
            "text/plain": [
              "<IPython.core.display.Image object>"
            ]
          },
          "metadata": {
            "tags": []
          },
          "execution_count": 6
        }
      ]
    },
    {
      "cell_type": "code",
      "metadata": {
        "id": "MEaLJ9bZE446"
      },
      "source": [
        "# saving the initial weights for later experiments\n",
        "init_weights = model.get_weights()"
      ],
      "execution_count": 7,
      "outputs": []
    },
    {
      "cell_type": "markdown",
      "metadata": {
        "id": "MZ2BVK5tAzMM"
      },
      "source": [
        "### Task 4.2 Fitting the model\n",
        "\n",
        "Before you fit the model. Think about what initialisation method have you chosen? If you did not specify the initialisation method, find out what is the default one. Choose a layer and visualise its initial weights. (Hint: You may use UMAP to visualise a collection of high-dimension vectors.)\n",
        "\n",
        "Decide and report the following training setting:\n",
        "\n",
        "1. The training batch size\n",
        "2. The number of training epochs (at least 1,000 epochs recommended)\n",
        "3. The learning rate. If you used momentum or a learning rate schedule, please report the configuration as well.\n",
        "\n",
        "Now fit the model. Show how the training loss changes. How did you decide when to stop training?\n",
        "\n",
        "After fitting the model, visualise the model weights again. How did the weights change? Why?\n",
        "\n",
        "\n"
      ]
    },
    {
      "cell_type": "code",
      "metadata": {
        "colab": {
          "base_uri": "https://localhost:8080/"
        },
        "id": "-F2RvaPdcRdz",
        "outputId": "05c01f56-da36-4080-902b-5ff527db9ec5"
      },
      "source": [
        "tf.config.run_functions_eagerly(True)\n",
        "\n",
        "model.fit(fmnist_train_ds, epochs=50, steps_per_epoch=math.ceil(len(train_labels)/BATCH_SIZE))"
      ],
      "execution_count": 8,
      "outputs": [
        {
          "output_type": "stream",
          "text": [
            "Epoch 1/50\n",
            "118/118 [==============================] - 2s 14ms/step - loss: 0.9942 - accuracy: 0.6700\n",
            "Epoch 2/50\n",
            "118/118 [==============================] - 2s 14ms/step - loss: 0.4711 - accuracy: 0.8413\n",
            "Epoch 3/50\n",
            "118/118 [==============================] - 2s 14ms/step - loss: 0.4256 - accuracy: 0.8536\n",
            "Epoch 4/50\n",
            "118/118 [==============================] - 2s 14ms/step - loss: 0.3897 - accuracy: 0.8665\n",
            "Epoch 5/50\n",
            "118/118 [==============================] - 2s 13ms/step - loss: 0.3739 - accuracy: 0.8700\n",
            "Epoch 6/50\n",
            "118/118 [==============================] - 2s 14ms/step - loss: 0.3526 - accuracy: 0.8758\n",
            "Epoch 7/50\n",
            "118/118 [==============================] - 2s 14ms/step - loss: 0.3417 - accuracy: 0.8785\n",
            "Epoch 8/50\n",
            "118/118 [==============================] - 2s 14ms/step - loss: 0.3326 - accuracy: 0.8803\n",
            "Epoch 9/50\n",
            "118/118 [==============================] - 2s 14ms/step - loss: 0.3185 - accuracy: 0.8868\n",
            "Epoch 10/50\n",
            "118/118 [==============================] - 2s 14ms/step - loss: 0.3131 - accuracy: 0.8874\n",
            "Epoch 11/50\n",
            "118/118 [==============================] - 2s 14ms/step - loss: 0.3017 - accuracy: 0.8914\n",
            "Epoch 12/50\n",
            "118/118 [==============================] - 2s 14ms/step - loss: 0.2959 - accuracy: 0.8927\n",
            "Epoch 13/50\n",
            "118/118 [==============================] - 2s 14ms/step - loss: 0.2916 - accuracy: 0.8941\n",
            "Epoch 14/50\n",
            "118/118 [==============================] - 2s 14ms/step - loss: 0.2784 - accuracy: 0.8989\n",
            "Epoch 15/50\n",
            "118/118 [==============================] - 2s 13ms/step - loss: 0.2770 - accuracy: 0.8989\n",
            "Epoch 16/50\n",
            "118/118 [==============================] - 2s 14ms/step - loss: 0.2680 - accuracy: 0.9030\n",
            "Epoch 17/50\n",
            "118/118 [==============================] - 2s 14ms/step - loss: 0.2607 - accuracy: 0.9061\n",
            "Epoch 18/50\n",
            "118/118 [==============================] - 2s 13ms/step - loss: 0.2585 - accuracy: 0.9058\n",
            "Epoch 19/50\n",
            "118/118 [==============================] - 2s 13ms/step - loss: 0.2543 - accuracy: 0.9083\n",
            "Epoch 20/50\n",
            "118/118 [==============================] - 2s 14ms/step - loss: 0.2482 - accuracy: 0.9087\n",
            "Epoch 21/50\n",
            "118/118 [==============================] - 2s 14ms/step - loss: 0.2496 - accuracy: 0.9093\n",
            "Epoch 22/50\n",
            "118/118 [==============================] - 2s 14ms/step - loss: 0.2418 - accuracy: 0.9127\n",
            "Epoch 23/50\n",
            "118/118 [==============================] - 2s 14ms/step - loss: 0.2357 - accuracy: 0.9166\n",
            "Epoch 24/50\n",
            "118/118 [==============================] - 2s 14ms/step - loss: 0.2343 - accuracy: 0.9159\n",
            "Epoch 25/50\n",
            "118/118 [==============================] - 2s 14ms/step - loss: 0.2271 - accuracy: 0.9173\n",
            "Epoch 26/50\n",
            "118/118 [==============================] - 2s 13ms/step - loss: 0.2257 - accuracy: 0.9186\n",
            "Epoch 27/50\n",
            "118/118 [==============================] - 2s 14ms/step - loss: 0.2188 - accuracy: 0.9221\n",
            "Epoch 28/50\n",
            "118/118 [==============================] - 2s 15ms/step - loss: 0.2217 - accuracy: 0.9178\n",
            "Epoch 29/50\n",
            "118/118 [==============================] - 2s 14ms/step - loss: 0.2231 - accuracy: 0.9181\n",
            "Epoch 30/50\n",
            "118/118 [==============================] - 2s 14ms/step - loss: 0.2140 - accuracy: 0.9233\n",
            "Epoch 31/50\n",
            "118/118 [==============================] - 2s 14ms/step - loss: 0.2107 - accuracy: 0.9224\n",
            "Epoch 32/50\n",
            "118/118 [==============================] - 2s 14ms/step - loss: 0.2083 - accuracy: 0.9251\n",
            "Epoch 33/50\n",
            "118/118 [==============================] - 2s 14ms/step - loss: 0.2032 - accuracy: 0.9268\n",
            "Epoch 34/50\n",
            "118/118 [==============================] - 2s 14ms/step - loss: 0.2028 - accuracy: 0.9259\n",
            "Epoch 35/50\n",
            "118/118 [==============================] - 2s 14ms/step - loss: 0.1975 - accuracy: 0.9287\n",
            "Epoch 36/50\n",
            "118/118 [==============================] - 2s 14ms/step - loss: 0.2000 - accuracy: 0.9268\n",
            "Epoch 37/50\n",
            "118/118 [==============================] - 2s 14ms/step - loss: 0.1905 - accuracy: 0.9316\n",
            "Epoch 38/50\n",
            "118/118 [==============================] - 2s 14ms/step - loss: 0.1904 - accuracy: 0.9310\n",
            "Epoch 39/50\n",
            "118/118 [==============================] - 2s 14ms/step - loss: 0.1917 - accuracy: 0.9295\n",
            "Epoch 40/50\n",
            "118/118 [==============================] - 2s 14ms/step - loss: 0.1821 - accuracy: 0.9345\n",
            "Epoch 41/50\n",
            "118/118 [==============================] - 2s 14ms/step - loss: 0.1803 - accuracy: 0.9357\n",
            "Epoch 42/50\n",
            "118/118 [==============================] - 2s 14ms/step - loss: 0.1808 - accuracy: 0.9350\n",
            "Epoch 43/50\n",
            "118/118 [==============================] - 2s 14ms/step - loss: 0.1767 - accuracy: 0.9366\n",
            "Epoch 44/50\n",
            "118/118 [==============================] - 2s 14ms/step - loss: 0.1705 - accuracy: 0.9395\n",
            "Epoch 45/50\n",
            "118/118 [==============================] - 2s 13ms/step - loss: 0.1695 - accuracy: 0.9395\n",
            "Epoch 46/50\n",
            "118/118 [==============================] - 2s 14ms/step - loss: 0.1714 - accuracy: 0.9388\n",
            "Epoch 47/50\n",
            "118/118 [==============================] - 2s 14ms/step - loss: 0.1698 - accuracy: 0.9383\n",
            "Epoch 48/50\n",
            "118/118 [==============================] - 2s 14ms/step - loss: 0.1695 - accuracy: 0.9383\n",
            "Epoch 49/50\n",
            "118/118 [==============================] - 2s 14ms/step - loss: 0.1646 - accuracy: 0.9401\n",
            "Epoch 50/50\n",
            "118/118 [==============================] - 2s 14ms/step - loss: 0.1583 - accuracy: 0.9443\n"
          ],
          "name": "stdout"
        },
        {
          "output_type": "execute_result",
          "data": {
            "text/plain": [
              "<tensorflow.python.keras.callbacks.History at 0x7f2a984f5a50>"
            ]
          },
          "metadata": {
            "tags": []
          },
          "execution_count": 8
        }
      ]
    },
    {
      "cell_type": "code",
      "metadata": {
        "colab": {
          "base_uri": "https://localhost:8080/"
        },
        "id": "EsBPCoXMin7k",
        "outputId": "db2a7d56-6914-4125-c0d4-8a700e0649ab"
      },
      "source": [
        "history = model.fit(\n",
        "    fmnist_train,\n",
        "    validation_data=fmnist_val,\n",
        "    epochs=1000, batch_size=128) "
      ],
      "execution_count": null,
      "outputs": [
        {
          "output_type": "stream",
          "text": [
            "Epoch 1/1000\n",
            "\r  1/118 [..............................] - ETA: 4s - loss: 0.1644 - accuracy: 0.9355"
          ],
          "name": "stdout"
        }
      ]
    },
    {
      "cell_type": "code",
      "metadata": {
        "id": "ZydRZpuI9zp9"
      },
      "source": [
        "import matplotlib.pyplot as plt\n",
        "\n",
        "# Plot training accuracy values\n",
        "plt.plot(history.history['accuracy'])\n",
        "plt.title('Model accuracy')\n",
        "plt.ylabel('Accuracy')\n",
        "plt.xlabel('Epoch')\n",
        "plt.show()\n",
        "\n",
        "# Plot training loss values\n",
        "plt.plot(history.history['loss'])\n",
        "plt.title('Model loss')\n",
        "plt.ylabel('Loss')\n",
        "plt.xlabel('Epoch')\n",
        "plt.show()\n"
      ],
      "execution_count": null,
      "outputs": []
    },
    {
      "cell_type": "code",
      "metadata": {
        "id": "edSDDugWr5Bj"
      },
      "source": [
        "import pandas as pd\n",
        "import matplotlib.pyplot as plt\n",
        "pd.DataFrame(history.history).plot(figsize=(12, 7))\n",
        "plt.grid(True)\n",
        "plt.gca().set_ylim(0, 1) # set the vertical range to [0-1]\n",
        "plt.show()\n"
      ],
      "execution_count": null,
      "outputs": []
    },
    {
      "cell_type": "markdown",
      "metadata": {
        "id": "9C2VXCM-4Nw9"
      },
      "source": [
        "### Task 4.3 Check the training using TensorBoard\n",
        "\n",
        "Use TensorBoard to visualise the training process. Show screenshots of your TensorBoard output.\n",
        "\n",
        "**Optional task:** Record the gradients during training and use TensorBoard to visualise the gradients."
      ]
    },
    {
      "cell_type": "code",
      "metadata": {
        "id": "gHQVKiwwFYSi"
      },
      "source": [
        "!rm -rf ./logs/\n",
        "\n",
        "from datetime import datetime\n",
        "import os\n",
        "\n",
        "root_logdir = \"logs\"\n",
        "run_id = datetime.now().strftime(\"%Y%m%d-%H%M%S\")\n",
        "logdir = os.path.join(root_logdir, run_id)\n",
        "\n",
        "callbacks = [\n",
        "    tf.keras.callbacks.TensorBoard(\n",
        "        log_dir=logdir,\n",
        "        histogram_freq=1\n",
        "    )\n",
        "]\n",
        "\n",
        "\n",
        "# reset the training\n",
        "model.set_weights(init_weights)\n",
        "\n",
        "history = model.fit(train_images, \n",
        "                      train_labels, \n",
        "                      epochs=20, \n",
        "                      batch_size=128,\n",
        "                      callbacks=callbacks)"
      ],
      "execution_count": null,
      "outputs": []
    },
    {
      "cell_type": "code",
      "metadata": {
        "id": "X5L0t5dKFfMT"
      },
      "source": [
        "%reload_ext tensorboard\n",
        "%tensorboard --logdir=logs"
      ],
      "execution_count": null,
      "outputs": []
    },
    {
      "cell_type": "code",
      "metadata": {
        "id": "oxltxSp5jt5T"
      },
      "source": [
        "test_loss, test_accuracy = model.evaluate(fmnist_test_ds, steps=math.ceil(len(test_labels)/32))\n",
        "print('Accuracy on test dataset:', test_accuracy)"
      ],
      "execution_count": null,
      "outputs": []
    },
    {
      "cell_type": "markdown",
      "metadata": {
        "id": "4EgXZCBNAzMs"
      },
      "source": [
        "## Task 5 Overfitting and regularisation\n",
        "\n",
        "*(weight ~30%)*\n",
        "\n",
        "Go back to the previous task. Plot the training and validation loss and accuracy. Answer the following questions:\n",
        "\n",
        "1. Do you see overfitting or underfitting? Why?\n",
        "2. If you see overfitting, at which epoch did it happen?\n",
        "\n",
        "Now retrain the model with only 200 training examples. (Make sure that you  reinitialise the weights before retraining.) Do you see overfitting? How did the validation loss and accuracy change?\n",
        "\n",
        "Neural networks are overparametrised models, meaning there can be more parameters than the training examples. Some form of regularisation is almost always necessary to obtain a useful model. Below are some options:\n",
        "\n",
        "1. Add dropout\n",
        "2. Add Batch Normalisation\n",
        "3. Add layer-specific weight regularizations\n",
        "4. Change the learning rate\n",
        "\n",
        "In addition, you may also try changing the weight initialisation method.\n",
        "\n",
        "Apply different regularisation techniques to the model training. You may also try other techniques for improving training such as learning rate scheduling (see https://www.tensorflow.org/guide/keras/train_and_evaluate#using_learning_rate_schedules).\n",
        "\n",
        "Run **five or more** experiments of different training configurations and record the validation accuracy achieved in the Markdown table below. You may modify the table heading to match your experiment design.\n"
      ]
    },
    {
      "cell_type": "markdown",
      "metadata": {
        "id": "d1LRIBrEgu92"
      },
      "source": [
        "\n",
        "|Dropout (rate)   | Batch Normalisation (Y/N)  | Optimiser  | Learning Rate  | Number of Epochs   |  Validation Accuracy |\n",
        "|---|---|---|---|---|---|\n",
        "|   |   |   |   |   |   |\n",
        "|   |   |   |   |   |   |\n",
        "|   |   |   |   |   |   |\n"
      ]
    },
    {
      "cell_type": "markdown",
      "metadata": {
        "id": "dLjJA98Qgxg5"
      },
      "source": [
        "\n",
        "Answer the following questions:\n",
        "\n",
        "1. Which configuration achieved the best validation accuracy? Report the test accuracy of your final model.\n",
        "2. Which setting had the most impact and which one had the least impact?"
      ]
    },
    {
      "cell_type": "markdown",
      "metadata": {
        "id": "UgzZh0jN5ULb"
      },
      "source": [
        "## Task 6 Generate HTML output\n",
        "\n",
        "Use *nbconvert* to convert your completed notebook into an HTML file and name it **[YourID]_assingment1_output.html**."
      ]
    },
    {
      "cell_type": "markdown",
      "metadata": {
        "id": "cWbr7jjEAzNb"
      },
      "source": [
        "---\n",
        "**END OF ASSIGNMENT ONE**\n",
        "\n"
      ]
    }
  ]
}