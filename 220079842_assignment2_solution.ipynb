{
  "nbformat": 4,
  "nbformat_minor": 0,
  "metadata": {
    "colab": {
      "name": "220079842_assignment2_solution.ipynb",
      "provenance": [],
      "collapsed_sections": [
        "twFQbltnm8da",
        "zdHwmgwOpEfx",
        "cfTL_5kPsl4j",
        "prctXU4BswKK",
        "UaHLKDLas_dF",
        "IaD5oqj3lhuI",
        "adN9Tq-6lyG-",
        "9NTjVIUkmv7S",
        "AH6ZBiECzS75",
        "C8cKfAOjpn7c"
      ],
      "machine_shape": "hm"
    },
    "kernelspec": {
      "name": "python3",
      "display_name": "Python 3"
    },
    "accelerator": "GPU"
  },
  "cells": [
    {
      "cell_type": "markdown",
      "metadata": {
        "id": "wjif_5FsdOFz"
      },
      "source": [
        "# SIT744 Assignment 2: Transfer learning and Efficient Training of Deep Learning Models \n",
        "\n",
        "<div class=\"alert-info\">\n",
        "    <p>Due: <strong>8:00pm 17 May 2021</strong>  (Monday)</p>\n",
        "\n",
        "This is an <strong>individual</strong> assignment. It contributes <strong>45%</strong> to your final mark. Read the assignment instruction carefully.\n",
        "\n",
        "<h2> What to submit </h2>\n",
        "\n",
        "<p>\n",
        "This assignment is to be completed individually and submitted to CloudDeakin. <strong>By the due date, you are required to submit the following files to the corresponding Assignment (Dropbox) in CloudDeakin</strong>:\n",
        "\n",
        "<ol>\n",
        "<li>\t<strong>[YourID]_assignment2_solution.ipynp</strong>:  This is your Python notebook solution source file. </li>\n",
        "<li>\t<strong>[YourID]_assingment2_output.html</strong>: This is the output of your Python notebook solution <emph>exported</emph> in HTML format.</li>\n",
        "<li>\tExtra files needed to complete your assignment, if any (e.g., images used in your answers).</li>\n",
        "</ol>\n",
        "</p>\n",
        "\n",
        "<p>\n",
        "For example, if your student ID is: 123456, you will then need to submit the following files:\n",
        "<ul>\n",
        "<li> 123456_assignment2_solution.ipynp </li>\n",
        "<li> 123456_assignment2_output.html</li>\n",
        "</ul>\n",
        "</p>\n",
        "\n",
        "<h2> Warning </h2>\n",
        "\n",
        "Some components of this assignment may involve heavy computation that runs for a long duration. Please start early to avoid missing the assignment due date.\n",
        "\n",
        "<h2> Marking criteria </h2>\n",
        "\n",
        "<p>\n",
        "Your submission will be marked using the following criteria.\n",
        "\n",
        "<ul>\n",
        "<li> Showing good effort through completed tasks.</li>\n",
        "<li> Applying deep learning theory to design suitable deep learning solutions for the tasks.</li>\n",
        "<li> Critically evaluating and reflecting on the pros and cons of various design decisions.</li>\n",
        "<li> Demonstrating creativity and resourcefulness in providing unique individual solutions.</li>\n",
        "<li> Showing attention to details through a good quality assignment report.</li>\n",
        "</ul>\n",
        "</p>\n",
        "\n",
        "<p>\n",
        "Indicative weights of various tasks are provided, but the assignment will be marked by the overall quality per the above criteria.\n",
        "</p>\n",
        "</div>"
      ]
    },
    {
      "cell_type": "markdown",
      "metadata": {
        "id": "twFQbltnm8da"
      },
      "source": [
        "## Assignment objective\n",
        "\n",
        "This assignment is to feedback on your learning in deep learning theory and its application to  data analytics or artificial intelligence problems.  \n",
        "\n",
        "It builds on Assignment 1 but requires a higher level of mastery of deep learning theory and programming/engineering skills. In particular, you will experience training a much deeper network on a large-scale dataset. You will encounter  practical issues that help you consolidate textbook learning. "
      ]
    },
    {
      "cell_type": "markdown",
      "metadata": {
        "id": "3ITc1hw_o7qV"
      },
      "source": [
        "## Task 1 Solving Fashion-MNIST with Convolutional Neural Networks\n",
        "\n",
        "*(weight ~15%)*\n",
        "\n",
        "In Assignment 1, you tackled the image classification problem in Fashion-MNIST. There, you used a Densely Connected Neural Network. You should now know that is not an optimal model architecture for the problem. In Assignment 2, you will apply the best practices of deep-learning computer vision to achieve better image classification performance."
      ]
    },
    {
      "cell_type": "markdown",
      "metadata": {
        "id": "zdHwmgwOpEfx"
      },
      "source": [
        "### Task 1.1 Revisit Fashion-MNIST classification with DNN\n",
        "\n",
        "*(weight ~1%)*\n",
        "\n",
        "Review your Assignment 1 solution, and reproduce the experiment here. Try to improve the model without changing the model architecture.\n"
      ]
    },
    {
      "cell_type": "code",
      "metadata": {
        "id": "Dlxzmo4mOZCv"
      },
      "source": [
        "import tensorflow as tf\n",
        "import tensorflow_datasets\n",
        "import math\n",
        "import numpy as np\n",
        "import matplotlib.pyplot as plt\n",
        "from keras.layers.normalization import BatchNormalization\n",
        "from keras.regularizers import l2\n",
        "from keras.layers import Dropout\n",
        "from keras.layers import Activation\n",
        "from keras.optimizers import SGD\n",
        "from keras.optimizers import RMSprop\n",
        "from keras.callbacks import LearningRateScheduler\n",
        "from keras.callbacks import History\n",
        "\n",
        "\n",
        "# Loading the data using tensorflow\n",
        "fashion_mnist = tf.keras.datasets.fashion_mnist\n",
        "\n",
        "(train_images, train_labels), (test_images, test_labels) = fashion_mnist.load_data()\n",
        "\n",
        "# class names\n",
        "class_names = ['T-shirt/top', 'Trouser', 'Pullover', 'Dress', 'Coat',\n",
        "               'Sandal', 'Shirt', 'Sneaker', 'Bag', 'Ankle boot']"
      ],
      "execution_count": 40,
      "outputs": []
    },
    {
      "cell_type": "code",
      "metadata": {
        "id": "RLSzup0tO0kD"
      },
      "source": [
        "# train, test and validation splits\n",
        "\n",
        "train_images = train_images / 255.0\n",
        "test_images = test_images / 255.0\n",
        "\n",
        "# defining batch size\n",
        "BATCH_SIZE = 512\n",
        "# training dataset\n",
        "fmnist_train_ds = tf.data.Dataset.from_tensor_slices((train_images, train_labels))\n",
        "\n",
        "\n",
        "# test dataset\n",
        "fmnist_test_ds = tf.data.Dataset.from_tensor_slices((test_images, test_labels))\n",
        "fmnist_test_ds = fmnist_test_ds.shuffle(5000).batch(BATCH_SIZE)\n",
        "\n",
        "# picking out the validation set from the training dataset\n",
        "fmnist_train = fmnist_train_ds.take(round(len(train_labels)*0.7))\n",
        "fmnist_val = fmnist_train_ds.skip(round(len(train_labels)*0.7))\n",
        "\n",
        "\n",
        "# batch size should be in powers of 2 and the larger the better, provided that the batch fits into the (GPU) memory;\n",
        "# small batches can offer a regularizing effect, perhaps due to the noise they add to the learning process.\n",
        "# larger batches provide a more accurate estimate of the gradient.\n",
        "# the batch size here is 512.\n",
        "# train-data shuffling ensures that the model gets to see all permutauions of input in every batch."
      ],
      "execution_count": 41,
      "outputs": []
    },
    {
      "cell_type": "code",
      "metadata": {
        "id": "G7Wcy86mPZ4Q"
      },
      "source": [
        "# adding dropout, batch normalisation, changing the learning rate\n",
        "\n",
        "def optimiser_sgd(learning_rate):\n",
        "  learning_rate = learning_rate\n",
        "  decay_rate = learning_rate / 50\n",
        "  momentum = 0.8\n",
        "\n",
        "  sgd = SGD(lr=learning_rate, momentum=momentum, decay=decay_rate, nesterov=False)\n",
        "  return sgd"
      ],
      "execution_count": 42,
      "outputs": []
    },
    {
      "cell_type": "code",
      "metadata": {
        "id": "tOCwK2geP3Nb"
      },
      "source": [
        "\n",
        "decay_rate = 0.001\n",
        "learning_rate = 0.001\n",
        "\n",
        "def exp_decay(epoch):\n",
        "    lrate = learning_rate * np.exp(-decay_rate*epoch)\n",
        "    return lrate\n",
        "    \n",
        "# learning schedule callback\n",
        "loss_history = History()\n",
        "lr_rate = LearningRateScheduler(exp_decay)\n",
        "callbacks_list = [loss_history, lr_rate]"
      ],
      "execution_count": 43,
      "outputs": []
    },
    {
      "cell_type": "code",
      "metadata": {
        "id": "7zFBg2u1O0rz"
      },
      "source": [
        "# Different layers are appropriate for different tensor formats and different types of data processing. \n",
        "# Simple vector data, stored in 2D tensors of shape (samples, features), is often processed by densely connected layers.\n",
        "\n",
        "# single-label, multiclass classification problem\n",
        "\n",
        "model_d = tf.keras.Sequential([\n",
        "    tf.keras.layers.Flatten(input_shape=(28, 28, 1)),\n",
        "    tf.keras.layers.Dense(128, kernel_regularizer=l2(0.01), bias_regularizer=l2(0.01), activation=tf.nn.relu),\n",
        "    tf.keras.layers.BatchNormalization(),\n",
        "    tf.keras.layers.Dropout(0.1),\n",
        "    tf.keras.layers.Dense(256, kernel_regularizer=l2(0.001), bias_regularizer=l2(0.001), activation=tf.nn.relu),\n",
        "    tf.keras.layers.Dense(10, activation=tf.nn.softmax)\n",
        "])"
      ],
      "execution_count": 44,
      "outputs": []
    },
    {
      "cell_type": "code",
      "metadata": {
        "id": "stSMER3BPn65"
      },
      "source": [
        "model_d.compile(optimizer=optimiser_sgd(0.001),\n",
        "              loss=tf.keras.losses.SparseCategoricalCrossentropy(),\n",
        "              metrics=['accuracy'])"
      ],
      "execution_count": 45,
      "outputs": []
    },
    {
      "cell_type": "code",
      "metadata": {
        "colab": {
          "base_uri": "https://localhost:8080/",
          "height": 703
        },
        "id": "2jepHqS8Pv3a",
        "outputId": "1067d119-5118-4b77-896e-a5a97f8ab819"
      },
      "source": [
        "regularised_layers_model_history = model_d.fit(train_images, \n",
        "                                     train_labels,\n",
        "                                     validation_split=0.3,\n",
        "                                     batch_size=512,\n",
        "                                     epochs=12,\n",
        "                                    callbacks = callbacks_list)\n",
        "\n",
        "acc = regularised_layers_model_history.history['accuracy']\n",
        "val_acc = regularised_layers_model_history.history['val_accuracy']\n",
        "loss = regularised_layers_model_history.history['loss']\n",
        "val_loss = regularised_layers_model_history.history['val_loss']\n",
        "epochs = range(1, len(acc) + 1)\n",
        "\n",
        "plt.figure(figsize=(15,4))\n",
        "\n",
        "ax1 = plt.subplot(1, 2, 1)\n",
        "plt.plot(epochs, loss, label='Training loss')\n",
        "plt.plot(epochs, val_loss, label='Validation loss')\n",
        "plt.fill_between(epochs, loss,val_loss,color='g',alpha=.1)\n",
        "\n",
        "plt.title('Training and validation loss')\n",
        "plt.xlabel('Epochs')\n",
        "plt.ylabel('Loss')\n",
        "plt.legend()\n",
        "\n",
        "ax2 = plt.subplot(1, 2, 2)\n",
        "plt.plot(epochs, acc, label='Training accuracy')\n",
        "plt.plot(epochs, val_acc, label='Validation accuracy')\n",
        "plt.fill_between(epochs, acc,val_acc,color='g',alpha=.1)\n",
        "plt.title('Training and validation accuracy')\n",
        "plt.xlabel('Epochs')\n",
        "plt.ylabel('Accuracy')\n",
        "plt.legend()\n",
        "plt.show()"
      ],
      "execution_count": 46,
      "outputs": [
        {
          "output_type": "stream",
          "text": [
            "Epoch 1/12\n",
            "83/83 [==============================] - 1s 7ms/step - loss: 4.4730 - accuracy: 0.2850 - val_loss: 4.0423 - val_accuracy: 0.6333\n",
            "Epoch 2/12\n",
            "83/83 [==============================] - 0s 5ms/step - loss: 3.4102 - accuracy: 0.6766 - val_loss: 3.5607 - val_accuracy: 0.7169\n",
            "Epoch 3/12\n",
            "83/83 [==============================] - 0s 5ms/step - loss: 3.1742 - accuracy: 0.7291 - val_loss: 3.2415 - val_accuracy: 0.7442\n",
            "Epoch 4/12\n",
            "83/83 [==============================] - 0s 5ms/step - loss: 3.0508 - accuracy: 0.7505 - val_loss: 3.0457 - val_accuracy: 0.7605\n",
            "Epoch 5/12\n",
            "83/83 [==============================] - 0s 5ms/step - loss: 2.9503 - accuracy: 0.7669 - val_loss: 2.9227 - val_accuracy: 0.7736\n",
            "Epoch 6/12\n",
            "83/83 [==============================] - 0s 5ms/step - loss: 2.8757 - accuracy: 0.7771 - val_loss: 2.8342 - val_accuracy: 0.7817\n",
            "Epoch 7/12\n",
            "83/83 [==============================] - 0s 5ms/step - loss: 2.8154 - accuracy: 0.7841 - val_loss: 2.7667 - val_accuracy: 0.7889\n",
            "Epoch 8/12\n",
            "83/83 [==============================] - 0s 5ms/step - loss: 2.7536 - accuracy: 0.7893 - val_loss: 2.7087 - val_accuracy: 0.7948\n",
            "Epoch 9/12\n",
            "83/83 [==============================] - 0s 5ms/step - loss: 2.6998 - accuracy: 0.7974 - val_loss: 2.6580 - val_accuracy: 0.8009\n",
            "Epoch 10/12\n",
            "83/83 [==============================] - 0s 5ms/step - loss: 2.6527 - accuracy: 0.8030 - val_loss: 2.6104 - val_accuracy: 0.8057\n",
            "Epoch 11/12\n",
            "83/83 [==============================] - 0s 5ms/step - loss: 2.6013 - accuracy: 0.8105 - val_loss: 2.5675 - val_accuracy: 0.8084\n",
            "Epoch 12/12\n",
            "83/83 [==============================] - 0s 5ms/step - loss: 2.5595 - accuracy: 0.8127 - val_loss: 2.5263 - val_accuracy: 0.8123\n"
          ],
          "name": "stdout"
        },
        {
          "output_type": "display_data",
          "data": {
            "image/png": "[encoded data removed]",
            "text/plain": [
              "<Figure size 1080x288 with 2 Axes>"
            ]
          },
          "metadata": {
            "tags": [],
            "needs_background": "light"
          }
        }
      ]
    },
    {
      "cell_type": "code",
      "metadata": {
        "colab": {
          "base_uri": "https://localhost:8080/"
        },
        "id": "wky7gVtbQJVv",
        "outputId": "623bd109-75cb-4140-9eae-9ae0c7a4bbb4"
      },
      "source": [
        "test_loss, test_accuracy = model_d.evaluate(test_images, test_labels, steps=math.ceil(len(test_labels)/32))\n",
        "print('Accuracy on test dataset after layer specific weight regularisation:', test_accuracy)"
      ],
      "execution_count": 47,
      "outputs": [
        {
          "output_type": "stream",
          "text": [
            "313/313 [==============================] - 1s 2ms/step - loss: 2.5386 - accuracy: 0.8099\n",
            "Accuracy on test dataset after layer specific weight regularisation: 0.8098999857902527\n"
          ],
          "name": "stdout"
        }
      ]
    },
    {
      "cell_type": "markdown",
      "metadata": {
        "id": "69dzV_eTRDEd"
      },
      "source": [
        "Without changine the model architecture, the accuracy improves only by a few decimal poitns depending on the learning rate, the regularisers and the Dropouts."
      ]
    },
    {
      "cell_type": "markdown",
      "metadata": {
        "id": "cfTL_5kPsl4j"
      },
      "source": [
        "### Task 1.2 Train a ConvNet from scratch\n",
        "\n",
        "*(weight ~5%)*\n",
        "\n",
        "Build a ConvNet to replace the densely connected network in Task 1.1. Report the classification accuracy on the test set. Aim to achieve higher accuracy. \n",
        "\n"
      ]
    },
    {
      "cell_type": "code",
      "metadata": {
        "id": "9FGomTWkVz0b"
      },
      "source": [
        "train_images = np.reshape(train_images, (train_images.shape[0], train_images.shape[1], train_images.shape[2], 1))\n",
        "test_images = np.reshape(test_images, (test_images.shape[0], test_images.shape[1], test_images.shape[2], 1))"
      ],
      "execution_count": 57,
      "outputs": []
    },
    {
      "cell_type": "code",
      "metadata": {
        "colab": {
          "base_uri": "https://localhost:8080/"
        },
        "id": "3KBNjapzRZ2I",
        "outputId": "36e697ff-64a2-461f-f5b2-c4b6a25dad60"
      },
      "source": [
        "import tensorflow.keras.backend as K\n",
        "from tensorflow.keras.layers import (Input, Conv2D, MaxPooling2D, Flatten, \n",
        "                                     Dense, Dropout, BatchNormalization)\n",
        "from tensorflow.keras.models import Sequential\n",
        "from tensorflow.keras.optimizers import Adam\n",
        "from tensorflow.keras import regularizers\n",
        "\n",
        "model = Sequential([\n",
        "        Conv2D(64, kernel_size=(3, 3), activation='relu', padding='same', \n",
        "               input_shape=(28, 28, 1)),\n",
        "        BatchNormalization(),\n",
        "        Conv2D(64, kernel_size=(3, 3), activation='relu'),\n",
        "        BatchNormalization(),\n",
        "        MaxPooling2D(pool_size=(2, 2)),\n",
        "\n",
        "        Conv2D(128, kernel_size=(3, 3), activation='relu', padding='same'),\n",
        "        BatchNormalization(),\n",
        "        Conv2D(128, kernel_size=(3, 3), activation='relu'),\n",
        "        BatchNormalization(),        \n",
        "        MaxPooling2D(pool_size=(2, 2)),\n",
        "        \n",
        "        Conv2D(256, kernel_size=(3, 3), activation='relu', padding='same'),\n",
        "        BatchNormalization(),\n",
        "        Conv2D(256, kernel_size=(3, 3), activation='relu'),\n",
        "        BatchNormalization(),    \n",
        "        MaxPooling2D(pool_size=(2, 2)),   \n",
        "        \n",
        "        Flatten(),\n",
        "        \n",
        "        Dense(1024, activation='relu'),\n",
        "        \n",
        "        Dense(512, activation='relu'),\n",
        "        \n",
        "        Dense(10, activation='softmax')\n",
        "    ])\n",
        "adam = Adam(lr=0.0001, decay=1e-6)\n",
        "model.compile(optimizer=adam,\n",
        "                  loss='sparse_categorical_crossentropy',\n",
        "                  metrics=['accuracy'])\n",
        "print(model.summary())\n"
      ],
      "execution_count": 58,
      "outputs": [
        {
          "output_type": "stream",
          "text": [
            "Model: \"sequential_9\"\n",
            "_________________________________________________________________\n",
            "Layer (type)                 Output Shape              Param #   \n",
            "=================================================================\n",
            "conv2d_24 (Conv2D)           (None, 28, 28, 64)        640       \n",
            "_________________________________________________________________\n",
            "batch_normalization_29 (Batc (None, 28, 28, 64)        256       \n",
            "_________________________________________________________________\n",
            "conv2d_25 (Conv2D)           (None, 26, 26, 64)        36928     \n",
            "_________________________________________________________________\n",
            "batch_normalization_30 (Batc (None, 26, 26, 64)        256       \n",
            "_________________________________________________________________\n",
            "max_pooling2d_12 (MaxPooling (None, 13, 13, 64)        0         \n",
            "_________________________________________________________________\n",
            "conv2d_26 (Conv2D)           (None, 13, 13, 128)       73856     \n",
            "_________________________________________________________________\n",
            "batch_normalization_31 (Batc (None, 13, 13, 128)       512       \n",
            "_________________________________________________________________\n",
            "conv2d_27 (Conv2D)           (None, 11, 11, 128)       147584    \n",
            "_________________________________________________________________\n",
            "batch_normalization_32 (Batc (None, 11, 11, 128)       512       \n",
            "_________________________________________________________________\n",
            "max_pooling2d_13 (MaxPooling (None, 5, 5, 128)         0         \n",
            "_________________________________________________________________\n",
            "conv2d_28 (Conv2D)           (None, 5, 5, 256)         295168    \n",
            "_________________________________________________________________\n",
            "batch_normalization_33 (Batc (None, 5, 5, 256)         1024      \n",
            "_________________________________________________________________\n",
            "conv2d_29 (Conv2D)           (None, 3, 3, 256)         590080    \n",
            "_________________________________________________________________\n",
            "batch_normalization_34 (Batc (None, 3, 3, 256)         1024      \n",
            "_________________________________________________________________\n",
            "max_pooling2d_14 (MaxPooling (None, 1, 1, 256)         0         \n",
            "_________________________________________________________________\n",
            "flatten_10 (Flatten)         (None, 256)               0         \n",
            "_________________________________________________________________\n",
            "dense_29 (Dense)             (None, 1024)              263168    \n",
            "_________________________________________________________________\n",
            "dense_30 (Dense)             (None, 512)               524800    \n",
            "_________________________________________________________________\n",
            "dense_31 (Dense)             (None, 10)                5130      \n",
            "=================================================================\n",
            "Total params: 1,940,938\n",
            "Trainable params: 1,939,146\n",
            "Non-trainable params: 1,792\n",
            "_________________________________________________________________\n",
            "None\n"
          ],
          "name": "stdout"
        }
      ]
    },
    {
      "cell_type": "code",
      "metadata": {
        "colab": {
          "base_uri": "https://localhost:8080/"
        },
        "id": "MnQLfrvvU0w2",
        "outputId": "d2a3bffd-594c-4af3-d455-8339539cc62c"
      },
      "source": [
        "history = model.fit(train_images, \n",
        "                                     train_labels,\n",
        "                                     validation_split=0.3,\n",
        "                                     batch_size=128,\n",
        "                                     epochs=100)\n",
        "\n",
        "acc = regularised_layers_model_history.history['accuracy']\n",
        "val_acc = regularised_layers_model_history.history['val_accuracy']\n",
        "loss = regularised_layers_model_history.history['loss']\n",
        "val_loss = regularised_layers_model_history.history['val_loss']\n",
        "epochs = range(1, len(acc) + 1)\n",
        "\n",
        "plt.figure(figsize=(15,4))\n",
        "\n",
        "ax1 = plt.subplot(1, 2, 1)\n",
        "plt.plot(epochs, loss, label='Training loss')\n",
        "plt.plot(epochs, val_loss, label='Validation loss')\n",
        "plt.fill_between(epochs, loss,val_loss,color='g',alpha=.1)\n",
        "\n",
        "plt.title('Training and validation loss')\n",
        "plt.xlabel('Epochs')\n",
        "plt.ylabel('Loss')\n",
        "plt.legend()\n",
        "\n",
        "ax2 = plt.subplot(1, 2, 2)\n",
        "plt.plot(epochs, acc, label='Training accuracy')\n",
        "plt.plot(epochs, val_acc, label='Validation accuracy')\n",
        "plt.fill_between(epochs, acc,val_acc,color='g',alpha=.1)\n",
        "plt.title('Training and validation accuracy')\n",
        "plt.xlabel('Epochs')\n",
        "plt.ylabel('Accuracy')\n",
        "plt.legend()\n",
        "plt.show()"
      ],
      "execution_count": null,
      "outputs": [
        {
          "output_type": "stream",
          "text": [
            "Epoch 1/100\n",
            "329/329 [==============================] - 40s 28ms/step - loss: 0.6613 - accuracy: 0.7665 - val_loss: 1.8617 - val_accuracy: 0.2953\n",
            "Epoch 2/100\n",
            "329/329 [==============================] - 8s 26ms/step - loss: 0.2633 - accuracy: 0.9032 - val_loss: 0.3352 - val_accuracy: 0.8792\n",
            "Epoch 3/100\n",
            "329/329 [==============================] - 9s 26ms/step - loss: 0.1957 - accuracy: 0.9295 - val_loss: 0.3203 - val_accuracy: 0.8901\n",
            "Epoch 4/100\n",
            "329/329 [==============================] - 9s 26ms/step - loss: 0.1414 - accuracy: 0.9489 - val_loss: 0.2999 - val_accuracy: 0.9018\n",
            "Epoch 5/100\n",
            "329/329 [==============================] - 8s 26ms/step - loss: 0.0913 - accuracy: 0.9667 - val_loss: 0.3019 - val_accuracy: 0.9038\n",
            "Epoch 6/100\n",
            "329/329 [==============================] - 8s 26ms/step - loss: 0.0706 - accuracy: 0.9748 - val_loss: 0.3689 - val_accuracy: 0.8953\n",
            "Epoch 7/100\n",
            "329/329 [==============================] - 8s 26ms/step - loss: 0.0473 - accuracy: 0.9838 - val_loss: 0.3647 - val_accuracy: 0.9014\n",
            "Epoch 8/100\n",
            "329/329 [==============================] - 8s 26ms/step - loss: 0.0434 - accuracy: 0.9845 - val_loss: 0.4186 - val_accuracy: 0.8961\n",
            "Epoch 9/100\n",
            "329/329 [==============================] - 8s 26ms/step - loss: 0.0444 - accuracy: 0.9844 - val_loss: 0.4192 - val_accuracy: 0.8990\n",
            "Epoch 10/100\n",
            "329/329 [==============================] - 8s 26ms/step - loss: 0.0309 - accuracy: 0.9890 - val_loss: 0.4190 - val_accuracy: 0.9006\n",
            "Epoch 11/100\n",
            "329/329 [==============================] - 8s 26ms/step - loss: 0.0269 - accuracy: 0.9905 - val_loss: 0.4030 - val_accuracy: 0.9048\n",
            "Epoch 12/100\n",
            "329/329 [==============================] - 8s 26ms/step - loss: 0.0219 - accuracy: 0.9926 - val_loss: 0.4565 - val_accuracy: 0.9051\n",
            "Epoch 13/100\n",
            "329/329 [==============================] - 8s 26ms/step - loss: 0.0368 - accuracy: 0.9875 - val_loss: 0.4364 - val_accuracy: 0.9028\n",
            "Epoch 14/100\n",
            "329/329 [==============================] - 8s 26ms/step - loss: 0.0317 - accuracy: 0.9885 - val_loss: 0.4780 - val_accuracy: 0.9025\n",
            "Epoch 15/100\n",
            "329/329 [==============================] - 8s 26ms/step - loss: 0.0194 - accuracy: 0.9927 - val_loss: 0.4725 - val_accuracy: 0.9063\n",
            "Epoch 16/100\n",
            "329/329 [==============================] - 8s 26ms/step - loss: 0.0209 - accuracy: 0.9916 - val_loss: 0.5061 - val_accuracy: 0.9028\n",
            "Epoch 17/100\n",
            "329/329 [==============================] - 8s 26ms/step - loss: 0.0388 - accuracy: 0.9864 - val_loss: 0.4709 - val_accuracy: 0.9045\n",
            "Epoch 18/100\n",
            "329/329 [==============================] - 8s 26ms/step - loss: 0.0415 - accuracy: 0.9875 - val_loss: 0.4556 - val_accuracy: 0.9064\n",
            "Epoch 19/100\n",
            "329/329 [==============================] - 8s 26ms/step - loss: 0.0066 - accuracy: 0.9978 - val_loss: 0.4648 - val_accuracy: 0.9117\n",
            "Epoch 20/100\n",
            "329/329 [==============================] - 8s 26ms/step - loss: 0.0089 - accuracy: 0.9965 - val_loss: 0.5836 - val_accuracy: 0.8942\n",
            "Epoch 21/100\n",
            "329/329 [==============================] - 8s 26ms/step - loss: 0.0423 - accuracy: 0.9865 - val_loss: 0.4579 - val_accuracy: 0.9062\n",
            "Epoch 22/100\n",
            "329/329 [==============================] - 8s 26ms/step - loss: 0.0147 - accuracy: 0.9948 - val_loss: 0.4902 - val_accuracy: 0.9093\n",
            "Epoch 23/100\n",
            "329/329 [==============================] - 8s 26ms/step - loss: 0.0099 - accuracy: 0.9966 - val_loss: 0.5215 - val_accuracy: 0.9094\n",
            "Epoch 24/100\n",
            "329/329 [==============================] - 8s 26ms/step - loss: 0.0160 - accuracy: 0.9942 - val_loss: 0.4629 - val_accuracy: 0.9094\n",
            "Epoch 25/100\n",
            "329/329 [==============================] - 8s 26ms/step - loss: 0.0176 - accuracy: 0.9940 - val_loss: 0.4882 - val_accuracy: 0.9106\n",
            "Epoch 26/100\n",
            "329/329 [==============================] - 8s 26ms/step - loss: 0.0107 - accuracy: 0.9964 - val_loss: 0.5074 - val_accuracy: 0.9131\n",
            "Epoch 27/100\n",
            "329/329 [==============================] - 8s 26ms/step - loss: 0.0134 - accuracy: 0.9951 - val_loss: 0.5936 - val_accuracy: 0.8997\n",
            "Epoch 28/100\n",
            "329/329 [==============================] - 8s 26ms/step - loss: 0.0124 - accuracy: 0.9957 - val_loss: 0.4716 - val_accuracy: 0.9128\n",
            "Epoch 29/100\n",
            " 28/329 [=>............................] - ETA: 6s - loss: 0.0183 - accuracy: 0.9947"
          ],
          "name": "stdout"
        }
      ]
    },
    {
      "cell_type": "code",
      "metadata": {
        "id": "l9Y6ZDYzVJb8"
      },
      "source": [
        "test_loss, test_accuracy = model.evaluate(test_images, test_labels, steps=math.ceil(len(test_labels)/32))\n",
        "print('Accuracy on test dataset after layer specific weight regularisation:', test_accuracy)"
      ],
      "execution_count": null,
      "outputs": []
    },
    {
      "cell_type": "markdown",
      "metadata": {
        "id": "qbhr44DnMbKZ"
      },
      "source": [
        "\n",
        "### Task 1.3 Build an input pipeline for data augmentation\n",
        "\n",
        "*(weight ~3%)*\n",
        "\n",
        "Build a data preprocessing pipeline to perform data augmentation. (You may use Keras ImageDataGenerator or write your own transformations.)\n",
        "\n",
        "- Report the new classification accuracy. Make sure that you use the same number of training epochs as in Task 1.2.\n",
        "\n",
        "- (Optional) Profile your input pipeline to identify the most time-consuming operation. What actions have you taken to address that slow operation? (*Hint: You may use the [TensorFlow Profiler](https://github.com/tensorflow/profiler).*)"
      ]
    },
    {
      "cell_type": "markdown",
      "metadata": {
        "id": "prctXU4BswKK"
      },
      "source": [
        "### Task 1.4 Fashion-MNIST with transfer learning\n",
        "\n",
        "*(weight ~3%)*\n",
        "\n",
        "Use a pretrained model as the convolutional base to improve the classification performance. (Hint: You may use models in Keras Applications or those in the TensorFlow Hub.)\n",
        "\n",
        "- Try both with fine-tuning and without fine-tuning.\n",
        "- Report the model performance as before.\n",
        "\n"
      ]
    },
    {
      "cell_type": "markdown",
      "metadata": {
        "id": "UaHLKDLas_dF"
      },
      "source": [
        "### Task 1.5 Performance comparison\n",
        "\n",
        "*(weight ~3%)*\n",
        "\n",
        "How many parameters are trainable in each of the two settings (with and without fine-tuning)? How does the difference impact the training time?\n",
        "\n",
        "\n",
        "Which setting achieved higher accuracy? Why did it work better for this problem? \n",
        "\n",
        "Have we benefitted from using the pretrained model?\n"
      ]
    },
    {
      "cell_type": "markdown",
      "metadata": {
        "id": "ouK5NY-_pLDK"
      },
      "source": [
        "## Task 2 Fast training of deep networks\n",
        "\n",
        "*(weight ~20%)*"
      ]
    },
    {
      "cell_type": "markdown",
      "metadata": {
        "id": "LgoOE2W1pdfN"
      },
      "source": [
        "### Task 2.1 Train a highly accurate network for CIFAR10\n",
        "\n",
        "*(weight ~7%)*\n",
        "\n",
        "In this task, you will train deep neural networks on the [CIFAR10 dataset](https://www.cs.toronto.edu/~kriz/cifar.html). Compared with the datasets that you have worked on so far, CIFAR10 represents a relatively larger multi-class classification problem and presents a great opportunity for you to solve a \"harder\" problem.\n",
        "\n"
      ]
    },
    {
      "cell_type": "markdown",
      "metadata": {
        "id": "IaD5oqj3lhuI"
      },
      "source": [
        "#### Task 2.1.1 Document the hardware used\n",
        "\n",
        "Before you start, write down your hardware specifications, including \n",
        "\n",
        "- the GPU model, the number of GPUs, and the GPU memory\n",
        "- the CPU model, the number of CPUs, and the CPU clock speed\n",
        "\n",
        "(Hint: you may find commands like `nvidia-smi`, `lscpu` or `psutil` useful.)"
      ]
    },
    {
      "cell_type": "markdown",
      "metadata": {
        "id": "adN9Tq-6lyG-"
      },
      "source": [
        "#### Task 2.1.2 Train a \"shallow\" ConvNet\n",
        "\n",
        "Build a ConvNet with fewer than 10 layers. Train the network until it converges. You will use this network as a baseline for the later experiments. \n",
        "\n",
        "- Plot the training and validation history. \n",
        "- Report the testing accuracy. "
      ]
    },
    {
      "cell_type": "markdown",
      "metadata": {
        "id": "9NTjVIUkmv7S"
      },
      "source": [
        "#### Task 2.1.3 Train a ResNet\n",
        "\n",
        "Train a residual neural network (ResNet) on the CIFAR10 training data and report the test accuracy and the training time.\n",
        "\n",
        "The ResNet is a popular network architecture for image classification. You may find more information about how ResNet works by reading this [paper](https://arxiv.org/abs/1512.03385).\n",
        "\n",
        "\n",
        "*(You may implement a resnet model or use an existing implementation. In either case, you should not use pretrained network weights.)*"
      ]
    },
    {
      "cell_type": "markdown",
      "metadata": {
        "id": "AH6ZBiECzS75"
      },
      "source": [
        "### Task 2.2 Fast training of ResNet\n",
        "\n",
        "*(weight ~10%)*\n",
        "\n",
        "In this task, you will experiment with different ways to reduce the time for training your ResNet on CIFAR10. There are different ways to speed up neural network training; below are two ideas. Please select at least one idea to implement. Explain the experiment steps and report the final performance and training time.\n",
        "\n",
        "#### Option 1. Learning rate schedule\n",
        "\n",
        "Use a learning rate schedule for the training. Some popular learning rate schedules include \n",
        "\n",
        "- the Step Decay learning rate (e.g., see [here](https://github.com/kuangliu/pytorch-cifar))\n",
        "- [Cyclical learning rates](https://arxiv.org/abs/1506.01186)\n",
        "- [The exponential learning rate](https://openreview.net/forum?id=rJg8TeSFDH) \n",
        "\n",
        "Also, Keras provides [some convenient functions](https://www.tensorflow.org/api_docs/python/tf/keras/optimizers/schedules) that you can use.\n",
        "\n",
        "\n",
        "#### Option 2. Look ahead optimiser\n",
        "\n",
        "Read [this paper](https://arxiv.org/abs/1907.08610) and implement the Lookahead optimiser."
      ]
    },
    {
      "cell_type": "markdown",
      "metadata": {
        "id": "C8cKfAOjpn7c"
      },
      "source": [
        "### Task 2.3 Performance comparison\n",
        "\n",
        "*(weight ~3%)*\n",
        "\n",
        "Based on the above experiments, which method or which combination of methods result in the best accuracy with the same training time."
      ]
    },
    {
      "cell_type": "markdown",
      "metadata": {
        "id": "eWQm8ZfBxDH9"
      },
      "source": [
        "## Task 3 (**HD level task**) Research on new models\n",
        "*(weight ~10%)*\n",
        "\n",
        "Today, ResNet has become a very mature ConvNet architecture. In this task, you will research one recent ConvNet architecture. You may choose an architecture from the reference list below.\n",
        "\n",
        "Write a short report for your research, covering these points:\n",
        "\n",
        "- Identify the main issues that your chosen architecture aims to address. (For example, does it try to reduce the number of parameters or to speed up the training?)\n",
        "- What measures the architecture used to reduce the number of parameters, or reducing the training cost, or improving the model performance?\n",
        "\n",
        "Implement the architecture and compare its performance on CIFAR10 with ResNet. You may include your implementation, experiments, and analyses here in this notebook.\n",
        "\n",
        "**References**:\n",
        "\n",
        "1. Huang G, Liu Z, Van Der Maaten L, Weinberger KQ. *Densely connected convolutional networks*. In Proceedings of the IEEE conference on computer vision and pattern recognition 2017 (pp. 4700-4708).\n",
        "2. Zhang X, Zhou X, Lin M, Sun J. *Shufflenet: An extremely efficient convolutional neural network for mobile devices*. In Proceedings of the IEEE conference on computer vision and pattern recognition 2018 (pp. 6848-6856).\n",
        "3. Tan M, Le Q. *Efficientnet: Rethinking model scaling for convolutional neural networks*. In International Conference on Machine Learning 2019 May 24 (pp. 6105-6114). PMLR.\n",
        "4. Hu J, Shen L, Sun G. *Squeeze-and-excitation networks*. In Proceedings of the IEEE conference on computer vision and pattern recognition 2018 (pp. 7132-7141).\n"
      ]
    },
    {
      "cell_type": "markdown",
      "metadata": {
        "id": "hUV0wuZ01DNA"
      },
      "source": [
        "---\n",
        "**END OF ASSIGNMENT TWO**"
      ]
    }
  ]
}