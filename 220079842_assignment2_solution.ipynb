{
  "nbformat": 4,
  "nbformat_minor": 0,
  "metadata": {
    "accelerator": "GPU",
    "colab": {
      "name": "220079842_assignment2_solution.ipynb",
      "provenance": [],
      "collapsed_sections": [
        "twFQbltnm8da",
        "zdHwmgwOpEfx",
        "cfTL_5kPsl4j",
        "prctXU4BswKK",
        "UaHLKDLas_dF",
        "IaD5oqj3lhuI",
        "adN9Tq-6lyG-",
        "9NTjVIUkmv7S",
        "AH6ZBiECzS75",
        "C8cKfAOjpn7c"
      ],
      "machine_shape": "hm"
    },
    "kernelspec": {
      "display_name": "Python 3",
      "name": "python3"
    }
  },
  "cells": [
    {
      "cell_type": "markdown",
      "metadata": {
        "id": "wjif_5FsdOFz"
      },
      "source": [
        "# SIT744 Assignment 2: Transfer learning and Efficient Training of Deep Learning Models \n",
        "\n",
        "<div class=\"alert-info\">\n",
        "    <p>Due: <strong>8:00pm 17 May 2021</strong>  (Monday)</p>\n",
        "\n",
        "This is an <strong>individual</strong> assignment. It contributes <strong>45%</strong> to your final mark. Read the assignment instruction carefully.\n",
        "\n",
        "<h2> What to submit </h2>\n",
        "\n",
        "<p>\n",
        "This assignment is to be completed individually and submitted to CloudDeakin. <strong>By the due date, you are required to submit the following files to the corresponding Assignment (Dropbox) in CloudDeakin</strong>:\n",
        "\n",
        "<ol>\n",
        "<li>\t<strong>[YourID]_assignment2_solution.ipynp</strong>:  This is your Python notebook solution source file. </li>\n",
        "<li>\t<strong>[YourID]_assingment2_output.html</strong>: This is the output of your Python notebook solution <emph>exported</emph> in HTML format.</li>\n",
        "<li>\tExtra files needed to complete your assignment, if any (e.g., images used in your answers).</li>\n",
        "</ol>\n",
        "</p>\n",
        "\n",
        "<p>\n",
        "For example, if your student ID is: 123456, you will then need to submit the following files:\n",
        "<ul>\n",
        "<li> 123456_assignment2_solution.ipynp </li>\n",
        "<li> 123456_assignment2_output.html</li>\n",
        "</ul>\n",
        "</p>\n",
        "\n",
        "<h2> Warning </h2>\n",
        "\n",
        "Some components of this assignment may involve heavy computation that runs for a long duration. Please start early to avoid missing the assignment due date.\n",
        "\n",
        "<h2> Marking criteria </h2>\n",
        "\n",
        "<p>\n",
        "Your submission will be marked using the following criteria.\n",
        "\n",
        "<ul>\n",
        "<li> Showing good effort through completed tasks.</li>\n",
        "<li> Applying deep learning theory to design suitable deep learning solutions for the tasks.</li>\n",
        "<li> Critically evaluating and reflecting on the pros and cons of various design decisions.</li>\n",
        "<li> Demonstrating creativity and resourcefulness in providing unique individual solutions.</li>\n",
        "<li> Showing attention to details through a good quality assignment report.</li>\n",
        "</ul>\n",
        "</p>\n",
        "\n",
        "<p>\n",
        "Indicative weights of various tasks are provided, but the assignment will be marked by the overall quality per the above criteria.\n",
        "</p>\n",
        "</div>"
      ]
    },
    {
      "cell_type": "markdown",
      "metadata": {
        "id": "twFQbltnm8da"
      },
      "source": [
        "## Assignment objective\n",
        "\n",
        "This assignment is to feedback on your learning in deep learning theory and its application to  data analytics or artificial intelligence problems.  \n",
        "\n",
        "It builds on Assignment 1 but requires a higher level of mastery of deep learning theory and programming/engineering skills. In particular, you will experience training a much deeper network on a large-scale dataset. You will encounter  practical issues that help you consolidate textbook learning. "
      ]
    },
    {
      "cell_type": "markdown",
      "metadata": {
        "id": "3ITc1hw_o7qV"
      },
      "source": [
        "## Task 1 Solving Fashion-MNIST with Convolutional Neural Networks\n",
        "\n",
        "*(weight ~15%)*\n",
        "\n",
        "In Assignment 1, you tackled the image classification problem in Fashion-MNIST. There, you used a Densely Connected Neural Network. You should now know that is not an optimal model architecture for the problem. In Assignment 2, you will apply the best practices of deep-learning computer vision to achieve better image classification performance."
      ]
    },
    {
      "cell_type": "markdown",
      "metadata": {
        "id": "zdHwmgwOpEfx"
      },
      "source": [
        "### Task 1.1 Revisit Fashion-MNIST classification with DNN\n",
        "\n",
        "*(weight ~1%)*\n",
        "\n",
        "Review your Assignment 1 solution, and reproduce the experiment here. Try to improve the model without changing the model architecture.\n"
      ]
    },
    {
      "cell_type": "code",
      "metadata": {
        "id": "Dlxzmo4mOZCv",
        "colab": {
          "base_uri": "https://localhost:8080/"
        },
        "outputId": "fd4f6ab5-6adb-40c9-fd43-a7aff4e440b3"
      },
      "source": [
        "# Producing the Assignment-1, DNN \n",
        "\n",
        "import tensorflow as tf\n",
        "import tensorflow_datasets\n",
        "import math\n",
        "import numpy as np\n",
        "import matplotlib.pyplot as plt\n",
        "from keras.layers.normalization import BatchNormalization\n",
        "from keras.regularizers import l2\n",
        "from keras.layers import Dropout\n",
        "from keras.layers import Activation\n",
        "from keras.optimizers import SGD\n",
        "from keras.optimizers import RMSprop\n",
        "from keras.callbacks import LearningRateScheduler\n",
        "from keras.callbacks import History\n",
        "\n",
        "\n",
        "# Loading the data using tensorflow\n",
        "fashion_mnist = tf.keras.datasets.fashion_mnist\n",
        "\n",
        "(train_images, train_labels), (test_images, test_labels) = fashion_mnist.load_data()\n",
        "\n",
        "# class names\n",
        "class_names = ['T-shirt/top', 'Trouser', 'Pullover', 'Dress', 'Coat',\n",
        "               'Sandal', 'Shirt', 'Sneaker', 'Bag', 'Ankle boot']"
      ],
      "execution_count": 1,
      "outputs": [
        {
          "output_type": "stream",
          "text": [
            "Downloading data from https://storage.googleapis.com/tensorflow/tf-keras-datasets/train-labels-idx1-ubyte.gz\n",
            "32768/29515 [=================================] - 0s 0us/step\n",
            "Downloading data from https://storage.googleapis.com/tensorflow/tf-keras-datasets/train-images-idx3-ubyte.gz\n",
            "26427392/26421880 [==============================] - 0s 0us/step\n",
            "Downloading data from https://storage.googleapis.com/tensorflow/tf-keras-datasets/t10k-labels-idx1-ubyte.gz\n",
            "8192/5148 [===============================================] - 0s 0us/step\n",
            "Downloading data from https://storage.googleapis.com/tensorflow/tf-keras-datasets/t10k-images-idx3-ubyte.gz\n",
            "4423680/4422102 [==============================] - 0s 0us/step\n"
          ],
          "name": "stdout"
        }
      ]
    },
    {
      "cell_type": "code",
      "metadata": {
        "id": "RLSzup0tO0kD"
      },
      "source": [
        "# train, test and validation splits\n",
        "\n",
        "train_images = train_images / 255.0\n",
        "test_images = test_images / 255.0\n",
        "\n",
        "# defining batch size\n",
        "BATCH_SIZE = 512\n",
        "\n",
        "# training dataset\n",
        "fmnist_train_ds = tf.data.Dataset.from_tensor_slices((train_images, train_labels))\n",
        "\n",
        "\n",
        "# test dataset\n",
        "fmnist_test_ds = tf.data.Dataset.from_tensor_slices((test_images, test_labels))\n",
        "fmnist_test_ds = fmnist_test_ds.shuffle(5000).batch(BATCH_SIZE)\n",
        "\n",
        "# picking out the validation set from the training dataset\n",
        "fmnist_train = fmnist_train_ds.take(round(len(train_labels)*0.7))\n",
        "fmnist_val = fmnist_train_ds.skip(round(len(train_labels)*0.7))\n",
        "\n",
        "from sklearn.model_selection import train_test_split\n",
        "\n",
        "\n",
        "X_train, X_val, y_train, y_val  = train_test_split(train_images, train_labels, test_size=0.25, random_state=1) \n",
        "\n",
        "#fmnist_train_ds = fmnist_train_ds.values.reshape(-1,28,28,1)\n",
        "#X_val = X_val.values.reshape(-1,28,28,1)\n",
        "\n",
        "\n",
        "# batch size should be in powers of 2 and the larger the better, provided that the batch fits into the (GPU) memory;\n",
        "# small batches can offer a regularizing effect, perhaps due to the noise they add to the learning process.\n",
        "# larger batches provide a more accurate estimate of the gradient.\n",
        "# the batch size here is 512.\n",
        "# train-data shuffling ensures that the model gets to see all permutauions of input in every batch."
      ],
      "execution_count": 2,
      "outputs": []
    },
    {
      "cell_type": "code",
      "metadata": {
        "id": "G7Wcy86mPZ4Q"
      },
      "source": [
        "# adding dropout, batch normalisation, changing the learning rate\n",
        "\n",
        "def optimiser_sgd(learning_rate):\n",
        "  learning_rate = learning_rate\n",
        "  decay_rate = learning_rate / 50\n",
        "  momentum = 0.8\n",
        "\n",
        "  sgd = SGD(lr=learning_rate, momentum=momentum, decay=decay_rate, nesterov=False)\n",
        "  return sgd"
      ],
      "execution_count": null,
      "outputs": []
    },
    {
      "cell_type": "code",
      "metadata": {
        "id": "tOCwK2geP3Nb"
      },
      "source": [
        "\n",
        "decay_rate = 0.001\n",
        "learning_rate = 0.001\n",
        "\n",
        "def exp_decay(epoch):\n",
        "    lrate = learning_rate * np.exp(-decay_rate*epoch)\n",
        "    return lrate\n",
        "    \n",
        "# learning schedule callback\n",
        "loss_history = History()\n",
        "lr_rate = LearningRateScheduler(exp_decay)\n",
        "callbacks_list = [loss_history, lr_rate]"
      ],
      "execution_count": null,
      "outputs": []
    },
    {
      "cell_type": "code",
      "metadata": {
        "id": "7zFBg2u1O0rz"
      },
      "source": [
        "# Different layers are appropriate for different tensor formats and different types of data processing. \n",
        "# Simple vector data, stored in 2D tensors of shape (samples, features), is often processed by densely connected layers.\n",
        "\n",
        "# single-label, multiclass classification problem\n",
        "\n",
        "model_d = tf.keras.Sequential([\n",
        "    tf.keras.layers.Flatten(input_shape=(28, 28, 1)),\n",
        "    tf.keras.layers.Dense(128, kernel_regularizer=l2(0.01), bias_regularizer=l2(0.01), activation=tf.nn.relu),\n",
        "    tf.keras.layers.BatchNormalization(),\n",
        "    tf.keras.layers.Dropout(0.1),\n",
        "    tf.keras.layers.Dense(256, kernel_regularizer=l2(0.001), bias_regularizer=l2(0.001), activation=tf.nn.relu),\n",
        "    tf.keras.layers.Dense(10, activation=tf.nn.softmax)\n",
        "])"
      ],
      "execution_count": null,
      "outputs": []
    },
    {
      "cell_type": "code",
      "metadata": {
        "id": "stSMER3BPn65"
      },
      "source": [
        "model_d.compile(optimizer=optimiser_sgd(0.001),\n",
        "              loss=tf.keras.losses.SparseCategoricalCrossentropy(),\n",
        "              metrics=['accuracy'])"
      ],
      "execution_count": null,
      "outputs": []
    },
    {
      "cell_type": "code",
      "metadata": {
        "colab": {
          "base_uri": "https://localhost:8080/",
          "height": 703
        },
        "id": "2jepHqS8Pv3a",
        "outputId": "cea9fc40-51d2-4b42-81b2-440b500f4dda"
      },
      "source": [
        "regularised_layers_model_history = model_d.fit(train_images, \n",
        "                                     train_labels,\n",
        "                                     validation_split=0.3,\n",
        "                                     batch_size=512,\n",
        "                                     epochs=12,\n",
        "                                    callbacks = callbacks_list)\n",
        "\n",
        "acc = regularised_layers_model_history.history['accuracy']\n",
        "val_acc = regularised_layers_model_history.history['val_accuracy']\n",
        "loss = regularised_layers_model_history.history['loss']\n",
        "val_loss = regularised_layers_model_history.history['val_loss']\n",
        "epochs = range(1, len(acc) + 1)\n",
        "\n",
        "plt.figure(figsize=(15,4))\n",
        "\n",
        "ax1 = plt.subplot(1, 2, 1)\n",
        "plt.plot(epochs, loss, label='Training loss')\n",
        "plt.plot(epochs, val_loss, label='Validation loss')\n",
        "plt.fill_between(epochs, loss,val_loss,color='g',alpha=.1)\n",
        "\n",
        "plt.title('Training and validation loss')\n",
        "plt.xlabel('Epochs')\n",
        "plt.ylabel('Loss')\n",
        "plt.legend()\n",
        "\n",
        "ax2 = plt.subplot(1, 2, 2)\n",
        "plt.plot(epochs, acc, label='Training accuracy')\n",
        "plt.plot(epochs, val_acc, label='Validation accuracy')\n",
        "plt.fill_between(epochs, acc,val_acc,color='g',alpha=.1)\n",
        "plt.title('Training and validation accuracy')\n",
        "plt.xlabel('Epochs')\n",
        "plt.ylabel('Accuracy')\n",
        "plt.legend()\n",
        "plt.show()"
      ],
      "execution_count": null,
      "outputs": [
        {
          "output_type": "stream",
          "text": [
            "Epoch 1/12\n",
            "83/83 [==============================] - 4s 14ms/step - loss: 4.4890 - accuracy: 0.2610 - val_loss: 4.0670 - val_accuracy: 0.5698\n",
            "Epoch 2/12\n",
            "83/83 [==============================] - 1s 6ms/step - loss: 3.4570 - accuracy: 0.6588 - val_loss: 3.5789 - val_accuracy: 0.6957\n",
            "Epoch 3/12\n",
            "83/83 [==============================] - 1s 7ms/step - loss: 3.2030 - accuracy: 0.7196 - val_loss: 3.2590 - val_accuracy: 0.7336\n",
            "Epoch 4/12\n",
            "83/83 [==============================] - 1s 7ms/step - loss: 3.0703 - accuracy: 0.7427 - val_loss: 3.0617 - val_accuracy: 0.7582\n",
            "Epoch 5/12\n",
            "83/83 [==============================] - 1s 7ms/step - loss: 2.9613 - accuracy: 0.7660 - val_loss: 2.9313 - val_accuracy: 0.7744\n",
            "Epoch 6/12\n",
            "83/83 [==============================] - 1s 7ms/step - loss: 2.8784 - accuracy: 0.7783 - val_loss: 2.8379 - val_accuracy: 0.7850\n",
            "Epoch 7/12\n",
            "83/83 [==============================] - 1s 7ms/step - loss: 2.8132 - accuracy: 0.7859 - val_loss: 2.7666 - val_accuracy: 0.7955\n",
            "Epoch 8/12\n",
            "83/83 [==============================] - 1s 7ms/step - loss: 2.7478 - accuracy: 0.7932 - val_loss: 2.7058 - val_accuracy: 0.8017\n",
            "Epoch 9/12\n",
            "83/83 [==============================] - 1s 7ms/step - loss: 2.6981 - accuracy: 0.8025 - val_loss: 2.6527 - val_accuracy: 0.8059\n",
            "Epoch 10/12\n",
            "83/83 [==============================] - 1s 7ms/step - loss: 2.6544 - accuracy: 0.8035 - val_loss: 2.6038 - val_accuracy: 0.8104\n",
            "Epoch 11/12\n",
            "83/83 [==============================] - 1s 7ms/step - loss: 2.6030 - accuracy: 0.8067 - val_loss: 2.5585 - val_accuracy: 0.8142\n",
            "Epoch 12/12\n",
            "83/83 [==============================] - 1s 7ms/step - loss: 2.5484 - accuracy: 0.8164 - val_loss: 2.5160 - val_accuracy: 0.8168\n"
          ],
          "name": "stdout"
        },
        {
          "output_type": "display_data",
          "data": {
            "image/png": "[encoded data removed]",
            "text/plain": [
              "<Figure size 1080x288 with 2 Axes>"
            ]
          },
          "metadata": {
            "tags": []
          }
        }
      ]
    },
    {
      "cell_type": "code",
      "metadata": {
        "colab": {
          "base_uri": "https://localhost:8080/"
        },
        "id": "wky7gVtbQJVv",
        "outputId": "fadc7fe6-35f1-4eb6-cc63-5c8957da5a65"
      },
      "source": [
        "test_loss, test_accuracy = model_d.evaluate(test_images, test_labels, steps=math.ceil(len(test_labels)/32))\n",
        "print('Accuracy on test dataset using densly connected model:', test_accuracy)"
      ],
      "execution_count": null,
      "outputs": [
        {
          "output_type": "stream",
          "text": [
            "313/313 [==============================] - 1s 3ms/step - loss: 2.5341 - accuracy: 0.8118\n",
            "Accuracy on test dataset after layer specific weight regularisation: 0.8118000030517578\n"
          ],
          "name": "stdout"
        }
      ]
    },
    {
      "cell_type": "markdown",
      "metadata": {
        "id": "69dzV_eTRDEd"
      },
      "source": [
        "Without changine the model architecture, the accuracy on the test set does not show any improvement, although it improves only by a few decimal poitns on the validation set, depending on the learning rate, the regularisers and the Dropouts. The highest reported accuracy in Assignment-1 was 0.8915, any changes in the hyper-parameters result in a decreased accuracy on the test set, as shown above where the values of the kernel_regulariers and the optimiser were changed."
      ]
    },
    {
      "cell_type": "markdown",
      "metadata": {
        "id": "cfTL_5kPsl4j"
      },
      "source": [
        "### Task 1.2 Train a ConvNet from scratch\n",
        "\n",
        "*(weight ~5%)*\n",
        "\n",
        "Build a ConvNet to replace the densely connected network in Task 1.1. Report the classification accuracy on the test set. Aim to achieve higher accuracy. \n",
        "\n"
      ]
    },
    {
      "cell_type": "code",
      "metadata": {
        "colab": {
          "base_uri": "https://localhost:8080/"
        },
        "id": "9FGomTWkVz0b",
        "outputId": "1b95bcca-1207-401d-cd9d-9e3de21c36e4"
      },
      "source": [
        "# reshaping the data for ConvNet\n",
        "\n",
        "train_images = np.reshape(train_images, (train_images.shape[0], train_images.shape[1], train_images.shape[2], 1))\n",
        "test_images = np.reshape(test_images, (test_images.shape[0], test_images.shape[1], test_images.shape[2], 1))\n",
        "print(train_images.shape)\n",
        "X_train = np.reshape(X_train, (X_train.shape[0], X_train.shape[1], X_train.shape[2], 1))\n",
        "X_val = np.reshape(X_val, (X_val.shape[0], X_val.shape[1], X_val.shape[2], 1))\n",
        "#train_images = train_images.values.reshape(-1,28,28,1)"
      ],
      "execution_count": 3,
      "outputs": [
        {
          "output_type": "stream",
          "text": [
            "(60000, 28, 28, 1)\n"
          ],
          "name": "stdout"
        }
      ]
    },
    {
      "cell_type": "code",
      "metadata": {
        "colab": {
          "base_uri": "https://localhost:8080/"
        },
        "id": "3KBNjapzRZ2I",
        "outputId": "3a1d781a-665e-41c7-c859-5ef161d027fe"
      },
      "source": [
        "import tensorflow.keras.backend as K\n",
        "from tensorflow.keras.layers import (Input, Conv2D, MaxPooling2D, Flatten, \n",
        "                                     Dense, Dropout, BatchNormalization)\n",
        "from tensorflow.keras.models import Sequential\n",
        "from tensorflow.keras.optimizers import Adam\n",
        "from tensorflow.keras import regularizers\n",
        "from tensorflow.keras.callbacks import EarlyStopping,ReduceLROnPlateau\n",
        "\n",
        "\n",
        "# defining a Convolutional Network\n",
        "model = Sequential()\n",
        "model.add(Conv2D(64, kernel_size=(3, 3), activation='relu', kernel_initializer='he_normal', padding='same', input_shape=(28, 28, 1)))\n",
        "model.add(Conv2D(64, kernel_size=(3, 3), activation='relu',padding='same'))\n",
        "model.add(tf.keras.layers.BatchNormalization())\n",
        "model.add(MaxPooling2D(pool_size=(2, 2)))\n",
        "model.add(Dropout(0.3))\n",
        "model.add(Conv2D(128, kernel_size=(3, 3), activation='relu', kernel_initializer='he_normal', padding='same', input_shape=(28, 28, 1)))\n",
        "model.add(Conv2D(128, kernel_size=(3, 3), padding='same', activation='relu'))\n",
        "model.add(tf.keras.layers.BatchNormalization())\n",
        "model.add(MaxPooling2D(pool_size=(2, 2)))\n",
        "model.add(Dropout(0.3))\n",
        "model.add(Conv2D(256, kernel_size=(3, 3), activation='relu', kernel_initializer='he_normal', padding='same', input_shape=(28, 28, 1)))\n",
        "model.add(Conv2D(256, kernel_size=(3, 3), padding='same', activation='relu'))\n",
        "model.add(Conv2D(256, kernel_size=(3, 3), padding='same', activation='relu'))\n",
        "model.add(tf.keras.layers.BatchNormalization())\n",
        "model.add(MaxPooling2D(pool_size=(2, 2)))\n",
        "model.add(Dropout(0.3))\n",
        "model.add(Flatten())\n",
        "model.add(Dense(2048, activation='relu'))\n",
        "model.add(Dropout(0.3))\n",
        "model.add(Dense(512, activation='relu'))\n",
        "model.add(Dense(10, activation='softmax'))\n",
        "adam = Adam(lr=0.0001, decay=1e-6)\n",
        "\n",
        "\n",
        "model.compile(optimizer=adam,\n",
        "                  loss='sparse_categorical_crossentropy',\n",
        "                  metrics=['accuracy'])\n",
        "print(model.summary())\n",
        "init_weights = model.get_weights()\n"
      ],
      "execution_count": 4,
      "outputs": [
        {
          "output_type": "stream",
          "text": [
            "Model: \"sequential\"\n",
            "_________________________________________________________________\n",
            "Layer (type)                 Output Shape              Param #   \n",
            "=================================================================\n",
            "conv2d (Conv2D)              (None, 28, 28, 64)        640       \n",
            "_________________________________________________________________\n",
            "conv2d_1 (Conv2D)            (None, 28, 28, 64)        36928     \n",
            "_________________________________________________________________\n",
            "batch_normalization (BatchNo (None, 28, 28, 64)        256       \n",
            "_________________________________________________________________\n",
            "max_pooling2d (MaxPooling2D) (None, 14, 14, 64)        0         \n",
            "_________________________________________________________________\n",
            "dropout (Dropout)            (None, 14, 14, 64)        0         \n",
            "_________________________________________________________________\n",
            "conv2d_2 (Conv2D)            (None, 14, 14, 128)       73856     \n",
            "_________________________________________________________________\n",
            "conv2d_3 (Conv2D)            (None, 14, 14, 128)       147584    \n",
            "_________________________________________________________________\n",
            "batch_normalization_1 (Batch (None, 14, 14, 128)       512       \n",
            "_________________________________________________________________\n",
            "max_pooling2d_1 (MaxPooling2 (None, 7, 7, 128)         0         \n",
            "_________________________________________________________________\n",
            "dropout_1 (Dropout)          (None, 7, 7, 128)         0         \n",
            "_________________________________________________________________\n",
            "conv2d_4 (Conv2D)            (None, 7, 7, 256)         295168    \n",
            "_________________________________________________________________\n",
            "conv2d_5 (Conv2D)            (None, 7, 7, 256)         590080    \n",
            "_________________________________________________________________\n",
            "conv2d_6 (Conv2D)            (None, 7, 7, 256)         590080    \n",
            "_________________________________________________________________\n",
            "batch_normalization_2 (Batch (None, 7, 7, 256)         1024      \n",
            "_________________________________________________________________\n",
            "max_pooling2d_2 (MaxPooling2 (None, 3, 3, 256)         0         \n",
            "_________________________________________________________________\n",
            "dropout_2 (Dropout)          (None, 3, 3, 256)         0         \n",
            "_________________________________________________________________\n",
            "flatten (Flatten)            (None, 2304)              0         \n",
            "_________________________________________________________________\n",
            "dense (Dense)                (None, 2048)              4720640   \n",
            "_________________________________________________________________\n",
            "dropout_3 (Dropout)          (None, 2048)              0         \n",
            "_________________________________________________________________\n",
            "dense_1 (Dense)              (None, 512)               1049088   \n",
            "_________________________________________________________________\n",
            "dense_2 (Dense)              (None, 10)                5130      \n",
            "=================================================================\n",
            "Total params: 7,510,986\n",
            "Trainable params: 7,510,090\n",
            "Non-trainable params: 896\n",
            "_________________________________________________________________\n",
            "None\n"
          ],
          "name": "stdout"
        }
      ]
    },
    {
      "cell_type": "code",
      "metadata": {
        "id": "mXKNuZVpYZhQ"
      },
      "source": [
        "# implementing Early stopping to stop training once the model performance stops improving on a hold out validation dataset\n",
        "# implementing ReduceLROnPlateau, a callback that monitors the validation loss (in this case) and if no improvement is seen for a 'patience' number of epochs, the learning rate is reduced\n",
        "reduce_lr = ReduceLROnPlateau(monitor='val_loss', factor=0.2,\n",
        "                              patience=3, min_lr=0.0001)\n",
        "earlystop=EarlyStopping(monitor='val_loss', patience=3)"
      ],
      "execution_count": null,
      "outputs": []
    },
    {
      "cell_type": "code",
      "metadata": {
        "colab": {
          "base_uri": "https://localhost:8080/",
          "height": 1000
        },
        "id": "MnQLfrvvU0w2",
        "outputId": "189e67b3-7182-4caf-c028-f8b162ca09f2"
      },
      "source": [
        "history = model.fit(train_images, \n",
        "                    train_labels,\n",
        "                    validation_split=0.3,\n",
        "                    batch_size=128,\n",
        "                    epochs=25,\n",
        "                    callbacks=[reduce_lr])\n",
        "\n",
        "acc = history.history['accuracy']\n",
        "val_acc = history.history['val_accuracy']\n",
        "loss = history.history['loss']\n",
        "val_loss = history.history['val_loss']\n",
        "epochs = range(1, len(acc) + 1)\n",
        "\n",
        "plt.figure(figsize=(15,4))\n",
        "\n",
        "ax1 = plt.subplot(1, 2, 1)\n",
        "plt.plot(epochs, loss, label='Training loss')\n",
        "plt.plot(epochs, val_loss, label='Validation loss')\n",
        "plt.fill_between(epochs, loss,val_loss,color='g',alpha=.1)\n",
        "\n",
        "plt.title('Training and validation loss')\n",
        "plt.xlabel('Epochs')\n",
        "plt.ylabel('Loss')\n",
        "plt.legend()\n",
        "\n",
        "ax2 = plt.subplot(1, 2, 2)\n",
        "plt.plot(epochs, acc, label='Training accuracy')\n",
        "plt.plot(epochs, val_acc, label='Validation accuracy')\n",
        "plt.fill_between(epochs, acc,val_acc,color='g',alpha=.1)\n",
        "plt.title('Training and validation accuracy')\n",
        "plt.xlabel('Epochs')\n",
        "plt.ylabel('Accuracy')\n",
        "plt.legend()\n",
        "plt.show()"
      ],
      "execution_count": null,
      "outputs": [
        {
          "output_type": "stream",
          "text": [
            "Epoch 1/100\n",
            "329/329 [==============================] - 52s 70ms/step - loss: 1.0947 - accuracy: 0.6246 - val_loss: 1.3367 - val_accuracy: 0.5534\n",
            "Epoch 2/100\n",
            "329/329 [==============================] - 22s 67ms/step - loss: 0.4972 - accuracy: 0.8154 - val_loss: 0.4240 - val_accuracy: 0.8452\n",
            "Epoch 3/100\n",
            "329/329 [==============================] - 22s 67ms/step - loss: 0.4028 - accuracy: 0.8521 - val_loss: 0.3441 - val_accuracy: 0.8746\n",
            "Epoch 4/100\n",
            "329/329 [==============================] - 22s 68ms/step - loss: 0.3590 - accuracy: 0.8681 - val_loss: 0.3285 - val_accuracy: 0.8833\n",
            "Epoch 5/100\n",
            "329/329 [==============================] - 22s 67ms/step - loss: 0.3219 - accuracy: 0.8797 - val_loss: 0.2983 - val_accuracy: 0.8931\n",
            "Epoch 6/100\n",
            "329/329 [==============================] - 22s 68ms/step - loss: 0.3065 - accuracy: 0.8843 - val_loss: 0.2875 - val_accuracy: 0.8979\n",
            "Epoch 7/100\n",
            "329/329 [==============================] - 22s 68ms/step - loss: 0.2882 - accuracy: 0.8936 - val_loss: 0.2667 - val_accuracy: 0.9036\n",
            "Epoch 8/100\n",
            "329/329 [==============================] - 22s 68ms/step - loss: 0.2714 - accuracy: 0.8995 - val_loss: 0.2554 - val_accuracy: 0.9086\n",
            "Epoch 9/100\n",
            "329/329 [==============================] - 22s 68ms/step - loss: 0.2468 - accuracy: 0.9090 - val_loss: 0.2667 - val_accuracy: 0.9034\n",
            "Epoch 10/100\n",
            "329/329 [==============================] - 22s 68ms/step - loss: 0.2360 - accuracy: 0.9105 - val_loss: 0.2393 - val_accuracy: 0.9129\n",
            "Epoch 11/100\n",
            "329/329 [==============================] - 22s 68ms/step - loss: 0.2232 - accuracy: 0.9167 - val_loss: 0.2293 - val_accuracy: 0.9162\n",
            "Epoch 12/100\n",
            "329/329 [==============================] - 22s 68ms/step - loss: 0.2190 - accuracy: 0.9147 - val_loss: 0.2319 - val_accuracy: 0.9196\n",
            "Epoch 13/100\n",
            "329/329 [==============================] - 22s 68ms/step - loss: 0.2096 - accuracy: 0.9210 - val_loss: 0.2134 - val_accuracy: 0.9251\n",
            "Epoch 14/100\n",
            "329/329 [==============================] - 22s 68ms/step - loss: 0.1919 - accuracy: 0.9282 - val_loss: 0.2519 - val_accuracy: 0.9072\n",
            "Epoch 15/100\n",
            "329/329 [==============================] - 22s 68ms/step - loss: 0.1861 - accuracy: 0.9286 - val_loss: 0.2220 - val_accuracy: 0.9242\n",
            "Epoch 16/100\n",
            "329/329 [==============================] - 22s 68ms/step - loss: 0.1873 - accuracy: 0.9296 - val_loss: 0.2230 - val_accuracy: 0.9202\n",
            "Epoch 17/100\n",
            "329/329 [==============================] - 22s 68ms/step - loss: 0.1731 - accuracy: 0.9345 - val_loss: 0.2342 - val_accuracy: 0.9182\n",
            "Epoch 18/100\n",
            "329/329 [==============================] - 22s 68ms/step - loss: 0.1694 - accuracy: 0.9362 - val_loss: 0.2088 - val_accuracy: 0.9277\n",
            "Epoch 19/100\n",
            "329/329 [==============================] - 22s 68ms/step - loss: 0.1573 - accuracy: 0.9410 - val_loss: 0.2213 - val_accuracy: 0.9254\n",
            "Epoch 20/100\n",
            "329/329 [==============================] - 22s 68ms/step - loss: 0.1549 - accuracy: 0.9412 - val_loss: 0.2041 - val_accuracy: 0.9285\n",
            "Epoch 21/100\n",
            "329/329 [==============================] - 22s 68ms/step - loss: 0.1469 - accuracy: 0.9444 - val_loss: 0.2258 - val_accuracy: 0.9255\n",
            "Epoch 22/100\n",
            "329/329 [==============================] - 22s 68ms/step - loss: 0.1464 - accuracy: 0.9428 - val_loss: 0.2071 - val_accuracy: 0.9317\n",
            "Epoch 23/100\n",
            "329/329 [==============================] - 22s 68ms/step - loss: 0.1385 - accuracy: 0.9472 - val_loss: 0.2203 - val_accuracy: 0.9278\n",
            "Epoch 24/100\n",
            "329/329 [==============================] - 22s 68ms/step - loss: 0.1313 - accuracy: 0.9502 - val_loss: 0.2192 - val_accuracy: 0.9299\n",
            "Epoch 25/100\n",
            "329/329 [==============================] - 22s 68ms/step - loss: 0.1228 - accuracy: 0.9518 - val_loss: 0.2136 - val_accuracy: 0.9335\n",
            "Epoch 26/100\n",
            "329/329 [==============================] - 22s 68ms/step - loss: 0.1197 - accuracy: 0.9540 - val_loss: 0.2092 - val_accuracy: 0.9323\n",
            "Epoch 27/100\n",
            "329/329 [==============================] - 22s 68ms/step - loss: 0.1108 - accuracy: 0.9578 - val_loss: 0.2117 - val_accuracy: 0.9327\n",
            "Epoch 28/100\n",
            "329/329 [==============================] - 22s 68ms/step - loss: 0.1151 - accuracy: 0.9559 - val_loss: 0.2092 - val_accuracy: 0.9328\n",
            "Epoch 29/100\n",
            "329/329 [==============================] - 22s 68ms/step - loss: 0.1042 - accuracy: 0.9594 - val_loss: 0.2402 - val_accuracy: 0.9266\n",
            "Epoch 30/100\n",
            "329/329 [==============================] - 22s 68ms/step - loss: 0.1062 - accuracy: 0.9583 - val_loss: 0.2228 - val_accuracy: 0.9304\n",
            "Epoch 31/100\n",
            "329/329 [==============================] - 22s 68ms/step - loss: 0.0964 - accuracy: 0.9630 - val_loss: 0.2092 - val_accuracy: 0.9342\n",
            "Epoch 32/100\n",
            "329/329 [==============================] - 22s 68ms/step - loss: 0.0880 - accuracy: 0.9669 - val_loss: 0.2471 - val_accuracy: 0.9274\n",
            "Epoch 33/100\n",
            "329/329 [==============================] - 22s 68ms/step - loss: 0.0927 - accuracy: 0.9632 - val_loss: 0.2265 - val_accuracy: 0.9321\n",
            "Epoch 34/100\n",
            "329/329 [==============================] - 22s 68ms/step - loss: 0.0835 - accuracy: 0.9686 - val_loss: 0.2279 - val_accuracy: 0.9299\n",
            "Epoch 35/100\n",
            "329/329 [==============================] - 22s 68ms/step - loss: 0.0783 - accuracy: 0.9704 - val_loss: 0.2384 - val_accuracy: 0.9297\n",
            "Epoch 36/100\n",
            "329/329 [==============================] - 22s 68ms/step - loss: 0.0801 - accuracy: 0.9681 - val_loss: 0.2353 - val_accuracy: 0.9334\n",
            "Epoch 37/100\n",
            "329/329 [==============================] - 22s 68ms/step - loss: 0.0802 - accuracy: 0.9705 - val_loss: 0.2524 - val_accuracy: 0.9332\n",
            "Epoch 38/100\n",
            "329/329 [==============================] - 22s 68ms/step - loss: 0.0732 - accuracy: 0.9718 - val_loss: 0.2416 - val_accuracy: 0.9358\n",
            "Epoch 39/100\n",
            "329/329 [==============================] - 22s 68ms/step - loss: 0.0699 - accuracy: 0.9741 - val_loss: 0.2273 - val_accuracy: 0.9368\n",
            "Epoch 40/100\n",
            "329/329 [==============================] - 22s 68ms/step - loss: 0.0734 - accuracy: 0.9706 - val_loss: 0.2567 - val_accuracy: 0.9326\n",
            "Epoch 41/100\n",
            "329/329 [==============================] - 22s 68ms/step - loss: 0.0623 - accuracy: 0.9760 - val_loss: 0.2586 - val_accuracy: 0.9314\n",
            "Epoch 42/100\n",
            "329/329 [==============================] - 22s 68ms/step - loss: 0.0592 - accuracy: 0.9773 - val_loss: 0.2445 - val_accuracy: 0.9358\n",
            "Epoch 43/100\n",
            "329/329 [==============================] - 22s 68ms/step - loss: 0.0561 - accuracy: 0.9783 - val_loss: 0.2591 - val_accuracy: 0.9337\n",
            "Epoch 44/100\n",
            "329/329 [==============================] - 22s 68ms/step - loss: 0.0609 - accuracy: 0.9776 - val_loss: 0.2540 - val_accuracy: 0.9339\n",
            "Epoch 45/100\n",
            "329/329 [==============================] - 22s 68ms/step - loss: 0.0536 - accuracy: 0.9789 - val_loss: 0.2670 - val_accuracy: 0.9357\n",
            "Epoch 46/100\n",
            "329/329 [==============================] - 22s 68ms/step - loss: 0.0528 - accuracy: 0.9804 - val_loss: 0.2577 - val_accuracy: 0.9359\n",
            "Epoch 47/100\n",
            "329/329 [==============================] - 22s 68ms/step - loss: 0.0521 - accuracy: 0.9803 - val_loss: 0.2677 - val_accuracy: 0.9339\n",
            "Epoch 48/100\n",
            "329/329 [==============================] - 22s 68ms/step - loss: 0.0479 - accuracy: 0.9815 - val_loss: 0.2807 - val_accuracy: 0.9367\n",
            "Epoch 49/100\n",
            "329/329 [==============================] - 22s 68ms/step - loss: 0.0457 - accuracy: 0.9824 - val_loss: 0.2654 - val_accuracy: 0.9358\n",
            "Epoch 50/100\n",
            "329/329 [==============================] - 22s 68ms/step - loss: 0.0463 - accuracy: 0.9837 - val_loss: 0.2612 - val_accuracy: 0.9389\n",
            "Epoch 51/100\n",
            "329/329 [==============================] - 22s 68ms/step - loss: 0.0475 - accuracy: 0.9823 - val_loss: 0.2696 - val_accuracy: 0.9381\n",
            "Epoch 52/100\n",
            "329/329 [==============================] - 22s 68ms/step - loss: 0.0444 - accuracy: 0.9839 - val_loss: 0.2649 - val_accuracy: 0.9378\n",
            "Epoch 53/100\n",
            "329/329 [==============================] - 22s 68ms/step - loss: 0.0398 - accuracy: 0.9849 - val_loss: 0.2823 - val_accuracy: 0.9345\n",
            "Epoch 54/100\n",
            "329/329 [==============================] - 23s 68ms/step - loss: 0.0382 - accuracy: 0.9858 - val_loss: 0.2774 - val_accuracy: 0.9360\n",
            "Epoch 55/100\n",
            "329/329 [==============================] - 22s 68ms/step - loss: 0.0428 - accuracy: 0.9834 - val_loss: 0.2624 - val_accuracy: 0.9373\n",
            "Epoch 56/100\n",
            "329/329 [==============================] - 22s 68ms/step - loss: 0.0409 - accuracy: 0.9846 - val_loss: 0.2823 - val_accuracy: 0.9365\n",
            "Epoch 57/100\n",
            "329/329 [==============================] - 22s 68ms/step - loss: 0.0358 - accuracy: 0.9866 - val_loss: 0.3286 - val_accuracy: 0.9269\n",
            "Epoch 58/100\n",
            "329/329 [==============================] - 22s 68ms/step - loss: 0.0372 - accuracy: 0.9856 - val_loss: 0.2867 - val_accuracy: 0.9364\n",
            "Epoch 59/100\n",
            "329/329 [==============================] - 22s 68ms/step - loss: 0.0348 - accuracy: 0.9863 - val_loss: 0.3089 - val_accuracy: 0.9365\n",
            "Epoch 60/100\n",
            "329/329 [==============================] - 22s 68ms/step - loss: 0.0380 - accuracy: 0.9870 - val_loss: 0.2885 - val_accuracy: 0.9356\n",
            "Epoch 61/100\n",
            "329/329 [==============================] - 22s 68ms/step - loss: 0.0317 - accuracy: 0.9881 - val_loss: 0.2912 - val_accuracy: 0.9362\n",
            "Epoch 62/100\n",
            "329/329 [==============================] - 22s 68ms/step - loss: 0.0321 - accuracy: 0.9883 - val_loss: 0.2980 - val_accuracy: 0.9321\n",
            "Epoch 63/100\n",
            "329/329 [==============================] - 23s 69ms/step - loss: 0.0309 - accuracy: 0.9890 - val_loss: 0.3029 - val_accuracy: 0.9364\n",
            "Epoch 64/100\n",
            "329/329 [==============================] - 22s 68ms/step - loss: 0.0276 - accuracy: 0.9897 - val_loss: 0.2824 - val_accuracy: 0.9388\n",
            "Epoch 65/100\n",
            "329/329 [==============================] - 22s 68ms/step - loss: 0.0303 - accuracy: 0.9887 - val_loss: 0.3375 - val_accuracy: 0.9338\n",
            "Epoch 66/100\n",
            "329/329 [==============================] - 22s 68ms/step - loss: 0.0284 - accuracy: 0.9897 - val_loss: 0.2942 - val_accuracy: 0.9394\n",
            "Epoch 67/100\n",
            "329/329 [==============================] - 22s 68ms/step - loss: 0.0276 - accuracy: 0.9906 - val_loss: 0.3084 - val_accuracy: 0.9359\n",
            "Epoch 68/100\n",
            "329/329 [==============================] - 22s 68ms/step - loss: 0.0311 - accuracy: 0.9886 - val_loss: 0.3149 - val_accuracy: 0.9364\n",
            "Epoch 69/100\n",
            "329/329 [==============================] - 22s 68ms/step - loss: 0.0273 - accuracy: 0.9900 - val_loss: 0.2946 - val_accuracy: 0.9371\n",
            "Epoch 70/100\n",
            "329/329 [==============================] - 22s 68ms/step - loss: 0.0223 - accuracy: 0.9921 - val_loss: 0.3142 - val_accuracy: 0.9371\n",
            "Epoch 71/100\n",
            "329/329 [==============================] - 22s 68ms/step - loss: 0.0230 - accuracy: 0.9917 - val_loss: 0.3287 - val_accuracy: 0.9361\n",
            "Epoch 72/100\n",
            "329/329 [==============================] - 22s 68ms/step - loss: 0.0279 - accuracy: 0.9896 - val_loss: 0.3206 - val_accuracy: 0.9369\n",
            "Epoch 73/100\n",
            "329/329 [==============================] - 22s 68ms/step - loss: 0.0272 - accuracy: 0.9909 - val_loss: 0.3101 - val_accuracy: 0.9377\n",
            "Epoch 74/100\n",
            "329/329 [==============================] - 22s 68ms/step - loss: 0.0231 - accuracy: 0.9918 - val_loss: 0.3190 - val_accuracy: 0.9369\n",
            "Epoch 75/100\n",
            "329/329 [==============================] - 22s 68ms/step - loss: 0.0266 - accuracy: 0.9906 - val_loss: 0.3228 - val_accuracy: 0.9389\n",
            "Epoch 76/100\n",
            "329/329 [==============================] - 22s 68ms/step - loss: 0.0199 - accuracy: 0.9929 - val_loss: 0.3420 - val_accuracy: 0.9355\n",
            "Epoch 77/100\n",
            "329/329 [==============================] - 22s 68ms/step - loss: 0.0251 - accuracy: 0.9903 - val_loss: 0.3526 - val_accuracy: 0.9341\n",
            "Epoch 78/100\n",
            "329/329 [==============================] - 22s 68ms/step - loss: 0.0230 - accuracy: 0.9916 - val_loss: 0.3192 - val_accuracy: 0.9369\n",
            "Epoch 79/100\n",
            "329/329 [==============================] - 22s 68ms/step - loss: 0.0210 - accuracy: 0.9927 - val_loss: 0.3184 - val_accuracy: 0.9385\n",
            "Epoch 80/100\n",
            "329/329 [==============================] - 22s 68ms/step - loss: 0.0209 - accuracy: 0.9926 - val_loss: 0.3400 - val_accuracy: 0.9393\n",
            "Epoch 81/100\n",
            "329/329 [==============================] - 22s 68ms/step - loss: 0.0216 - accuracy: 0.9919 - val_loss: 0.3353 - val_accuracy: 0.9362\n",
            "Epoch 82/100\n",
            "329/329 [==============================] - 22s 68ms/step - loss: 0.0176 - accuracy: 0.9934 - val_loss: 0.3368 - val_accuracy: 0.9382\n",
            "Epoch 83/100\n",
            "329/329 [==============================] - 23s 68ms/step - loss: 0.0210 - accuracy: 0.9924 - val_loss: 0.3843 - val_accuracy: 0.9309\n",
            "Epoch 84/100\n",
            "329/329 [==============================] - 22s 68ms/step - loss: 0.0208 - accuracy: 0.9926 - val_loss: 0.3218 - val_accuracy: 0.9384\n",
            "Epoch 85/100\n",
            "329/329 [==============================] - 22s 68ms/step - loss: 0.0194 - accuracy: 0.9931 - val_loss: 0.3429 - val_accuracy: 0.9380\n",
            "Epoch 86/100\n",
            "329/329 [==============================] - 22s 68ms/step - loss: 0.0184 - accuracy: 0.9935 - val_loss: 0.3474 - val_accuracy: 0.9376\n",
            "Epoch 87/100\n",
            "329/329 [==============================] - 22s 68ms/step - loss: 0.0186 - accuracy: 0.9934 - val_loss: 0.3380 - val_accuracy: 0.9357\n",
            "Epoch 88/100\n",
            "329/329 [==============================] - 22s 68ms/step - loss: 0.0169 - accuracy: 0.9945 - val_loss: 0.3534 - val_accuracy: 0.9353\n",
            "Epoch 89/100\n",
            "329/329 [==============================] - 22s 68ms/step - loss: 0.0188 - accuracy: 0.9934 - val_loss: 0.3575 - val_accuracy: 0.9334\n",
            "Epoch 90/100\n",
            "329/329 [==============================] - 23s 69ms/step - loss: 0.0182 - accuracy: 0.9935 - val_loss: 0.3249 - val_accuracy: 0.9378\n",
            "Epoch 91/100\n",
            "329/329 [==============================] - 22s 68ms/step - loss: 0.0188 - accuracy: 0.9934 - val_loss: 0.3310 - val_accuracy: 0.9352\n",
            "Epoch 92/100\n",
            "329/329 [==============================] - 22s 68ms/step - loss: 0.0167 - accuracy: 0.9938 - val_loss: 0.3482 - val_accuracy: 0.9387\n",
            "Epoch 93/100\n",
            "329/329 [==============================] - 22s 68ms/step - loss: 0.0173 - accuracy: 0.9937 - val_loss: 0.3567 - val_accuracy: 0.9357\n",
            "Epoch 94/100\n",
            "329/329 [==============================] - 22s 68ms/step - loss: 0.0155 - accuracy: 0.9944 - val_loss: 0.3513 - val_accuracy: 0.9374\n",
            "Epoch 95/100\n",
            "329/329 [==============================] - 23s 69ms/step - loss: 0.0160 - accuracy: 0.9941 - val_loss: 0.3457 - val_accuracy: 0.9379\n",
            "Epoch 96/100\n",
            "329/329 [==============================] - 22s 68ms/step - loss: 0.0146 - accuracy: 0.9949 - val_loss: 0.3788 - val_accuracy: 0.9336\n",
            "Epoch 97/100\n",
            "329/329 [==============================] - 23s 68ms/step - loss: 0.0145 - accuracy: 0.9948 - val_loss: 0.3837 - val_accuracy: 0.9354\n",
            "Epoch 98/100\n",
            "329/329 [==============================] - 23s 69ms/step - loss: 0.0169 - accuracy: 0.9940 - val_loss: 0.3621 - val_accuracy: 0.9369\n",
            "Epoch 99/100\n",
            "329/329 [==============================] - 22s 68ms/step - loss: 0.0150 - accuracy: 0.9947 - val_loss: 0.3689 - val_accuracy: 0.9372\n",
            "Epoch 100/100\n",
            "329/329 [==============================] - 22s 68ms/step - loss: 0.0166 - accuracy: 0.9942 - val_loss: 0.3771 - val_accuracy: 0.9395\n"
          ],
          "name": "stdout"
        },
        {
          "output_type": "display_data",
          "data": {
            "image/png": "[encoded data removed]",
            "text/plain": [
              "<Figure size 1080x288 with 2 Axes>"
            ]
          },
          "metadata": {
            "tags": []
          }
        }
      ]
    },
    {
      "cell_type": "code",
      "metadata": {
        "colab": {
          "base_uri": "https://localhost:8080/"
        },
        "id": "l9Y6ZDYzVJb8",
        "outputId": "2431c3c0-1bff-4efe-f540-07e475948f30"
      },
      "source": [
        "test_loss, test_accuracy = model.evaluate(test_images, test_labels, steps=math.ceil(len(test_labels)/32))\n",
        "print('Accuracy on test dataset after using CNN:', test_accuracy)"
      ],
      "execution_count": null,
      "outputs": [
        {
          "output_type": "stream",
          "text": [
            "313/313 [==============================] - 3s 9ms/step - loss: 0.4265 - accuracy: 0.9324\n",
            "Accuracy on test dataset after layer specific weight regularisation: 0.9323999881744385\n"
          ],
          "name": "stdout"
        }
      ]
    },
    {
      "cell_type": "markdown",
      "metadata": {
        "id": "-wkBB_vm1g1-"
      },
      "source": [
        "After using a CNN model, the accuracy over the test set increases to 0.9324 without much hyperparameter tuning."
      ]
    },
    {
      "cell_type": "markdown",
      "metadata": {
        "id": "qbhr44DnMbKZ"
      },
      "source": [
        "\n",
        "### Task 1.3 Build an input pipeline for data augmentation\n",
        "\n",
        "*(weight ~3%)*\n",
        "\n",
        "Build a data preprocessing pipeline to perform data augmentation. (You may use Keras ImageDataGenerator or write your own transformations.)\n",
        "\n",
        "- Report the new classification accuracy. Make sure that you use the same number of training epochs as in Task 1.2.\n",
        "\n",
        "- (Optional) Profile your input pipeline to identify the most time-consuming operation. What actions have you taken to address that slow operation? (*Hint: You may use the [TensorFlow Profiler](https://github.com/tensorflow/profiler).*)"
      ]
    },
    {
      "cell_type": "code",
      "metadata": {
        "id": "4YtlnztEpzUl"
      },
      "source": [
        "# data augumentation, using Keras ImageDataGenerator\n",
        "\n",
        "from tensorflow.keras.preprocessing.image import ImageDataGenerator\n",
        "\n",
        "model.set_weights(init_weights)\n",
        "\n",
        "\n",
        "train_datagen = ImageDataGenerator( \n",
        "        rotation_range=10,        # randomly rotate between 0-rotation_range angle\n",
        "        width_shift_range=0.2,    # randomly shift horizontally by this much\n",
        "        height_shift_range=0.2,   # randomly shift vertically by this much\n",
        "        shear_range=0.2,          # randomly shear by this much\n",
        "        zoom_range=0.2,           # randomly zoom (80% - 120%)\n",
        "        horizontal_flip=True,\n",
        "        fill_mode='nearest'       # fill any pixels lost in xform with nearest\n",
        "    )\n",
        "\n",
        "val_datagen = ImageDataGenerator()\n",
        "test_datagen = ImageDataGenerator()\n",
        "\n",
        "#train_datagen.fit(X_train)\n",
        "\n",
        "# fit the data generator on training data & validate on\n",
        "num_train_batches = len(X_train) // 32\n",
        "num_train_batches += (0 if len(X_train) % 32 == 0 else 1)     \n",
        "num_val_batches = len(X_val) // 32\n",
        "num_val_batches += (0 if len(X_val) % 32 == 0 else 1)     \n",
        "num_test_batches = len(test_images) // 32\n",
        "num_test_batches += (0 if len(test_images) % 32 == 0 else 1)    \n",
        "\n",
        "train_generator = train_datagen.flow(X_train, y_train, \n",
        "                                      batch_size=32,\n",
        "                                      seed=123)\n",
        "val_generator = val_datagen.flow(X_val, y_val, \n",
        "                                      batch_size=32,\n",
        "                                      seed=123)\n",
        "test_generator = test_datagen.flow(test_images, test_labels, \n",
        "                                    batch_size=32,\n",
        "                                    seed=123)\n",
        "\n",
        "# history = model.fit_generator(train_datagen.flow(X_train, y_train, batch_size=128),\n",
        "#                     validation_data =  (X_val,y_val),\n",
        "#                     epochs=100,\n",
        "#                     callbacks=[reduce_lr],\n",
        "#                     shuffle=True)  "
      ],
      "execution_count": 5,
      "outputs": []
    },
    {
      "cell_type": "code",
      "metadata": {
        "id": "lUrVT-qN5tmf"
      },
      "source": [
        ""
      ],
      "execution_count": null,
      "outputs": []
    },
    {
      "cell_type": "code",
      "metadata": {
        "id": "44zzOd-isggz"
      },
      "source": [
        "AUTOTUNE = tf.data.experimental.AUTOTUNE\n",
        "\n",
        "def augment(image,label):\n",
        "  image = tf.image.convert_image_dtype(image, tf.float32) \n",
        "  image = tf.image.random_flip_left_right(image)\n",
        "  image = tf.image.resize(image, (28, 28))\n",
        "  image = tf.image.resize_with_pad(image, 28 + 6, 28 + 6) # Add pixels of padding\n",
        "  image = tf.image.random_crop(image, size=[28, 28, 3]) # Random crop back to IMAGE_SIZExIMAGE_SIZE\n",
        "  return image, label\n",
        "\n",
        "augmented_train_batches = (\n",
        "    fmnist_train_ds\n",
        "    .cache()\n",
        "    # The augmentation is added here.\n",
        "    .map(augment, num_parallel_calls=AUTOTUNE)\n",
        "    .batch(32)\n",
        "    .prefetch(AUTOTUNE)\n",
        ")"
      ],
      "execution_count": null,
      "outputs": []
    },
    {
      "cell_type": "code",
      "metadata": {
        "id": "hAk4NU_YXwK8"
      },
      "source": [
        ""
      ],
      "execution_count": null,
      "outputs": []
    },
    {
      "cell_type": "code",
      "metadata": {
        "colab": {
          "base_uri": "https://localhost:8080/"
        },
        "id": "SPItzZz2X78z",
        "outputId": "cbbf5757-3ced-474f-b35d-646828a5d2b1"
      },
      "source": [
        "!pip install -U tensorboard_plugin_profile\n"
      ],
      "execution_count": 6,
      "outputs": [
        {
          "output_type": "stream",
          "text": [
            "Collecting tensorboard_plugin_profile\n",
            "\u001b[?25l  Downloading https://files.pythonhosted.org/packages/d1/4e/0bf160776e5dacdba5105a580aa57a2bd37c1cc4faa1bd7695d82e7d6ae7/tensorboard_plugin_profile-2.4.0-py3-none-any.whl (1.2MB)\n",
            "\r\u001b[K     |▎                               | 10kB 25.3MB/s eta 0:00:01\r\u001b[K     |▋                               | 20kB 30.0MB/s eta 0:00:01\r\u001b[K     |▉                               | 30kB 34.0MB/s eta 0:00:01\r\u001b[K     |█▏                              | 40kB 29.6MB/s eta 0:00:01\r\u001b[K     |█▍                              | 51kB 28.3MB/s eta 0:00:01\r\u001b[K     |█▊                              | 61kB 30.8MB/s eta 0:00:01\r\u001b[K     |██                              | 71kB 26.3MB/s eta 0:00:01\r\u001b[K     |██▎                             | 81kB 26.6MB/s eta 0:00:01\r\u001b[K     |██▌                             | 92kB 23.3MB/s eta 0:00:01\r\u001b[K     |██▉                             | 102kB 24.6MB/s eta 0:00:01\r\u001b[K     |███▏                            | 112kB 24.6MB/s eta 0:00:01\r\u001b[K     |███▍                            | 122kB 24.6MB/s eta 0:00:01\r\u001b[K     |███▊                            | 133kB 24.6MB/s eta 0:00:01\r\u001b[K     |████                            | 143kB 24.6MB/s eta 0:00:01\r\u001b[K     |████▎                           | 153kB 24.6MB/s eta 0:00:01\r\u001b[K     |████▌                           | 163kB 24.6MB/s eta 0:00:01\r\u001b[K     |████▉                           | 174kB 24.6MB/s eta 0:00:01\r\u001b[K     |█████                           | 184kB 24.6MB/s eta 0:00:01\r\u001b[K     |█████▍                          | 194kB 24.6MB/s eta 0:00:01\r\u001b[K     |█████▊                          | 204kB 24.6MB/s eta 0:00:01\r\u001b[K     |██████                          | 215kB 24.6MB/s eta 0:00:01\r\u001b[K     |██████▎                         | 225kB 24.6MB/s eta 0:00:01\r\u001b[K     |██████▌                         | 235kB 24.6MB/s eta 0:00:01\r\u001b[K     |██████▉                         | 245kB 24.6MB/s eta 0:00:01\r\u001b[K     |███████                         | 256kB 24.6MB/s eta 0:00:01\r\u001b[K     |███████▍                        | 266kB 24.6MB/s eta 0:00:01\r\u001b[K     |███████▋                        | 276kB 24.6MB/s eta 0:00:01\r\u001b[K     |████████                        | 286kB 24.6MB/s eta 0:00:01\r\u001b[K     |████████▎                       | 296kB 24.6MB/s eta 0:00:01\r\u001b[K     |████████▌                       | 307kB 24.6MB/s eta 0:00:01\r\u001b[K     |████████▉                       | 317kB 24.6MB/s eta 0:00:01\r\u001b[K     |█████████                       | 327kB 24.6MB/s eta 0:00:01\r\u001b[K     |█████████▍                      | 337kB 24.6MB/s eta 0:00:01\r\u001b[K     |█████████▋                      | 348kB 24.6MB/s eta 0:00:01\r\u001b[K     |██████████                      | 358kB 24.6MB/s eta 0:00:01\r\u001b[K     |██████████▏                     | 368kB 24.6MB/s eta 0:00:01\r\u001b[K     |██████████▌                     | 378kB 24.6MB/s eta 0:00:01\r\u001b[K     |██████████▊                     | 389kB 24.6MB/s eta 0:00:01\r\u001b[K     |███████████                     | 399kB 24.6MB/s eta 0:00:01\r\u001b[K     |███████████▍                    | 409kB 24.6MB/s eta 0:00:01\r\u001b[K     |███████████▋                    | 419kB 24.6MB/s eta 0:00:01\r\u001b[K     |████████████                    | 430kB 24.6MB/s eta 0:00:01\r\u001b[K     |████████████▏                   | 440kB 24.6MB/s eta 0:00:01\r\u001b[K     |████████████▌                   | 450kB 24.6MB/s eta 0:00:01\r\u001b[K     |████████████▊                   | 460kB 24.6MB/s eta 0:00:01\r\u001b[K     |█████████████                   | 471kB 24.6MB/s eta 0:00:01\r\u001b[K     |█████████████▎                  | 481kB 24.6MB/s eta 0:00:01\r\u001b[K     |█████████████▋                  | 491kB 24.6MB/s eta 0:00:01\r\u001b[K     |██████████████                  | 501kB 24.6MB/s eta 0:00:01\r\u001b[K     |██████████████▏                 | 512kB 24.6MB/s eta 0:00:01\r\u001b[K     |██████████████▌                 | 522kB 24.6MB/s eta 0:00:01\r\u001b[K     |██████████████▊                 | 532kB 24.6MB/s eta 0:00:01\r\u001b[K     |███████████████                 | 542kB 24.6MB/s eta 0:00:01\r\u001b[K     |███████████████▎                | 552kB 24.6MB/s eta 0:00:01\r\u001b[K     |███████████████▋                | 563kB 24.6MB/s eta 0:00:01\r\u001b[K     |███████████████▉                | 573kB 24.6MB/s eta 0:00:01\r\u001b[K     |████████████████▏               | 583kB 24.6MB/s eta 0:00:01\r\u001b[K     |████████████████▌               | 593kB 24.6MB/s eta 0:00:01\r\u001b[K     |████████████████▊               | 604kB 24.6MB/s eta 0:00:01\r\u001b[K     |█████████████████               | 614kB 24.6MB/s eta 0:00:01\r\u001b[K     |█████████████████▎              | 624kB 24.6MB/s eta 0:00:01\r\u001b[K     |█████████████████▋              | 634kB 24.6MB/s eta 0:00:01\r\u001b[K     |█████████████████▉              | 645kB 24.6MB/s eta 0:00:01\r\u001b[K     |██████████████████▏             | 655kB 24.6MB/s eta 0:00:01\r\u001b[K     |██████████████████▍             | 665kB 24.6MB/s eta 0:00:01\r\u001b[K     |██████████████████▊             | 675kB 24.6MB/s eta 0:00:01\r\u001b[K     |███████████████████             | 686kB 24.6MB/s eta 0:00:01\r\u001b[K     |███████████████████▎            | 696kB 24.6MB/s eta 0:00:01\r\u001b[K     |███████████████████▋            | 706kB 24.6MB/s eta 0:00:01\r\u001b[K     |███████████████████▉            | 716kB 24.6MB/s eta 0:00:01\r\u001b[K     |████████████████████▏           | 727kB 24.6MB/s eta 0:00:01\r\u001b[K     |████████████████████▍           | 737kB 24.6MB/s eta 0:00:01\r\u001b[K     |████████████████████▊           | 747kB 24.6MB/s eta 0:00:01\r\u001b[K     |█████████████████████           | 757kB 24.6MB/s eta 0:00:01\r\u001b[K     |█████████████████████▎          | 768kB 24.6MB/s eta 0:00:01\r\u001b[K     |█████████████████████▌          | 778kB 24.6MB/s eta 0:00:01\r\u001b[K     |█████████████████████▉          | 788kB 24.6MB/s eta 0:00:01\r\u001b[K     |██████████████████████▏         | 798kB 24.6MB/s eta 0:00:01\r\u001b[K     |██████████████████████▍         | 808kB 24.6MB/s eta 0:00:01\r\u001b[K     |██████████████████████▊         | 819kB 24.6MB/s eta 0:00:01\r\u001b[K     |███████████████████████         | 829kB 24.6MB/s eta 0:00:01\r\u001b[K     |███████████████████████▎        | 839kB 24.6MB/s eta 0:00:01\r\u001b[K     |███████████████████████▌        | 849kB 24.6MB/s eta 0:00:01\r\u001b[K     |███████████████████████▉        | 860kB 24.6MB/s eta 0:00:01\r\u001b[K     |████████████████████████        | 870kB 24.6MB/s eta 0:00:01\r\u001b[K     |████████████████████████▍       | 880kB 24.6MB/s eta 0:00:01\r\u001b[K     |████████████████████████▊       | 890kB 24.6MB/s eta 0:00:01\r\u001b[K     |█████████████████████████       | 901kB 24.6MB/s eta 0:00:01\r\u001b[K     |█████████████████████████▎      | 911kB 24.6MB/s eta 0:00:01\r\u001b[K     |█████████████████████████▌      | 921kB 24.6MB/s eta 0:00:01\r\u001b[K     |█████████████████████████▉      | 931kB 24.6MB/s eta 0:00:01\r\u001b[K     |██████████████████████████      | 942kB 24.6MB/s eta 0:00:01\r\u001b[K     |██████████████████████████▍     | 952kB 24.6MB/s eta 0:00:01\r\u001b[K     |██████████████████████████▋     | 962kB 24.6MB/s eta 0:00:01\r\u001b[K     |███████████████████████████     | 972kB 24.6MB/s eta 0:00:01\r\u001b[K     |███████████████████████████▎    | 983kB 24.6MB/s eta 0:00:01\r\u001b[K     |███████████████████████████▌    | 993kB 24.6MB/s eta 0:00:01\r\u001b[K     |███████████████████████████▉    | 1.0MB 24.6MB/s eta 0:00:01\r\u001b[K     |████████████████████████████    | 1.0MB 24.6MB/s eta 0:00:01\r\u001b[K     |████████████████████████████▍   | 1.0MB 24.6MB/s eta 0:00:01\r\u001b[K     |████████████████████████████▋   | 1.0MB 24.6MB/s eta 0:00:01\r\u001b[K     |█████████████████████████████   | 1.0MB 24.6MB/s eta 0:00:01\r\u001b[K     |█████████████████████████████▏  | 1.1MB 24.6MB/s eta 0:00:01\r\u001b[K     |█████████████████████████████▌  | 1.1MB 24.6MB/s eta 0:00:01\r\u001b[K     |█████████████████████████████▉  | 1.1MB 24.6MB/s eta 0:00:01\r\u001b[K     |██████████████████████████████  | 1.1MB 24.6MB/s eta 0:00:01\r\u001b[K     |██████████████████████████████▍ | 1.1MB 24.6MB/s eta 0:00:01\r\u001b[K     |██████████████████████████████▋ | 1.1MB 24.6MB/s eta 0:00:01\r\u001b[K     |███████████████████████████████ | 1.1MB 24.6MB/s eta 0:00:01\r\u001b[K     |███████████████████████████████▏| 1.1MB 24.6MB/s eta 0:00:01\r\u001b[K     |███████████████████████████████▌| 1.1MB 24.6MB/s eta 0:00:01\r\u001b[K     |███████████████████████████████▊| 1.1MB 24.6MB/s eta 0:00:01\r\u001b[K     |████████████████████████████████| 1.2MB 24.6MB/s \n",
            "\u001b[?25hRequirement already satisfied, skipping upgrade: six>=1.10.0 in /usr/local/lib/python3.7/dist-packages (from tensorboard_plugin_profile) (1.15.0)\n",
            "Requirement already satisfied, skipping upgrade: werkzeug>=0.11.15 in /usr/local/lib/python3.7/dist-packages (from tensorboard_plugin_profile) (2.0.0)\n",
            "Collecting gviz-api>=1.9.0\n",
            "  Downloading https://files.pythonhosted.org/packages/8c/8f/c6f16235a16b3dc4efdcf34dbc93b3b6f678b88176dbd6a36c75d678888f/gviz_api-1.9.0-py2.py3-none-any.whl\n",
            "Requirement already satisfied, skipping upgrade: protobuf>=3.6.0 in /usr/local/lib/python3.7/dist-packages (from tensorboard_plugin_profile) (3.12.4)\n",
            "Requirement already satisfied, skipping upgrade: setuptools>=41.0.0 in /usr/local/lib/python3.7/dist-packages (from tensorboard_plugin_profile) (56.1.0)\n",
            "Installing collected packages: gviz-api, tensorboard-plugin-profile\n",
            "Successfully installed gviz-api-1.9.0 tensorboard-plugin-profile-2.4.0\n"
          ],
          "name": "stdout"
        }
      ]
    },
    {
      "cell_type": "code",
      "metadata": {
        "colab": {
          "base_uri": "https://localhost:8080/"
        },
        "id": "DUEbMOEnYQR8",
        "outputId": "0a6bb496-45c5-4383-da0e-13ebb43dd547"
      },
      "source": [
        "# Profiling the input pipeline to identify the most time-consuming operation\n",
        "# Training the model for the same number of epochs\n",
        "\n",
        "!rm -rf ./logs/\n",
        "\n",
        "from datetime import datetime\n",
        "import os\n",
        "\n",
        "root_logdir = \"logs\"\n",
        "run_id = datetime.now().strftime(\"%Y%m%d-%H%M%S\")\n",
        "logdir = os.path.join(root_logdir, run_id)\n",
        "\n",
        "callbacks = [\n",
        "    tf.keras.callbacks.TensorBoard(\n",
        "        log_dir=logdir,\n",
        "        histogram_freq=1,\n",
        "         write_graph=True, \n",
        "         write_images=True,\n",
        "         profile_batch = '15,25'\n",
        "    )\n",
        "]\n",
        "\n",
        "\n",
        "# reset the training\n",
        "model.set_weights(init_weights)\n",
        "\n",
        "history = model.fit(train_generator,\n",
        "                    steps_per_epoch = num_train_batches, \n",
        "                    epochs = 125,\n",
        "                    validation_data = (val_generator),\n",
        "                    validation_steps = num_val_batches,\n",
        "                    batch_size=512,\n",
        "                    callbacks=[callbacks],\n",
        "                    shuffle=True)  \n"
      ],
      "execution_count": null,
      "outputs": [
        {
          "output_type": "stream",
          "text": [
            "Epoch 1/125\n",
            "1407/1407 [==============================] - 22s 16ms/step - loss: 0.8901 - accuracy: 0.6657 - val_loss: 0.5394 - val_accuracy: 0.7903\n",
            "Epoch 2/125\n",
            "1407/1407 [==============================] - 21s 15ms/step - loss: 0.6364 - accuracy: 0.7546 - val_loss: 0.4852 - val_accuracy: 0.8144\n",
            "Epoch 3/125\n",
            "1407/1407 [==============================] - 21s 15ms/step - loss: 0.5608 - accuracy: 0.7860 - val_loss: 0.4368 - val_accuracy: 0.8281\n",
            "Epoch 4/125\n",
            "1406/1407 [============================>.] - ETA: 0s - loss: 0.5116 - accuracy: 0.8065"
          ],
          "name": "stdout"
        }
      ]
    },
    {
      "cell_type": "code",
      "metadata": {
        "id": "gK01SWsGpUbt"
      },
      "source": [
        "acc = history.history['accuracy']\n",
        "val_acc = history.history['val_accuracy']\n",
        "loss = history.history['loss']\n",
        "val_loss = history.history['val_loss']\n",
        "epochs = range(1, len(acc) + 1)\n",
        "\n",
        "plt.figure(figsize=(15,4))\n",
        "\n",
        "ax1 = plt.subplot(1, 2, 1)\n",
        "plt.plot(epochs, loss, label='Training loss')\n",
        "plt.plot(epochs, val_loss, label='Validation loss')\n",
        "plt.fill_between(epochs, loss,val_loss,color='g',alpha=.1)\n",
        "\n",
        "plt.title('Training and validation loss')\n",
        "plt.xlabel('Epochs')\n",
        "plt.ylabel('Loss')\n",
        "plt.legend()\n",
        "\n",
        "ax2 = plt.subplot(1, 2, 2)\n",
        "plt.plot(epochs, acc, label='Training accuracy')\n",
        "plt.plot(epochs, val_acc, label='Validation accuracy')\n",
        "plt.fill_between(epochs, acc,val_acc,color='g',alpha=.1)\n",
        "plt.title('Training and validation accuracy')\n",
        "plt.xlabel('Epochs')\n",
        "plt.ylabel('Accuracy')\n",
        "plt.legend()\n",
        "plt.show()"
      ],
      "execution_count": null,
      "outputs": []
    },
    {
      "cell_type": "code",
      "metadata": {
        "id": "yjZrEi9_D07x"
      },
      "source": [
        "test_loss, test_accuracy = model.evaluate(test_images, test_labels, steps=math.ceil(len(test_labels)/32))\n",
        "print('Accuracy on test dataset after data augmentation:', test_accuracy)"
      ],
      "execution_count": null,
      "outputs": []
    },
    {
      "cell_type": "markdown",
      "metadata": {
        "id": "Xr5Dqcqtq7ky"
      },
      "source": [
        "After using data augumentation, for the training process, the accuracy of the model on the test set becomes: "
      ]
    },
    {
      "cell_type": "code",
      "metadata": {
        "id": "AKa4t3HEYmsA"
      },
      "source": [
        "%reload_ext tensorboard\n",
        "%tensorboard --logdir=logs"
      ],
      "execution_count": null,
      "outputs": []
    },
    {
      "cell_type": "markdown",
      "metadata": {
        "id": "prctXU4BswKK"
      },
      "source": [
        "### Task 1.4 Fashion-MNIST with transfer learning\n",
        "\n",
        "*(weight ~3%)*\n",
        "\n",
        "Use a pretrained model as the convolutional base to improve the classification performance. (Hint: You may use models in Keras Applications or those in the TensorFlow Hub.)\n",
        "\n",
        "- Try both with fine-tuning and without fine-tuning.\n",
        "- Report the model performance as before.\n",
        "\n"
      ]
    },
    {
      "cell_type": "code",
      "metadata": {
        "id": "4LOg5ekrfdY-"
      },
      "source": [
        "# using VGG16 for transfer learning\n",
        "# reshaping data as that required for VGG16\n",
        "\n",
        "from keras.utils import to_categorical\n",
        "\n",
        "\n",
        "# Convert the images into 3 channels\n",
        "train_images=np.dstack([train_images] * 3)\n",
        "test_images=np.dstack([test_images]* 3)\n",
        "\n",
        "train_images = train_images.reshape(-1, 28,28,3)\n",
        "test_images= test_images.reshape (-1,28,28,3)\n",
        "\n",
        "# Resize the images 48*48 as required by VGG16\n",
        "from keras.preprocessing.image import img_to_array, array_to_img\n",
        "\n",
        "train_images = np.asarray([img_to_array(array_to_img(im, scale=False).resize((48,48))) for im in train_images])\n",
        "test_images = np.asarray([img_to_array(array_to_img(im, scale=False).resize((48,48))) for im in test_images])\n",
        "\n",
        "\n",
        "#train_images= train_images / 255.\n",
        "#test_images = test_images / 255.\n",
        "train_images = train_images.astype('float32')\n",
        "test_images = test_images.astype('float32')\n",
        "\n",
        "train_labels_one_hot = to_categorical(train_labels)\n",
        "test_labels_one_hot = to_categorical(test_labels)"
      ],
      "execution_count": null,
      "outputs": []
    },
    {
      "cell_type": "code",
      "metadata": {
        "id": "9qszPeRmfdzq"
      },
      "source": [
        "# initialising the model\n",
        "from keras import optimizers\n",
        "from keras.applications.vgg16 import VGG16\n",
        "from keras.layers import Activation, Dense\n",
        "\n",
        "IMG_WIDTH = 48\n",
        "IMG_HEIGHT = 48\n",
        "IMG_DEPTH = 3\n",
        "BATCH_SIZE = 16\n",
        "\n",
        "model_vgg16= VGG16(weights='imagenet',\n",
        "                  include_top=False, \n",
        "                  input_shape=(IMG_HEIGHT, IMG_WIDTH, IMG_DEPTH)\n",
        "                 )\n",
        "model_vgg16.summary()\n",
        "\n"
      ],
      "execution_count": null,
      "outputs": []
    },
    {
      "cell_type": "code",
      "metadata": {
        "id": "Dh98SV9imc96"
      },
      "source": [
        "for layer in model_vgg16.layers[:-4]:\n",
        "    layer.trainable = False\n",
        "\n",
        "# Check the trainable status of the individual layers\n",
        "for layer in model_vgg16.layers:\n",
        "    print(layer, layer.trainable)"
      ],
      "execution_count": null,
      "outputs": []
    },
    {
      "cell_type": "code",
      "metadata": {
        "id": "wQmk-9-7mdAv"
      },
      "source": [
        "# training on VGG16 without fine-tuning\n",
        "\n",
        "model= Sequential()\n",
        "\n",
        "model.add(model_vgg16)\n",
        "\n",
        "model.add(tf.keras.layers.Flatten())\n",
        "model.add(tf.keras.layers.Dense(1024, activation='relu'))\n",
        "model.add(tf.keras.layers.Dropout(0.5))\n",
        "model.add(tf.keras.layers.Dense(10, activation='softmax'))\n",
        "\n",
        "model.summary()"
      ],
      "execution_count": null,
      "outputs": []
    },
    {
      "cell_type": "code",
      "metadata": {
        "id": "CeXUyLoGmruC"
      },
      "source": [
        "model.compile(\n",
        "    loss='categorical_crossentropy',\n",
        "    optimizer=Adam(),\n",
        "    metrics=['acc'])"
      ],
      "execution_count": null,
      "outputs": []
    },
    {
      "cell_type": "code",
      "metadata": {
        "id": "AMP0k3memrwr"
      },
      "source": [
        "history = model.fit(train_images, train_labels_one_hot,\n",
        "          batch_size=128,\n",
        "          epochs=100,\n",
        "          verbose=1,\n",
        "          validation_split=0.3)\n",
        "\n"
      ],
      "execution_count": null,
      "outputs": []
    },
    {
      "cell_type": "code",
      "metadata": {
        "id": "uVFtisqCfE1O"
      },
      "source": [
        "acc = history.history['acc']\n",
        "val_acc = history.history['val_acc']\n",
        "loss = history.history['loss']\n",
        "val_loss = history.history['val_loss']\n",
        "epochs = range(1, len(acc) + 1)\n",
        "\n",
        "plt.figure(figsize=(15,4))\n",
        "\n",
        "ax1 = plt.subplot(1, 2, 1)\n",
        "plt.plot(epochs, loss, label='Training loss')\n",
        "plt.plot(epochs, val_loss, label='Validation loss')\n",
        "plt.fill_between(epochs, loss,val_loss,color='g',alpha=.1)\n",
        "\n",
        "plt.title('Training and validation loss')\n",
        "plt.xlabel('Epochs')\n",
        "plt.ylabel('Loss')\n",
        "plt.legend()\n",
        "\n",
        "ax2 = plt.subplot(1, 2, 2)\n",
        "plt.plot(epochs, acc, label='Training accuracy')\n",
        "plt.plot(epochs, val_acc, label='Validation accuracy')\n",
        "plt.fill_between(epochs, acc,val_acc,color='g',alpha=.1)\n",
        "plt.title('Training and validation accuracy')\n",
        "plt.xlabel('Epochs')\n",
        "plt.ylabel('Accuracy')\n",
        "plt.legend()\n",
        "plt.show()\n",
        "\n",
        "\n",
        "test_loss, test_accuracy = model.evaluate(test_images, test_labels, steps=math.ceil(len(test_labels)/32))\n",
        "print('Accuracy on test dataset after using Transfer learning (VGG16) and without fine tuning:', test_accuracy)"
      ],
      "execution_count": null,
      "outputs": []
    },
    {
      "cell_type": "code",
      "metadata": {
        "id": "VxZg34dCoY6a"
      },
      "source": [
        "# using VGG16 with fine-tuning\n",
        "\n",
        "model_vgg16.trainable = True\n",
        "\n",
        "set_trainable = False\n",
        "for layer in model_vgg16.layers:\n",
        "    if layer.name == 'block5_conv1':\n",
        "        set_trainable = True\n",
        "    if set_trainable:\n",
        "        layer.trainable = True\n",
        "    else:\n",
        "        layer.trainable = False"
      ],
      "execution_count": null,
      "outputs": []
    },
    {
      "cell_type": "code",
      "metadata": {
        "id": "z3FmXowtoY9D"
      },
      "source": [
        "model= Sequential()\n",
        "\n",
        "model.add(model_vgg16)\n",
        "\n",
        "model.add(tf.keras.layers.Flatten())\n",
        "model.add(tf.keras.layers.Dense(1024, activation='relu'))\n",
        "model.add(tf.keras.layers.Dropout(0.5))\n",
        "model.add(tf.keras.layers.Dense(10, activation='softmax'))\n",
        "\n",
        "model.summary()\n",
        "model.compile(loss='categorical_crossentropy',\n",
        "              optimizer=optimizers.RMSprop(lr=1e-5),\n",
        "              metrics=['accuracy'])"
      ],
      "execution_count": null,
      "outputs": []
    },
    {
      "cell_type": "code",
      "metadata": {
        "colab": {
          "background_save": true
        },
        "id": "stVEj6EKoY_s"
      },
      "source": [
        "ft_history = model.fit(train_images, train_labels_one_hot,\n",
        "          batch_size=128,\n",
        "          epochs=50,\n",
        "          verbose=1,\n",
        "          validation_split=0.3)\n",
        "\n",
        "acc = ft_history.history['accuracy']\n",
        "val_acc = ft_history.history['val_accuracy']\n",
        "loss = ft_history.history['loss']\n",
        "val_loss = ft_history.history['val_loss']\n",
        "epochs = range(1, len(acc) + 1)\n",
        "\n",
        "plt.figure(figsize=(15,4))\n",
        "\n",
        "ax1 = plt.subplot(1, 2, 1)\n",
        "plt.plot(epochs, loss, label='Training loss')\n",
        "plt.plot(epochs, val_loss, label='Validation loss')\n",
        "plt.fill_between(epochs, loss,val_loss,color='g',alpha=.1)\n",
        "\n",
        "plt.title('Training and validation loss')\n",
        "plt.xlabel('Epochs')\n",
        "plt.ylabel('Loss')\n",
        "plt.legend()\n",
        "\n",
        "ax2 = plt.subplot(1, 2, 2)\n",
        "plt.plot(epochs, acc, label='Training accuracy')\n",
        "plt.plot(epochs, val_acc, label='Validation accuracy')\n",
        "plt.fill_between(epochs, acc,val_acc,color='g',alpha=.1)\n",
        "plt.title('Training and validation accuracy')\n",
        "plt.xlabel('Epochs')\n",
        "plt.ylabel('Accuracy')\n",
        "plt.legend()\n",
        "plt.show()"
      ],
      "execution_count": null,
      "outputs": []
    },
    {
      "cell_type": "code",
      "metadata": {
        "id": "URFbigbEg3Qt"
      },
      "source": [
        "test_loss, test_accuracy = model.evaluate(test_images, test_labels, steps=math.ceil(len(test_labels)/32))\n",
        "print('Accuracy on test dataset after using Transfer learning (VGG16) and with fine tuning:', test_accuracy)"
      ],
      "execution_count": null,
      "outputs": []
    },
    {
      "cell_type": "markdown",
      "metadata": {
        "id": "UaHLKDLas_dF"
      },
      "source": [
        "### Task 1.5 Performance comparison\n",
        "\n",
        "*(weight ~3%)*\n",
        "\n",
        "How many parameters are trainable in each of the two settings (with and without fine-tuning)? How does the difference impact the training time?\n",
        "\n",
        "\n",
        "Which setting achieved higher accuracy? Why did it work better for this problem? \n",
        "\n",
        "Have we benefitted from using the pretrained model?\n"
      ]
    },
    {
      "cell_type": "markdown",
      "metadata": {
        "id": "QNdU05bisTX1"
      },
      "source": [
        "The neural network was trained using transfer learning. For the purpose of transfer learning, VGG16 was used which is a .... it containes 10 classes and has been trained on 1999 images. It was chosen for this problem as it has a similar  single-label multiclass classification problem.\n",
        "First setting: Using VGG16 without fine-tuning, number of trainable parameters: \n",
        "Second setting: Using VGG16 with fine-tuning, number of trainable parameters: "
      ]
    },
    {
      "cell_type": "markdown",
      "metadata": {
        "id": "ouK5NY-_pLDK"
      },
      "source": [
        "## Task 2 Fast training of deep networks\n",
        "\n",
        "*(weight ~20%)*"
      ]
    },
    {
      "cell_type": "markdown",
      "metadata": {
        "id": "LgoOE2W1pdfN"
      },
      "source": [
        "### Task 2.1 Train a highly accurate network for CIFAR10\n",
        "\n",
        "*(weight ~7%)*\n",
        "\n",
        "In this task, you will train deep neural networks on the [CIFAR10 dataset](https://www.cs.toronto.edu/~kriz/cifar.html). Compared with the datasets that you have worked on so far, CIFAR10 represents a relatively larger multi-class classification problem and presents a great opportunity for you to solve a \"harder\" problem.\n",
        "\n"
      ]
    },
    {
      "cell_type": "markdown",
      "metadata": {
        "id": "IaD5oqj3lhuI"
      },
      "source": [
        "#### Task 2.1.1 Document the hardware used\n",
        "\n",
        "Before you start, write down your hardware specifications, including \n",
        "\n",
        "- the GPU model, the number of GPUs, and the GPU memory\n",
        "- the CPU model, the number of CPUs, and the CPU clock speed\n",
        "\n",
        "(Hint: you may find commands like `nvidia-smi`, `lscpu` or `psutil` useful.)"
      ]
    },
    {
      "cell_type": "code",
      "metadata": {
        "id": "FkGuv1zAavu2",
        "colab": {
          "base_uri": "https://localhost:8080/"
        },
        "outputId": "df0b726e-ea43-4e65-bfc1-1e284a3718bd"
      },
      "source": [
        "import os\n",
        "\n",
        "print(tf.__version__)\n",
        "print(tf.keras.__version__)\n",
        "if 'COLAB_TPU_ADDR' in os.environ: \n",
        "    print('Connected to TPU') \n",
        "elif tf.test.gpu_device_name() is not '': \n",
        "    print('Connected to GPU ' + tf.test.gpu_device_name())\n",
        "else:\n",
        "    print('Neither connected to a TPU nor a GPU')\n",
        "\n",
        "gpu_info = !nvidia-smi\n",
        "gpu_info = '\\n'.join(gpu_info)\n",
        "if gpu_info.find('failed') >= 0:\n",
        "    print('Select the Runtime → \"Change runtime type\" menu to enable a GPU accelerator, ')\n",
        "    print('and then re-execute this cell.')\n",
        "else:\n",
        "    print(gpu_info)"
      ],
      "execution_count": null,
      "outputs": [
        {
          "output_type": "stream",
          "text": [
            "2.4.1\n",
            "2.4.0\n",
            "Connected to GPU /device:GPU:0\n",
            "Fri May 14 14:53:39 2021       \n",
            "+-----------------------------------------------------------------------------+\n",
            "| NVIDIA-SMI 465.19.01    Driver Version: 460.32.03    CUDA Version: 11.2     |\n",
            "|-------------------------------+----------------------+----------------------+\n",
            "| GPU  Name        Persistence-M| Bus-Id        Disp.A | Volatile Uncorr. ECC |\n",
            "| Fan  Temp  Perf  Pwr:Usage/Cap|         Memory-Usage | GPU-Util  Compute M. |\n",
            "|                               |                      |               MIG M. |\n",
            "|===============================+======================+======================|\n",
            "|   0  Tesla K80           Off  | 00000000:00:04.0 Off |                    0 |\n",
            "| N/A   41C    P0    58W / 149W |    124MiB / 11441MiB |      0%      Default |\n",
            "|                               |                      |                  N/A |\n",
            "+-------------------------------+----------------------+----------------------+\n",
            "                                                                               \n",
            "+-----------------------------------------------------------------------------+\n",
            "| Processes:                                                                  |\n",
            "|  GPU   GI   CI        PID   Type   Process name                  GPU Memory |\n",
            "|        ID   ID                                                   Usage      |\n",
            "|=============================================================================|\n",
            "+-----------------------------------------------------------------------------+\n"
          ],
          "name": "stdout"
        }
      ]
    },
    {
      "cell_type": "markdown",
      "metadata": {
        "id": "adN9Tq-6lyG-"
      },
      "source": [
        "#### Task 2.1.2 Train a \"shallow\" ConvNet\n",
        "\n",
        "Build a ConvNet with fewer than 10 layers. Train the network until it converges. You will use this network as a baseline for the later experiments. \n",
        "\n",
        "- Plot the training and validation history. \n",
        "- Report the testing accuracy. "
      ]
    },
    {
      "cell_type": "code",
      "metadata": {
        "id": "F8Our-hai998",
        "colab": {
          "base_uri": "https://localhost:8080/"
        },
        "outputId": "f49c18d3-ba9c-4679-ec65-8053c8de4e6b"
      },
      "source": [
        "from keras.datasets import cifar10\n",
        "from keras.utils import to_categorical\n",
        "\n",
        "(trainX, trainY), (testX, testY) = cifar10.load_data()\n",
        "\t# one hot encode target values\n",
        "trainY = to_categorical(trainY)\n",
        "testY = to_categorical(testY)\n",
        "\n",
        "trainX = trainX.astype('float32')\n",
        "testX = testX.astype('float32')\n",
        "\n",
        "trainX = trainX/255.0\n",
        "testX = testX/255.0\n",
        "\n",
        "\n",
        "print (\"number of training examples = \" + str(trainX.shape[0]))\n",
        "print (\"number of test examples = \" + str(testX.shape[0]))\n",
        "print (\"X_train shape: \" + str(trainX.shape))\n",
        "print (\"Y_train shape: \" + str(trainY.shape))\n",
        "print (\"X_test shape: \" + str(testX.shape))\n",
        "print (\"Y_test shape: \" + str(testY.shape))"
      ],
      "execution_count": null,
      "outputs": [
        {
          "output_type": "stream",
          "text": [
            "number of training examples = 50000\n",
            "number of test examples = 10000\n",
            "X_train shape: (50000, 32, 32, 3)\n",
            "Y_train shape: (50000, 10)\n",
            "X_test shape: (10000, 32, 32, 3)\n",
            "Y_test shape: (10000, 10)\n"
          ],
          "name": "stdout"
        }
      ]
    },
    {
      "cell_type": "code",
      "metadata": {
        "id": "aERbt7FFiqoP"
      },
      "source": [
        "model = tf.keras.Sequential()\n",
        "model.add(Conv2D(32, (3, 3), activation='relu', kernel_initializer='he_uniform', padding='same', input_shape=(32, 32, 3)))\n",
        "model.add(Conv2D(32, (3, 3), activation='relu', kernel_initializer='he_uniform', padding='same'))\n",
        "model.add(MaxPooling2D((2, 2)))\n",
        "model.add(Flatten())\n",
        "model.add(Dense(128, activation='relu', kernel_initializer='he_uniform'))\n",
        "model.add(Dense(10, activation='softmax'))\n",
        "# compile model\n",
        "opt = SGD(lr=0.001, momentum=0.9)\n",
        "model.compile(optimizer=opt, loss='categorical_crossentropy', metrics=['accuracy'])\n"
      ],
      "execution_count": null,
      "outputs": []
    },
    {
      "cell_type": "code",
      "metadata": {
        "colab": {
          "base_uri": "https://localhost:8080/",
          "height": 1000
        },
        "id": "Pv1fzvAXYP_P",
        "outputId": "97762906-af6b-4770-fc23-ca1c981ab678"
      },
      "source": [
        "history = model.fit(trainX, trainY,\n",
        "          batch_size=128,\n",
        "          epochs=50,\n",
        "          verbose=1,\n",
        "          validation_split=0.3)\n",
        "\n"
      ],
      "execution_count": null,
      "outputs": [
        {
          "output_type": "stream",
          "text": [
            "Epoch 1/50\n",
            "274/274 [==============================] - 34s 19ms/step - loss: 2.1008 - accuracy: 0.2378 - val_loss: 1.7581 - val_accuracy: 0.3923\n",
            "Epoch 2/50\n",
            "274/274 [==============================] - 5s 17ms/step - loss: 1.7008 - accuracy: 0.3992 - val_loss: 1.6232 - val_accuracy: 0.4289\n",
            "Epoch 3/50\n",
            "274/274 [==============================] - 5s 17ms/step - loss: 1.5581 - accuracy: 0.4479 - val_loss: 1.5096 - val_accuracy: 0.4663\n",
            "Epoch 4/50\n",
            "274/274 [==============================] - 5s 16ms/step - loss: 1.4585 - accuracy: 0.4889 - val_loss: 1.4383 - val_accuracy: 0.4935\n",
            "Epoch 5/50\n",
            "274/274 [==============================] - 5s 17ms/step - loss: 1.3784 - accuracy: 0.5148 - val_loss: 1.3992 - val_accuracy: 0.5089\n",
            "Epoch 6/50\n",
            "274/274 [==============================] - 5s 17ms/step - loss: 1.3054 - accuracy: 0.5409 - val_loss: 1.3190 - val_accuracy: 0.5327\n",
            "Epoch 7/50\n",
            "274/274 [==============================] - 5s 17ms/step - loss: 1.2443 - accuracy: 0.5643 - val_loss: 1.3110 - val_accuracy: 0.5393\n",
            "Epoch 8/50\n",
            "274/274 [==============================] - 5s 17ms/step - loss: 1.1843 - accuracy: 0.5846 - val_loss: 1.2423 - val_accuracy: 0.5656\n",
            "Epoch 9/50\n",
            "274/274 [==============================] - 5s 17ms/step - loss: 1.1427 - accuracy: 0.5966 - val_loss: 1.2233 - val_accuracy: 0.5726\n",
            "Epoch 10/50\n",
            "274/274 [==============================] - 5s 17ms/step - loss: 1.1015 - accuracy: 0.6181 - val_loss: 1.1784 - val_accuracy: 0.5929\n",
            "Epoch 11/50\n",
            "274/274 [==============================] - 5s 17ms/step - loss: 1.0625 - accuracy: 0.6331 - val_loss: 1.2039 - val_accuracy: 0.5867\n",
            "Epoch 12/50\n",
            "274/274 [==============================] - 5s 17ms/step - loss: 1.0364 - accuracy: 0.6402 - val_loss: 1.1563 - val_accuracy: 0.6033\n",
            "Epoch 13/50\n",
            "274/274 [==============================] - 5s 16ms/step - loss: 0.9867 - accuracy: 0.6576 - val_loss: 1.1206 - val_accuracy: 0.6097\n",
            "Epoch 14/50\n",
            "274/274 [==============================] - 5s 17ms/step - loss: 0.9618 - accuracy: 0.6701 - val_loss: 1.1465 - val_accuracy: 0.6089\n",
            "Epoch 15/50\n",
            "274/274 [==============================] - 5s 17ms/step - loss: 0.9361 - accuracy: 0.6779 - val_loss: 1.0934 - val_accuracy: 0.6214\n",
            "Epoch 16/50\n",
            "274/274 [==============================] - 5s 17ms/step - loss: 0.8988 - accuracy: 0.6926 - val_loss: 1.1008 - val_accuracy: 0.6189\n",
            "Epoch 17/50\n",
            "274/274 [==============================] - 5s 17ms/step - loss: 0.8739 - accuracy: 0.7008 - val_loss: 1.1014 - val_accuracy: 0.6180\n",
            "Epoch 18/50\n",
            "274/274 [==============================] - 5s 17ms/step - loss: 0.8429 - accuracy: 0.7115 - val_loss: 1.0579 - val_accuracy: 0.6351\n",
            "Epoch 19/50\n",
            "274/274 [==============================] - 5s 17ms/step - loss: 0.8151 - accuracy: 0.7233 - val_loss: 1.0825 - val_accuracy: 0.6317\n",
            "Epoch 20/50\n",
            "274/274 [==============================] - 5s 16ms/step - loss: 0.8047 - accuracy: 0.7238 - val_loss: 1.0599 - val_accuracy: 0.6365\n",
            "Epoch 21/50\n",
            "274/274 [==============================] - 5s 17ms/step - loss: 0.7601 - accuracy: 0.7410 - val_loss: 1.0537 - val_accuracy: 0.6391\n",
            "Epoch 22/50\n",
            "274/274 [==============================] - 5s 17ms/step - loss: 0.7353 - accuracy: 0.7546 - val_loss: 1.0454 - val_accuracy: 0.6425\n",
            "Epoch 23/50\n",
            "274/274 [==============================] - 5s 17ms/step - loss: 0.7096 - accuracy: 0.7615 - val_loss: 1.0699 - val_accuracy: 0.6365\n",
            "Epoch 24/50\n",
            "274/274 [==============================] - 5s 17ms/step - loss: 0.6883 - accuracy: 0.7674 - val_loss: 1.0741 - val_accuracy: 0.6371\n",
            "Epoch 25/50\n",
            "274/274 [==============================] - 5s 17ms/step - loss: 0.6649 - accuracy: 0.7759 - val_loss: 1.0331 - val_accuracy: 0.6483\n",
            "Epoch 26/50\n",
            "274/274 [==============================] - 5s 17ms/step - loss: 0.6446 - accuracy: 0.7849 - val_loss: 1.0483 - val_accuracy: 0.6493\n",
            "Epoch 27/50\n",
            "274/274 [==============================] - 5s 17ms/step - loss: 0.6167 - accuracy: 0.7940 - val_loss: 1.0430 - val_accuracy: 0.6509\n",
            "Epoch 28/50\n",
            "274/274 [==============================] - 5s 17ms/step - loss: 0.5929 - accuracy: 0.8024 - val_loss: 1.0686 - val_accuracy: 0.6463\n",
            "Epoch 29/50\n",
            "274/274 [==============================] - 5s 17ms/step - loss: 0.5797 - accuracy: 0.8067 - val_loss: 1.0562 - val_accuracy: 0.6525\n",
            "Epoch 30/50\n",
            "274/274 [==============================] - 5s 17ms/step - loss: 0.5353 - accuracy: 0.8225 - val_loss: 1.1359 - val_accuracy: 0.6323\n",
            "Epoch 31/50\n",
            "274/274 [==============================] - 5s 17ms/step - loss: 0.5242 - accuracy: 0.8266 - val_loss: 1.0776 - val_accuracy: 0.6501\n",
            "Epoch 32/50\n",
            "274/274 [==============================] - 5s 17ms/step - loss: 0.4952 - accuracy: 0.8382 - val_loss: 1.0881 - val_accuracy: 0.6495\n",
            "Epoch 33/50\n",
            "274/274 [==============================] - 5s 17ms/step - loss: 0.4776 - accuracy: 0.8457 - val_loss: 1.1073 - val_accuracy: 0.6471\n",
            "Epoch 34/50\n",
            "274/274 [==============================] - 5s 17ms/step - loss: 0.4590 - accuracy: 0.8531 - val_loss: 1.1038 - val_accuracy: 0.6517\n",
            "Epoch 35/50\n",
            "274/274 [==============================] - 5s 17ms/step - loss: 0.4277 - accuracy: 0.8656 - val_loss: 1.1042 - val_accuracy: 0.6531\n",
            "Epoch 36/50\n",
            "274/274 [==============================] - 5s 17ms/step - loss: 0.4117 - accuracy: 0.8731 - val_loss: 1.1343 - val_accuracy: 0.6484\n",
            "Epoch 37/50\n",
            "274/274 [==============================] - 5s 17ms/step - loss: 0.3790 - accuracy: 0.8853 - val_loss: 1.1723 - val_accuracy: 0.6446\n",
            "Epoch 38/50\n",
            "274/274 [==============================] - 5s 17ms/step - loss: 0.3641 - accuracy: 0.8896 - val_loss: 1.1755 - val_accuracy: 0.6492\n",
            "Epoch 39/50\n",
            "274/274 [==============================] - 5s 17ms/step - loss: 0.3431 - accuracy: 0.8984 - val_loss: 1.1899 - val_accuracy: 0.6481\n",
            "Epoch 40/50\n",
            "274/274 [==============================] - 5s 17ms/step - loss: 0.3074 - accuracy: 0.9126 - val_loss: 1.2310 - val_accuracy: 0.6489\n",
            "Epoch 41/50\n",
            "274/274 [==============================] - 5s 17ms/step - loss: 0.3016 - accuracy: 0.9123 - val_loss: 1.2233 - val_accuracy: 0.6503\n",
            "Epoch 42/50\n",
            "274/274 [==============================] - 5s 17ms/step - loss: 0.2748 - accuracy: 0.9218 - val_loss: 1.2853 - val_accuracy: 0.6390\n",
            "Epoch 43/50\n",
            "274/274 [==============================] - 5s 17ms/step - loss: 0.2608 - accuracy: 0.9281 - val_loss: 1.3242 - val_accuracy: 0.6383\n",
            "Epoch 44/50\n",
            "274/274 [==============================] - 5s 17ms/step - loss: 0.2380 - accuracy: 0.9361 - val_loss: 1.3496 - val_accuracy: 0.6383\n",
            "Epoch 45/50\n",
            "274/274 [==============================] - 5s 17ms/step - loss: 0.2199 - accuracy: 0.9423 - val_loss: 1.3110 - val_accuracy: 0.6477\n",
            "Epoch 46/50\n",
            "274/274 [==============================] - 5s 17ms/step - loss: 0.2038 - accuracy: 0.9480 - val_loss: 1.3332 - val_accuracy: 0.6493\n",
            "Epoch 47/50\n",
            "274/274 [==============================] - 5s 17ms/step - loss: 0.1805 - accuracy: 0.9580 - val_loss: 1.3704 - val_accuracy: 0.6469\n",
            "Epoch 48/50\n",
            "274/274 [==============================] - 5s 17ms/step - loss: 0.1600 - accuracy: 0.9660 - val_loss: 1.3886 - val_accuracy: 0.6476\n",
            "Epoch 49/50\n",
            "274/274 [==============================] - 5s 17ms/step - loss: 0.1479 - accuracy: 0.9690 - val_loss: 1.4280 - val_accuracy: 0.6501\n",
            "Epoch 50/50\n",
            "274/274 [==============================] - 5s 17ms/step - loss: 0.1414 - accuracy: 0.9691 - val_loss: 1.4712 - val_accuracy: 0.6469\n"
          ],
          "name": "stdout"
        },
        {
          "output_type": "error",
          "ename": "NameError",
          "evalue": "ignored",
          "traceback": [
            "\u001b[0;31m---------------------------------------------------------------------------\u001b[0m",
            "\u001b[0;31mNameError\u001b[0m                                 Traceback (most recent call last)",
            "\u001b[0;32m<ipython-input-13-cfa1e4a3d923>\u001b[0m in \u001b[0;36m<module>\u001b[0;34m()\u001b[0m\n\u001b[1;32m      5\u001b[0m           validation_split=0.3)\n\u001b[1;32m      6\u001b[0m \u001b[0;34m\u001b[0m\u001b[0m\n\u001b[0;32m----> 7\u001b[0;31m \u001b[0macc\u001b[0m \u001b[0;34m=\u001b[0m \u001b[0mft_history\u001b[0m\u001b[0;34m.\u001b[0m\u001b[0mhistory\u001b[0m\u001b[0;34m[\u001b[0m\u001b[0;34m'accuracy'\u001b[0m\u001b[0;34m]\u001b[0m\u001b[0;34m\u001b[0m\u001b[0;34m\u001b[0m\u001b[0m\n\u001b[0m\u001b[1;32m      8\u001b[0m \u001b[0mval_acc\u001b[0m \u001b[0;34m=\u001b[0m \u001b[0mft_history\u001b[0m\u001b[0;34m.\u001b[0m\u001b[0mhistory\u001b[0m\u001b[0;34m[\u001b[0m\u001b[0;34m'val_accuracy'\u001b[0m\u001b[0;34m]\u001b[0m\u001b[0;34m\u001b[0m\u001b[0;34m\u001b[0m\u001b[0m\n\u001b[1;32m      9\u001b[0m \u001b[0mloss\u001b[0m \u001b[0;34m=\u001b[0m \u001b[0mft_history\u001b[0m\u001b[0;34m.\u001b[0m\u001b[0mhistory\u001b[0m\u001b[0;34m[\u001b[0m\u001b[0;34m'loss'\u001b[0m\u001b[0;34m]\u001b[0m\u001b[0;34m\u001b[0m\u001b[0;34m\u001b[0m\u001b[0m\n",
            "\u001b[0;31mNameError\u001b[0m: name 'ft_history' is not defined"
          ]
        }
      ]
    },
    {
      "cell_type": "code",
      "metadata": {
        "colab": {
          "base_uri": "https://localhost:8080/",
          "height": 295
        },
        "id": "9OuyMYnYZ9cX",
        "outputId": "9ac9ff84-da06-4ba6-f5ab-adf5524d5f99"
      },
      "source": [
        "acc = history.history['accuracy']\n",
        "val_acc = history.history['val_accuracy']\n",
        "loss = history.history['loss']\n",
        "val_loss = history.history['val_loss']\n",
        "epochs = range(1, len(acc) + 1)\n",
        "\n",
        "plt.figure(figsize=(15,4))\n",
        "\n",
        "ax1 = plt.subplot(1, 2, 1)\n",
        "plt.plot(epochs, loss, label='Training loss')\n",
        "plt.plot(epochs, val_loss, label='Validation loss')\n",
        "plt.fill_between(epochs, loss,val_loss,color='g',alpha=.1)\n",
        "\n",
        "plt.title('Training and validation loss')\n",
        "plt.xlabel('Epochs')\n",
        "plt.ylabel('Loss')\n",
        "plt.legend()\n",
        "\n",
        "ax2 = plt.subplot(1, 2, 2)\n",
        "plt.plot(epochs, acc, label='Training accuracy')\n",
        "plt.plot(epochs, val_acc, label='Validation accuracy')\n",
        "plt.fill_between(epochs, acc,val_acc,color='g',alpha=.1)\n",
        "plt.title('Training and validation accuracy')\n",
        "plt.xlabel('Epochs')\n",
        "plt.ylabel('Accuracy')\n",
        "plt.legend()\n",
        "plt.show()"
      ],
      "execution_count": null,
      "outputs": [
        {
          "output_type": "display_data",
          "data": {
            "image/png": "[encoded data removed]",
            "text/plain": [
              "<Figure size 1080x288 with 2 Axes>"
            ]
          },
          "metadata": {
            "tags": [],
            "needs_background": "light"
          }
        }
      ]
    },
    {
      "cell_type": "markdown",
      "metadata": {
        "id": "9NTjVIUkmv7S"
      },
      "source": [
        "#### Task 2.1.3 Train a ResNet\n",
        "\n",
        "Train a residual neural network (ResNet) on the CIFAR10 training data and report the test accuracy and the training time.\n",
        "\n",
        "The ResNet is a popular network architecture for image classification. You may find more information about how ResNet works by reading this [paper](https://arxiv.org/abs/1512.03385).\n",
        "\n",
        "\n",
        "*(You may implement a resnet model or use an existing implementation. In either case, you should not use pretrained network weights.)*"
      ]
    },
    {
      "cell_type": "code",
      "metadata": {
        "id": "Ls8FzX76hCtu"
      },
      "source": [
        "from keras.layers import Input, Add, Dense, Activation, ZeroPadding2D, BatchNormalization, Flatten, Conv2D, AveragePooling2D, MaxPooling2D, GlobalMaxPooling2D\n",
        "from keras.models import Model, load_model\n",
        "from keras.preprocessing import image\n",
        "from keras.utils import layer_utils\n",
        "from keras.utils.data_utils import get_file\n",
        "from keras.applications.imagenet_utils import preprocess_input\n",
        "import pydot\n",
        "from IPython.display import SVG\n",
        "from keras.utils.vis_utils import model_to_dot\n",
        "from keras.utils import plot_model\n",
        "#from resnets_utils import *\n",
        "from keras.initializers import glorot_uniform\n",
        "import scipy.misc\n",
        "from matplotlib.pyplot import imshow\n",
        "%matplotlib inline\n",
        "\n",
        "import keras.backend as K"
      ],
      "execution_count": null,
      "outputs": []
    },
    {
      "cell_type": "code",
      "metadata": {
        "id": "l0VC_8udgSJ7"
      },
      "source": [
        "# model has been taken from\n",
        "\n",
        "def identity_block(X, f, filters, stage, block):\n",
        "    \"\"\"\n",
        "    Implementation of the identity block as defined in Figure 3\n",
        "    \n",
        "    Arguments:\n",
        "    X -- input tensor of shape (m, n_H_prev, n_W_prev, n_C_prev)\n",
        "    f -- integer, specifying the shape of the middle CONV's window for the main path\n",
        "    filters -- python list of integers, defining the number of filters in the CONV layers of the main path\n",
        "    stage -- integer, used to name the layers, depending on their position in the network\n",
        "    block -- string/character, used to name the layers, depending on their position in the network\n",
        "    \n",
        "    Returns:\n",
        "    X -- output of the identity block, tensor of shape (n_H, n_W, n_C)\n",
        "    \"\"\"\n",
        "    \n",
        "    # defining name basis\n",
        "    conv_name_base = 'res' + str(stage) + block + '_branch'\n",
        "    bn_name_base = 'bn' + str(stage) + block + '_branch'\n",
        "    \n",
        "    # Retrieve Filters\n",
        "    F1, F2, F3 = filters\n",
        "    \n",
        "    # Save the input value. You'll need this later to add back to the main path. \n",
        "    X_shortcut = X\n",
        "    \n",
        "    # First component of main path\n",
        "    X = Conv2D(filters = F1, kernel_size = (1, 1), strides = (1,1), padding = 'same', name = conv_name_base + '2a', kernel_initializer = glorot_uniform(seed=0))(X)\n",
        "    X = BatchNormalization(axis = 3, name = bn_name_base + '2a')(X)\n",
        "    X = Activation('relu')(X)\n",
        "\n",
        "    \n",
        "    # Second component of main path (≈3 lines)\n",
        "    X = Conv2D(filters = F2, kernel_size = (f, f), strides = (1,1), padding = 'same', name = conv_name_base + '2b', kernel_initializer = glorot_uniform(seed=0))(X)\n",
        "    X = BatchNormalization(axis = 3, name = bn_name_base + '2b')(X)\n",
        "    X = Activation('relu')(X)\n",
        "\n",
        "    # Third component of main path (≈2 lines)\n",
        "    X = Conv2D(filters = F3, kernel_size = (1, 1), strides = (1,1), padding = 'same', name = conv_name_base + '2c', kernel_initializer = glorot_uniform(seed=0))(X)\n",
        "    X = BatchNormalization(axis = 3, name = bn_name_base + '2c')(X)\n",
        "\n",
        "    # Final step: Add shortcut value to main path, and pass it through a RELU activation (≈2 lines)\n",
        "    X = Add()([X, X_shortcut])\n",
        "    X = Activation('relu')(X)\n",
        "    \n",
        "    \n",
        "    return X"
      ],
      "execution_count": null,
      "outputs": []
    },
    {
      "cell_type": "code",
      "metadata": {
        "id": "crC_G4D7gSM0"
      },
      "source": [
        "def convolutional_block(X, f, filters, stage, block, s = 2):\n",
        "    \"\"\"\n",
        "    Implementation of the convolutional block as defined in Figure 4\n",
        "    \n",
        "    Arguments:\n",
        "    X -- input tensor of shape (m, n_H_prev, n_W_prev, n_C_prev)\n",
        "    f -- integer, specifying the shape of the middle CONV's window for the main path\n",
        "    filters -- python list of integers, defining the number of filters in the CONV layers of the main path\n",
        "    stage -- integer, used to name the layers, depending on their position in the network\n",
        "    block -- string/character, used to name the layers, depending on their position in the network\n",
        "    s -- Integer, specifying the stride to be used\n",
        "    \n",
        "    Returns:\n",
        "    X -- output of the convolutional block, tensor of shape (n_H, n_W, n_C)\n",
        "    \"\"\"\n",
        "    \n",
        "    # defining name basis\n",
        "    conv_name_base = 'res' + str(stage) + block + '_branch'\n",
        "    bn_name_base = 'bn' + str(stage) + block + '_branch'\n",
        "    \n",
        "    # Retrieve Filters\n",
        "    F1, F2, F3 = filters\n",
        "    \n",
        "    # Save the input value\n",
        "    X_shortcut = X\n",
        "\n",
        "\n",
        "    ##### MAIN PATH #####\n",
        "    # First component of main path \n",
        "    X = Conv2D(F1, (1, 1), strides = (s,s), name = conv_name_base + '2a', padding = 'same', kernel_initializer = glorot_uniform(seed=0))(X)\n",
        "    X = BatchNormalization(axis = 3, name = bn_name_base + '2a')(X)\n",
        "    X = Activation('relu')(X)\n",
        "\n",
        "    # Second component of main path (≈3 lines)\n",
        "    X = Conv2D(filters = F2, kernel_size = (f, f), strides = (1,1), padding = 'same', name = conv_name_base + '2b', kernel_initializer = glorot_uniform(seed=0))(X)\n",
        "    X = BatchNormalization(axis = 3, name = bn_name_base + '2b')(X)\n",
        "    X = Activation('relu')(X)\n",
        "\n",
        "\n",
        "    # Third component of main path (≈2 lines)\n",
        "    X = Conv2D(filters = F3, kernel_size = (1, 1), strides = (1,1), padding = 'same', name = conv_name_base + '2c', kernel_initializer = glorot_uniform(seed=0))(X)\n",
        "    X = BatchNormalization(axis = 3, name = bn_name_base + '2c')(X)\n",
        "\n",
        "\n",
        "    ##### SHORTCUT PATH #### (≈2 lines)\n",
        "    X_shortcut = Conv2D(filters = F3, kernel_size = (1, 1), strides = (s,s), padding = 'same', name = conv_name_base + '1',\n",
        "                        kernel_initializer = glorot_uniform(seed=0))(X_shortcut)\n",
        "    X_shortcut = BatchNormalization(axis = 3, name = bn_name_base + '1')(X_shortcut)\n",
        "\n",
        "    # Final step: Add shortcut value to main path, and pass it through a RELU activation (≈2 lines)\n",
        "    X = Add()([X, X_shortcut])\n",
        "    X = Activation('relu')(X)\n",
        "    \n",
        "    \n",
        "    return X"
      ],
      "execution_count": null,
      "outputs": []
    },
    {
      "cell_type": "code",
      "metadata": {
        "id": "0A5R3qWvgSPE"
      },
      "source": [
        "def ResNet50(input_shape=(32, 32, 3), classes=10):\n",
        "    \"\"\"\n",
        "    Implementation of the popular ResNet50 the following architecture:\n",
        "    CONV2D -> BATCHNORM -> RELU -> MAXPOOL -> CONVBLOCK -> IDBLOCK*2 -> CONVBLOCK -> IDBLOCK*3\n",
        "    -> CONVBLOCK -> IDBLOCK*5 -> CONVBLOCK -> IDBLOCK*2 -> AVGPOOL -> TOPLAYER\n",
        "\n",
        "    Arguments:\n",
        "    input_shape -- shape of the images of the dataset\n",
        "    classes -- integer, number of classes\n",
        "\n",
        "    Returns:\n",
        "    model -- a Model() instance in Keras\n",
        "    \"\"\"\n",
        "\n",
        "    # Define the input as a tensor with shape input_shape\n",
        "    X_input = Input(input_shape)\n",
        "\n",
        "    # Zero-Padding\n",
        "    X = ZeroPadding2D((3, 3))(X_input)\n",
        "\n",
        "    # Stage 1\n",
        "    X = Conv2D(64, (7, 7), strides=(2, 2), name='conv1', padding = 'same', kernel_initializer=glorot_uniform(seed=0))(X)\n",
        "    X = BatchNormalization(axis=3, name='bn_conv1')(X)\n",
        "    X = Activation('relu')(X)\n",
        "    X = MaxPooling2D((3, 3), strides=(2, 2))(X)\n",
        "\n",
        "    # Stage 2\n",
        "    X = convolutional_block(X, f=3, filters=[64, 64, 256], stage=2, block='a', s=1)\n",
        "    X = identity_block(X, 3, [64, 64, 256], stage=2, block='b')\n",
        "    X = identity_block(X, 3, [64, 64, 256], stage=2, block='c')\n",
        "\n",
        "    ### START CODE HERE ###\n",
        "\n",
        "    # Stage 3 (≈4 lines)\n",
        "    X = convolutional_block(X, f = 3, filters = [128, 128, 512], stage = 3, block='a', s = 2)\n",
        "    X = identity_block(X, 3, [128, 128, 512], stage=3, block='b')\n",
        "    X = identity_block(X, 3, [128, 128, 512], stage=3, block='c')\n",
        "    X = identity_block(X, 3, [128, 128, 512], stage=3, block='d')\n",
        "\n",
        "    # Stage 4 (≈6 lines)\n",
        "    X = convolutional_block(X, f = 3, filters = [256, 256, 1024], stage = 4, block='a', s = 2)\n",
        "    X = identity_block(X, 3, [256, 256, 1024], stage=4, block='b')\n",
        "    X = identity_block(X, 3, [256, 256, 1024], stage=4, block='c')\n",
        "    X = identity_block(X, 3, [256, 256, 1024], stage=4, block='d')\n",
        "    X = identity_block(X, 3, [256, 256, 1024], stage=4, block='e')\n",
        "    X = identity_block(X, 3, [256, 256, 1024], stage=4, block='f')\n",
        "\n",
        "    # Stage 5 (≈3 lines)\n",
        "    X = convolutional_block(X, f = 3, filters = [512, 512, 2048], stage = 5, block='a', s = 2)\n",
        "    X = identity_block(X, 3, [512, 512, 2048], stage=5, block='b')\n",
        "    X = identity_block(X, 3, [512, 512, 2048], stage=5, block='c')\n",
        "\n",
        "    # AVGPOOL (≈1 line). Use \"X = AveragePooling2D(...)(X)\"\n",
        "    X = AveragePooling2D((2,2), name=\"avg_pool\")(X)\n",
        "\n",
        "    ### END CODE HERE ###\n",
        "\n",
        "    # output layer\n",
        "    X = Flatten()(X)\n",
        "    X = Dense(classes, activation='softmax', name='fc' + str(classes), kernel_initializer = glorot_uniform(seed=0))(X)\n",
        "    \n",
        "    \n",
        "    # Create model\n",
        "    model = Model(inputs = X_input, outputs = X, name='ResNet50')\n",
        "\n",
        "    return model"
      ],
      "execution_count": null,
      "outputs": []
    },
    {
      "cell_type": "code",
      "metadata": {
        "id": "2NPhPC5ygSRy"
      },
      "source": [
        "model = ResNet50(input_shape = (32, 32, 3), classes = 10)\n"
      ],
      "execution_count": null,
      "outputs": []
    },
    {
      "cell_type": "code",
      "metadata": {
        "id": "TuZz_42rgxDT"
      },
      "source": [
        "model.compile(optimizer='adam', loss='categorical_crossentropy', metrics=['accuracy'])\n"
      ],
      "execution_count": null,
      "outputs": []
    },
    {
      "cell_type": "code",
      "metadata": {
        "colab": {
          "base_uri": "https://localhost:8080/"
        },
        "id": "2JP6a4AwgxFf",
        "outputId": "328a30bd-9ac3-4ac0-b14b-8b5e8e7f28be"
      },
      "source": [
        "history = model.fit(trainX, trainY, epochs = 25, batch_size = 128, validation_split=0.3)"
      ],
      "execution_count": null,
      "outputs": [
        {
          "output_type": "stream",
          "text": [
            "Epoch 1/25\n",
            "274/274 [==============================] - 34s 105ms/step - loss: 2.6798 - accuracy: 0.2709 - val_loss: 9.2174 - val_accuracy: 0.1005\n",
            "Epoch 2/25\n",
            "274/274 [==============================] - 28s 102ms/step - loss: 1.7045 - accuracy: 0.4206 - val_loss: 2.9059 - val_accuracy: 0.4373\n",
            "Epoch 3/25\n",
            "274/274 [==============================] - 27s 100ms/step - loss: 1.4073 - accuracy: 0.5152 - val_loss: 1.6513 - val_accuracy: 0.4373\n",
            "Epoch 4/25\n",
            "274/274 [==============================] - 28s 100ms/step - loss: 1.3752 - accuracy: 0.5265 - val_loss: 1.4069 - val_accuracy: 0.5225\n",
            "Epoch 5/25\n",
            "274/274 [==============================] - 28s 101ms/step - loss: 1.0728 - accuracy: 0.6206 - val_loss: 1.0812 - val_accuracy: 0.6157\n",
            "Epoch 6/25\n",
            "274/274 [==============================] - 28s 101ms/step - loss: 0.9405 - accuracy: 0.6697 - val_loss: 1.1847 - val_accuracy: 0.6005\n",
            "Epoch 7/25\n",
            "274/274 [==============================] - 28s 100ms/step - loss: 0.7962 - accuracy: 0.7250 - val_loss: 1.0408 - val_accuracy: 0.6544\n",
            "Epoch 8/25\n",
            "274/274 [==============================] - 28s 100ms/step - loss: 0.6811 - accuracy: 0.7606 - val_loss: 2.2654 - val_accuracy: 0.4123\n",
            "Epoch 9/25\n",
            "274/274 [==============================] - 28s 101ms/step - loss: 0.6272 - accuracy: 0.7812 - val_loss: 1.3110 - val_accuracy: 0.5890\n",
            "Epoch 10/25\n",
            "274/274 [==============================] - 28s 101ms/step - loss: 0.5730 - accuracy: 0.8017 - val_loss: 4.4399 - val_accuracy: 0.3232\n",
            "Epoch 11/25\n",
            "274/274 [==============================] - 28s 101ms/step - loss: 0.5966 - accuracy: 0.7923 - val_loss: 1.0659 - val_accuracy: 0.6667\n",
            "Epoch 12/25\n",
            "274/274 [==============================] - 28s 101ms/step - loss: 0.4666 - accuracy: 0.8372 - val_loss: 1.0928 - val_accuracy: 0.6718\n",
            "Epoch 13/25\n",
            "274/274 [==============================] - 28s 101ms/step - loss: 0.4716 - accuracy: 0.8386 - val_loss: 1.0515 - val_accuracy: 0.6827\n",
            "Epoch 14/25\n",
            "274/274 [==============================] - 28s 101ms/step - loss: 0.3412 - accuracy: 0.8819 - val_loss: 1.2080 - val_accuracy: 0.6653\n",
            "Epoch 15/25\n",
            "274/274 [==============================] - 28s 100ms/step - loss: 0.2345 - accuracy: 0.9192 - val_loss: 1.2977 - val_accuracy: 0.6665\n",
            "Epoch 16/25\n",
            "274/274 [==============================] - 28s 100ms/step - loss: 0.1771 - accuracy: 0.9388 - val_loss: 1.3935 - val_accuracy: 0.6554\n",
            "Epoch 17/25\n",
            "274/274 [==============================] - 27s 100ms/step - loss: 0.1515 - accuracy: 0.9482 - val_loss: 1.3044 - val_accuracy: 0.6755\n",
            "Epoch 18/25\n",
            "274/274 [==============================] - 27s 100ms/step - loss: 0.1974 - accuracy: 0.9322 - val_loss: 1.3454 - val_accuracy: 0.6910\n",
            "Epoch 19/25\n",
            "274/274 [==============================] - 28s 101ms/step - loss: 0.1491 - accuracy: 0.9503 - val_loss: 1.5466 - val_accuracy: 0.6673\n",
            "Epoch 20/25\n",
            "274/274 [==============================] - 28s 101ms/step - loss: 0.1246 - accuracy: 0.9567 - val_loss: 1.5633 - val_accuracy: 0.6633\n",
            "Epoch 21/25\n",
            "274/274 [==============================] - 27s 100ms/step - loss: 0.1147 - accuracy: 0.9599 - val_loss: 1.5183 - val_accuracy: 0.6827\n",
            "Epoch 22/25\n",
            "274/274 [==============================] - 28s 101ms/step - loss: 0.1017 - accuracy: 0.9652 - val_loss: 1.3489 - val_accuracy: 0.7005\n",
            "Epoch 23/25\n",
            "274/274 [==============================] - 27s 100ms/step - loss: 0.0928 - accuracy: 0.9679 - val_loss: 1.4820 - val_accuracy: 0.6829\n",
            "Epoch 24/25\n",
            "274/274 [==============================] - 27s 100ms/step - loss: 0.0923 - accuracy: 0.9686 - val_loss: 1.4839 - val_accuracy: 0.6787\n",
            "Epoch 25/25\n",
            "274/274 [==============================] - 27s 100ms/step - loss: 0.0823 - accuracy: 0.9724 - val_loss: 1.5507 - val_accuracy: 0.6880\n"
          ],
          "name": "stdout"
        }
      ]
    },
    {
      "cell_type": "code",
      "metadata": {
        "colab": {
          "base_uri": "https://localhost:8080/",
          "height": 232
        },
        "id": "Bd-C3s2TgxIE",
        "outputId": "7f29e8e4-ae39-4a1c-d248-806f40a14ba4"
      },
      "source": [
        "acc = history.history['accuracy']\n",
        "val_acc = history.history['val_accuracy']\n",
        "loss = history.history['loss']\n",
        "val_loss = history.history['val_loss']\n",
        "epochs = range(1, len(acc) + 1)\n",
        "\n"
      ],
      "execution_count": null,
      "outputs": [
        {
          "output_type": "error",
          "ename": "NameError",
          "evalue": "ignored",
          "traceback": [
            "\u001b[0;31m---------------------------------------------------------------------------\u001b[0m",
            "\u001b[0;31mNameError\u001b[0m                                 Traceback (most recent call last)",
            "\u001b[0;32m<ipython-input-50-73cd0c6116b6>\u001b[0m in \u001b[0;36m<module>\u001b[0;34m()\u001b[0m\n\u001b[1;32m      5\u001b[0m \u001b[0mepochs\u001b[0m \u001b[0;34m=\u001b[0m \u001b[0mrange\u001b[0m\u001b[0;34m(\u001b[0m\u001b[0;36m1\u001b[0m\u001b[0;34m,\u001b[0m \u001b[0mlen\u001b[0m\u001b[0;34m(\u001b[0m\u001b[0macc\u001b[0m\u001b[0;34m)\u001b[0m \u001b[0;34m+\u001b[0m \u001b[0;36m1\u001b[0m\u001b[0;34m)\u001b[0m\u001b[0;34m\u001b[0m\u001b[0;34m\u001b[0m\u001b[0m\n\u001b[1;32m      6\u001b[0m \u001b[0;34m\u001b[0m\u001b[0m\n\u001b[0;32m----> 7\u001b[0;31m \u001b[0mplt\u001b[0m\u001b[0;34m.\u001b[0m\u001b[0mfigure\u001b[0m\u001b[0;34m(\u001b[0m\u001b[0mfigsize\u001b[0m\u001b[0;34m=\u001b[0m\u001b[0;34m(\u001b[0m\u001b[0;36m15\u001b[0m\u001b[0;34m,\u001b[0m\u001b[0;36m4\u001b[0m\u001b[0;34m)\u001b[0m\u001b[0;34m)\u001b[0m\u001b[0;34m\u001b[0m\u001b[0;34m\u001b[0m\u001b[0m\n\u001b[0m\u001b[1;32m      8\u001b[0m \u001b[0;34m\u001b[0m\u001b[0m\n\u001b[1;32m      9\u001b[0m \u001b[0max1\u001b[0m \u001b[0;34m=\u001b[0m \u001b[0mplt\u001b[0m\u001b[0;34m.\u001b[0m\u001b[0msubplot\u001b[0m\u001b[0;34m(\u001b[0m\u001b[0;36m1\u001b[0m\u001b[0;34m,\u001b[0m \u001b[0;36m2\u001b[0m\u001b[0;34m,\u001b[0m \u001b[0;36m1\u001b[0m\u001b[0;34m)\u001b[0m\u001b[0;34m\u001b[0m\u001b[0;34m\u001b[0m\u001b[0m\n",
            "\u001b[0;31mNameError\u001b[0m: name 'plt' is not defined"
          ]
        }
      ]
    },
    {
      "cell_type": "code",
      "metadata": {
        "colab": {
          "base_uri": "https://localhost:8080/",
          "height": 295
        },
        "id": "FaC62xjqtQOA",
        "outputId": "0550b481-b8c0-4d2a-9d4e-ceb5b70c892b"
      },
      "source": [
        "plt.figure(figsize=(15,4))\n",
        "\n",
        "ax1 = plt.subplot(1, 2, 1)\n",
        "plt.plot(epochs, loss, label='Training loss')\n",
        "plt.plot(epochs, val_loss, label='Validation loss')\n",
        "plt.fill_between(epochs, loss,val_loss,color='g',alpha=.1)\n",
        "\n",
        "plt.title('Training and validation loss')\n",
        "plt.xlabel('Epochs')\n",
        "plt.ylabel('Loss')\n",
        "plt.legend()\n",
        "\n",
        "ax2 = plt.subplot(1, 2, 2)\n",
        "plt.plot(epochs, acc, label='Training accuracy')\n",
        "plt.plot(epochs, val_acc, label='Validation accuracy')\n",
        "plt.fill_between(epochs, acc,val_acc,color='g',alpha=.1)\n",
        "plt.title('Training and validation accuracy')\n",
        "plt.xlabel('Epochs')\n",
        "plt.ylabel('Accuracy')\n",
        "plt.legend()\n",
        "plt.show()"
      ],
      "execution_count": null,
      "outputs": [
        {
          "output_type": "display_data",
          "data": {
            "image/png": "[encoded data removed]",
            "text/plain": [
              "<Figure size 1080x288 with 2 Axes>"
            ]
          },
          "metadata": {
            "tags": [],
            "needs_background": "light"
          }
        }
      ]
    },
    {
      "cell_type": "markdown",
      "metadata": {
        "id": "AH6ZBiECzS75"
      },
      "source": [
        "### Task 2.2 Fast training of ResNet\n",
        "\n",
        "*(weight ~10%)*\n",
        "\n",
        "In this task, you will experiment with different ways to reduce the time for training your ResNet on CIFAR10. There are different ways to speed up neural network training; below are two ideas. Please select at least one idea to implement. Explain the experiment steps and report the final performance and training time.\n",
        "\n",
        "#### Option 1. Learning rate schedule\n",
        "\n",
        "Use a learning rate schedule for the training. Some popular learning rate schedules include \n",
        "\n",
        "- the Step Decay learning rate (e.g., see [here](https://github.com/kuangliu/pytorch-cifar))\n",
        "- [Cyclical learning rates](https://arxiv.org/abs/1506.01186)\n",
        "- [The exponential learning rate](https://openreview.net/forum?id=rJg8TeSFDH) \n",
        "\n",
        "Also, Keras provides [some convenient functions](https://www.tensorflow.org/api_docs/python/tf/keras/optimizers/schedules) that you can use.\n",
        "\n",
        "\n",
        "#### Option 2. Look ahead optimiser\n",
        "\n",
        "Read [this paper](https://arxiv.org/abs/1907.08610) and implement the Lookahead optimiser."
      ]
    },
    {
      "cell_type": "code",
      "metadata": {
        "id": "MrgTps8IrU2M"
      },
      "source": [
        "initial_learning_rate = 0.1\n",
        "lr_schedule = tf.keras.optimizers.schedules.ExponentialDecay(\n",
        "    initial_learning_rate,\n",
        "    decay_steps=100000,\n",
        "    decay_rate=0.96,\n",
        "    staircase=True)\n",
        "\n",
        "# model.compile(optimizer=tf.keras.optimizers.SGD(learning_rate=lr_schedule),\n",
        "#               loss='sparse_categorical_crossentropy',\n",
        "#               metrics=['accuracy'])\n",
        "\n",
        "model.compile(optimizer=tf.keras.optimizers.SGD(learning_rate=lr_schedule), loss='categorical_crossentropy', metrics=['accuracy'])\n"
      ],
      "execution_count": null,
      "outputs": []
    },
    {
      "cell_type": "code",
      "metadata": {
        "colab": {
          "base_uri": "https://localhost:8080/"
        },
        "id": "KWTRZ1Lytyxq",
        "outputId": "560ee9e4-84fe-4386-95bc-44c97ca36036"
      },
      "source": [
        "history = model.fit(trainX, trainY, epochs = 50, batch_size = 128, validation_split=0.3)"
      ],
      "execution_count": null,
      "outputs": [
        {
          "output_type": "stream",
          "text": [
            "Epoch 1/50\n",
            "274/274 [==============================] - 31s 102ms/step - loss: 4.3708 - accuracy: 0.1995 - val_loss: 2.1470 - val_accuracy: 0.2313\n",
            "Epoch 2/50\n",
            "274/274 [==============================] - 27s 98ms/step - loss: 1.6856 - accuracy: 0.3980 - val_loss: 1.6104 - val_accuracy: 0.4349\n",
            "Epoch 3/50\n",
            "274/274 [==============================] - 27s 97ms/step - loss: 1.4685 - accuracy: 0.4684 - val_loss: 1.7151 - val_accuracy: 0.4005\n",
            "Epoch 4/50\n",
            "274/274 [==============================] - 27s 98ms/step - loss: 1.3491 - accuracy: 0.5142 - val_loss: 1.4295 - val_accuracy: 0.4850\n",
            "Epoch 5/50\n",
            "274/274 [==============================] - 27s 98ms/step - loss: 1.2393 - accuracy: 0.5515 - val_loss: 1.5368 - val_accuracy: 0.4947\n",
            "Epoch 6/50\n",
            "274/274 [==============================] - 27s 98ms/step - loss: 1.1344 - accuracy: 0.5907 - val_loss: 1.6536 - val_accuracy: 0.4622\n",
            "Epoch 7/50\n",
            "274/274 [==============================] - 27s 98ms/step - loss: 1.0299 - accuracy: 0.6307 - val_loss: 1.4013 - val_accuracy: 0.5437\n",
            "Epoch 8/50\n",
            "274/274 [==============================] - 27s 98ms/step - loss: 0.9269 - accuracy: 0.6703 - val_loss: 1.4689 - val_accuracy: 0.5201\n",
            "Epoch 9/50\n",
            "274/274 [==============================] - 27s 98ms/step - loss: 0.8334 - accuracy: 0.7053 - val_loss: 1.5372 - val_accuracy: 0.5409\n",
            "Epoch 10/50\n",
            "274/274 [==============================] - 27s 98ms/step - loss: 0.7474 - accuracy: 0.7320 - val_loss: 1.3329 - val_accuracy: 0.5657\n",
            "Epoch 11/50\n",
            "274/274 [==============================] - 27s 98ms/step - loss: 0.6561 - accuracy: 0.7648 - val_loss: 2.2400 - val_accuracy: 0.4361\n",
            "Epoch 12/50\n",
            "274/274 [==============================] - 27s 98ms/step - loss: 0.5721 - accuracy: 0.7981 - val_loss: 1.5241 - val_accuracy: 0.5633\n",
            "Epoch 13/50\n",
            "274/274 [==============================] - 27s 98ms/step - loss: 0.4763 - accuracy: 0.8317 - val_loss: 1.6112 - val_accuracy: 0.5339\n",
            "Epoch 14/50\n",
            "274/274 [==============================] - 27s 98ms/step - loss: 0.4314 - accuracy: 0.8476 - val_loss: 1.7161 - val_accuracy: 0.5393\n",
            "Epoch 15/50\n",
            "274/274 [==============================] - 27s 98ms/step - loss: 0.3503 - accuracy: 0.8765 - val_loss: 2.1237 - val_accuracy: 0.5199\n",
            "Epoch 16/50\n",
            "274/274 [==============================] - 27s 98ms/step - loss: 0.3085 - accuracy: 0.8903 - val_loss: 1.7149 - val_accuracy: 0.5921\n",
            "Epoch 17/50\n",
            "274/274 [==============================] - 27s 98ms/step - loss: 0.2650 - accuracy: 0.9076 - val_loss: 2.3394 - val_accuracy: 0.5327\n",
            "Epoch 18/50\n",
            "274/274 [==============================] - 27s 98ms/step - loss: 0.2350 - accuracy: 0.9166 - val_loss: 2.2167 - val_accuracy: 0.5297\n",
            "Epoch 19/50\n",
            "274/274 [==============================] - 27s 98ms/step - loss: 0.1922 - accuracy: 0.9330 - val_loss: 1.8854 - val_accuracy: 0.6058\n",
            "Epoch 20/50\n",
            "274/274 [==============================] - 27s 98ms/step - loss: 0.1813 - accuracy: 0.9363 - val_loss: 2.4047 - val_accuracy: 0.5598\n",
            "Epoch 21/50\n",
            "274/274 [==============================] - 27s 98ms/step - loss: 0.1646 - accuracy: 0.9415 - val_loss: 2.2882 - val_accuracy: 0.5646\n",
            "Epoch 22/50\n",
            "274/274 [==============================] - 27s 98ms/step - loss: 0.1340 - accuracy: 0.9541 - val_loss: 2.9475 - val_accuracy: 0.5280\n",
            "Epoch 23/50\n",
            "274/274 [==============================] - 27s 98ms/step - loss: 0.1413 - accuracy: 0.9517 - val_loss: 2.3100 - val_accuracy: 0.5841\n",
            "Epoch 24/50\n",
            "274/274 [==============================] - 27s 98ms/step - loss: 0.1249 - accuracy: 0.9591 - val_loss: 2.3929 - val_accuracy: 0.5863\n",
            "Epoch 25/50\n",
            "274/274 [==============================] - 27s 98ms/step - loss: 0.1111 - accuracy: 0.9621 - val_loss: 2.2426 - val_accuracy: 0.6146\n",
            "Epoch 26/50\n",
            "274/274 [==============================] - 27s 98ms/step - loss: 0.0964 - accuracy: 0.9661 - val_loss: 2.4595 - val_accuracy: 0.5669\n",
            "Epoch 27/50\n",
            "274/274 [==============================] - 27s 98ms/step - loss: 0.0984 - accuracy: 0.9665 - val_loss: 2.2999 - val_accuracy: 0.6080\n",
            "Epoch 28/50\n",
            "274/274 [==============================] - 27s 98ms/step - loss: 0.0786 - accuracy: 0.9732 - val_loss: 5.3214 - val_accuracy: 0.4201\n",
            "Epoch 29/50\n",
            "274/274 [==============================] - 27s 98ms/step - loss: 0.1147 - accuracy: 0.9650 - val_loss: 2.3267 - val_accuracy: 0.6041\n",
            "Epoch 30/50\n",
            "274/274 [==============================] - 27s 98ms/step - loss: 0.0752 - accuracy: 0.9741 - val_loss: 2.5161 - val_accuracy: 0.5811\n",
            "Epoch 31/50\n",
            "274/274 [==============================] - 27s 98ms/step - loss: 0.0735 - accuracy: 0.9746 - val_loss: 2.2109 - val_accuracy: 0.6294\n",
            "Epoch 32/50\n",
            "274/274 [==============================] - 27s 98ms/step - loss: 0.0634 - accuracy: 0.9768 - val_loss: 2.4684 - val_accuracy: 0.6162\n",
            "Epoch 33/50\n",
            "274/274 [==============================] - 27s 98ms/step - loss: 0.0622 - accuracy: 0.9783 - val_loss: 2.8884 - val_accuracy: 0.5435\n",
            "Epoch 34/50\n",
            "274/274 [==============================] - 27s 98ms/step - loss: 0.0905 - accuracy: 0.9704 - val_loss: 2.5157 - val_accuracy: 0.6135\n",
            "Epoch 35/50\n",
            "274/274 [==============================] - 27s 98ms/step - loss: 0.0576 - accuracy: 0.9809 - val_loss: 2.4354 - val_accuracy: 0.6079\n",
            "Epoch 36/50\n",
            "274/274 [==============================] - 27s 98ms/step - loss: 0.0481 - accuracy: 0.9841 - val_loss: 2.8333 - val_accuracy: 0.5971\n",
            "Epoch 37/50\n",
            "274/274 [==============================] - 27s 98ms/step - loss: 0.0550 - accuracy: 0.9813 - val_loss: 2.6592 - val_accuracy: 0.5895\n",
            "Epoch 38/50\n",
            "274/274 [==============================] - 27s 98ms/step - loss: 0.0594 - accuracy: 0.9796 - val_loss: 2.5134 - val_accuracy: 0.6117\n",
            "Epoch 39/50\n",
            "274/274 [==============================] - 27s 98ms/step - loss: 0.0517 - accuracy: 0.9837 - val_loss: 2.8524 - val_accuracy: 0.5913\n",
            "Epoch 40/50\n",
            "274/274 [==============================] - 27s 98ms/step - loss: 0.0637 - accuracy: 0.9770 - val_loss: 3.2078 - val_accuracy: 0.5687\n",
            "Epoch 41/50\n",
            "274/274 [==============================] - 27s 98ms/step - loss: 0.0559 - accuracy: 0.9819 - val_loss: 2.7068 - val_accuracy: 0.6105\n",
            "Epoch 42/50\n",
            "274/274 [==============================] - 27s 98ms/step - loss: 0.0444 - accuracy: 0.9848 - val_loss: 2.7780 - val_accuracy: 0.6097\n",
            "Epoch 43/50\n",
            "274/274 [==============================] - 27s 98ms/step - loss: 0.0415 - accuracy: 0.9856 - val_loss: 2.5118 - val_accuracy: 0.6359\n",
            "Epoch 44/50\n",
            "274/274 [==============================] - 27s 98ms/step - loss: 0.0343 - accuracy: 0.9883 - val_loss: 2.7502 - val_accuracy: 0.6152\n",
            "Epoch 45/50\n",
            "274/274 [==============================] - 27s 98ms/step - loss: 0.0360 - accuracy: 0.9876 - val_loss: 2.6630 - val_accuracy: 0.6227\n",
            "Epoch 46/50\n",
            "274/274 [==============================] - 27s 98ms/step - loss: 0.0382 - accuracy: 0.9862 - val_loss: 3.1498 - val_accuracy: 0.5680\n",
            "Epoch 47/50\n",
            "274/274 [==============================] - 27s 98ms/step - loss: 0.0442 - accuracy: 0.9846 - val_loss: 3.2287 - val_accuracy: 0.5698\n",
            "Epoch 48/50\n",
            "274/274 [==============================] - 27s 98ms/step - loss: 0.0427 - accuracy: 0.9844 - val_loss: 2.8921 - val_accuracy: 0.6103\n",
            "Epoch 49/50\n",
            "274/274 [==============================] - 27s 98ms/step - loss: 0.0398 - accuracy: 0.9863 - val_loss: 2.8975 - val_accuracy: 0.6131\n",
            "Epoch 50/50\n",
            "274/274 [==============================] - 27s 98ms/step - loss: 0.0387 - accuracy: 0.9868 - val_loss: 2.6665 - val_accuracy: 0.6224\n"
          ],
          "name": "stdout"
        }
      ]
    },
    {
      "cell_type": "code",
      "metadata": {
        "id": "y44c8M4xqqew"
      },
      "source": [
        "from optimizers import Lookahead\n",
        "opt = tf.keras.optimizers.SGD(learning_rate)\n",
        "opt = tfa.optimizers.Lookahead(opt, k = 5, alpha = 0.5)"
      ],
      "execution_count": null,
      "outputs": []
    },
    {
      "cell_type": "markdown",
      "metadata": {
        "id": "C8cKfAOjpn7c"
      },
      "source": [
        "### Task 2.3 Performance comparison\n",
        "\n",
        "*(weight ~3%)*\n",
        "\n",
        "Based on the above experiments, which method or which combination of methods result in the best accuracy with the same training time."
      ]
    },
    {
      "cell_type": "markdown",
      "metadata": {
        "id": "eWQm8ZfBxDH9"
      },
      "source": [
        "## Task 3 (**HD level task**) Research on new models\n",
        "*(weight ~10%)*\n",
        "\n",
        "Today, ResNet has become a very mature ConvNet architecture. In this task, you will research one recent ConvNet architecture. You may choose an architecture from the reference list below.\n",
        "\n",
        "Write a short report for your research, covering these points:\n",
        "\n",
        "- Identify the main issues that your chosen architecture aims to address. (For example, does it try to reduce the number of parameters or to speed up the training?)\n",
        "- What measures the architecture used to reduce the number of parameters, or reducing the training cost, or improving the model performance?\n",
        "\n",
        "Implement the architecture and compare its performance on CIFAR10 with ResNet. You may include your implementation, experiments, and analyses here in this notebook.\n",
        "\n",
        "**References**:\n",
        "\n",
        "1. Huang G, Liu Z, Van Der Maaten L, Weinberger KQ. *Densely connected convolutional networks*. In Proceedings of the IEEE conference on computer vision and pattern recognition 2017 (pp. 4700-4708).\n",
        "2. Zhang X, Zhou X, Lin M, Sun J. *Shufflenet: An extremely efficient convolutional neural network for mobile devices*. In Proceedings of the IEEE conference on computer vision and pattern recognition 2018 (pp. 6848-6856).\n",
        "3. Tan M, Le Q. *Efficientnet: Rethinking model scaling for convolutional neural networks*. In International Conference on Machine Learning 2019 May 24 (pp. 6105-6114). PMLR.\n",
        "4. Hu J, Shen L, Sun G. *Squeeze-and-excitation networks*. In Proceedings of the IEEE conference on computer vision and pattern recognition 2018 (pp. 7132-7141).\n"
      ]
    },
    {
      "cell_type": "markdown",
      "metadata": {
        "id": "hUV0wuZ01DNA"
      },
      "source": [
        "---\n",
        "**END OF ASSIGNMENT TWO**"
      ]
    }
  ]
}