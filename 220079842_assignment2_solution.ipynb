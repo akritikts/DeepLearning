{
  "nbformat": 4,
  "nbformat_minor": 0,
  "metadata": {
    "colab": {
      "name": "220079842_assignment2_solution.ipynb",
      "provenance": [],
      "collapsed_sections": [
        "twFQbltnm8da",
        "zdHwmgwOpEfx",
        "cfTL_5kPsl4j",
        "prctXU4BswKK",
        "UaHLKDLas_dF",
        "IaD5oqj3lhuI",
        "adN9Tq-6lyG-",
        "9NTjVIUkmv7S",
        "AH6ZBiECzS75",
        "C8cKfAOjpn7c"
      ],
      "machine_shape": "hm"
    },
    "kernelspec": {
      "name": "python3",
      "display_name": "Python 3"
    },
    "accelerator": "GPU"
  },
  "cells": [
    {
      "cell_type": "markdown",
      "metadata": {
        "id": "wjif_5FsdOFz"
      },
      "source": [
        "# SIT744 Assignment 2: Transfer learning and Efficient Training of Deep Learning Models \n",
        "\n",
        "<div class=\"alert-info\">\n",
        "    <p>Due: <strong>8:00pm 17 May 2021</strong>  (Monday)</p>\n",
        "\n",
        "This is an <strong>individual</strong> assignment. It contributes <strong>45%</strong> to your final mark. Read the assignment instruction carefully.\n",
        "\n",
        "<h2> What to submit </h2>\n",
        "\n",
        "<p>\n",
        "This assignment is to be completed individually and submitted to CloudDeakin. <strong>By the due date, you are required to submit the following files to the corresponding Assignment (Dropbox) in CloudDeakin</strong>:\n",
        "\n",
        "<ol>\n",
        "<li>\t<strong>[YourID]_assignment2_solution.ipynp</strong>:  This is your Python notebook solution source file. </li>\n",
        "<li>\t<strong>[YourID]_assingment2_output.html</strong>: This is the output of your Python notebook solution <emph>exported</emph> in HTML format.</li>\n",
        "<li>\tExtra files needed to complete your assignment, if any (e.g., images used in your answers).</li>\n",
        "</ol>\n",
        "</p>\n",
        "\n",
        "<p>\n",
        "For example, if your student ID is: 123456, you will then need to submit the following files:\n",
        "<ul>\n",
        "<li> 123456_assignment2_solution.ipynp </li>\n",
        "<li> 123456_assignment2_output.html</li>\n",
        "</ul>\n",
        "</p>\n",
        "\n",
        "<h2> Warning </h2>\n",
        "\n",
        "Some components of this assignment may involve heavy computation that runs for a long duration. Please start early to avoid missing the assignment due date.\n",
        "\n",
        "<h2> Marking criteria </h2>\n",
        "\n",
        "<p>\n",
        "Your submission will be marked using the following criteria.\n",
        "\n",
        "<ul>\n",
        "<li> Showing good effort through completed tasks.</li>\n",
        "<li> Applying deep learning theory to design suitable deep learning solutions for the tasks.</li>\n",
        "<li> Critically evaluating and reflecting on the pros and cons of various design decisions.</li>\n",
        "<li> Demonstrating creativity and resourcefulness in providing unique individual solutions.</li>\n",
        "<li> Showing attention to details through a good quality assignment report.</li>\n",
        "</ul>\n",
        "</p>\n",
        "\n",
        "<p>\n",
        "Indicative weights of various tasks are provided, but the assignment will be marked by the overall quality per the above criteria.\n",
        "</p>\n",
        "</div>"
      ]
    },
    {
      "cell_type": "markdown",
      "metadata": {
        "id": "twFQbltnm8da"
      },
      "source": [
        "## Assignment objective\n",
        "\n",
        "This assignment is to feedback on your learning in deep learning theory and its application to  data analytics or artificial intelligence problems.  \n",
        "\n",
        "It builds on Assignment 1 but requires a higher level of mastery of deep learning theory and programming/engineering skills. In particular, you will experience training a much deeper network on a large-scale dataset. You will encounter  practical issues that help you consolidate textbook learning. "
      ]
    },
    {
      "cell_type": "markdown",
      "metadata": {
        "id": "3ITc1hw_o7qV"
      },
      "source": [
        "## Task 1 Solving Fashion-MNIST with Convolutional Neural Networks\n",
        "\n",
        "*(weight ~15%)*\n",
        "\n",
        "In Assignment 1, you tackled the image classification problem in Fashion-MNIST. There, you used a Densely Connected Neural Network. You should now know that is not an optimal model architecture for the problem. In Assignment 2, you will apply the best practices of deep-learning computer vision to achieve better image classification performance."
      ]
    },
    {
      "cell_type": "markdown",
      "metadata": {
        "id": "zdHwmgwOpEfx"
      },
      "source": [
        "### Task 1.1 Revisit Fashion-MNIST classification with DNN\n",
        "\n",
        "*(weight ~1%)*\n",
        "\n",
        "Review your Assignment 1 solution, and reproduce the experiment here. Try to improve the model without changing the model architecture.\n"
      ]
    },
    {
      "cell_type": "code",
      "metadata": {
        "colab": {
          "base_uri": "https://localhost:8080/"
        },
        "id": "Dlxzmo4mOZCv",
        "outputId": "43bee4b2-24e7-45a7-bad1-1666520e8864"
      },
      "source": [
        "import tensorflow as tf\n",
        "import tensorflow_datasets\n",
        "import math\n",
        "import numpy as np\n",
        "import matplotlib.pyplot as plt\n",
        "from keras.layers.normalization import BatchNormalization\n",
        "from keras.regularizers import l2\n",
        "from keras.layers import Dropout\n",
        "from keras.layers import Activation\n",
        "from keras.optimizers import SGD\n",
        "from keras.optimizers import RMSprop\n",
        "from keras.callbacks import LearningRateScheduler\n",
        "from keras.callbacks import History\n",
        "\n",
        "\n",
        "# Loading the data using tensorflow\n",
        "fashion_mnist = tf.keras.datasets.fashion_mnist\n",
        "\n",
        "(train_images, train_labels), (test_images, test_labels) = fashion_mnist.load_data()\n",
        "\n",
        "# class names\n",
        "class_names = ['T-shirt/top', 'Trouser', 'Pullover', 'Dress', 'Coat',\n",
        "               'Sandal', 'Shirt', 'Sneaker', 'Bag', 'Ankle boot']"
      ],
      "execution_count": 1,
      "outputs": [
        {
          "output_type": "stream",
          "text": [
            "Downloading data from https://storage.googleapis.com/tensorflow/tf-keras-datasets/train-labels-idx1-ubyte.gz\n",
            "32768/29515 [=================================] - 0s 0us/step\n",
            "Downloading data from https://storage.googleapis.com/tensorflow/tf-keras-datasets/train-images-idx3-ubyte.gz\n",
            "26427392/26421880 [==============================] - 0s 0us/step\n",
            "Downloading data from https://storage.googleapis.com/tensorflow/tf-keras-datasets/t10k-labels-idx1-ubyte.gz\n",
            "8192/5148 [===============================================] - 0s 0us/step\n",
            "Downloading data from https://storage.googleapis.com/tensorflow/tf-keras-datasets/t10k-images-idx3-ubyte.gz\n",
            "4423680/4422102 [==============================] - 0s 0us/step\n"
          ],
          "name": "stdout"
        }
      ]
    },
    {
      "cell_type": "code",
      "metadata": {
        "id": "RLSzup0tO0kD"
      },
      "source": [
        "# train, test and validation splits\n",
        "\n",
        "train_images = train_images / 255.0\n",
        "test_images = test_images / 255.0\n",
        "\n",
        "# defining batch size\n",
        "BATCH_SIZE = 512\n",
        "# training dataset\n",
        "fmnist_train_ds = tf.data.Dataset.from_tensor_slices((train_images, train_labels))\n",
        "\n",
        "\n",
        "# test dataset\n",
        "fmnist_test_ds = tf.data.Dataset.from_tensor_slices((test_images, test_labels))\n",
        "fmnist_test_ds = fmnist_test_ds.shuffle(5000).batch(BATCH_SIZE)\n",
        "\n",
        "# picking out the validation set from the training dataset\n",
        "fmnist_train = fmnist_train_ds.take(round(len(train_labels)*0.7))\n",
        "fmnist_val = fmnist_train_ds.skip(round(len(train_labels)*0.7))\n",
        "\n",
        "from sklearn.model_selection import train_test_split\n",
        "\n",
        "\n",
        "X_train, X_val, y_train, y_val  = train_test_split(train_images, train_labels, test_size=0.25, random_state=1) # 0.25 x 0.8 = 0.2\n",
        "\n",
        "# batch size should be in powers of 2 and the larger the better, provided that the batch fits into the (GPU) memory;\n",
        "# small batches can offer a regularizing effect, perhaps due to the noise they add to the learning process.\n",
        "# larger batches provide a more accurate estimate of the gradient.\n",
        "# the batch size here is 512.\n",
        "# train-data shuffling ensures that the model gets to see all permutauions of input in every batch."
      ],
      "execution_count": 23,
      "outputs": []
    },
    {
      "cell_type": "code",
      "metadata": {
        "id": "G7Wcy86mPZ4Q"
      },
      "source": [
        "# adding dropout, batch normalisation, changing the learning rate\n",
        "\n",
        "def optimiser_sgd(learning_rate):\n",
        "  learning_rate = learning_rate\n",
        "  decay_rate = learning_rate / 50\n",
        "  momentum = 0.8\n",
        "\n",
        "  sgd = SGD(lr=learning_rate, momentum=momentum, decay=decay_rate, nesterov=False)\n",
        "  return sgd"
      ],
      "execution_count": 3,
      "outputs": []
    },
    {
      "cell_type": "code",
      "metadata": {
        "id": "tOCwK2geP3Nb"
      },
      "source": [
        "\n",
        "decay_rate = 0.001\n",
        "learning_rate = 0.001\n",
        "\n",
        "def exp_decay(epoch):\n",
        "    lrate = learning_rate * np.exp(-decay_rate*epoch)\n",
        "    return lrate\n",
        "    \n",
        "# learning schedule callback\n",
        "loss_history = History()\n",
        "lr_rate = LearningRateScheduler(exp_decay)\n",
        "callbacks_list = [loss_history, lr_rate]"
      ],
      "execution_count": 4,
      "outputs": []
    },
    {
      "cell_type": "code",
      "metadata": {
        "id": "7zFBg2u1O0rz"
      },
      "source": [
        "# Different layers are appropriate for different tensor formats and different types of data processing. \n",
        "# Simple vector data, stored in 2D tensors of shape (samples, features), is often processed by densely connected layers.\n",
        "\n",
        "# single-label, multiclass classification problem\n",
        "\n",
        "model_d = tf.keras.Sequential([\n",
        "    tf.keras.layers.Flatten(input_shape=(28, 28, 1)),\n",
        "    tf.keras.layers.Dense(128, kernel_regularizer=l2(0.01), bias_regularizer=l2(0.01), activation=tf.nn.relu),\n",
        "    tf.keras.layers.BatchNormalization(),\n",
        "    tf.keras.layers.Dropout(0.1),\n",
        "    tf.keras.layers.Dense(256, kernel_regularizer=l2(0.001), bias_regularizer=l2(0.001), activation=tf.nn.relu),\n",
        "    tf.keras.layers.Dense(10, activation=tf.nn.softmax)\n",
        "])"
      ],
      "execution_count": 5,
      "outputs": []
    },
    {
      "cell_type": "code",
      "metadata": {
        "id": "stSMER3BPn65"
      },
      "source": [
        "model_d.compile(optimizer=optimiser_sgd(0.001),\n",
        "              loss=tf.keras.losses.SparseCategoricalCrossentropy(),\n",
        "              metrics=['accuracy'])"
      ],
      "execution_count": 6,
      "outputs": []
    },
    {
      "cell_type": "code",
      "metadata": {
        "colab": {
          "base_uri": "https://localhost:8080/",
          "height": 703
        },
        "id": "2jepHqS8Pv3a",
        "outputId": "cea9fc40-51d2-4b42-81b2-440b500f4dda"
      },
      "source": [
        "regularised_layers_model_history = model_d.fit(train_images, \n",
        "                                     train_labels,\n",
        "                                     validation_split=0.3,\n",
        "                                     batch_size=512,\n",
        "                                     epochs=12,\n",
        "                                    callbacks = callbacks_list)\n",
        "\n",
        "acc = regularised_layers_model_history.history['accuracy']\n",
        "val_acc = regularised_layers_model_history.history['val_accuracy']\n",
        "loss = regularised_layers_model_history.history['loss']\n",
        "val_loss = regularised_layers_model_history.history['val_loss']\n",
        "epochs = range(1, len(acc) + 1)\n",
        "\n",
        "plt.figure(figsize=(15,4))\n",
        "\n",
        "ax1 = plt.subplot(1, 2, 1)\n",
        "plt.plot(epochs, loss, label='Training loss')\n",
        "plt.plot(epochs, val_loss, label='Validation loss')\n",
        "plt.fill_between(epochs, loss,val_loss,color='g',alpha=.1)\n",
        "\n",
        "plt.title('Training and validation loss')\n",
        "plt.xlabel('Epochs')\n",
        "plt.ylabel('Loss')\n",
        "plt.legend()\n",
        "\n",
        "ax2 = plt.subplot(1, 2, 2)\n",
        "plt.plot(epochs, acc, label='Training accuracy')\n",
        "plt.plot(epochs, val_acc, label='Validation accuracy')\n",
        "plt.fill_between(epochs, acc,val_acc,color='g',alpha=.1)\n",
        "plt.title('Training and validation accuracy')\n",
        "plt.xlabel('Epochs')\n",
        "plt.ylabel('Accuracy')\n",
        "plt.legend()\n",
        "plt.show()"
      ],
      "execution_count": 7,
      "outputs": [
        {
          "output_type": "stream",
          "text": [
            "Epoch 1/12\n",
            "83/83 [==============================] - 4s 14ms/step - loss: 4.4890 - accuracy: 0.2610 - val_loss: 4.0670 - val_accuracy: 0.5698\n",
            "Epoch 2/12\n",
            "83/83 [==============================] - 1s 6ms/step - loss: 3.4570 - accuracy: 0.6588 - val_loss: 3.5789 - val_accuracy: 0.6957\n",
            "Epoch 3/12\n",
            "83/83 [==============================] - 1s 7ms/step - loss: 3.2030 - accuracy: 0.7196 - val_loss: 3.2590 - val_accuracy: 0.7336\n",
            "Epoch 4/12\n",
            "83/83 [==============================] - 1s 7ms/step - loss: 3.0703 - accuracy: 0.7427 - val_loss: 3.0617 - val_accuracy: 0.7582\n",
            "Epoch 5/12\n",
            "83/83 [==============================] - 1s 7ms/step - loss: 2.9613 - accuracy: 0.7660 - val_loss: 2.9313 - val_accuracy: 0.7744\n",
            "Epoch 6/12\n",
            "83/83 [==============================] - 1s 7ms/step - loss: 2.8784 - accuracy: 0.7783 - val_loss: 2.8379 - val_accuracy: 0.7850\n",
            "Epoch 7/12\n",
            "83/83 [==============================] - 1s 7ms/step - loss: 2.8132 - accuracy: 0.7859 - val_loss: 2.7666 - val_accuracy: 0.7955\n",
            "Epoch 8/12\n",
            "83/83 [==============================] - 1s 7ms/step - loss: 2.7478 - accuracy: 0.7932 - val_loss: 2.7058 - val_accuracy: 0.8017\n",
            "Epoch 9/12\n",
            "83/83 [==============================] - 1s 7ms/step - loss: 2.6981 - accuracy: 0.8025 - val_loss: 2.6527 - val_accuracy: 0.8059\n",
            "Epoch 10/12\n",
            "83/83 [==============================] - 1s 7ms/step - loss: 2.6544 - accuracy: 0.8035 - val_loss: 2.6038 - val_accuracy: 0.8104\n",
            "Epoch 11/12\n",
            "83/83 [==============================] - 1s 7ms/step - loss: 2.6030 - accuracy: 0.8067 - val_loss: 2.5585 - val_accuracy: 0.8142\n",
            "Epoch 12/12\n",
            "83/83 [==============================] - 1s 7ms/step - loss: 2.5484 - accuracy: 0.8164 - val_loss: 2.5160 - val_accuracy: 0.8168\n"
          ],
          "name": "stdout"
        },
        {
          "output_type": "display_data",
          "data": {
            "image/png": "[encoded data removed]",
            "text/plain": [
              "<Figure size 1080x288 with 2 Axes>"
            ]
          },
          "metadata": {
            "tags": [],
            "needs_background": "light"
          }
        }
      ]
    },
    {
      "cell_type": "code",
      "metadata": {
        "colab": {
          "base_uri": "https://localhost:8080/"
        },
        "id": "wky7gVtbQJVv",
        "outputId": "fadc7fe6-35f1-4eb6-cc63-5c8957da5a65"
      },
      "source": [
        "test_loss, test_accuracy = model_d.evaluate(test_images, test_labels, steps=math.ceil(len(test_labels)/32))\n",
        "print('Accuracy on test dataset after layer specific weight regularisation:', test_accuracy)"
      ],
      "execution_count": 8,
      "outputs": [
        {
          "output_type": "stream",
          "text": [
            "313/313 [==============================] - 1s 3ms/step - loss: 2.5341 - accuracy: 0.8118\n",
            "Accuracy on test dataset after layer specific weight regularisation: 0.8118000030517578\n"
          ],
          "name": "stdout"
        }
      ]
    },
    {
      "cell_type": "markdown",
      "metadata": {
        "id": "69dzV_eTRDEd"
      },
      "source": [
        "Without changine the model architecture, the accuracy improves only by a few decimal poitns depending on the learning rate, the regularisers and the Dropouts."
      ]
    },
    {
      "cell_type": "markdown",
      "metadata": {
        "id": "cfTL_5kPsl4j"
      },
      "source": [
        "### Task 1.2 Train a ConvNet from scratch\n",
        "\n",
        "*(weight ~5%)*\n",
        "\n",
        "Build a ConvNet to replace the densely connected network in Task 1.1. Report the classification accuracy on the test set. Aim to achieve higher accuracy. \n",
        "\n"
      ]
    },
    {
      "cell_type": "code",
      "metadata": {
        "id": "9FGomTWkVz0b"
      },
      "source": [
        "train_images = np.reshape(train_images, (train_images.shape[0], train_images.shape[1], train_images.shape[2], 1))\n",
        "test_images = np.reshape(test_images, (test_images.shape[0], test_images.shape[1], test_images.shape[2], 1))"
      ],
      "execution_count": 9,
      "outputs": []
    },
    {
      "cell_type": "code",
      "metadata": {
        "colab": {
          "base_uri": "https://localhost:8080/"
        },
        "id": "3KBNjapzRZ2I",
        "outputId": "93015cea-304d-4341-dd1c-4fe04aecdadd"
      },
      "source": [
        "import tensorflow.keras.backend as K\n",
        "from tensorflow.keras.layers import (Input, Conv2D, MaxPooling2D, Flatten, \n",
        "                                     Dense, Dropout, BatchNormalization)\n",
        "from tensorflow.keras.models import Sequential\n",
        "from tensorflow.keras.optimizers import Adam\n",
        "from tensorflow.keras import regularizers\n",
        "from tensorflow.keras.callbacks import EarlyStopping,ReduceLROnPlateau\n",
        "\n",
        "\n",
        "\n",
        "model = Sequential()\n",
        "# Add convolution 2D\n",
        "model.add(Conv2D(64, kernel_size=(3, 3),\n",
        "                 activation='relu',\n",
        "                 kernel_initializer='he_normal',\n",
        "                 padding='same',\n",
        "                 input_shape=(28, 28, 1)))\n",
        "model.add(Conv2D(64, \n",
        "                 kernel_size=(3, 3), \n",
        "                 activation='relu',padding='same'))\n",
        "model.add(tf.keras.layers.BatchNormalization())\n",
        "model.add(MaxPooling2D(pool_size=(2, 2)))\n",
        "model.add(Dropout(0.3))\n",
        "model.add(Conv2D(128, kernel_size=(3, 3),\n",
        "                 activation='relu',\n",
        "                 kernel_initializer='he_normal',\n",
        "                 padding='same',\n",
        "                 input_shape=(28, 28, 1)))\n",
        "model.add(Conv2D(128, \n",
        "                 kernel_size=(3, 3), \n",
        "                 padding='same',\n",
        "                 activation='relu'))\n",
        "model.add(tf.keras.layers.BatchNormalization())\n",
        "model.add(MaxPooling2D(pool_size=(2, 2)))\n",
        "model.add(Dropout(0.3))\n",
        "\n",
        "model.add(Conv2D(256, kernel_size=(3, 3),\n",
        "                 activation='relu',\n",
        "                 kernel_initializer='he_normal',\n",
        "                 padding='same',\n",
        "                 input_shape=(28, 28, 1)))\n",
        "model.add(Conv2D(256, \n",
        "                 kernel_size=(3, 3), \n",
        "                 padding='same',\n",
        "                 activation='relu'))\n",
        "model.add(Conv2D(256, \n",
        "                 kernel_size=(3, 3), \n",
        "                 padding='same',\n",
        "                 activation='relu'))\n",
        "model.add(tf.keras.layers.BatchNormalization())\n",
        "model.add(MaxPooling2D(pool_size=(2, 2)))\n",
        "model.add(Dropout(0.3))\n",
        "\n",
        "model.add(Flatten())\n",
        "model.add(Dense(2048, activation='relu'))\n",
        "model.add(Dropout(0.3))\n",
        "model.add(Dense(512, activation='relu'))\n",
        "model.add(Dense(10, activation='softmax'))\n",
        "adam = Adam(lr=0.0001, decay=1e-6)\n",
        "model.compile(optimizer=adam,\n",
        "                  loss='sparse_categorical_crossentropy',\n",
        "                  metrics=['accuracy'])\n",
        "print(model.summary())\n",
        "init_weights = model.get_weights()\n"
      ],
      "execution_count": 10,
      "outputs": [
        {
          "output_type": "stream",
          "text": [
            "Model: \"sequential_1\"\n",
            "_________________________________________________________________\n",
            "Layer (type)                 Output Shape              Param #   \n",
            "=================================================================\n",
            "conv2d (Conv2D)              (None, 28, 28, 64)        640       \n",
            "_________________________________________________________________\n",
            "conv2d_1 (Conv2D)            (None, 28, 28, 64)        36928     \n",
            "_________________________________________________________________\n",
            "batch_normalization_1 (Batch (None, 28, 28, 64)        256       \n",
            "_________________________________________________________________\n",
            "max_pooling2d (MaxPooling2D) (None, 14, 14, 64)        0         \n",
            "_________________________________________________________________\n",
            "dropout_1 (Dropout)          (None, 14, 14, 64)        0         \n",
            "_________________________________________________________________\n",
            "conv2d_2 (Conv2D)            (None, 14, 14, 128)       73856     \n",
            "_________________________________________________________________\n",
            "conv2d_3 (Conv2D)            (None, 14, 14, 128)       147584    \n",
            "_________________________________________________________________\n",
            "batch_normalization_2 (Batch (None, 14, 14, 128)       512       \n",
            "_________________________________________________________________\n",
            "max_pooling2d_1 (MaxPooling2 (None, 7, 7, 128)         0         \n",
            "_________________________________________________________________\n",
            "dropout_2 (Dropout)          (None, 7, 7, 128)         0         \n",
            "_________________________________________________________________\n",
            "conv2d_4 (Conv2D)            (None, 7, 7, 256)         295168    \n",
            "_________________________________________________________________\n",
            "conv2d_5 (Conv2D)            (None, 7, 7, 256)         590080    \n",
            "_________________________________________________________________\n",
            "conv2d_6 (Conv2D)            (None, 7, 7, 256)         590080    \n",
            "_________________________________________________________________\n",
            "batch_normalization_3 (Batch (None, 7, 7, 256)         1024      \n",
            "_________________________________________________________________\n",
            "max_pooling2d_2 (MaxPooling2 (None, 3, 3, 256)         0         \n",
            "_________________________________________________________________\n",
            "dropout_3 (Dropout)          (None, 3, 3, 256)         0         \n",
            "_________________________________________________________________\n",
            "flatten_1 (Flatten)          (None, 2304)              0         \n",
            "_________________________________________________________________\n",
            "dense_3 (Dense)              (None, 2048)              4720640   \n",
            "_________________________________________________________________\n",
            "dropout_4 (Dropout)          (None, 2048)              0         \n",
            "_________________________________________________________________\n",
            "dense_4 (Dense)              (None, 512)               1049088   \n",
            "_________________________________________________________________\n",
            "dense_5 (Dense)              (None, 10)                5130      \n",
            "=================================================================\n",
            "Total params: 7,510,986\n",
            "Trainable params: 7,510,090\n",
            "Non-trainable params: 896\n",
            "_________________________________________________________________\n",
            "None\n"
          ],
          "name": "stdout"
        }
      ]
    },
    {
      "cell_type": "code",
      "metadata": {
        "id": "mXKNuZVpYZhQ"
      },
      "source": [
        "reduce_lr = ReduceLROnPlateau(monitor='val_loss', factor=0.2,\n",
        "                              patience=3, min_lr=0.0001)\n",
        "earlystop=EarlyStopping(monitor='val_loss', patience=3)"
      ],
      "execution_count": 11,
      "outputs": []
    },
    {
      "cell_type": "code",
      "metadata": {
        "colab": {
          "base_uri": "https://localhost:8080/",
          "height": 1000
        },
        "id": "MnQLfrvvU0w2",
        "outputId": "189e67b3-7182-4caf-c028-f8b162ca09f2"
      },
      "source": [
        "history = model.fit(train_images, \n",
        "                    train_labels,\n",
        "                    validation_split=0.3,\n",
        "                    batch_size=128,\n",
        "                    epochs=100,\n",
        "                    callbacks=[reduce_lr])\n",
        "\n",
        "acc = regularised_layers_model_history.history['accuracy']\n",
        "val_acc = regularised_layers_model_history.history['val_accuracy']\n",
        "loss = regularised_layers_model_history.history['loss']\n",
        "val_loss = regularised_layers_model_history.history['val_loss']\n",
        "epochs = range(1, len(acc) + 1)\n",
        "\n",
        "plt.figure(figsize=(15,4))\n",
        "\n",
        "ax1 = plt.subplot(1, 2, 1)\n",
        "plt.plot(epochs, loss, label='Training loss')\n",
        "plt.plot(epochs, val_loss, label='Validation loss')\n",
        "plt.fill_between(epochs, loss,val_loss,color='g',alpha=.1)\n",
        "\n",
        "plt.title('Training and validation loss')\n",
        "plt.xlabel('Epochs')\n",
        "plt.ylabel('Loss')\n",
        "plt.legend()\n",
        "\n",
        "ax2 = plt.subplot(1, 2, 2)\n",
        "plt.plot(epochs, acc, label='Training accuracy')\n",
        "plt.plot(epochs, val_acc, label='Validation accuracy')\n",
        "plt.fill_between(epochs, acc,val_acc,color='g',alpha=.1)\n",
        "plt.title('Training and validation accuracy')\n",
        "plt.xlabel('Epochs')\n",
        "plt.ylabel('Accuracy')\n",
        "plt.legend()\n",
        "plt.show()"
      ],
      "execution_count": 12,
      "outputs": [
        {
          "output_type": "stream",
          "text": [
            "Epoch 1/100\n",
            "329/329 [==============================] - 52s 70ms/step - loss: 1.0947 - accuracy: 0.6246 - val_loss: 1.3367 - val_accuracy: 0.5534\n",
            "Epoch 2/100\n",
            "329/329 [==============================] - 22s 67ms/step - loss: 0.4972 - accuracy: 0.8154 - val_loss: 0.4240 - val_accuracy: 0.8452\n",
            "Epoch 3/100\n",
            "329/329 [==============================] - 22s 67ms/step - loss: 0.4028 - accuracy: 0.8521 - val_loss: 0.3441 - val_accuracy: 0.8746\n",
            "Epoch 4/100\n",
            "329/329 [==============================] - 22s 68ms/step - loss: 0.3590 - accuracy: 0.8681 - val_loss: 0.3285 - val_accuracy: 0.8833\n",
            "Epoch 5/100\n",
            "329/329 [==============================] - 22s 67ms/step - loss: 0.3219 - accuracy: 0.8797 - val_loss: 0.2983 - val_accuracy: 0.8931\n",
            "Epoch 6/100\n",
            "329/329 [==============================] - 22s 68ms/step - loss: 0.3065 - accuracy: 0.8843 - val_loss: 0.2875 - val_accuracy: 0.8979\n",
            "Epoch 7/100\n",
            "329/329 [==============================] - 22s 68ms/step - loss: 0.2882 - accuracy: 0.8936 - val_loss: 0.2667 - val_accuracy: 0.9036\n",
            "Epoch 8/100\n",
            "329/329 [==============================] - 22s 68ms/step - loss: 0.2714 - accuracy: 0.8995 - val_loss: 0.2554 - val_accuracy: 0.9086\n",
            "Epoch 9/100\n",
            "329/329 [==============================] - 22s 68ms/step - loss: 0.2468 - accuracy: 0.9090 - val_loss: 0.2667 - val_accuracy: 0.9034\n",
            "Epoch 10/100\n",
            "329/329 [==============================] - 22s 68ms/step - loss: 0.2360 - accuracy: 0.9105 - val_loss: 0.2393 - val_accuracy: 0.9129\n",
            "Epoch 11/100\n",
            "329/329 [==============================] - 22s 68ms/step - loss: 0.2232 - accuracy: 0.9167 - val_loss: 0.2293 - val_accuracy: 0.9162\n",
            "Epoch 12/100\n",
            "329/329 [==============================] - 22s 68ms/step - loss: 0.2190 - accuracy: 0.9147 - val_loss: 0.2319 - val_accuracy: 0.9196\n",
            "Epoch 13/100\n",
            "329/329 [==============================] - 22s 68ms/step - loss: 0.2096 - accuracy: 0.9210 - val_loss: 0.2134 - val_accuracy: 0.9251\n",
            "Epoch 14/100\n",
            "329/329 [==============================] - 22s 68ms/step - loss: 0.1919 - accuracy: 0.9282 - val_loss: 0.2519 - val_accuracy: 0.9072\n",
            "Epoch 15/100\n",
            "329/329 [==============================] - 22s 68ms/step - loss: 0.1861 - accuracy: 0.9286 - val_loss: 0.2220 - val_accuracy: 0.9242\n",
            "Epoch 16/100\n",
            "329/329 [==============================] - 22s 68ms/step - loss: 0.1873 - accuracy: 0.9296 - val_loss: 0.2230 - val_accuracy: 0.9202\n",
            "Epoch 17/100\n",
            "329/329 [==============================] - 22s 68ms/step - loss: 0.1731 - accuracy: 0.9345 - val_loss: 0.2342 - val_accuracy: 0.9182\n",
            "Epoch 18/100\n",
            "329/329 [==============================] - 22s 68ms/step - loss: 0.1694 - accuracy: 0.9362 - val_loss: 0.2088 - val_accuracy: 0.9277\n",
            "Epoch 19/100\n",
            "329/329 [==============================] - 22s 68ms/step - loss: 0.1573 - accuracy: 0.9410 - val_loss: 0.2213 - val_accuracy: 0.9254\n",
            "Epoch 20/100\n",
            "329/329 [==============================] - 22s 68ms/step - loss: 0.1549 - accuracy: 0.9412 - val_loss: 0.2041 - val_accuracy: 0.9285\n",
            "Epoch 21/100\n",
            "329/329 [==============================] - 22s 68ms/step - loss: 0.1469 - accuracy: 0.9444 - val_loss: 0.2258 - val_accuracy: 0.9255\n",
            "Epoch 22/100\n",
            "329/329 [==============================] - 22s 68ms/step - loss: 0.1464 - accuracy: 0.9428 - val_loss: 0.2071 - val_accuracy: 0.9317\n",
            "Epoch 23/100\n",
            "329/329 [==============================] - 22s 68ms/step - loss: 0.1385 - accuracy: 0.9472 - val_loss: 0.2203 - val_accuracy: 0.9278\n",
            "Epoch 24/100\n",
            "329/329 [==============================] - 22s 68ms/step - loss: 0.1313 - accuracy: 0.9502 - val_loss: 0.2192 - val_accuracy: 0.9299\n",
            "Epoch 25/100\n",
            "329/329 [==============================] - 22s 68ms/step - loss: 0.1228 - accuracy: 0.9518 - val_loss: 0.2136 - val_accuracy: 0.9335\n",
            "Epoch 26/100\n",
            "329/329 [==============================] - 22s 68ms/step - loss: 0.1197 - accuracy: 0.9540 - val_loss: 0.2092 - val_accuracy: 0.9323\n",
            "Epoch 27/100\n",
            "329/329 [==============================] - 22s 68ms/step - loss: 0.1108 - accuracy: 0.9578 - val_loss: 0.2117 - val_accuracy: 0.9327\n",
            "Epoch 28/100\n",
            "329/329 [==============================] - 22s 68ms/step - loss: 0.1151 - accuracy: 0.9559 - val_loss: 0.2092 - val_accuracy: 0.9328\n",
            "Epoch 29/100\n",
            "329/329 [==============================] - 22s 68ms/step - loss: 0.1042 - accuracy: 0.9594 - val_loss: 0.2402 - val_accuracy: 0.9266\n",
            "Epoch 30/100\n",
            "329/329 [==============================] - 22s 68ms/step - loss: 0.1062 - accuracy: 0.9583 - val_loss: 0.2228 - val_accuracy: 0.9304\n",
            "Epoch 31/100\n",
            "329/329 [==============================] - 22s 68ms/step - loss: 0.0964 - accuracy: 0.9630 - val_loss: 0.2092 - val_accuracy: 0.9342\n",
            "Epoch 32/100\n",
            "329/329 [==============================] - 22s 68ms/step - loss: 0.0880 - accuracy: 0.9669 - val_loss: 0.2471 - val_accuracy: 0.9274\n",
            "Epoch 33/100\n",
            "329/329 [==============================] - 22s 68ms/step - loss: 0.0927 - accuracy: 0.9632 - val_loss: 0.2265 - val_accuracy: 0.9321\n",
            "Epoch 34/100\n",
            "329/329 [==============================] - 22s 68ms/step - loss: 0.0835 - accuracy: 0.9686 - val_loss: 0.2279 - val_accuracy: 0.9299\n",
            "Epoch 35/100\n",
            "329/329 [==============================] - 22s 68ms/step - loss: 0.0783 - accuracy: 0.9704 - val_loss: 0.2384 - val_accuracy: 0.9297\n",
            "Epoch 36/100\n",
            "329/329 [==============================] - 22s 68ms/step - loss: 0.0801 - accuracy: 0.9681 - val_loss: 0.2353 - val_accuracy: 0.9334\n",
            "Epoch 37/100\n",
            "329/329 [==============================] - 22s 68ms/step - loss: 0.0802 - accuracy: 0.9705 - val_loss: 0.2524 - val_accuracy: 0.9332\n",
            "Epoch 38/100\n",
            "329/329 [==============================] - 22s 68ms/step - loss: 0.0732 - accuracy: 0.9718 - val_loss: 0.2416 - val_accuracy: 0.9358\n",
            "Epoch 39/100\n",
            "329/329 [==============================] - 22s 68ms/step - loss: 0.0699 - accuracy: 0.9741 - val_loss: 0.2273 - val_accuracy: 0.9368\n",
            "Epoch 40/100\n",
            "329/329 [==============================] - 22s 68ms/step - loss: 0.0734 - accuracy: 0.9706 - val_loss: 0.2567 - val_accuracy: 0.9326\n",
            "Epoch 41/100\n",
            "329/329 [==============================] - 22s 68ms/step - loss: 0.0623 - accuracy: 0.9760 - val_loss: 0.2586 - val_accuracy: 0.9314\n",
            "Epoch 42/100\n",
            "329/329 [==============================] - 22s 68ms/step - loss: 0.0592 - accuracy: 0.9773 - val_loss: 0.2445 - val_accuracy: 0.9358\n",
            "Epoch 43/100\n",
            "329/329 [==============================] - 22s 68ms/step - loss: 0.0561 - accuracy: 0.9783 - val_loss: 0.2591 - val_accuracy: 0.9337\n",
            "Epoch 44/100\n",
            "329/329 [==============================] - 22s 68ms/step - loss: 0.0609 - accuracy: 0.9776 - val_loss: 0.2540 - val_accuracy: 0.9339\n",
            "Epoch 45/100\n",
            "329/329 [==============================] - 22s 68ms/step - loss: 0.0536 - accuracy: 0.9789 - val_loss: 0.2670 - val_accuracy: 0.9357\n",
            "Epoch 46/100\n",
            "329/329 [==============================] - 22s 68ms/step - loss: 0.0528 - accuracy: 0.9804 - val_loss: 0.2577 - val_accuracy: 0.9359\n",
            "Epoch 47/100\n",
            "329/329 [==============================] - 22s 68ms/step - loss: 0.0521 - accuracy: 0.9803 - val_loss: 0.2677 - val_accuracy: 0.9339\n",
            "Epoch 48/100\n",
            "329/329 [==============================] - 22s 68ms/step - loss: 0.0479 - accuracy: 0.9815 - val_loss: 0.2807 - val_accuracy: 0.9367\n",
            "Epoch 49/100\n",
            "329/329 [==============================] - 22s 68ms/step - loss: 0.0457 - accuracy: 0.9824 - val_loss: 0.2654 - val_accuracy: 0.9358\n",
            "Epoch 50/100\n",
            "329/329 [==============================] - 22s 68ms/step - loss: 0.0463 - accuracy: 0.9837 - val_loss: 0.2612 - val_accuracy: 0.9389\n",
            "Epoch 51/100\n",
            "329/329 [==============================] - 22s 68ms/step - loss: 0.0475 - accuracy: 0.9823 - val_loss: 0.2696 - val_accuracy: 0.9381\n",
            "Epoch 52/100\n",
            "329/329 [==============================] - 22s 68ms/step - loss: 0.0444 - accuracy: 0.9839 - val_loss: 0.2649 - val_accuracy: 0.9378\n",
            "Epoch 53/100\n",
            "329/329 [==============================] - 22s 68ms/step - loss: 0.0398 - accuracy: 0.9849 - val_loss: 0.2823 - val_accuracy: 0.9345\n",
            "Epoch 54/100\n",
            "329/329 [==============================] - 23s 68ms/step - loss: 0.0382 - accuracy: 0.9858 - val_loss: 0.2774 - val_accuracy: 0.9360\n",
            "Epoch 55/100\n",
            "329/329 [==============================] - 22s 68ms/step - loss: 0.0428 - accuracy: 0.9834 - val_loss: 0.2624 - val_accuracy: 0.9373\n",
            "Epoch 56/100\n",
            "329/329 [==============================] - 22s 68ms/step - loss: 0.0409 - accuracy: 0.9846 - val_loss: 0.2823 - val_accuracy: 0.9365\n",
            "Epoch 57/100\n",
            "329/329 [==============================] - 22s 68ms/step - loss: 0.0358 - accuracy: 0.9866 - val_loss: 0.3286 - val_accuracy: 0.9269\n",
            "Epoch 58/100\n",
            "329/329 [==============================] - 22s 68ms/step - loss: 0.0372 - accuracy: 0.9856 - val_loss: 0.2867 - val_accuracy: 0.9364\n",
            "Epoch 59/100\n",
            "329/329 [==============================] - 22s 68ms/step - loss: 0.0348 - accuracy: 0.9863 - val_loss: 0.3089 - val_accuracy: 0.9365\n",
            "Epoch 60/100\n",
            "329/329 [==============================] - 22s 68ms/step - loss: 0.0380 - accuracy: 0.9870 - val_loss: 0.2885 - val_accuracy: 0.9356\n",
            "Epoch 61/100\n",
            "329/329 [==============================] - 22s 68ms/step - loss: 0.0317 - accuracy: 0.9881 - val_loss: 0.2912 - val_accuracy: 0.9362\n",
            "Epoch 62/100\n",
            "329/329 [==============================] - 22s 68ms/step - loss: 0.0321 - accuracy: 0.9883 - val_loss: 0.2980 - val_accuracy: 0.9321\n",
            "Epoch 63/100\n",
            "329/329 [==============================] - 23s 69ms/step - loss: 0.0309 - accuracy: 0.9890 - val_loss: 0.3029 - val_accuracy: 0.9364\n",
            "Epoch 64/100\n",
            "329/329 [==============================] - 22s 68ms/step - loss: 0.0276 - accuracy: 0.9897 - val_loss: 0.2824 - val_accuracy: 0.9388\n",
            "Epoch 65/100\n",
            "329/329 [==============================] - 22s 68ms/step - loss: 0.0303 - accuracy: 0.9887 - val_loss: 0.3375 - val_accuracy: 0.9338\n",
            "Epoch 66/100\n",
            "329/329 [==============================] - 22s 68ms/step - loss: 0.0284 - accuracy: 0.9897 - val_loss: 0.2942 - val_accuracy: 0.9394\n",
            "Epoch 67/100\n",
            "329/329 [==============================] - 22s 68ms/step - loss: 0.0276 - accuracy: 0.9906 - val_loss: 0.3084 - val_accuracy: 0.9359\n",
            "Epoch 68/100\n",
            "329/329 [==============================] - 22s 68ms/step - loss: 0.0311 - accuracy: 0.9886 - val_loss: 0.3149 - val_accuracy: 0.9364\n",
            "Epoch 69/100\n",
            "329/329 [==============================] - 22s 68ms/step - loss: 0.0273 - accuracy: 0.9900 - val_loss: 0.2946 - val_accuracy: 0.9371\n",
            "Epoch 70/100\n",
            "329/329 [==============================] - 22s 68ms/step - loss: 0.0223 - accuracy: 0.9921 - val_loss: 0.3142 - val_accuracy: 0.9371\n",
            "Epoch 71/100\n",
            "329/329 [==============================] - 22s 68ms/step - loss: 0.0230 - accuracy: 0.9917 - val_loss: 0.3287 - val_accuracy: 0.9361\n",
            "Epoch 72/100\n",
            "329/329 [==============================] - 22s 68ms/step - loss: 0.0279 - accuracy: 0.9896 - val_loss: 0.3206 - val_accuracy: 0.9369\n",
            "Epoch 73/100\n",
            "329/329 [==============================] - 22s 68ms/step - loss: 0.0272 - accuracy: 0.9909 - val_loss: 0.3101 - val_accuracy: 0.9377\n",
            "Epoch 74/100\n",
            "329/329 [==============================] - 22s 68ms/step - loss: 0.0231 - accuracy: 0.9918 - val_loss: 0.3190 - val_accuracy: 0.9369\n",
            "Epoch 75/100\n",
            "329/329 [==============================] - 22s 68ms/step - loss: 0.0266 - accuracy: 0.9906 - val_loss: 0.3228 - val_accuracy: 0.9389\n",
            "Epoch 76/100\n",
            "329/329 [==============================] - 22s 68ms/step - loss: 0.0199 - accuracy: 0.9929 - val_loss: 0.3420 - val_accuracy: 0.9355\n",
            "Epoch 77/100\n",
            "329/329 [==============================] - 22s 68ms/step - loss: 0.0251 - accuracy: 0.9903 - val_loss: 0.3526 - val_accuracy: 0.9341\n",
            "Epoch 78/100\n",
            "329/329 [==============================] - 22s 68ms/step - loss: 0.0230 - accuracy: 0.9916 - val_loss: 0.3192 - val_accuracy: 0.9369\n",
            "Epoch 79/100\n",
            "329/329 [==============================] - 22s 68ms/step - loss: 0.0210 - accuracy: 0.9927 - val_loss: 0.3184 - val_accuracy: 0.9385\n",
            "Epoch 80/100\n",
            "329/329 [==============================] - 22s 68ms/step - loss: 0.0209 - accuracy: 0.9926 - val_loss: 0.3400 - val_accuracy: 0.9393\n",
            "Epoch 81/100\n",
            "329/329 [==============================] - 22s 68ms/step - loss: 0.0216 - accuracy: 0.9919 - val_loss: 0.3353 - val_accuracy: 0.9362\n",
            "Epoch 82/100\n",
            "329/329 [==============================] - 22s 68ms/step - loss: 0.0176 - accuracy: 0.9934 - val_loss: 0.3368 - val_accuracy: 0.9382\n",
            "Epoch 83/100\n",
            "329/329 [==============================] - 23s 68ms/step - loss: 0.0210 - accuracy: 0.9924 - val_loss: 0.3843 - val_accuracy: 0.9309\n",
            "Epoch 84/100\n",
            "329/329 [==============================] - 22s 68ms/step - loss: 0.0208 - accuracy: 0.9926 - val_loss: 0.3218 - val_accuracy: 0.9384\n",
            "Epoch 85/100\n",
            "329/329 [==============================] - 22s 68ms/step - loss: 0.0194 - accuracy: 0.9931 - val_loss: 0.3429 - val_accuracy: 0.9380\n",
            "Epoch 86/100\n",
            "329/329 [==============================] - 22s 68ms/step - loss: 0.0184 - accuracy: 0.9935 - val_loss: 0.3474 - val_accuracy: 0.9376\n",
            "Epoch 87/100\n",
            "329/329 [==============================] - 22s 68ms/step - loss: 0.0186 - accuracy: 0.9934 - val_loss: 0.3380 - val_accuracy: 0.9357\n",
            "Epoch 88/100\n",
            "329/329 [==============================] - 22s 68ms/step - loss: 0.0169 - accuracy: 0.9945 - val_loss: 0.3534 - val_accuracy: 0.9353\n",
            "Epoch 89/100\n",
            "329/329 [==============================] - 22s 68ms/step - loss: 0.0188 - accuracy: 0.9934 - val_loss: 0.3575 - val_accuracy: 0.9334\n",
            "Epoch 90/100\n",
            "329/329 [==============================] - 23s 69ms/step - loss: 0.0182 - accuracy: 0.9935 - val_loss: 0.3249 - val_accuracy: 0.9378\n",
            "Epoch 91/100\n",
            "329/329 [==============================] - 22s 68ms/step - loss: 0.0188 - accuracy: 0.9934 - val_loss: 0.3310 - val_accuracy: 0.9352\n",
            "Epoch 92/100\n",
            "329/329 [==============================] - 22s 68ms/step - loss: 0.0167 - accuracy: 0.9938 - val_loss: 0.3482 - val_accuracy: 0.9387\n",
            "Epoch 93/100\n",
            "329/329 [==============================] - 22s 68ms/step - loss: 0.0173 - accuracy: 0.9937 - val_loss: 0.3567 - val_accuracy: 0.9357\n",
            "Epoch 94/100\n",
            "329/329 [==============================] - 22s 68ms/step - loss: 0.0155 - accuracy: 0.9944 - val_loss: 0.3513 - val_accuracy: 0.9374\n",
            "Epoch 95/100\n",
            "329/329 [==============================] - 23s 69ms/step - loss: 0.0160 - accuracy: 0.9941 - val_loss: 0.3457 - val_accuracy: 0.9379\n",
            "Epoch 96/100\n",
            "329/329 [==============================] - 22s 68ms/step - loss: 0.0146 - accuracy: 0.9949 - val_loss: 0.3788 - val_accuracy: 0.9336\n",
            "Epoch 97/100\n",
            "329/329 [==============================] - 23s 68ms/step - loss: 0.0145 - accuracy: 0.9948 - val_loss: 0.3837 - val_accuracy: 0.9354\n",
            "Epoch 98/100\n",
            "329/329 [==============================] - 23s 69ms/step - loss: 0.0169 - accuracy: 0.9940 - val_loss: 0.3621 - val_accuracy: 0.9369\n",
            "Epoch 99/100\n",
            "329/329 [==============================] - 22s 68ms/step - loss: 0.0150 - accuracy: 0.9947 - val_loss: 0.3689 - val_accuracy: 0.9372\n",
            "Epoch 100/100\n",
            "329/329 [==============================] - 22s 68ms/step - loss: 0.0166 - accuracy: 0.9942 - val_loss: 0.3771 - val_accuracy: 0.9395\n"
          ],
          "name": "stdout"
        },
        {
          "output_type": "display_data",
          "data": {
            "image/png": "[encoded data removed]",
            "text/plain": [
              "<Figure size 1080x288 with 2 Axes>"
            ]
          },
          "metadata": {
            "tags": [],
            "needs_background": "light"
          }
        }
      ]
    },
    {
      "cell_type": "code",
      "metadata": {
        "colab": {
          "base_uri": "https://localhost:8080/"
        },
        "id": "l9Y6ZDYzVJb8",
        "outputId": "2431c3c0-1bff-4efe-f540-07e475948f30"
      },
      "source": [
        "test_loss, test_accuracy = model.evaluate(test_images, test_labels, steps=math.ceil(len(test_labels)/32))\n",
        "print('Accuracy on test dataset after layer specific weight regularisation:', test_accuracy)"
      ],
      "execution_count": 13,
      "outputs": [
        {
          "output_type": "stream",
          "text": [
            "313/313 [==============================] - 3s 9ms/step - loss: 0.4265 - accuracy: 0.9324\n",
            "Accuracy on test dataset after layer specific weight regularisation: 0.9323999881744385\n"
          ],
          "name": "stdout"
        }
      ]
    },
    {
      "cell_type": "markdown",
      "metadata": {
        "id": "-wkBB_vm1g1-"
      },
      "source": [
        "After using a CNN model, the accuracy over the test set increases to 0.9324"
      ]
    },
    {
      "cell_type": "markdown",
      "metadata": {
        "id": "qbhr44DnMbKZ"
      },
      "source": [
        "\n",
        "### Task 1.3 Build an input pipeline for data augmentation\n",
        "\n",
        "*(weight ~3%)*\n",
        "\n",
        "Build a data preprocessing pipeline to perform data augmentation. (You may use Keras ImageDataGenerator or write your own transformations.)\n",
        "\n",
        "- Report the new classification accuracy. Make sure that you use the same number of training epochs as in Task 1.2.\n",
        "\n",
        "- (Optional) Profile your input pipeline to identify the most time-consuming operation. What actions have you taken to address that slow operation? (*Hint: You may use the [TensorFlow Profiler](https://github.com/tensorflow/profiler).*)"
      ]
    },
    {
      "cell_type": "code",
      "metadata": {
        "id": "4YtlnztEpzUl"
      },
      "source": [
        "from tensorflow.keras.preprocessing.image import ImageDataGenerator\n",
        "\n",
        "model.set_weights(init_weights)\n",
        "\n",
        "\n",
        "train_datagen = ImageDataGenerator(\n",
        "        rotation_range=10,\n",
        "        width_shift_range=0.1,\n",
        "        height_shift_range=0.1,\n",
        "        shear_range=0.5,\n",
        "        zoom_range=(0.9, 1.1),\n",
        "        horizontal_flip=False,\n",
        "        vertical_flip=False, \n",
        "        fill_mode='constant',\n",
        "        cval=0)\n",
        "\n",
        "    \n",
        "\n",
        "history = model.fit_generator(train_datagen.flow(X_train, y_train, batch_size=128),\n",
        "                    validation_data =  (X_val,y_val),\n",
        "                    epochs=100,\n",
        "                    callbacks=[reduce_lr],\n",
        "                    shuffle=True)  "
      ],
      "execution_count": null,
      "outputs": []
    },
    {
      "cell_type": "code",
      "metadata": {
        "id": "hAk4NU_YXwK8"
      },
      "source": [
        "test_loss, test_accuracy = model.evaluate(test_images, test_labels, steps=math.ceil(len(test_labels)/32))\n",
        "print('Accuracy on test dataset after layer specific weight regularisation:', test_accuracy)"
      ],
      "execution_count": null,
      "outputs": []
    },
    {
      "cell_type": "code",
      "metadata": {
        "colab": {
          "base_uri": "https://localhost:8080/"
        },
        "id": "SPItzZz2X78z",
        "outputId": "ddd1200c-b954-47ef-b28d-90f79a1570ba"
      },
      "source": [
        "!pip install -U tensorboard_plugin_profile\n"
      ],
      "execution_count": 27,
      "outputs": [
        {
          "output_type": "stream",
          "text": [
            "Collecting tensorboard_plugin_profile\n",
            "\u001b[?25l  Downloading https://files.pythonhosted.org/packages/d1/4e/0bf160776e5dacdba5105a580aa57a2bd37c1cc4faa1bd7695d82e7d6ae7/tensorboard_plugin_profile-2.4.0-py3-none-any.whl (1.2MB)\n",
            "\u001b[K     |████████████████████████████████| 1.2MB 8.8MB/s \n",
            "\u001b[?25hCollecting gviz-api>=1.9.0\n",
            "  Downloading https://files.pythonhosted.org/packages/8c/8f/c6f16235a16b3dc4efdcf34dbc93b3b6f678b88176dbd6a36c75d678888f/gviz_api-1.9.0-py2.py3-none-any.whl\n",
            "Requirement already satisfied, skipping upgrade: six>=1.10.0 in /usr/local/lib/python3.7/dist-packages (from tensorboard_plugin_profile) (1.15.0)\n",
            "Requirement already satisfied, skipping upgrade: protobuf>=3.6.0 in /usr/local/lib/python3.7/dist-packages (from tensorboard_plugin_profile) (3.12.4)\n",
            "Requirement already satisfied, skipping upgrade: setuptools>=41.0.0 in /usr/local/lib/python3.7/dist-packages (from tensorboard_plugin_profile) (56.1.0)\n",
            "Requirement already satisfied, skipping upgrade: werkzeug>=0.11.15 in /usr/local/lib/python3.7/dist-packages (from tensorboard_plugin_profile) (1.0.1)\n",
            "Installing collected packages: gviz-api, tensorboard-plugin-profile\n",
            "Successfully installed gviz-api-1.9.0 tensorboard-plugin-profile-2.4.0\n"
          ],
          "name": "stdout"
        }
      ]
    },
    {
      "cell_type": "code",
      "metadata": {
        "colab": {
          "base_uri": "https://localhost:8080/"
        },
        "id": "DUEbMOEnYQR8",
        "outputId": "66d624ea-b73c-4f5e-f5d5-1c5daae21a1f"
      },
      "source": [
        "!rm -rf ./logs/\n",
        "\n",
        "from datetime import datetime\n",
        "import os\n",
        "\n",
        "root_logdir = \"logs\"\n",
        "run_id = datetime.now().strftime(\"%Y%m%d-%H%M%S\")\n",
        "logdir = os.path.join(root_logdir, run_id)\n",
        "\n",
        "callbacks = [\n",
        "    tf.keras.callbacks.TensorBoard(\n",
        "        log_dir=logdir,\n",
        "        histogram_freq=1,\n",
        "         write_graph=True, \n",
        "         write_images=True,\n",
        "         write_grads=True,\n",
        "         profile_batch = '500,520'\n",
        "    ),ReduceLROnPlateau(monitor='val_loss', factor=0.2,\n",
        "                              patience=3, min_lr=0.0001),\n",
        "EarlyStopping(monitor='val_loss', patience=3)\n",
        "\n",
        "]\n",
        "\n",
        "\n",
        "# reset the training\n",
        "model.set_weights(init_weights)\n",
        "\n",
        "history = model.fit(train_datagen.flow(X_train, y_train, batch_size=128),\n",
        "                    validation_data =  (X_val,y_val),\n",
        "                    epochs=100,\n",
        "                    callbacks=[callbacks],\n",
        "                    shuffle=True)  "
      ],
      "execution_count": null,
      "outputs": [
        {
          "output_type": "stream",
          "text": [
            "WARNING:tensorflow:`write_grads` will be ignored in TensorFlow 2.0 for the `TensorBoard` Callback.\n",
            "Epoch 1/100\n",
            "352/352 [==============================] - 30s 86ms/step - loss: 1.3557 - accuracy: 0.4878 - val_loss: 2.3252 - val_accuracy: 0.0987\n",
            "Epoch 2/100\n",
            "352/352 [==============================] - ETA: 0s - loss: 0.7527 - accuracy: 0.7120"
          ],
          "name": "stdout"
        }
      ]
    },
    {
      "cell_type": "code",
      "metadata": {
        "id": "AKa4t3HEYmsA"
      },
      "source": [
        "%reload_ext tensorboard\n",
        "%tensorboard --logdir=logs"
      ],
      "execution_count": null,
      "outputs": []
    },
    {
      "cell_type": "markdown",
      "metadata": {
        "id": "prctXU4BswKK"
      },
      "source": [
        "### Task 1.4 Fashion-MNIST with transfer learning\n",
        "\n",
        "*(weight ~3%)*\n",
        "\n",
        "Use a pretrained model as the convolutional base to improve the classification performance. (Hint: You may use models in Keras Applications or those in the TensorFlow Hub.)\n",
        "\n",
        "- Try both with fine-tuning and without fine-tuning.\n",
        "- Report the model performance as before.\n",
        "\n"
      ]
    },
    {
      "cell_type": "code",
      "metadata": {
        "id": "4LOg5ekrfdY-"
      },
      "source": [
        ""
      ],
      "execution_count": null,
      "outputs": []
    },
    {
      "cell_type": "code",
      "metadata": {
        "id": "9qszPeRmfdzq"
      },
      "source": [
        ""
      ],
      "execution_count": null,
      "outputs": []
    },
    {
      "cell_type": "markdown",
      "metadata": {
        "id": "UaHLKDLas_dF"
      },
      "source": [
        "### Task 1.5 Performance comparison\n",
        "\n",
        "*(weight ~3%)*\n",
        "\n",
        "How many parameters are trainable in each of the two settings (with and without fine-tuning)? How does the difference impact the training time?\n",
        "\n",
        "\n",
        "Which setting achieved higher accuracy? Why did it work better for this problem? \n",
        "\n",
        "Have we benefitted from using the pretrained model?\n"
      ]
    },
    {
      "cell_type": "markdown",
      "metadata": {
        "id": "ouK5NY-_pLDK"
      },
      "source": [
        "## Task 2 Fast training of deep networks\n",
        "\n",
        "*(weight ~20%)*"
      ]
    },
    {
      "cell_type": "markdown",
      "metadata": {
        "id": "LgoOE2W1pdfN"
      },
      "source": [
        "### Task 2.1 Train a highly accurate network for CIFAR10\n",
        "\n",
        "*(weight ~7%)*\n",
        "\n",
        "In this task, you will train deep neural networks on the [CIFAR10 dataset](https://www.cs.toronto.edu/~kriz/cifar.html). Compared with the datasets that you have worked on so far, CIFAR10 represents a relatively larger multi-class classification problem and presents a great opportunity for you to solve a \"harder\" problem.\n",
        "\n"
      ]
    },
    {
      "cell_type": "markdown",
      "metadata": {
        "id": "IaD5oqj3lhuI"
      },
      "source": [
        "#### Task 2.1.1 Document the hardware used\n",
        "\n",
        "Before you start, write down your hardware specifications, including \n",
        "\n",
        "- the GPU model, the number of GPUs, and the GPU memory\n",
        "- the CPU model, the number of CPUs, and the CPU clock speed\n",
        "\n",
        "(Hint: you may find commands like `nvidia-smi`, `lscpu` or `psutil` useful.)"
      ]
    },
    {
      "cell_type": "code",
      "metadata": {
        "id": "FkGuv1zAavu2"
      },
      "source": [
        "print(tf.__version__)\n",
        "print(keras.__version__)\n",
        "if 'COLAB_TPU_ADDR' in os.environ: \n",
        "    print('Connected to TPU') \n",
        "elif tf.test.gpu_device_name() is not '': \n",
        "    print('Connected to GPU ' + tf.test.gpu_device_name())\n",
        "else:\n",
        "    print('Neither connected to a TPU nor a GPU')\n",
        "\n",
        "gpu_info = !nvidia-smi\n",
        "gpu_info = '\\n'.join(gpu_info)\n",
        "if gpu_info.find('failed') >= 0:\n",
        "    print('Select the Runtime → \"Change runtime type\" menu to enable a GPU accelerator, ')\n",
        "    print('and then re-execute this cell.')\n",
        "else:\n",
        "    print(gpu_info)"
      ],
      "execution_count": null,
      "outputs": []
    },
    {
      "cell_type": "markdown",
      "metadata": {
        "id": "adN9Tq-6lyG-"
      },
      "source": [
        "#### Task 2.1.2 Train a \"shallow\" ConvNet\n",
        "\n",
        "Build a ConvNet with fewer than 10 layers. Train the network until it converges. You will use this network as a baseline for the later experiments. \n",
        "\n",
        "- Plot the training and validation history. \n",
        "- Report the testing accuracy. "
      ]
    },
    {
      "cell_type": "markdown",
      "metadata": {
        "id": "9NTjVIUkmv7S"
      },
      "source": [
        "#### Task 2.1.3 Train a ResNet\n",
        "\n",
        "Train a residual neural network (ResNet) on the CIFAR10 training data and report the test accuracy and the training time.\n",
        "\n",
        "The ResNet is a popular network architecture for image classification. You may find more information about how ResNet works by reading this [paper](https://arxiv.org/abs/1512.03385).\n",
        "\n",
        "\n",
        "*(You may implement a resnet model or use an existing implementation. In either case, you should not use pretrained network weights.)*"
      ]
    },
    {
      "cell_type": "markdown",
      "metadata": {
        "id": "AH6ZBiECzS75"
      },
      "source": [
        "### Task 2.2 Fast training of ResNet\n",
        "\n",
        "*(weight ~10%)*\n",
        "\n",
        "In this task, you will experiment with different ways to reduce the time for training your ResNet on CIFAR10. There are different ways to speed up neural network training; below are two ideas. Please select at least one idea to implement. Explain the experiment steps and report the final performance and training time.\n",
        "\n",
        "#### Option 1. Learning rate schedule\n",
        "\n",
        "Use a learning rate schedule for the training. Some popular learning rate schedules include \n",
        "\n",
        "- the Step Decay learning rate (e.g., see [here](https://github.com/kuangliu/pytorch-cifar))\n",
        "- [Cyclical learning rates](https://arxiv.org/abs/1506.01186)\n",
        "- [The exponential learning rate](https://openreview.net/forum?id=rJg8TeSFDH) \n",
        "\n",
        "Also, Keras provides [some convenient functions](https://www.tensorflow.org/api_docs/python/tf/keras/optimizers/schedules) that you can use.\n",
        "\n",
        "\n",
        "#### Option 2. Look ahead optimiser\n",
        "\n",
        "Read [this paper](https://arxiv.org/abs/1907.08610) and implement the Lookahead optimiser."
      ]
    },
    {
      "cell_type": "markdown",
      "metadata": {
        "id": "C8cKfAOjpn7c"
      },
      "source": [
        "### Task 2.3 Performance comparison\n",
        "\n",
        "*(weight ~3%)*\n",
        "\n",
        "Based on the above experiments, which method or which combination of methods result in the best accuracy with the same training time."
      ]
    },
    {
      "cell_type": "markdown",
      "metadata": {
        "id": "eWQm8ZfBxDH9"
      },
      "source": [
        "## Task 3 (**HD level task**) Research on new models\n",
        "*(weight ~10%)*\n",
        "\n",
        "Today, ResNet has become a very mature ConvNet architecture. In this task, you will research one recent ConvNet architecture. You may choose an architecture from the reference list below.\n",
        "\n",
        "Write a short report for your research, covering these points:\n",
        "\n",
        "- Identify the main issues that your chosen architecture aims to address. (For example, does it try to reduce the number of parameters or to speed up the training?)\n",
        "- What measures the architecture used to reduce the number of parameters, or reducing the training cost, or improving the model performance?\n",
        "\n",
        "Implement the architecture and compare its performance on CIFAR10 with ResNet. You may include your implementation, experiments, and analyses here in this notebook.\n",
        "\n",
        "**References**:\n",
        "\n",
        "1. Huang G, Liu Z, Van Der Maaten L, Weinberger KQ. *Densely connected convolutional networks*. In Proceedings of the IEEE conference on computer vision and pattern recognition 2017 (pp. 4700-4708).\n",
        "2. Zhang X, Zhou X, Lin M, Sun J. *Shufflenet: An extremely efficient convolutional neural network for mobile devices*. In Proceedings of the IEEE conference on computer vision and pattern recognition 2018 (pp. 6848-6856).\n",
        "3. Tan M, Le Q. *Efficientnet: Rethinking model scaling for convolutional neural networks*. In International Conference on Machine Learning 2019 May 24 (pp. 6105-6114). PMLR.\n",
        "4. Hu J, Shen L, Sun G. *Squeeze-and-excitation networks*. In Proceedings of the IEEE conference on computer vision and pattern recognition 2018 (pp. 7132-7141).\n"
      ]
    },
    {
      "cell_type": "markdown",
      "metadata": {
        "id": "hUV0wuZ01DNA"
      },
      "source": [
        "---\n",
        "**END OF ASSIGNMENT TWO**"
      ]
    }
  ]
}