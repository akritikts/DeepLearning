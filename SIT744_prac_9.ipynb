{
  "nbformat": 4,
  "nbformat_minor": 0,
  "metadata": {
    "colab": {
      "name": "SIT744_prac_9.ipynb",
      "provenance": [],
      "collapsed_sections": [],
      "toc_visible": true,
      "machine_shape": "hm"
    },
    "kernelspec": {
      "name": "python3",
      "display_name": "Python 3"
    },
    "accelerator": "GPU"
  },
  "cells": [
    {
      "cell_type": "markdown",
      "metadata": {
        "id": "J0PWKlbt6_dm",
        "colab_type": "text"
      },
      "source": [
        "# SIT744 Practical 9: ResNet\n",
        " \n",
        "\n",
        "*Dr Wei Luo*"
      ]
    },
    {
      "cell_type": "markdown",
      "metadata": {
        "id": "0JEtYNgr7JuP",
        "colab_type": "text"
      },
      "source": [
        "<div class=\"alert alert-info\">\n",
        "We suggest that you run this notebook using Google Colab.\n",
        "</div>\n",
        "\n",
        "\n",
        "## Pre-practical readings\n",
        "\n",
        "- [Writing custom layers and models with Keras](https://www.tensorflow.org/guide/keras/custom_layers_and_models)\n",
        "\n",
        "By now you should be familiar with the classical ConvNet architectures. In this practical, you will practice building deep models with more layers using residual units.\n"
      ]
    },
    {
      "cell_type": "markdown",
      "metadata": {
        "id": "4wqb8r86pD1W",
        "colab_type": "text"
      },
      "source": [
        "\n",
        "## Task 1 Keras ImageDataGenerator\n",
        "\n",
        "We will continue using the *cats vs dogs* dataset in this practical. This time, we will be more serious about data augmentation by using Keras's `ImageDataGenerator`. This allows us to use a variety of predefined types of data augmentation. For this to work, we have to organise training and test images into folders.\n"
      ]
    },
    {
      "cell_type": "code",
      "metadata": {
        "id": "7FXupORbRg5C",
        "colab_type": "code",
        "outputId": "712bf0fc-2abc-4a1f-edf7-065df922234f",
        "colab": {
          "base_uri": "https://localhost:8080/",
          "height": 204
        }
      },
      "source": [
        "!wget --no-check-certificate \\\n",
        "    https://storage.googleapis.com/mledu-datasets/cats_and_dogs_filtered.zip \\\n",
        "    -O /tmp/cats_and_dogs_filtered.zip\n",
        "\n",
        "import os\n",
        "import zipfile\n",
        "import tensorflow as tf\n",
        "from tensorflow import keras\n",
        "from tensorflow.keras.preprocessing.image import ImageDataGenerator\n",
        "\n",
        "local_zip = '/tmp/cats_and_dogs_filtered.zip'\n",
        "zip_ref = zipfile.ZipFile(local_zip, 'r')\n",
        "zip_ref.extractall('/tmp')\n",
        "zip_ref.close()\n",
        "\n",
        "\n",
        "\n"
      ],
      "execution_count": 0,
      "outputs": [
        {
          "output_type": "stream",
          "text": [
            "--2020-05-08 02:34:18--  https://storage.googleapis.com/mledu-datasets/cats_and_dogs_filtered.zip\n",
            "Resolving storage.googleapis.com (storage.googleapis.com)... 172.217.204.128, 2607:f8b0:400c:c07::80\n",
            "Connecting to storage.googleapis.com (storage.googleapis.com)|172.217.204.128|:443... connected.\n",
            "HTTP request sent, awaiting response... 200 OK\n",
            "Length: 68606236 (65M) [application/zip]\n",
            "Saving to: ‘/tmp/cats_and_dogs_filtered.zip’\n",
            "\n",
            "/tmp/cats_and_dogs_ 100%[===================>]  65.43M   108MB/s    in 0.6s    \n",
            "\n",
            "2020-05-08 02:34:19 (108 MB/s) - ‘/tmp/cats_and_dogs_filtered.zip’ saved [68606236/68606236]\n",
            "\n"
          ],
          "name": "stdout"
        }
      ]
    },
    {
      "cell_type": "markdown",
      "metadata": {
        "id": "w1bzLlk-afVj",
        "colab_type": "text"
      },
      "source": [
        "Take a look into the folder `/tmp/cats_and_dogs_filtered` and see how the images are organised."
      ]
    },
    {
      "cell_type": "code",
      "metadata": {
        "id": "KyMjnV8Taenb",
        "colab_type": "code",
        "colab": {}
      },
      "source": [
        "base_dir = '/tmp/cats_and_dogs_filtered'\n",
        "train_dir = os.path.join(base_dir, 'train')\n",
        "validation_dir = os.path.join(base_dir, 'validation')\n",
        "\n",
        "# Directory with our training cat pictures\n",
        "train_cats_dir = os.path.join(train_dir, 'cats')\n",
        "\n",
        "# Directory with our training dog pictures\n",
        "train_dogs_dir = os.path.join(train_dir, 'dogs')\n",
        "\n",
        "# Directory with our validation cat pictures\n",
        "validation_cats_dir = os.path.join(validation_dir, 'cats')\n",
        "\n",
        "# Directory with our validation dog pictures\n",
        "validation_dogs_dir = os.path.join(validation_dir, 'dogs')"
      ],
      "execution_count": 0,
      "outputs": []
    },
    {
      "cell_type": "markdown",
      "metadata": {
        "id": "e6J5pJG8aJV4",
        "colab_type": "text"
      },
      "source": [
        "`ImageDataGenerator` contains a collection of data augmentation operations. It works with the function `flow_from_directory` to create an input pipeline."
      ]
    },
    {
      "cell_type": "code",
      "metadata": {
        "id": "fnZDg0voR3IZ",
        "colab_type": "code",
        "outputId": "3f41547d-f689-46fc-9a17-d318b0fd9111",
        "colab": {
          "base_uri": "https://localhost:8080/",
          "height": 51
        }
      },
      "source": [
        "from tensorflow.keras.preprocessing.image import ImageDataGenerator\n",
        "\n",
        "# All images will be rescaled by 1./255\n",
        "train_datagen = ImageDataGenerator(\n",
        "    rescale=1./255,\n",
        "    rotation_range=40,\n",
        "    width_shift_range=0.2,\n",
        "    height_shift_range=0.2,\n",
        "    shear_range=0.2,\n",
        "    zoom_range=0.2,\n",
        "    horizontal_flip=True,\n",
        "    fill_mode='nearest')\n",
        "\n",
        "test_datagen = ImageDataGenerator(rescale=1./255)\n",
        "\n",
        "IMAGE_SIZE = 100\n",
        "BATCH_SIZE = 32\n",
        "\n",
        "# Flow training images in batches of 20 using train_datagen generator\n",
        "train_generator = train_datagen.flow_from_directory(\n",
        "        train_dir,  # This is the source directory for training images\n",
        "        target_size=(IMAGE_SIZE, IMAGE_SIZE),  # All images will be resized to 150x150\n",
        "        batch_size=BATCH_SIZE,\n",
        "        # Since we use binary_crossentropy loss, we need binary labels\n",
        "        class_mode='binary')\n",
        "\n",
        "# Flow validation images in batches of 20 using test_datagen generator\n",
        "validation_generator = test_datagen.flow_from_directory(\n",
        "        validation_dir,\n",
        "        target_size=(IMAGE_SIZE, IMAGE_SIZE),\n",
        "        batch_size=BATCH_SIZE,\n",
        "        class_mode='binary')\n"
      ],
      "execution_count": 0,
      "outputs": [
        {
          "output_type": "stream",
          "text": [
            "Found 2000 images belonging to 2 classes.\n",
            "Found 1000 images belonging to 2 classes.\n"
          ],
          "name": "stdout"
        }
      ]
    },
    {
      "cell_type": "markdown",
      "metadata": {
        "id": "Zkjlk8pmpK_k",
        "colab_type": "text"
      },
      "source": [
        "**exercise** Read the documentation for `ImageDataGenerator` and understand what data-augmentation operations are defined. Experiment with different configurations and see what each data augmentation does.\n"
      ]
    },
    {
      "cell_type": "markdown",
      "metadata": {
        "id": "d47yNCI0O2k1",
        "colab_type": "text"
      },
      "source": [
        "## Task 2 ResNet\n",
        "\n",
        "We have seen VGG in the last two weeks. VGG has a very classical ConvNet architecture. Compared with VGG, ResNets can go much deeper, achieve a much higher classification accuracy, and is easier to train. Moreover, ResNets have a surprisingly simple architecture. At the centre is a repetition of multiple **residual units**.\n",
        "\n",
        "A ResNet contains two types of residual units, depending on whether subsampling happens (stride>1).\n",
        "![Residual units (src: d2l)](https://d2l.ai/_images/resnet-block.svg)\n",
        "\n",
        "Subsampling happens at the first of the two convolutional layers. When the first convolutional layer has stride 1, the skip connection is just a pass-through. Otherwise, the skip connection is replaced with a 1x1 convolution layer of the matching stride setting (Note that this is no longer an identity mapping).\n"
      ]
    },
    {
      "cell_type": "markdown",
      "metadata": {
        "id": "9VsOm32DdDIj",
        "colab_type": "text"
      },
      "source": [
        "### Write custom layers\n",
        "\n",
        "Here we define a ResidualUnit layer subclassing `keras.layers.Layer`. A layer defines a transformation from the input to the output, parametrised by the layer weights."
      ]
    },
    {
      "cell_type": "code",
      "metadata": {
        "id": "2EeyhUODXKZ3",
        "colab_type": "code",
        "colab": {}
      },
      "source": [
        "from functools import partial\n",
        "\n",
        "DefaultConv2D = partial(keras.layers.Conv2D, kernel_size=3, strides=1,\n",
        "                        padding=\"SAME\", \n",
        "                        use_bias=False,\n",
        "                        kernel_regularizer=keras.regularizers.l2(0.01)\n",
        "                        )\n",
        "\n",
        "class ResidualUnit(keras.layers.Layer):\n",
        "    def __init__(self, filters, strides=1, activation=\"relu\", **kwargs):\n",
        "        super().__init__(**kwargs)\n",
        "        self.activation = keras.activations.get(activation)\n",
        "        self.main_layers = [\n",
        "            DefaultConv2D(filters, strides=strides),\n",
        "            keras.layers.BatchNormalization(),\n",
        "            self.activation,\n",
        "            DefaultConv2D(filters),\n",
        "            keras.layers.BatchNormalization()]\n",
        "        self.skip_layers = []\n",
        "        if strides > 1:\n",
        "            self.skip_layers = [\n",
        "                DefaultConv2D(filters, kernel_size=1, strides=strides),\n",
        "                keras.layers.BatchNormalization()]\n",
        "\n",
        "    def call(self, inputs):\n",
        "        Z = inputs\n",
        "        for layer in self.main_layers:\n",
        "            Z = layer(Z)\n",
        "        skip_Z = inputs\n",
        "        for layer in self.skip_layers:\n",
        "            skip_Z = layer(skip_Z)\n",
        "        return self.activation(Z + skip_Z)"
      ],
      "execution_count": 0,
      "outputs": []
    },
    {
      "cell_type": "markdown",
      "metadata": {
        "id": "aBEpF5H9dJRn",
        "colab_type": "text"
      },
      "source": [
        "### Write the custom model\n",
        "\n",
        "Now we have a custom layer for the residual unit. We will build a relatively shallow ResNet."
      ]
    },
    {
      "cell_type": "code",
      "metadata": {
        "id": "k9suim5fXM83",
        "colab_type": "code",
        "outputId": "21acd735-2591-4d84-f720-cdb5995a38dd",
        "colab": {
          "base_uri": "https://localhost:8080/",
          "height": 425
        }
      },
      "source": [
        "model = keras.models.Sequential()\n",
        "\n",
        "prev_filters = 64\n",
        "c = [prev_filters, 2*prev_filters, 4*prev_filters, 4*prev_filters]\n",
        "model.add(DefaultConv2D(c[0], \n",
        "                        input_shape=[IMAGE_SIZE, IMAGE_SIZE, 3]))\n",
        "model.add(ResidualUnit(c[0], strides=1))\n",
        "model.add(ResidualUnit(c[1], strides=2))\n",
        "model.add(ResidualUnit(c[2], strides=2))\n",
        "model.add(ResidualUnit(c[3], strides=2))\n",
        "model.add(keras.layers.MaxPool2D(pool_size=(4, 4)))\n",
        "model.add(keras.layers.Flatten())\n",
        "model.add(keras.layers.Dense(1, activation=\"sigmoid\"))\n",
        "\n",
        "\n",
        "model.summary()"
      ],
      "execution_count": 0,
      "outputs": [
        {
          "output_type": "stream",
          "text": [
            "Model: \"sequential\"\n",
            "_________________________________________________________________\n",
            "Layer (type)                 Output Shape              Param #   \n",
            "=================================================================\n",
            "conv2d (Conv2D)              (None, 100, 100, 64)      1728      \n",
            "_________________________________________________________________\n",
            "residual_unit (ResidualUnit) (None, 100, 100, 64)      74240     \n",
            "_________________________________________________________________\n",
            "residual_unit_1 (ResidualUni (None, 50, 50, 128)       230912    \n",
            "_________________________________________________________________\n",
            "residual_unit_2 (ResidualUni (None, 25, 25, 256)       920576    \n",
            "_________________________________________________________________\n",
            "residual_unit_3 (ResidualUni (None, 13, 13, 256)       1248256   \n",
            "_________________________________________________________________\n",
            "max_pooling2d (MaxPooling2D) (None, 3, 3, 256)         0         \n",
            "_________________________________________________________________\n",
            "flatten (Flatten)            (None, 2304)              0         \n",
            "_________________________________________________________________\n",
            "dense (Dense)                (None, 1)                 2305      \n",
            "=================================================================\n",
            "Total params: 2,478,017\n",
            "Trainable params: 2,473,921\n",
            "Non-trainable params: 4,096\n",
            "_________________________________________________________________\n"
          ],
          "name": "stdout"
        }
      ]
    },
    {
      "cell_type": "markdown",
      "metadata": {
        "id": "i_Xew-RYdnCn",
        "colab_type": "text"
      },
      "source": [
        "### Train the model\n",
        "\n",
        "Training will be just like for any Keras model. Because our input data is from a Keras input pipeline (generator), we have to specify how many steps per epoch.  "
      ]
    },
    {
      "cell_type": "code",
      "metadata": {
        "id": "M5vihjXRMOus",
        "colab_type": "code",
        "outputId": "916b1963-b2a1-4bac-b094-312ba979a2f8",
        "colab": {
          "base_uri": "https://localhost:8080/",
          "height": 1000
        }
      },
      "source": [
        "%%time \n",
        "\n",
        "from tensorflow.keras import optimizers\n",
        "\n",
        "model.compile(loss='binary_crossentropy',\n",
        "              optimizer=optimizers.RMSprop(lr=1e-4),\n",
        "              metrics=['acc'])\n",
        "\n",
        "\n",
        "history = model.fit(\n",
        "    train_generator,\n",
        "    steps_per_epoch=100,\n",
        "    epochs=30,\n",
        "    validation_data=validation_generator,\n",
        "    validation_steps=50)"
      ],
      "execution_count": 0,
      "outputs": [
        {
          "output_type": "stream",
          "text": [
            "Epoch 1/30\n",
            "100/100 [==============================] - 33s 331ms/step - loss: 18.4898 - acc: 0.5685 - val_loss: 18.0816 - val_acc: 0.5025\n",
            "Epoch 2/30\n",
            "100/100 [==============================] - 31s 314ms/step - loss: 17.7326 - acc: 0.6285 - val_loss: 17.6064 - val_acc: 0.4929\n",
            "Epoch 3/30\n",
            "100/100 [==============================] - 32s 317ms/step - loss: 16.9715 - acc: 0.6454 - val_loss: 16.5989 - val_acc: 0.5495\n",
            "Epoch 4/30\n",
            "100/100 [==============================] - 31s 314ms/step - loss: 16.1760 - acc: 0.6515 - val_loss: 16.1210 - val_acc: 0.5161\n",
            "Epoch 5/30\n",
            "100/100 [==============================] - 32s 316ms/step - loss: 15.2930 - acc: 0.6680 - val_loss: 14.8053 - val_acc: 0.6707\n",
            "Epoch 6/30\n",
            "100/100 [==============================] - 31s 313ms/step - loss: 14.3371 - acc: 0.6834 - val_loss: 13.8564 - val_acc: 0.6888\n",
            "Epoch 7/30\n",
            "100/100 [==============================] - 31s 314ms/step - loss: 13.3648 - acc: 0.6948 - val_loss: 12.8956 - val_acc: 0.6965\n",
            "Epoch 8/30\n",
            "100/100 [==============================] - 32s 316ms/step - loss: 12.3963 - acc: 0.6976 - val_loss: 11.8987 - val_acc: 0.7081\n",
            "Epoch 9/30\n",
            "100/100 [==============================] - 31s 314ms/step - loss: 11.4369 - acc: 0.7008 - val_loss: 11.0315 - val_acc: 0.6759\n",
            "Epoch 10/30\n",
            "100/100 [==============================] - 31s 315ms/step - loss: 10.5346 - acc: 0.7126 - val_loss: 10.0586 - val_acc: 0.7500\n",
            "Epoch 11/30\n",
            "100/100 [==============================] - 31s 315ms/step - loss: 9.6636 - acc: 0.7377 - val_loss: 9.2446 - val_acc: 0.7506\n",
            "Epoch 12/30\n",
            "100/100 [==============================] - 31s 315ms/step - loss: 8.8999 - acc: 0.7244 - val_loss: 9.0928 - val_acc: 0.5258\n",
            "Epoch 13/30\n",
            "100/100 [==============================] - 31s 315ms/step - loss: 8.1961 - acc: 0.7239 - val_loss: 7.8472 - val_acc: 0.7335\n",
            "Epoch 14/30\n",
            "100/100 [==============================] - 31s 313ms/step - loss: 7.5415 - acc: 0.7323 - val_loss: 7.3051 - val_acc: 0.6952\n",
            "Epoch 15/30\n",
            "100/100 [==============================] - 32s 316ms/step - loss: 6.9642 - acc: 0.7396 - val_loss: 6.7008 - val_acc: 0.7297\n",
            "Epoch 16/30\n",
            "100/100 [==============================] - 31s 314ms/step - loss: 6.4354 - acc: 0.7431 - val_loss: 6.1989 - val_acc: 0.7390\n",
            "Epoch 17/30\n",
            "100/100 [==============================] - 31s 314ms/step - loss: 5.9671 - acc: 0.7469 - val_loss: 6.1822 - val_acc: 0.5767\n",
            "Epoch 18/30\n",
            "100/100 [==============================] - 32s 316ms/step - loss: 5.5485 - acc: 0.7468 - val_loss: 5.3797 - val_acc: 0.7221\n",
            "Epoch 19/30\n",
            "100/100 [==============================] - 31s 314ms/step - loss: 5.1759 - acc: 0.7449 - val_loss: 4.9947 - val_acc: 0.7384\n",
            "Epoch 20/30\n",
            "100/100 [==============================] - 32s 318ms/step - loss: 4.7944 - acc: 0.7692 - val_loss: 4.6520 - val_acc: 0.7462\n",
            "Epoch 21/30\n",
            "100/100 [==============================] - 31s 315ms/step - loss: 4.5142 - acc: 0.7487 - val_loss: 4.3968 - val_acc: 0.7307\n",
            "Epoch 22/30\n",
            "100/100 [==============================] - 32s 316ms/step - loss: 4.2278 - acc: 0.7491 - val_loss: 4.1517 - val_acc: 0.7184\n",
            "Epoch 23/30\n",
            "100/100 [==============================] - 31s 314ms/step - loss: 3.9501 - acc: 0.7652 - val_loss: 3.8521 - val_acc: 0.7411\n",
            "Epoch 24/30\n",
            "100/100 [==============================] - 31s 314ms/step - loss: 3.7398 - acc: 0.7579 - val_loss: 3.6442 - val_acc: 0.7461\n",
            "Epoch 25/30\n",
            "100/100 [==============================] - 32s 315ms/step - loss: 3.5226 - acc: 0.7682 - val_loss: 3.4489 - val_acc: 0.7703\n",
            "Epoch 26/30\n",
            "100/100 [==============================] - 31s 314ms/step - loss: 3.3098 - acc: 0.7775 - val_loss: 3.3650 - val_acc: 0.7165\n",
            "Epoch 27/30\n",
            "100/100 [==============================] - 31s 315ms/step - loss: 3.1566 - acc: 0.7736 - val_loss: 3.1600 - val_acc: 0.7300\n",
            "Epoch 28/30\n",
            "100/100 [==============================] - 31s 315ms/step - loss: 3.0021 - acc: 0.7768 - val_loss: 2.9451 - val_acc: 0.7589\n",
            "Epoch 29/30\n",
            "100/100 [==============================] - 31s 314ms/step - loss: 2.8331 - acc: 0.7882 - val_loss: 2.8532 - val_acc: 0.7397\n",
            "Epoch 30/30\n",
            "100/100 [==============================] - 32s 315ms/step - loss: 2.7157 - acc: 0.7710 - val_loss: 2.7677 - val_acc: 0.7049\n",
            "CPU times: user 18min 59s, sys: 3min 9s, total: 22min 8s\n",
            "Wall time: 15min 58s\n"
          ],
          "name": "stdout"
        }
      ]
    },
    {
      "cell_type": "code",
      "metadata": {
        "id": "-hvlD8HEp1lo",
        "colab_type": "code",
        "outputId": "043cb0d7-5e71-44d1-a706-a1c6afe1dda9",
        "colab": {
          "base_uri": "https://localhost:8080/",
          "height": 573
        }
      },
      "source": [
        "import matplotlib.pyplot as plt\n",
        "\n",
        "# Plot training & validation accuracy values\n",
        "plt.plot(history.history['acc'])\n",
        "plt.plot(history.history['val_acc'])\n",
        "plt.title('Model accuracy')\n",
        "plt.ylabel('Accuracy')\n",
        "plt.xlabel('Epoch')\n",
        "plt.legend(['Train', 'Test'], loc='upper left')\n",
        "plt.show()\n",
        "\n",
        "# Plot training & validation loss values\n",
        "plt.plot(history.history['loss'])\n",
        "plt.plot(history.history['val_loss'])\n",
        "plt.title('Model loss')\n",
        "plt.ylabel('Loss')\n",
        "plt.xlabel('Epoch')\n",
        "plt.legend(['Train', 'Test'], loc='upper left')\n",
        "plt.show()"
      ],
      "execution_count": 0,
      "outputs": [
        {
          "output_type": "display_data",
          "data": {
            "image/png": "[encoded data removed]",
            "text/plain": [
              "<Figure size 432x288 with 1 Axes>"
            ]
          },
          "metadata": {
            "tags": [],
            "needs_background": "light"
          }
        },
        {
          "output_type": "display_data",
          "data": {
            "image/png": "[encoded data removed]",
            "text/plain": [
              "<Figure size 432x288 with 1 Axes>"
            ]
          },
          "metadata": {
            "tags": [],
            "needs_background": "light"
          }
        }
      ]
    },
    {
      "cell_type": "markdown",
      "metadata": {
        "id": "lP_UX2Xad1AJ",
        "colab_type": "text"
      },
      "source": [
        "**exercise** Try a different batch size. See if it affects the model performance and the training speed."
      ]
    },
    {
      "cell_type": "markdown",
      "metadata": {
        "id": "Er9FnWFmSHx3",
        "colab_type": "text"
      },
      "source": [
        "## Task 3 Depth Separable Convolution\n",
        "\n",
        "In the lecture, we see that Depth Separable Convolution can be used to reduce the number of training parameters. We will explore the potential benefit of using depth separable convolution layers in a residual unit."
      ]
    },
    {
      "cell_type": "code",
      "metadata": {
        "id": "PDfHpuj-SMFU",
        "colab_type": "code",
        "colab": {}
      },
      "source": [
        "from functools import partial\n",
        "\n",
        "DefaultConv2D = partial(keras.layers.Conv2D, kernel_size=3, strides=1,\n",
        "                        padding=\"SAME\", \n",
        "                        use_bias=False,\n",
        "                        kernel_regularizer=keras.regularizers.l2(0.01)\n",
        "                        )\n",
        "\n",
        "DefaultSeparableConv2D = partial(keras.layers.SeparableConv2D, kernel_size=3, strides=1,\n",
        "                                 padding=\"SAME\", \n",
        "                                 use_bias=False,\n",
        "                                 kernel_regularizer=keras.regularizers.l2(0.01))\n",
        "\n",
        "class DepthwiseResidualUnit(keras.layers.Layer):\n",
        "    def __init__(self, filters, strides=1, activation=\"relu\", **kwargs):\n",
        "        super().__init__(**kwargs)\n",
        "        self.activation = keras.activations.get(activation)\n",
        "        self.main_layers = [\n",
        "            DefaultSeparableConv2D(filters, strides=strides),\n",
        "            keras.layers.BatchNormalization(),\n",
        "            self.activation,\n",
        "            DefaultSeparableConv2D(filters),\n",
        "            keras.layers.BatchNormalization()]\n",
        "        self.skip_layers = []\n",
        "        if strides > 1:\n",
        "            self.skip_layers = [\n",
        "                DefaultConv2D(filters, kernel_size=1, strides=strides),\n",
        "                keras.layers.BatchNormalization()]\n",
        "\n",
        "    def call(self, inputs):\n",
        "        Z = inputs\n",
        "        for layer in self.main_layers:\n",
        "            Z = layer(Z)\n",
        "        skip_Z = inputs\n",
        "        for layer in self.skip_layers:\n",
        "            skip_Z = layer(skip_Z)\n",
        "        return self.activation(Z + skip_Z)\n",
        "\n",
        "model = keras.models.Sequential()\n",
        "\n",
        "prev_filters = 64\n",
        "c = [prev_filters, 2*prev_filters, 4*prev_filters, 4*prev_filters]\n",
        "model.add(DefaultConv2D(c[0], \n",
        "                        input_shape=[IMAGE_SIZE, IMAGE_SIZE, 3]))\n",
        "model.add(DepthwiseResidualUnit(c[0], strides=1))\n",
        "model.add(DepthwiseResidualUnit(c[1], strides=2))\n",
        "model.add(DepthwiseResidualUnit(c[2], strides=2))\n",
        "model.add(DepthwiseResidualUnit(c[3], strides=2))\n",
        "model.add(keras.layers.MaxPool2D(pool_size=(4, 4)))\n",
        "model.add(keras.layers.Flatten())\n",
        "model.add(keras.layers.Dense(1, activation=\"sigmoid\"))\n",
        "\n"
      ],
      "execution_count": 0,
      "outputs": []
    },
    {
      "cell_type": "code",
      "metadata": {
        "id": "Z3BGKdcpYazF",
        "colab_type": "code",
        "outputId": "18d11331-03de-4772-bf1f-0cf1d01ec6c6",
        "colab": {
          "base_uri": "https://localhost:8080/",
          "height": 425
        }
      },
      "source": [
        "model.summary()"
      ],
      "execution_count": 0,
      "outputs": [
        {
          "output_type": "stream",
          "text": [
            "Model: \"sequential_15\"\n",
            "_________________________________________________________________\n",
            "Layer (type)                 Output Shape              Param #   \n",
            "=================================================================\n",
            "conv2d_147 (Conv2D)          (None, 100, 100, 64)      1728      \n",
            "_________________________________________________________________\n",
            "depthwise_residual_unit_3 (D (None, 100, 100, 64)      9856      \n",
            "_________________________________________________________________\n",
            "depthwise_residual_unit_4 (D (None, 50, 50, 128)       36032     \n",
            "_________________________________________________________________\n",
            "depthwise_residual_unit_5 (D (None, 25, 25, 256)       137600    \n",
            "_________________________________________________________________\n",
            "depthwise_residual_unit_6 (D (None, 13, 13, 256)       204288    \n",
            "_________________________________________________________________\n",
            "max_pooling2d_12 (MaxPooling (None, 3, 3, 256)         0         \n",
            "_________________________________________________________________\n",
            "flatten_12 (Flatten)         (None, 2304)              0         \n",
            "_________________________________________________________________\n",
            "dense_12 (Dense)             (None, 1)                 2305      \n",
            "=================================================================\n",
            "Total params: 391,809\n",
            "Trainable params: 387,713\n",
            "Non-trainable params: 4,096\n",
            "_________________________________________________________________\n"
          ],
          "name": "stdout"
        }
      ]
    },
    {
      "cell_type": "markdown",
      "metadata": {
        "id": "CqHcbm0mY9lg",
        "colab_type": "text"
      },
      "source": [
        "**question** How does the number of parameters change with the introduction of separable convolution layers?"
      ]
    },
    {
      "cell_type": "code",
      "metadata": {
        "id": "oEs4y243WTk8",
        "colab_type": "code",
        "outputId": "beb03bf7-31a6-4e5a-e256-8f16b81c29fc",
        "colab": {
          "base_uri": "https://localhost:8080/",
          "height": 1000
        }
      },
      "source": [
        "%%time \n",
        "\n",
        "from tensorflow.keras import optimizers\n",
        "\n",
        "model.compile(loss='binary_crossentropy',\n",
        "              optimizer=optimizers.RMSprop(lr=1e-4),\n",
        "              metrics=['acc'])\n",
        "\n",
        "\n",
        "history = model.fit(\n",
        "    train_generator,\n",
        "    steps_per_epoch=100,\n",
        "    epochs=30,\n",
        "    validation_data=validation_generator,\n",
        "    validation_steps=50)"
      ],
      "execution_count": 0,
      "outputs": [
        {
          "output_type": "stream",
          "text": [
            "Epoch 1/30\n",
            "100/100 [==============================] - 35s 352ms/step - loss: 5.8376 - acc: 0.5792 - val_loss: 5.6987 - val_acc: 0.4961\n",
            "Epoch 2/30\n",
            "100/100 [==============================] - 34s 340ms/step - loss: 5.5966 - acc: 0.6212 - val_loss: 5.5073 - val_acc: 0.5019\n",
            "Epoch 3/30\n",
            "100/100 [==============================] - 34s 344ms/step - loss: 5.3827 - acc: 0.6367 - val_loss: 5.3182 - val_acc: 0.4949\n",
            "Epoch 4/30\n",
            "100/100 [==============================] - 34s 343ms/step - loss: 5.1690 - acc: 0.6633 - val_loss: 5.1385 - val_acc: 0.4942\n",
            "Epoch 5/30\n",
            "100/100 [==============================] - 34s 345ms/step - loss: 4.9772 - acc: 0.6755 - val_loss: 5.0312 - val_acc: 0.5057\n",
            "Epoch 6/30\n",
            "100/100 [==============================] - 34s 344ms/step - loss: 4.8043 - acc: 0.6742 - val_loss: 4.8503 - val_acc: 0.5251\n",
            "Epoch 7/30\n",
            "100/100 [==============================] - 34s 344ms/step - loss: 4.6375 - acc: 0.6693 - val_loss: 4.5603 - val_acc: 0.6662\n",
            "Epoch 8/30\n",
            "100/100 [==============================] - 34s 341ms/step - loss: 4.4949 - acc: 0.6749 - val_loss: 4.4242 - val_acc: 0.6501\n",
            "Epoch 9/30\n",
            "100/100 [==============================] - 34s 340ms/step - loss: 4.3112 - acc: 0.6928 - val_loss: 4.2616 - val_acc: 0.6675\n",
            "Epoch 10/30\n",
            "100/100 [==============================] - 35s 346ms/step - loss: 4.1529 - acc: 0.7172 - val_loss: 4.1295 - val_acc: 0.6732\n",
            "Epoch 11/30\n",
            "100/100 [==============================] - 34s 343ms/step - loss: 4.0376 - acc: 0.7011 - val_loss: 4.0277 - val_acc: 0.6675\n",
            "Epoch 12/30\n",
            "100/100 [==============================] - 35s 348ms/step - loss: 3.8851 - acc: 0.7133 - val_loss: 3.8678 - val_acc: 0.6789\n",
            "Epoch 13/30\n",
            "100/100 [==============================] - 34s 337ms/step - loss: 3.7754 - acc: 0.7083 - val_loss: 3.7775 - val_acc: 0.6695\n",
            "Epoch 14/30\n",
            "100/100 [==============================] - 34s 343ms/step - loss: 3.6502 - acc: 0.7136 - val_loss: 3.6203 - val_acc: 0.6849\n",
            "Epoch 15/30\n",
            "100/100 [==============================] - 34s 344ms/step - loss: 3.5066 - acc: 0.7270 - val_loss: 3.4959 - val_acc: 0.7107\n",
            "Epoch 16/30\n",
            "100/100 [==============================] - 34s 343ms/step - loss: 3.4129 - acc: 0.7077 - val_loss: 3.4357 - val_acc: 0.6849\n",
            "Epoch 17/30\n",
            "100/100 [==============================] - 35s 348ms/step - loss: 3.3005 - acc: 0.7252 - val_loss: 3.2904 - val_acc: 0.7024\n",
            "Epoch 18/30\n",
            "100/100 [==============================] - 34s 340ms/step - loss: 3.1942 - acc: 0.7270 - val_loss: 3.1627 - val_acc: 0.7120\n",
            "Epoch 19/30\n",
            "100/100 [==============================] - 34s 339ms/step - loss: 3.0952 - acc: 0.7428 - val_loss: 3.1015 - val_acc: 0.7113\n",
            "Epoch 20/30\n",
            "100/100 [==============================] - 34s 338ms/step - loss: 3.0024 - acc: 0.7314 - val_loss: 3.0144 - val_acc: 0.7037\n",
            "Epoch 21/30\n",
            "100/100 [==============================] - 34s 344ms/step - loss: 2.9137 - acc: 0.7374 - val_loss: 2.9409 - val_acc: 0.6894\n",
            "Epoch 22/30\n",
            "100/100 [==============================] - 35s 345ms/step - loss: 2.8144 - acc: 0.7487 - val_loss: 2.8084 - val_acc: 0.7151\n",
            "Epoch 23/30\n",
            "100/100 [==============================] - 34s 341ms/step - loss: 2.7496 - acc: 0.7367 - val_loss: 2.7916 - val_acc: 0.7088\n",
            "Epoch 24/30\n",
            "100/100 [==============================] - 34s 341ms/step - loss: 2.6700 - acc: 0.7412 - val_loss: 2.7536 - val_acc: 0.6753\n",
            "Epoch 25/30\n",
            "100/100 [==============================] - 34s 342ms/step - loss: 2.5734 - acc: 0.7680 - val_loss: 2.6046 - val_acc: 0.7183\n",
            "Epoch 26/30\n",
            "100/100 [==============================] - 35s 350ms/step - loss: 2.5013 - acc: 0.7582 - val_loss: 2.5050 - val_acc: 0.7313\n",
            "Epoch 27/30\n",
            "100/100 [==============================] - 35s 347ms/step - loss: 2.4342 - acc: 0.7532 - val_loss: 2.4400 - val_acc: 0.7341\n",
            "Epoch 28/30\n",
            "100/100 [==============================] - 34s 341ms/step - loss: 2.3826 - acc: 0.7582 - val_loss: 2.4019 - val_acc: 0.7210\n",
            "Epoch 29/30\n",
            "100/100 [==============================] - 35s 347ms/step - loss: 2.3107 - acc: 0.7588 - val_loss: 2.3022 - val_acc: 0.7436\n",
            "Epoch 30/30\n",
            "100/100 [==============================] - 34s 338ms/step - loss: 2.2521 - acc: 0.7563 - val_loss: 2.2552 - val_acc: 0.7348\n",
            "CPU times: user 19min 34s, sys: 4min 57s, total: 24min 31s\n",
            "Wall time: 17min 22s\n"
          ],
          "name": "stdout"
        }
      ]
    },
    {
      "cell_type": "code",
      "metadata": {
        "id": "b38JApMgWUp5",
        "colab_type": "code",
        "outputId": "8945e3af-3e0c-4e71-9bb0-a4d3283994e1",
        "colab": {
          "base_uri": "https://localhost:8080/",
          "height": 573
        }
      },
      "source": [
        "import matplotlib.pyplot as plt\n",
        "\n",
        "# Plot training & validation accuracy values\n",
        "plt.plot(history.history['acc'])\n",
        "plt.plot(history.history['val_acc'])\n",
        "plt.title('Model accuracy')\n",
        "plt.ylabel('Accuracy')\n",
        "plt.xlabel('Epoch')\n",
        "plt.legend(['Train', 'Test'], loc='upper left')\n",
        "plt.show()\n",
        "\n",
        "# Plot training & validation loss values\n",
        "plt.plot(history.history['loss'])\n",
        "plt.plot(history.history['val_loss'])\n",
        "plt.title('Model loss')\n",
        "plt.ylabel('Loss')\n",
        "plt.xlabel('Epoch')\n",
        "plt.legend(['Train', 'Test'], loc='upper left')\n",
        "plt.show()"
      ],
      "execution_count": 0,
      "outputs": [
        {
          "output_type": "display_data",
          "data": {
            "image/png": "[encoded data removed]",
            "text/plain": [
              "<Figure size 432x288 with 1 Axes>"
            ]
          },
          "metadata": {
            "tags": [],
            "needs_background": "light"
          }
        },
        {
          "output_type": "display_data",
          "data": {
            "image/png": "[encoded data removed]",
            "text/plain": [
              "<Figure size 432x288 with 1 Axes>"
            ]
          },
          "metadata": {
            "tags": [],
            "needs_background": "light"
          }
        }
      ]
    },
    {
      "cell_type": "markdown",
      "metadata": {
        "id": "kYnsCnfwYdrO",
        "colab_type": "text"
      },
      "source": [
        "**question** Do you see any performance improvement by using separable convolution layers? How about the difference in the training time?\n",
        "\n",
        "**exercise** Continue the training of the above two models until they converge. What validation accuracy can you achieve?"
      ]
    },
    {
      "cell_type": "markdown",
      "metadata": {
        "id": "mjrOdskfuGYx",
        "colab_type": "text"
      },
      "source": [
        "## Additional resources\n",
        "\n",
        "- David Page has authored a wonderful series of articles on [practical tips for training ResNets.](https://myrtle.ai/how-to-train-your-resnet/)"
      ]
    }
  ]
}